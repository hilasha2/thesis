{
 "cells": [
  {
   "cell_type": "code",
   "execution_count": 1,
   "id": "64594399-3e22-48cf-b550-40d8a278260a",
   "metadata": {},
   "outputs": [],
   "source": [
    "import calour as ca\n",
    "import pandas as pd\n",
    "import numpy as np"
   ]
  },
  {
   "cell_type": "code",
   "execution_count": 2,
   "id": "ccc3f109-0e0e-4c79-acf6-699c0fe9b1a1",
   "metadata": {},
   "outputs": [],
   "source": [
    "def get_name(names):\n",
    "    nname = []\n",
    "    for cname in names:\n",
    "        nname.append('_'.join(cname.split('_')[:-1]))\n",
    "    return nname"
   ]
  },
  {
   "cell_type": "markdown",
   "id": "524bc7c6-937a-442d-8f2f-715529de6668",
   "metadata": {},
   "source": [
    "## Reading the data"
   ]
  },
  {
   "cell_type": "code",
   "execution_count": 3,
   "id": "6af800d2-c14a-4393-a490-c5d059b58c64",
   "metadata": {},
   "outputs": [],
   "source": [
    "kneaddata = pd.read_csv(r'/pita/users/hila/biobakery_workflows/output_data/30_Aug_2021_HMP2_metagenome/kneaddata/merged/kneaddata_read_count_table.tsv')"
   ]
  },
  {
   "cell_type": "code",
   "execution_count": 4,
   "id": "13966b84-cd06-4142-96c3-4d732d31267d",
   "metadata": {},
   "outputs": [],
   "source": [
    "count_species = pd.read_csv(r'/pita/users/hila/biobakery_workflows/output_data/30_Aug_2021_HMP2_metagenome/metaphlan/merged/metaphlan_species_counts_table.tsv', sep = '\\t')"
   ]
  },
  {
   "cell_type": "code",
   "execution_count": 110,
   "id": "5d2a4254-3487-4da2-8500-23dd8a8a01a7",
   "metadata": {},
   "outputs": [
    {
     "name": "stdout",
     "output_type": "stream",
     "text": [
      "2022-02-03 11:47:33 WARNING These have metadata but do not have data - dropped (1): {'PSMB4MC7'}\n",
      "2022-02-03 11:47:33 WARNING Do you forget to normalize your data? It is required before running this function\n"
     ]
    }
   ],
   "source": [
    "# gene families top mean\n",
    "dat=ca.read_amplicon('/pita/users/hila/analysis/datasets/hmp2_gene_families_top_mean_abundance.tsv','/pita/users/hila/analysis/datasets/hmp2_metadata_metagenomics_kneaddata.tsv',min_reads=0,normalize=None, sparse=False)"
   ]
  },
  {
   "cell_type": "code",
   "execution_count": 22,
   "id": "69757b67-09ab-4f4f-a8d2-afaf4f3a7270",
   "metadata": {},
   "outputs": [],
   "source": [
    "# ecs - without species\n",
    "# 111 samples left after filtering weeks [0 1 2]\n",
    "ca.set_log_level('ERROR')\n",
    "dat=ca.read_amplicon('/pita/users/hila/analysis/datasets/hmp2_ecs_without_species.tsv',\n",
    "                     '/pita/users/hila/analysis/datasets/hmp2_metadata_metagenomics_kneaddata.tsv',\n",
    "                     feature_metadata_file = './ecs_to_name.txt',min_reads=0,normalize=None, sparse=False)\n",
    "ca.set_log_level('INFO')"
   ]
  },
  {
   "cell_type": "code",
   "execution_count": 3,
   "id": "023eeed1-a6d6-4b54-811d-a2d5707ea3fb",
   "metadata": {},
   "outputs": [
    {
     "name": "stdout",
     "output_type": "stream",
     "text": [
      "2023-05-02 17:45:58 WARNING These have metadata but do not have data - dropped (1): {'PSMB4MC7'}\n",
      "2023-05-02 17:45:58 WARNING Do you forget to normalize your data? It is required before running this function\n"
     ]
    }
   ],
   "source": [
    "# pathways - without species\n",
    "dat=ca.read_amplicon('/pita/users/hila/analysis/datasets/hmp2_pathways_without_species.tsv','/pita/users/hila/analysis/datasets/hmp2_metadata_metagenomics_kneaddata.tsv',min_reads=0,normalize=None, sparse=False)"
   ]
  },
  {
   "cell_type": "code",
   "execution_count": 4,
   "id": "1ac85c6d-a579-45a3-8fa5-eb4b4cae6cfc",
   "metadata": {},
   "outputs": [
    {
     "name": "stdout",
     "output_type": "stream",
     "text": [
      "2021-11-03 17:07:37 WARNING These have metadata but do not have data - dropped (2): {'PSM6XBRK_P', 'HSM5MD8B_P'}\n",
      "2021-11-03 17:07:42 WARNING Do you forget to normalize your data? It is required before running this function\n"
     ]
    }
   ],
   "source": [
    "# gene families top mean but with species\n",
    "dat=ca.read_amplicon('/pita/users/hila/analysis/datasets/hmp2_gene_families_top_families_with_species_only.tsv', \n",
    "                     '/pita/users/hila/analysis/datasets/hmp2_metadata_metagenomics.tsv',\n",
    "                     min_reads=0,\n",
    "                     normalize=None, \n",
    "                     sparse=False,\n",
    "                     sample_id_proc=get_name)"
   ]
  },
  {
   "cell_type": "code",
   "execution_count": 17,
   "id": "76974cea-b0a2-4860-ab9d-90b097c0f9e0",
   "metadata": {},
   "outputs": [],
   "source": [
    "'''\n",
    "f = open('/pita/users/hila/analysis/datasets/hmp2_pathabundance_count_species_per_path.tsv')\n",
    "line = f.readline()\n",
    "line\n",
    "\n",
    "f.close()\n",
    "'''"
   ]
  },
  {
   "cell_type": "code",
   "execution_count": 4,
   "id": "6c2a8b12-7614-4047-ae29-6a50650a2977",
   "metadata": {},
   "outputs": [
    {
     "name": "stdout",
     "output_type": "stream",
     "text": [
      "2022-01-15 22:06:14 WARNING These have metadata but do not have data - dropped (2): {'PSM6XBRK_P', 'HSM5MD8B_P'}\n",
      "2022-01-15 22:06:14 WARNING Do you forget to normalize your data? It is required before running this function\n"
     ]
    }
   ],
   "source": [
    "# ecs - counting species per sample per enzyme\n",
    "dat=ca.read_amplicon('/pita/users/hila/analysis/datasets/hmp2_ecs_count_species_per_enzyme.tsv', \n",
    "                     '/pita/users/hila/analysis/datasets/hmp2_metadata_metagenomics.tsv',\n",
    "                     min_reads=0,\n",
    "                     normalize=None, \n",
    "                     sparse=False)"
   ]
  },
  {
   "cell_type": "code",
   "execution_count": 122,
   "id": "c0053c36-260f-4584-b475-4928b4ed0ba8",
   "metadata": {},
   "outputs": [
    {
     "name": "stdout",
     "output_type": "stream",
     "text": [
      "2021-12-05 14:47:05 WARNING Do you forget to normalize your data? It is required before running this function\n"
     ]
    }
   ],
   "source": [
    "# pathways - counting species per sample per pathway\n",
    "dat=ca.read_amplicon('/pita/users/hila/analysis/datasets/hmp2_pathabundance_count_species_per_path.tsv', \n",
    "                     '/pita/users/hila/analysis/datasets/hmp2_metadata_metagenomics_kneaddata.tsv',\n",
    "                     min_reads=0,\n",
    "                     normalize=None, \n",
    "                     sparse=False)"
   ]
  },
  {
   "cell_type": "code",
   "execution_count": 68,
   "id": "31f30557-7985-40b0-b46a-267586d33ecf",
   "metadata": {},
   "outputs": [
    {
     "name": "stdout",
     "output_type": "stream",
     "text": [
      "2022-05-30 19:31:41 INFO loaded 1625 samples, 406 features\n",
      "2022-05-30 19:31:41 WARNING These have metadata but do not have data - dropped (11): {'HSM6XRR9', 'PSM7J1BH', 'MSM6J2HB', 'PSM7J1AW', 'PSM6XBTD', 'PSMA266C', 'HSM7J4LH', 'PSM7J129', 'HSMA33IO', 'PSM6XBSU_TR', 'CSM7KOOR'}\n",
      "2022-05-30 19:31:41 WARNING Do you forget to normalize your data? It is required before running this function\n",
      "2022-05-30 19:31:41 INFO After filtering, 1625 remain.\n"
     ]
    }
   ],
   "source": [
    "# pathways - count species per sample per pathway divided by the number of taxa per sample\n",
    "# idk, it works with the usual 012 weeks filtering, but not with only unique participants.\n",
    "dat=ca.read_amplicon('/pita/users/hila/analysis/datasets/hmp2_pathabundance_count_species_normalized.tsv', \n",
    "                     '/pita/users/hila/analysis/datasets/hmp2_metadata_metagenomics_kneaddata.tsv',\n",
    "                     min_reads=0,\n",
    "                     normalize=None, \n",
    "                     sparse=False)"
   ]
  },
  {
   "cell_type": "code",
   "execution_count": 54,
   "id": "403281b5-443c-4688-b8a3-43a48071cb94",
   "metadata": {},
   "outputs": [
    {
     "name": "stdout",
     "output_type": "stream",
     "text": [
      "2022-05-30 19:26:01 INFO loaded 1625 samples, 2386 features\n",
      "2022-05-30 19:26:01 WARNING These have metadata but do not have data - dropped (11): {'HSM6XRR9', 'PSM7J1BH', 'MSM6J2HB', 'PSM7J1AW', 'PSM6XBTD', 'PSMA266C', 'HSM7J4LH', 'PSM7J129', 'HSMA33IO', 'PSM6XBSU_TR', 'CSM7KOOR'}\n",
      "2022-05-30 19:26:01 WARNING Do you forget to normalize your data? It is required before running this function\n",
      "2022-05-30 19:26:01 INFO After filtering, 1625 remain.\n"
     ]
    }
   ],
   "source": [
    "# ecs - count species per sample per enzyme divided by the number of taxa per sample\n",
    "# idk, it works with the usual 012 weeks filtering, but not with only unique participants.\n",
    "dat=ca.read_amplicon('/pita/users/hila/analysis/datasets/hmp2_ecs_count_species_normalized.tsv', \n",
    "                     '/pita/users/hila/analysis/datasets/hmp2_metadata_metagenomics_kneaddata.tsv',\n",
    "                     min_reads=0,\n",
    "                     normalize=None, \n",
    "                     sparse=False)"
   ]
  },
  {
   "cell_type": "code",
   "execution_count": 37,
   "id": "100de339-f85c-4e22-afd0-48e79cd7f3b8",
   "metadata": {},
   "outputs": [
    {
     "name": "stdout",
     "output_type": "stream",
     "text": [
      "2022-02-07 17:14:59 WARNING Do you forget to normalize your data? It is required before running this function\n"
     ]
    }
   ],
   "source": [
    "#hmp2 - gene families, stratified only, gene families with 5 species or more: \n",
    "# file too big for analysis\n",
    "dat=ca.read_amplicon('/pita/users/hila/analysis/datasets/hmp2_gene_families_with_more_than_five_species.tsv', \n",
    "                     '/pita/users/hila/analysis/datasets/hmp2_metadata_metagenomics_kneaddata.tsv',\n",
    "                     min_reads=0,\n",
    "                     normalize=None, \n",
    "                     sparse=False)"
   ]
  },
  {
   "cell_type": "code",
   "execution_count": 7,
   "id": "02c7c0f4-31be-4737-acd9-97c33fc9ca3d",
   "metadata": {},
   "outputs": [
    {
     "name": "stdout",
     "output_type": "stream",
     "text": [
      "2022-01-31 14:08:58 WARNING Do you forget to normalize your data? It is required before running this function\n"
     ]
    }
   ],
   "source": [
    "# reloading saved bioms \n",
    "dat=ca.read_amplicon(data_file = '/pita/users/hila/analysis/my scripts/de_ecs_count_norm_01_weeks_012.biom', \n",
    "                     sample_metadata_file = '/pita/users/hila/analysis/my scripts/de_ecs_count_norm_01_weeks_012_sample.txt',\n",
    "                     min_reads=0,\n",
    "                     normalize=None, \n",
    "                     sparse=False, \n",
    "                    data_file_type = 'biom')"
   ]
  },
  {
   "cell_type": "code",
   "execution_count": 79,
   "id": "829beeb9-7507-47a6-a3b9-830d76a3ea76",
   "metadata": {},
   "outputs": [
    {
     "name": "stdout",
     "output_type": "stream",
     "text": [
      "2022-02-07 17:50:41 WARNING These have metadata but do not have data - dropped (823): {'HSM7J4K8', 'HSM67VES', 'HSM6XRQB', 'PSM6XBVI', 'PSM7J17Z', 'HSM7CYX4', 'HSM6XRV4', 'CSM7KOMB', 'HSMA33LB', 'CSM5MCVN', 'PSM6XBQY', 'PSM7J12D', 'MSM9VZGY', 'CSM79HKT', 'PSMA267P', 'HSMA33KU', 'HSM6XRTQ', 'HSM67VEO', 'MSM6J2MJ', 'MSMA26AZ_TR', 'PSM7J14P', 'MSM9VZL9', 'MSM9VZFF', 'MSMA26DM', 'MSM9VZOG', 'HSM7J4OP', 'PSMA269W', 'HSM7CZ36', 'MSMAPC5D', 'MSM6J2Q3', 'ESM7F5C5', 'MSMB4LXW', 'HSM67VEE', 'CSM5MCUY_P', 'MSM9VZEU', 'CSM79HJM', 'MSM5LLEP', 'CSM79HOL', 'CSM79HGF', 'CSM7KOTS', 'PSMA266I', 'CSM7KORM', 'MSM5LLIE_P', 'ESM5MEEJ_P', 'HSM67VF3', 'CSM79HQF', 'MSM5LLDK', 'CSM5MCXH', 'PSM6XBSU', 'MSMB4LZR', 'HSM7J4KQ', 'HSM7J4K6', 'CSM67U9D', 'HSM7CYXI', 'MSM9VZF1', 'HSM7J4PQ', 'MSM79HDG_TR', 'MSM5LLHV_P', 'MSM79HEY', 'MSM79H7G', 'HSM7CZ1V', 'CSM9X1Y3', 'HSM7J4IR', 'MSM6J2IQ', 'HSM6XRRJ', 'MSM5LLHE_P', 'MSM9VZOK', 'CSM67UAY', 'MSM5LLHC', 'CSM7KOOD', 'CSM67UA2', 'CSM5MCZF', 'MSM5LLDM', 'HSMA33LH', 'HSM7J4ME', 'CSM7KOLA', 'CSM9X22S', 'MSM6J2QD', 'HSM7J4K2', 'CSM5MCUO', 'CSM7KOO5', 'HSMA33MG', 'HSM7J4KK', 'MSM9VZFL', 'MSM5LLGH_P', 'MSMB4LZK', 'HSMA33R5', 'ESM718V8', 'HSM6XRVO', 'MSM9VZPH', 'HSM7J4JD', 'HSM67VEC', 'MSMA267V', 'CSM67UAK', 'HSM7J4JJ', 'MSM79HBB', 'CSM7KORU', 'HSMA33OJ', 'PSMA269S', 'CSM79HJW', 'PSM7J17B', 'CSM67UDR_TR', 'CSM7KOTK', 'HSMA33SK', 'HSM67VD4', 'PSM7J19J', 'MSM5LLDS', 'MSM6J2RC', 'CSM7KOMT', 'PSM7J12J', 'PSMA267H', 'HSM7J4HS', 'CSM7KORK', 'MSM79H9W', 'MSMA26DO', 'CSM7KOPK', 'HSM5MD7K', 'HSM7J4OT', 'HSM5MD7S', 'MSM79HAJ', 'CSM79HLA_TR', 'HSM7J4PO', 'MSM9VZJB', 'MSMAPC7J', 'CSM5MCXP', 'MSM9VZL5', 'HSM7J4PW', 'HSM5MD6A_TR', 'MSM5LLIS_P', 'MSM6J2PK', 'CSM79HIL', 'HSM67VI9', 'CSM7KOL4', 'HSM67VEK', 'HSM6XRSN', 'MSM6J2MH', 'MSM79H54', 'PSMA266M', 'MSM79HDA', 'HSM67VFJ', 'MSM6J2K2', 'MSM9VZMO', 'PSM7J14L', 'MSM9VZHF', 'PSM7J193', 'PSM7J17L', 'CSM7KOPW', 'CSM79HGZ', 'HSM6XRSG', 'MSM9VZIQ', 'HSMA33NQ', 'PSM6XBSE', 'MSM79HF9', 'CSM5MCV1_P', 'CSM5MCUE_P', 'HSM5MD66', 'MSM9VZES', 'MSM9VZOU', 'CSM79HLC', 'CSM79HJO', 'HSM67VEU', 'HSM7J4LN', 'MSM9VZHJ', 'HSMA33IC', 'MSM79H8D', 'HSMA33J3', 'CSM79HH8', 'PSM7J1CU', 'ESM5ME9D_P', 'HSM7J4NS', 'ESM5MEBA_P', 'CSM79HNO', 'HSM5MD82_P', 'MSM79H5Y', 'CSM79HHO', 'MSM6J2JR', 'ESM718T7', 'MSM79H9Y', 'HSMA33RX_TR', 'CSM79HIB', 'PSM7J171', 'HSM6XRV6', 'CSM79HO1', 'MSM5LLGD_P', 'MSM9VZLJ', 'CSM5FZ4C_P', 'CSM7KOTU', 'CSM5MCU8_P', 'MSM9VZEK', 'CSM5MCWM_P', 'PSM6XBSM', 'CSM5MCXL', 'CSM7KOKB', 'ESM5MED2', 'PSM6XBQU', 'HSM7J4OE', 'CSM67UBH', 'MSM6J2LJ', 'MSM6J2J5', 'HSMA33MZ', 'HSM7J4J7', 'MSM9VZI2', 'MSMB4LZC', 'HSMA33IK', 'HSM6XRT8', 'HSM6XRSX', 'CSM7KOUL', 'CSM7KORG', 'HSM6XRQK', 'PSM7J12R', 'ESM5MEA7_P', 'PSM6XBT9', 'CSM67UF5', 'HSM7J4IO', 'PSM7J1BF', 'PSMA265L', 'CSM67UEW_TR', 'MSM6J2K6', 'MSMA26EP', 'PSMA265J', 'PSMA263W', 'MSMAPC5L', 'PSM7J14N', 'ESM5ME9H_P', 'MSM79HC4', 'MSM5LLFO_P', 'PSM7J17F', 'HSM6XRQI', 'MSM6J2QR', 'PSMA266Q', 'MSM5LLH8_P', 'HSM7J4MC', 'MSM79HF5', 'MSM79H8L', 'MSM6J2JN', 'MSM5LLIK_P', 'CSM79HIT', 'CSM67UAO', 'MSM9VZLV', 'HSM5FZBP_P', 'HSM7J4MA', 'MSM6J2LB', 'CSM67UDR', 'CSM9X1Z4', 'PSMB4MC5', 'HSM67VHD', 'MSM5FZ9X_P', 'PSM7J177', 'HSM7CZ14', 'HSM5MD53', 'PSM7J18K', 'CSM67UAM', 'PSMA265F', 'PSM7J163', 'MSM6J2PU', 'HSM6XRVW', 'MSMA26BB', 'ESM718TF', 'CSM9X237', 'HSM7J4NE', 'PSM7J4EF', 'CSM5MCX3', 'CSM7KOO9', 'HSM6XRVC', 'ESM5MEDF', 'MSM79H7C', 'CSM67UAW', 'MSM9VZNH_TR', 'CSM7KOJG', 'HSM67VIB', 'PSM7J13M', 'MSM79HC8', 'MSMAPC5Z', 'PSMA265J_TR', 'CSM79HPA', 'CSM79HR2', 'CSM79HRC', 'PSM7J179', 'HSM67VCZ', 'CSM79HJS', 'PSMA265H', 'HSM7J4GR', 'HSM7J4N4', 'HSM7CYYB', 'HSM5MD41', 'ESM5MEE6_P', 'HSMA33IA', 'CSM7KONU', 'MSM6J2QH', 'CSM9X1YV', 'MSM6J2KM', 'MSM6J2IE', 'HSM67VH1', 'MSM79H9A', 'HSMA33QO', 'MSMAPC6G', 'HSM67VGK', 'MSMB4LYB', 'MSM79H9K', 'CSM9X23N', 'HSM7CYZ7', 'MSM79H7O', 'PSM7J18E', 'PSMA264S', 'MSMA26EL', 'CSM79HHM', 'MSM7J16J', 'MSM9VZLP', 'PSM7J18I', 'CSM7KOOH', 'CSM7KOUN', 'MSM79HDG', 'PSMA269O', 'CSM5MCU4_P', 'HSM7CYXC', 'PSM7J15A', 'CSM5MCUQ_P', 'CSM9X235', 'MSM79H6F', 'CSM5MCUC_P', 'CSM79HLA', 'PSM7J14R', 'MSM6J2KE', 'MSM9VZKI', 'CSMAIG7X', 'HSM5MD87_P', 'HSM7J4JH', 'MSM79HB6', 'MSM5LLH4_P', 'PSM7J136', 'CSM7KOSP', 'MSMAPC64', 'PSM6XBUK', 'CSM7KOKN', 'CSM67UBZ', 'MSMA26BR', 'MSMAPC6K', 'PSM7J15U', 'MSM6J2HR', 'CSM79HPK', 'MSM79H87', 'MSM6J2KC', 'CSM7KOPS', 'HSM5MD7O', 'HSM7J4M8', 'HSM7CYX6', 'HSM7CYYD', 'MSM9VZLT', 'MSM79HDM', 'PSM7J19F', 'HSM67VHW', 'PSM7J18G', 'MSM79H7M', 'HSM6XRUN', 'MSM9VZHX', 'HSM5MD5D', 'HSM5MD59_P', 'PSM7J1AU', 'HSM7J4PY', 'HSM7J4IP', 'HSM7CYY7', 'MSM5LLHQ_P', 'CSM79HPC', 'PSM7J16U', 'PSM7J1CC', 'CSM67UC6', 'HSMA33NO', 'ESM5GEZ3_P', 'HSMA33JB', 'HSM7J4R2', 'MSMA26AV', 'ESM7F5CB', 'CSM9X22K', 'MSM6J2SK', 'MSM6J2M3', 'CSM67UB9', 'HSM67VFR', 'HSM7CYZV', 'HSM7J4GD', 'CSM7KOSV', 'HSM5FZBQ_P', 'HSM6XRTM', 'HSM7CZ38', 'MSM79HDI', 'MSM9VZIU', 'CSM5MCUW_P', 'CSM7KOJY', 'HSM7CZ1Z', 'HSM7J4PS', 'MSM9VZNL', 'CSM7KOPI', 'MSM79HDC', 'PSM7J19P', 'HSM6XRVC_TR', 'CSM7KOTC', 'CSM7KOSX', 'CSM79HNU', 'MSM5LLHR_P', 'ESM5MEDZ_P', 'HSM7J4O3', 'PSM6XBSI', 'CSM7KORO', 'HSM5MD7U', 'HSMA33O3', 'CSM79HIV', 'HSMA33ME', 'HSMA33J5', 'CSM67UAU', 'HSM7CZ2Z', 'HSM7J4HU', 'MSMAPC7T', 'CSM5MCTZ_P', 'PSM7J1BB', 'MSMB4LZ4', 'PSM6XBT3', 'PSM7J15S', 'MSM9VZKC', 'CSM5MCZB', 'CSM5MCWI_P', 'PSMA267J', 'PSM7J184', 'MSM5LLDQ', 'MSM79HCK', 'HSM5MD4N', 'MSM9VZP1', 'CSM79HID', 'CSM7KOPO', 'HSM5MD8A_P', 'HSM6XRQO', 'HSM7CZ1A', 'MSM9VZOQ', 'ESM5MEBU', 'HSMA33M2', 'HSM67VFZ', 'HSM67VHF', 'MSM5LLDU', 'CSM7KOPM', 'MSMB4LZX', 'HSM6XRQW', 'CSM7KOOF', 'MSM6J2JP', 'PSMA266Y', 'HSM6XRQU', 'MSM9VZLN', 'CSM5FZ3T_P', 'HSM7J4IS', 'PSM7J18Q', 'MSM5LLH2_P', 'HSMA33SG', 'HSM5MD43', 'MSM9VZEK_TR', 'CSM67UEI', 'PSM6XBS4', 'MSM6J2LV', 'HSM7J4G1', 'HSM7CZ3A', 'MSM79H5Q', 'HSM5MD5B', 'HSM67VIL', 'CSM7KOSL', 'PSM7J186', 'HSM5MD7Q', 'CSM5MCW6', 'ESM5GEYW_P', 'PSM6XBQY_TR', 'MSMA26BX', 'HSMA33OR', 'HSM67VFD', 'CSM79HN6', 'MSM5ZOJY_P', 'CSM7KOTQ', 'ESM5GEYY_P', 'CSM79HIJ', 'CSM79HOZ', 'CSM67UBN', 'HSM67VGG', 'HSM7J4MK', 'HSMA33NA', 'MSM9VZNH', 'PSMB4MBS', 'HSM7J4PM', 'HSM7CYZT', 'CSM5FZ4K_P', 'CSM7KOJO', 'HSM7J4PK', 'CSM79HKB', 'HSM7J4IQ', 'PSM7J1A8', 'PSMB4MC7', 'HSMA33MK', 'MSM6J2J3', 'CSM7KOKJ', 'PSM7J199', 'MSM5LLFU_P', 'HSM6XRSI', 'CSM5MCWC', 'MSM9VZLB', 'PSMA2675', 'HSM7CYY9', 'CSM67UEA', 'CSM5MCXD', 'CSM7KOKR', 'HSMA33QY', 'MSM79HCP', 'CSM5MCXT', 'MSM5LLDA', 'CSM5MCUK_P', 'MSM6J2JD', 'PSM6XBUG', 'PSM7J14X', 'CSM67UE7', 'MSM6J2HT', 'MSMA26EJ', 'MSM9VZF3', 'PSM6XBV4', 'HSM7J4NO', 'HSM5MD62', 'HSM7J4NY', 'ESM5MEE2_P', 'MSM6J2R8', 'PSM7J1CI', 'CSM9X213', 'MSM9VZOY', 'HSM67VG8', 'MSM9VZI6', 'PSM6XBUI', 'CSM7KOK5', 'HSM67VEM', 'CSM67U9H', 'MSM5LLFG_P', 'ESM7F5AK', 'CSM7KOU9', 'HSM67VI3', 'CSM5MCXJ', 'PSM6XBTP', 'MSM5LLIG_P', 'HSM6XRRV', 'HSM67VEI', 'HSM5MD48', 'CSM67UDN', 'HSM5MD6W', 'MSM79H81', 'CSM9X1ZC', 'HSM5MD8N_P', 'HSM6XRR5', 'PSM7J161', 'ESM5MECL', 'CSM67UB3', 'PSM7J17V', 'HSM6XRR7', 'HSM7J4MY', 'HSM67VD6', 'HSM7J4HM', 'MSM6J2OP', 'HSMA33OD', 'PSM7J16Y', 'HSM7J4LD', 'MSM9VZMM', 'PSMA266U', 'HSM6XRV8', 'CSM7KOKZ', 'MSM9VZHN', 'MSM79H5G', 'HSM67VHB', 'HSM7J4IC', 'CSM5FZ4G_P', 'CSMAG78W', 'PSM6XBSU_TR', 'HSM7J4QJ', 'PSM7J1A2', 'MSM6J2LL', 'HSM7J4O9', 'MSM5LLHG_P', 'HSM7J4N6', 'MSM79HAH', 'MSM6J2SE', 'CSM7KORC', 'HSM7J4L9', 'MSM6J2QF', 'PSM7J19N', 'PSMA265X', 'ESM5GEYU_P', 'HSM67VGY', 'MSM79H7Q', 'HSM6XRS4', 'HSMA33RT', 'HSM5MD6K', 'HSM6XRQ8', 'HSM67VHJ', 'CSM5MCWQ', 'MSM79HFY', 'HSMA33JR', 'MSM5LLF4', 'MSM9VZF5', 'MSM5LLIC_P', 'CSM5MCY2', 'CSM7KON8', 'HSM5MD57_P', 'PSM7J17X', 'CSM5MCY8', 'HSMA33IE', 'CSM79HHU', 'HSM7J4PI', 'PSM7J15O', 'MSM6J2Q1', 'MSM9VZKE', 'CSM79HPS', 'MSM6J2HP', 'CSM79HLE', 'CSM79HRG', 'MSM79HCR', 'CSM7KON2', 'HSMA33MA', 'MSM6J2MB', 'CSM5MCXR', 'HSMA33KE', 'HSM7J4JZ', 'ESM5MEBP_P', 'ESM5MEDN', 'HSMA33PL', 'HSMA33RF', 'MSM9VZP3', 'HSM7CZ3E', 'PSM7J14T', 'MSM9VZJ3', 'MSM6J2R2', 'HSM5MD5P', 'HSM7J4I5', 'MSM6J2HB', 'MSM5LLHA_P', 'HSMA33L1', 'CSM5FZ4M', 'CSM7KOOV', 'MSM79HCI', 'PSM7J141', 'PSM7J18M', 'CSM9X21T', 'HSM7J4I3', 'HSM5MD73', 'MSMB4LZ8', 'CSM67UEW', 'HSM5MD6Y', 'HSM67VF9', 'MSM79H7Y', 'MSM5LLFK_P', 'HSM5MD4B_P', 'ESM5GEXY', 'PSM7J13E', 'HSM5FZBZ', 'MSM79HF9_TR', 'CSM79HIF', 'MSM9VZNX', 'CSM9X219', 'MSM6J2QP', 'PSM6XBVK', 'CSM5MCWE', 'CSM79HIN', 'HSMA33OV', 'MSM9VZJZ', 'MSM79HDE', 'MSM9VZMA', 'MSM5LLHO_P', 'HSMA33OZ', 'MSM79HDQ', 'CSM7KOLE', 'HSM7CZ3C', 'PSM7J1AM', 'CSM79HMT', 'MSM9VZMU', 'HSM5MD5K_P', 'CSM79HLG', 'HSM7J4HC', 'MSMB4LXY', 'MSM79H9Q', 'MSM5LLHX_P', 'PSMA265N', 'PSM7J15Q', 'HSM7J4HO', 'CSM79HJA', 'CSM79HH4', 'ESM5MEC5', 'PSM6XBTP_TR', 'CSM67UDF', 'HSM5MD6I', 'PSM6XBSO', 'HSM67VEM_TR', 'MSM79H7E', 'ESM5MEBS', 'HSM5MD6A', 'MSM9VZEW', 'HSM7J4LP', 'CSM9X1XU', 'MSM5LLFM_P', 'MSM79H9M', 'PSM7J1BR', 'MSM9VZPL', 'HSM6XRRB', 'MSM9VZHT', 'ESM718TK', 'MSM79H83', 'PSMA269G', 'HSM7CYX8', 'HSM7J4QT', 'HSM7CZ32', 'HSM5MD8P_P', 'MSM6J2RO', 'PSM7J19B', 'CSM7KOKD', 'PSMB4MBK', 'CSM7KOPU', 'CSM79HGP', 'HSMA33M8', 'ESM5MEBG', 'HSM7CYYH', 'CSM79HIX', 'HSM7J4LH', 'MSM5LLHI_P', 'CSM79HR8', 'PSM6XBRK_TR', 'MSMB4LYH', 'CSM67UFZ', 'MSM79HA3', 'HSM7CYX2', 'CSM9X22U', 'CSM6J2H9_P', 'HSM5MD4U_P', 'CSM7KOOR', 'HSM7J4L5', 'CSM7KONK', 'CSM7KOLM', 'CSM5LLGB_P', 'PSM7J15W', 'HSM7J4K4', 'HSMA33LH_TR', 'MSM6J2JZ', 'HSMA33RD', 'CSM7KOJU', 'PSMA26A3', 'MSMAPC7R', 'CSM79HI7', 'HSM6XRVM', 'ESM5MEB7', 'CSM5MCVJ_P', 'MSM6J2PS', 'HSM67VGC', 'HSM6XRUL', 'MSM9VZEY', 'CSM79HIR', 'HSMA33RX', 'MSM9VZOS', 'PSMA265B', 'CSM79HR6', 'CSM5FZ46_P', 'MSMA26ET', 'HSM7J4QF', 'HSMA33JD', 'MSMAPC6A', 'HSMA33LJ', 'HSMA33SI', 'CSM79HIZ', 'MSM79H5E', 'MSM9VZMA_TR', 'HSM6XRUR', 'HSM7CYZJ', 'HSM7J4KC', 'MSM9VZHB', 'PSMA265T', 'PSM6XBV2', 'CSM5MCY4', 'MSM79HAL', 'MSM79HDQ_TR', 'CSM7KOR2', 'HSM7J4HQ', 'PSMA2668', 'MSM79H5K', 'HSM7J4NU', 'CSM5MCUG_P', 'MSM6J2IO', 'HSM7J4MS', 'MSMA26AX', 'MSMA26AZ', 'ESM5ME9G_P', 'PSM6XBRK', 'CSM5MCXN', 'HSMA33P6', 'CSM79HGX', 'MSMA26DI', 'CSM5MCZD', 'CSM67UAA', 'MSM5LLDI', 'CSM7KOJW', 'CSM9X21J', 'MSM9VZIY', 'CSM5MCZ3', 'MSM9VZFR', 'MSM5LLIQ_P', 'CSMA9J65', 'CSM7KOMP', 'HSM7J4OZ', 'HSMA33Q6', 'MSM5LLI6_P', 'CSM67UDY', 'MSM79H9G', 'MSM9VZGO', 'PSM6XBUQ', 'CSM5MCVV_P', 'HSM7J4JN', 'CSM67UCK', 'HSM5FZC2_P', 'MSM79HEU', 'HSM6XRST', 'MSMA26EH', 'PSMA267R', 'HSMA33MS', 'MSM5LLDC', 'HSM6XRQM', 'MSMAPC59', 'HSM5MD4A_P', 'MSM9VZIM', 'CSM67UDJ', 'HSM67VGA', 'CSM9X23B', 'HSMA33PZ'}\n",
      "2022-02-07 17:50:41 WARNING Do you forget to normalize your data? It is required before running this function\n"
     ]
    }
   ],
   "source": [
    "# hmp2 - mtx ecs unstratified\n",
    "dat=ca.read_amplicon('/pita/users/hila/biobakery_workflows/output_data/25_Nov_2021_HMP2_mtx_samples/whole_metatranscriptome_shotgun/humann/merged/ecs_relab_unstratified.tsv', \n",
    "                     '/pita/users/hila/analysis/datasets/hmp2_metadata_metatranscriptomics.tsv',\n",
    "                     min_reads=0,\n",
    "                     normalize=None, \n",
    "                     sparse=False, \n",
    "                    sample_id_proc = get_name)"
   ]
  },
  {
   "cell_type": "code",
   "execution_count": 5,
   "id": "f0016d84",
   "metadata": {},
   "outputs": [],
   "source": [
    "ca.set_log_level('ERROR')\n",
    "dat=ca.read_amplicon('/pita/users/hila/analysis/datasets/hmp2_taxonomy_profiles_with_species_only.tsv',\n",
    "                     '/pita/users/hila/analysis/datasets/hmp2_metadata_metagenomics_kneaddata.tsv',\n",
    "                     min_reads=0,normalize=None, sparse=False)\n",
    "ca.set_log_level('INFO')"
   ]
  },
  {
   "cell_type": "markdown",
   "id": "612d3839-0bfd-4b4c-9da3-a0ca5f94b4cb",
   "metadata": {},
   "source": [
    "## Calculations"
   ]
  },
  {
   "cell_type": "code",
   "execution_count": 37,
   "id": "718388c8-eeca-4afe-964d-524b98809867",
   "metadata": {},
   "outputs": [
    {
     "data": {
      "text/plain": [
       "AmpliconExperiment with 1635 samples, 2387 features"
      ]
     },
     "execution_count": 37,
     "metadata": {},
     "output_type": "execute_result"
    }
   ],
   "source": [
    "dat"
   ]
  },
  {
   "cell_type": "code",
   "execution_count": 24,
   "id": "c3462c2f-162c-465d-bdfb-2fa25c696ab2",
   "metadata": {},
   "outputs": [
    {
     "data": {
      "text/plain": [
       "Index(['CSM5FZ3R_P', 'CSM5FZ3T_P', 'CSM5FZ3V_P', 'CSM5FZ3X_P', 'CSM5FZ3Z_P',\n",
       "       'CSM5FZ42_P', 'CSM5FZ44_P', 'CSM5FZ46_P', 'CSM5FZ4A_P', 'CSM5FZ4C_P',\n",
       "       ...\n",
       "       'PSMA267R', 'PSMA269G', 'PSMA269O', 'PSMA269W', 'PSMA26A1', 'PSMA26A3',\n",
       "       'PSMB4MBI', 'PSMB4MBK', 'PSMB4MBS', 'PSMB4MC1'],\n",
       "      dtype='object', name='External ID', length=1197)"
      ]
     },
     "execution_count": 24,
     "metadata": {},
     "output_type": "execute_result"
    }
   ],
   "source": [
    "bool = (dat.sample_metadata['final pair1'] > 8000000) & (dat.sample_metadata['final pair2'] > 8000000)\n",
    "bool.index[bool]"
   ]
  },
  {
   "cell_type": "code",
   "execution_count": 21,
   "id": "ecddc591-75c8-46e4-a3fe-3bb4d2b94b22",
   "metadata": {},
   "outputs": [],
   "source": [
    "#bad_samples = bool.index[-bool]\n",
    "#bad_samples.tolist()"
   ]
  },
  {
   "cell_type": "code",
   "execution_count": 25,
   "id": "a6b77e77-a9c3-4a4e-bb87-1a4a8069f314",
   "metadata": {},
   "outputs": [],
   "source": [
    "dat_filtered_by_reads = dat.filter_ids(ids = bool.index[bool], axis = 's') "
   ]
  },
  {
   "cell_type": "code",
   "execution_count": 26,
   "id": "949489a2-8a7f-4f2c-8cb1-09e5c331a9bc",
   "metadata": {},
   "outputs": [
    {
     "data": {
      "text/plain": [
       "AmpliconExperiment with 1197 samples, 2387 features"
      ]
     },
     "execution_count": 26,
     "metadata": {},
     "output_type": "execute_result"
    }
   ],
   "source": [
    "dat_filtered_by_reads"
   ]
  },
  {
   "cell_type": "code",
   "execution_count": 44,
   "id": "c3fc5c28-bb0a-4aa2-b05f-335a21b28d40",
   "metadata": {},
   "outputs": [],
   "source": [
    "#count_species"
   ]
  },
  {
   "cell_type": "code",
   "execution_count": 80,
   "id": "879414f7-eb39-4f4a-8913-a41355d82479",
   "metadata": {},
   "outputs": [],
   "source": [
    "#datc = dat"
   ]
  },
  {
   "cell_type": "code",
   "execution_count": 38,
   "id": "338f9b42-4a60-4432-9b1d-7252c5e8620e",
   "metadata": {},
   "outputs": [
    {
     "name": "stdout",
     "output_type": "stream",
     "text": [
      "2023-05-02 18:08:06 WARNING Do you forget to normalize your data? It is required before running this function\n",
      "2023-05-02 18:08:06 INFO After filtering, 2387 remain.\n"
     ]
    }
   ],
   "source": [
    "datc=dat_filtered_by_reads.cluster_features()"
   ]
  },
  {
   "cell_type": "code",
   "execution_count": 39,
   "id": "6489e5b0-5f19-48bb-b990-fcb7711a310c",
   "metadata": {},
   "outputs": [],
   "source": [
    "datc=datc.sort_samples('week_num')\n",
    "datc=datc.sort_samples('Participant ID')\n",
    "datc=datc.sort_samples('diagnosis')"
   ]
  },
  {
   "cell_type": "code",
   "execution_count": 99,
   "id": "78fd15db-88bd-42bd-98e6-078df124fe01",
   "metadata": {},
   "outputs": [
    {
     "name": "stderr",
     "output_type": "stream",
     "text": [
      "/pita/users/hila/miniconda3/envs/calour/lib/python3.6/site-packages/calour/heatmap/heatmap.py:308: MatplotlibDeprecationWarning: You are modifying the state of a globally registered colormap. In future versions, you will not be able to modify a registered colormap in-place. To remove this warning, you can make a copy of the colormap first. cmap = copy.copy(mpl.cm.get_cmap(\"viridis\"))\n",
      "  cmap.set_bad(bad_color)\n"
     ]
    },
    {
     "data": {
      "text/plain": [
       "<calour.heatmap.plotgui_qt5.PlotGUI_QT5 at 0x7f3378625630>"
      ]
     },
     "execution_count": 99,
     "metadata": {},
     "output_type": "execute_result"
    }
   ],
   "source": [
    "datc.plot(gui='qt5',sample_field='diagnosis',barx_fields=['Participant ID'],barx_label=False)"
   ]
  },
  {
   "cell_type": "code",
   "execution_count": 40,
   "id": "4b90fcf2-5efd-471f-93a1-f5d88958646f",
   "metadata": {},
   "outputs": [],
   "source": [
    "tt = datc.aggregate_by_metadata('Participant ID')"
   ]
  },
  {
   "cell_type": "code",
   "execution_count": 56,
   "id": "92bcee7a-df36-4109-9532-8f342c586b51",
   "metadata": {},
   "outputs": [],
   "source": [
    "tt = datc.filter_by_metadata('week_num', [0.0, 1, 2]) # 1, 2, 3"
   ]
  },
  {
   "cell_type": "code",
   "execution_count": 57,
   "id": "7c6cab69-84ff-4b46-9d5d-142c1bb21c55",
   "metadata": {},
   "outputs": [
    {
     "name": "stdout",
     "output_type": "stream",
     "text": [
      "2023-05-02 18:48:31 WARNING Do you forget to normalize your data? It is required before running this function\n",
      "2023-05-02 18:48:31 INFO After filtering, 1492 remain.\n"
     ]
    }
   ],
   "source": [
    "tt = tt.filter_prevalence(0.2,0.000001)"
   ]
  },
  {
   "cell_type": "code",
   "execution_count": 58,
   "id": "80f20686-a3df-4cfd-bd55-590e6d618601",
   "metadata": {},
   "outputs": [
    {
     "data": {
      "text/plain": [
       "AmpliconExperiment with 111 samples, 1492 features"
      ]
     },
     "execution_count": 58,
     "metadata": {},
     "output_type": "execute_result"
    }
   ],
   "source": [
    "tt"
   ]
  },
  {
   "cell_type": "code",
   "execution_count": 59,
   "id": "6be58df3-f6ec-4b34-aa6d-5c1e5636de36",
   "metadata": {},
   "outputs": [
    {
     "name": "stdout",
     "output_type": "stream",
     "text": [
      "2023-05-02 18:48:36 WARNING Do you forget to normalize your data? It is required before running this function\n",
      "2023-05-02 18:48:36 INFO After filtering, 1492 remain.\n",
      "2023-05-02 18:48:36 INFO 74 samples with value 1 (['CD', 'UC'])\n",
      "2023-05-02 18:48:37 INFO number of higher in CD,UC: 19. number of higher in NOT CD,UC : 27. total 46\n"
     ]
    }
   ],
   "source": [
    "dd=tt.diff_abundance('diagnosis',['CD','UC'], alpha = 0.1, random_seed=234) # ,transform = 'binarydata')"
   ]
  },
  {
   "cell_type": "code",
   "execution_count": 57,
   "id": "2b7a2c5a-8fb9-4434-8f3e-c27b16255e9d",
   "metadata": {},
   "outputs": [
    {
     "data": {
      "text/plain": [
       "array(['PWY-3001: superpathway of L-isoleucine biosynthesis I',\n",
       "       'PWY66-399: gluconeogenesis III',\n",
       "       'PWY-7383: anaerobic energy metabolism (invertebrates, cytosol)',\n",
       "       'PWY-5304: superpathway of sulfur oxidation (Acidianus ambivalens)',\n",
       "       'BRANCHED-CHAIN-AA-SYN-PWY: superpathway of branched chain amino acid biosynthesis',\n",
       "       'PWY-5103: L-isoleucine biosynthesis III',\n",
       "       \"PWY-7234: inosine-5'-phosphate biosynthesis III\",\n",
       "       'PWY0-162: superpathway of pyrimidine ribonucleotides de novo biosynthesis',\n",
       "       'GLUCARGALACTSUPER-PWY: superpathway of D-glucarate and D-galactarate degradation',\n",
       "       'GALACTARDEG-PWY: D-galactarate degradation I',\n",
       "       'PWY-7228: superpathway of guanosine nucleotides de novo biosynthesis I',\n",
       "       'PWY-6125: superpathway of guanosine nucleotides de novo biosynthesis II',\n",
       "       'P164-PWY: purine nucleobases degradation I (anaerobic)',\n",
       "       'PWY-7222: guanosine deoxyribonucleotides de novo biosynthesis II',\n",
       "       'PWY-7220: adenosine deoxyribonucleotides de novo biosynthesis II',\n",
       "       'PWY-5497: purine nucleobases degradation II (anaerobic)'],\n",
       "      dtype=object)"
      ]
     },
     "execution_count": 57,
     "metadata": {},
     "output_type": "execute_result"
    }
   ],
   "source": [
    "\n",
    "#dd.feature_metadata.index.values"
   ]
  },
  {
   "cell_type": "code",
   "execution_count": 55,
   "id": "3d29eed9",
   "metadata": {},
   "outputs": [
    {
     "data": {
      "text/plain": [
       "array(['3.2.1.45', '3.1.3.41', '1.8.98.1', '3.4.21.26', '3.4.13.3',\n",
       "       '6.5.1.1', '3.5.1.59', '1.3.7.8', '1.1.1.79', '2.7.1.121',\n",
       "       '1.1.3.15', '3.4.14.11', '3.5.99.3', '2.3.1.174', '3.5.99.10',\n",
       "       '2.7.1.89'], dtype=object)"
      ]
     },
     "execution_count": 55,
     "metadata": {},
     "output_type": "execute_result"
    }
   ],
   "source": [
    "# fitlered :0.2,0.000001, fdr - 0.1, binary transformed\n",
    "#dd.feature_metadata.index.values"
   ]
  },
  {
   "cell_type": "code",
   "execution_count": 60,
   "id": "8a25ffa0",
   "metadata": {},
   "outputs": [
    {
     "data": {
      "text/plain": [
       "array(['3.4.13.3', '3.1.3.41', '4.1.99.2', '1.3.1.12', '1.8.98.1',\n",
       "       '3.5.4.31', '2.4.2.17', '3.2.1.39', '3.2.1.45', '2.4.1.246',\n",
       "       '4.2.1.151', '5.4.99.2', '6.1.1.13', '3.5.1.88', '3.5.1.53',\n",
       "       '6.3.2.1', '3.6.5.3', '3.1.26.4', '4.2.1.19', '4.1.1.23',\n",
       "       '4.1.1.11', '1.1.1.23', '4.1.1.32', '1.1.1.272', '4.2.3.5',\n",
       "       '6.5.1.1', '3.4.21.26', '3.5.1.59', '3.5.4.32', '3.6.3.19',\n",
       "       '2.3.1.174', '4.3.1.15', '2.7.4.6', '1.1.3.15', '1.1.1.60',\n",
       "       '2.4.2.52', '3.6.1.11', '4.1.3.6', '3.5.99.3', '2.8.3.10',\n",
       "       '6.2.1.22', '2.3.1.16', '2.7.1.89', '2.7.1.100', '6.3.1.20',\n",
       "       '3.5.99.10'], dtype=object)"
      ]
     },
     "execution_count": 60,
     "metadata": {},
     "output_type": "execute_result"
    }
   ],
   "source": [
    "# # fitlered :0.2,0.000001, fdr - 0.1, not binary transformed\n",
    "#dd.feature_metadata.index.values"
   ]
  },
  {
   "cell_type": "code",
   "execution_count": 68,
   "id": "7447ac73",
   "metadata": {},
   "outputs": [
    {
     "data": {
      "text/plain": [
       "['Transferred entry 3.4.13.18 and 3.4.13.20',\n",
       " '4-nitrophenylphosphatase',\n",
       " 'Tyrosine phenol-lyase',\n",
       " 'Prephenate dehydrogenase',\n",
       " 'Dihydromethanophenazine:CoB--CoM heterodisulfide reductase',\n",
       " \"S-methyl-5'-thioadenosine deaminase\",\n",
       " 'ATP phosphoribosyltransferase',\n",
       " 'Glucan endo-1,3-beta-D-glucosidase',\n",
       " 'Glucosylceramidase',\n",
       " 'Mannosylfructose-phosphate synthase',\n",
       " 'Chorismate dehydratase',\n",
       " 'Methylmalonyl-CoA mutase',\n",
       " 'D-alanine--poly(phosphoribitol) ligase',\n",
       " 'Peptide deformylase',\n",
       " 'N-carbamoylputrescine amidase',\n",
       " 'Pantoate--beta-alanine ligase (AMP-forming)',\n",
       " 'Protein-synthesizing GTPase',\n",
       " 'Ribonuclease H',\n",
       " 'Imidazoleglycerol-phosphate dehydratase',\n",
       " \"Orotidine-5'-phosphate decarboxylase\",\n",
       " 'Aspartate 1-decarboxylase',\n",
       " 'Histidinol dehydrogenase',\n",
       " 'Phosphoenolpyruvate carboxykinase (GTP)',\n",
       " 'D-2-hydroxyacid dehydrogenase (NADP(+))',\n",
       " 'Chorismate synthase',\n",
       " 'DNA ligase (ATP)',\n",
       " 'Prolyl oligopeptidase',\n",
       " 'N-carbamoylsarcosine amidase',\n",
       " '8-oxoguanine deaminase',\n",
       " 'Transferred entry 7.5.2.1',\n",
       " '3-oxoadipyl-CoA thiolase',\n",
       " 'Diaminopropionate ammonia-lyase',\n",
       " 'Nucleoside-diphosphate kinase',\n",
       " '(S)-2-hydroxy-acid oxidase',\n",
       " '2-hydroxy-3-oxopropionate reductase',\n",
       " 'Triphosphoribosyl-dephospho-CoA synthase',\n",
       " 'Exopolyphosphatase',\n",
       " 'Citrate (pro-3S)-lyase',\n",
       " 'Transferred entry 3.5.4.43',\n",
       " 'Citrate CoA-transferase',\n",
       " '[Citrate (pro-3S)-lyase] ligase',\n",
       " 'Acetyl-CoA C-acyltransferase',\n",
       " 'Thiamine kinase',\n",
       " 'S-methyl-5-thioribose kinase',\n",
       " 'Lipoate--protein ligase',\n",
       " '2-iminobutanoate/2-iminopropanoate deaminase']"
      ]
     },
     "execution_count": 68,
     "metadata": {},
     "output_type": "execute_result"
    }
   ],
   "source": [
    "# fitlered :0.2,0.000001, fdr - 0.1, not binary transformed\n",
    "# dd.feature_metadata.Name"
   ]
  },
  {
   "cell_type": "code",
   "execution_count": 70,
   "id": "1bd52acc-abf2-4633-8df4-5193f3a7bf32",
   "metadata": {},
   "outputs": [
    {
     "data": {
      "text/plain": [
       "_feature_id          PWY-5103: L-isoleucine biosynthesis III\n",
       "\"PSMB4MC7                                          0.0124823\n",
       "_calour_stat                                        -17.9595\n",
       "_calour_pval                                      0.00699301\n",
       "_calour_qval                                        0.167141\n",
       "_calour_direction                                  NOT CD,UC\n",
       "Name: PWY-5103: L-isoleucine biosynthesis III, dtype: object"
      ]
     },
     "execution_count": 70,
     "metadata": {},
     "output_type": "execute_result"
    }
   ],
   "source": [
    "#dd.feature_metadata.loc['PWY-5103: L-isoleucine biosynthesis III']"
   ]
  },
  {
   "cell_type": "markdown",
   "id": "46101a19",
   "metadata": {},
   "source": []
  },
  {
   "cell_type": "code",
   "execution_count": 36,
   "id": "0849fd92-1efb-4e69-b1aa-afefcc59bec4",
   "metadata": {},
   "outputs": [
    {
     "data": {
      "text/plain": [
       "AmpliconExperiment with 111 samples, 0 features"
      ]
     },
     "execution_count": 36,
     "metadata": {},
     "output_type": "execute_result"
    }
   ],
   "source": [
    "dd"
   ]
  },
  {
   "cell_type": "code",
   "execution_count": 31,
   "id": "c69a63e0",
   "metadata": {},
   "outputs": [
    {
     "data": {
      "text/html": [
       "<div>\n",
       "<style scoped>\n",
       "    .dataframe tbody tr th:only-of-type {\n",
       "        vertical-align: middle;\n",
       "    }\n",
       "\n",
       "    .dataframe tbody tr th {\n",
       "        vertical-align: top;\n",
       "    }\n",
       "\n",
       "    .dataframe thead th {\n",
       "        text-align: right;\n",
       "    }\n",
       "</style>\n",
       "<table border=\"1\" class=\"dataframe\">\n",
       "  <thead>\n",
       "    <tr style=\"text-align: right;\">\n",
       "      <th></th>\n",
       "      <th>_feature_id</th>\n",
       "      <th>_calour_stat</th>\n",
       "      <th>_calour_pval</th>\n",
       "      <th>_calour_qval</th>\n",
       "      <th>_calour_direction</th>\n",
       "      <th>species_names</th>\n",
       "    </tr>\n",
       "  </thead>\n",
       "  <tbody>\n",
       "    <tr>\n",
       "      <th>k__Bacteria|p__Bacteroidetes|c__Bacteroidia|o__Bacteroidales|f__Rikenellaceae|g__Alistipes|s__Alistipes_putredinis</th>\n",
       "      <td>k__Bacteria|p__Bacteroidetes|c__Bacteroidia|o_...</td>\n",
       "      <td>-18.891892</td>\n",
       "      <td>0.000999</td>\n",
       "      <td>0.177822</td>\n",
       "      <td>NOT CD,UC</td>\n",
       "      <td>Alistipes_putredinis</td>\n",
       "    </tr>\n",
       "    <tr>\n",
       "      <th>k__Bacteria|p__Firmicutes|c__Clostridia|o__Clostridiales|f__Lachnospiraceae|g__Lachnospiraceae_unclassified|s__Eubacterium_rectale</th>\n",
       "      <td>k__Bacteria|p__Firmicutes|c__Clostridia|o__Clo...</td>\n",
       "      <td>-18.162162</td>\n",
       "      <td>0.003996</td>\n",
       "      <td>0.120047</td>\n",
       "      <td>NOT CD,UC</td>\n",
       "      <td>Eubacterium_rectale</td>\n",
       "    </tr>\n",
       "    <tr>\n",
       "      <th>k__Bacteria|p__Bacteroidetes|c__Bacteroidia|o__Bacteroidales|f__Rikenellaceae|g__Alistipes|s__Alistipes_finegoldii</th>\n",
       "      <td>k__Bacteria|p__Bacteroidetes|c__Bacteroidia|o_...</td>\n",
       "      <td>-17.878378</td>\n",
       "      <td>0.005994</td>\n",
       "      <td>0.099628</td>\n",
       "      <td>NOT CD,UC</td>\n",
       "      <td>Alistipes_finegoldii</td>\n",
       "    </tr>\n",
       "    <tr>\n",
       "      <th>k__Bacteria|p__Firmicutes|c__Clostridia|o__Clostridiales|f__Ruminococcaceae|g__Gemmiger|s__Gemmiger_formicilis</th>\n",
       "      <td>k__Bacteria|p__Firmicutes|c__Clostridia|o__Clo...</td>\n",
       "      <td>-15.648649</td>\n",
       "      <td>0.005994</td>\n",
       "      <td>0.099628</td>\n",
       "      <td>NOT CD,UC</td>\n",
       "      <td>Gemmiger_formicilis</td>\n",
       "    </tr>\n",
       "    <tr>\n",
       "      <th>k__Bacteria|p__Bacteroidetes|c__Bacteroidia|o__Bacteroidales|f__Bacteroidaceae|g__Bacteroides|s__Bacteroides_eggerthii</th>\n",
       "      <td>k__Bacteria|p__Bacteroidetes|c__Bacteroidia|o_...</td>\n",
       "      <td>-14.675676</td>\n",
       "      <td>0.003996</td>\n",
       "      <td>0.120047</td>\n",
       "      <td>NOT CD,UC</td>\n",
       "      <td>Bacteroides_eggerthii</td>\n",
       "    </tr>\n",
       "    <tr>\n",
       "      <th>k__Bacteria|p__Bacteroidetes|c__Bacteroidia|o__Bacteroidales|f__Odoribacteraceae|g__Butyricimonas|s__Butyricimonas_synergistica</th>\n",
       "      <td>k__Bacteria|p__Bacteroidetes|c__Bacteroidia|o_...</td>\n",
       "      <td>-12.040541</td>\n",
       "      <td>0.005994</td>\n",
       "      <td>0.099628</td>\n",
       "      <td>NOT CD,UC</td>\n",
       "      <td>Butyricimonas_synergistica</td>\n",
       "    </tr>\n",
       "    <tr>\n",
       "      <th>k__Bacteria|p__Bacteroidetes|c__Bacteroidia|o__Bacteroidales|f__Tannerellaceae|g__Parabacteroides|s__Parabacteroides_goldsteinii</th>\n",
       "      <td>k__Bacteria|p__Bacteroidetes|c__Bacteroidia|o_...</td>\n",
       "      <td>-11.918919</td>\n",
       "      <td>0.003996</td>\n",
       "      <td>0.120047</td>\n",
       "      <td>NOT CD,UC</td>\n",
       "      <td>Parabacteroides_goldsteinii</td>\n",
       "    </tr>\n",
       "    <tr>\n",
       "      <th>k__Bacteria|p__Actinobacteria|c__Coriobacteriia|o__Eggerthellales|f__Eggerthellaceae|g__Asaccharobacter|s__Asaccharobacter_celatus</th>\n",
       "      <td>k__Bacteria|p__Actinobacteria|c__Coriobacterii...</td>\n",
       "      <td>-9.364865</td>\n",
       "      <td>0.003996</td>\n",
       "      <td>0.120047</td>\n",
       "      <td>NOT CD,UC</td>\n",
       "      <td>Asaccharobacter_celatus</td>\n",
       "    </tr>\n",
       "    <tr>\n",
       "      <th>k__Bacteria|p__Actinobacteria|c__Coriobacteriia|o__Eggerthellales|f__Eggerthellaceae|g__Gordonibacter|s__Gordonibacter_pamelaeae</th>\n",
       "      <td>k__Bacteria|p__Actinobacteria|c__Coriobacterii...</td>\n",
       "      <td>-8.250000</td>\n",
       "      <td>0.002997</td>\n",
       "      <td>0.270230</td>\n",
       "      <td>NOT CD,UC</td>\n",
       "      <td>Gordonibacter_pamelaeae</td>\n",
       "    </tr>\n",
       "    <tr>\n",
       "      <th>k__Bacteria|p__Bacteroidetes|c__Bacteroidia|o__Bacteroidales|f__Prevotellaceae|g__Prevotella|s__Prevotella_corporis</th>\n",
       "      <td>k__Bacteria|p__Bacteroidetes|c__Bacteroidia|o_...</td>\n",
       "      <td>-6.810811</td>\n",
       "      <td>0.004995</td>\n",
       "      <td>0.114635</td>\n",
       "      <td>NOT CD,UC</td>\n",
       "      <td>Prevotella_corporis</td>\n",
       "    </tr>\n",
       "    <tr>\n",
       "      <th>k__Bacteria|p__Firmicutes|c__Clostridia|o__Clostridiales|f__Lachnospiraceae|g__Lachnoclostridium|s__Clostridium_symbiosum</th>\n",
       "      <td>k__Bacteria|p__Firmicutes|c__Clostridia|o__Clo...</td>\n",
       "      <td>16.114865</td>\n",
       "      <td>0.004995</td>\n",
       "      <td>0.114635</td>\n",
       "      <td>CD,UC</td>\n",
       "      <td>Clostridium_symbiosum</td>\n",
       "    </tr>\n",
       "  </tbody>\n",
       "</table>\n",
       "</div>"
      ],
      "text/plain": [
       "                                                                                          _feature_id  \\\n",
       "k__Bacteria|p__Bacteroidetes|c__Bacteroidia|o__...  k__Bacteria|p__Bacteroidetes|c__Bacteroidia|o_...   \n",
       "k__Bacteria|p__Firmicutes|c__Clostridia|o__Clos...  k__Bacteria|p__Firmicutes|c__Clostridia|o__Clo...   \n",
       "k__Bacteria|p__Bacteroidetes|c__Bacteroidia|o__...  k__Bacteria|p__Bacteroidetes|c__Bacteroidia|o_...   \n",
       "k__Bacteria|p__Firmicutes|c__Clostridia|o__Clos...  k__Bacteria|p__Firmicutes|c__Clostridia|o__Clo...   \n",
       "k__Bacteria|p__Bacteroidetes|c__Bacteroidia|o__...  k__Bacteria|p__Bacteroidetes|c__Bacteroidia|o_...   \n",
       "k__Bacteria|p__Bacteroidetes|c__Bacteroidia|o__...  k__Bacteria|p__Bacteroidetes|c__Bacteroidia|o_...   \n",
       "k__Bacteria|p__Bacteroidetes|c__Bacteroidia|o__...  k__Bacteria|p__Bacteroidetes|c__Bacteroidia|o_...   \n",
       "k__Bacteria|p__Actinobacteria|c__Coriobacteriia...  k__Bacteria|p__Actinobacteria|c__Coriobacterii...   \n",
       "k__Bacteria|p__Actinobacteria|c__Coriobacteriia...  k__Bacteria|p__Actinobacteria|c__Coriobacterii...   \n",
       "k__Bacteria|p__Bacteroidetes|c__Bacteroidia|o__...  k__Bacteria|p__Bacteroidetes|c__Bacteroidia|o_...   \n",
       "k__Bacteria|p__Firmicutes|c__Clostridia|o__Clos...  k__Bacteria|p__Firmicutes|c__Clostridia|o__Clo...   \n",
       "\n",
       "                                                    _calour_stat  \\\n",
       "k__Bacteria|p__Bacteroidetes|c__Bacteroidia|o__...    -18.891892   \n",
       "k__Bacteria|p__Firmicutes|c__Clostridia|o__Clos...    -18.162162   \n",
       "k__Bacteria|p__Bacteroidetes|c__Bacteroidia|o__...    -17.878378   \n",
       "k__Bacteria|p__Firmicutes|c__Clostridia|o__Clos...    -15.648649   \n",
       "k__Bacteria|p__Bacteroidetes|c__Bacteroidia|o__...    -14.675676   \n",
       "k__Bacteria|p__Bacteroidetes|c__Bacteroidia|o__...    -12.040541   \n",
       "k__Bacteria|p__Bacteroidetes|c__Bacteroidia|o__...    -11.918919   \n",
       "k__Bacteria|p__Actinobacteria|c__Coriobacteriia...     -9.364865   \n",
       "k__Bacteria|p__Actinobacteria|c__Coriobacteriia...     -8.250000   \n",
       "k__Bacteria|p__Bacteroidetes|c__Bacteroidia|o__...     -6.810811   \n",
       "k__Bacteria|p__Firmicutes|c__Clostridia|o__Clos...     16.114865   \n",
       "\n",
       "                                                    _calour_pval  \\\n",
       "k__Bacteria|p__Bacteroidetes|c__Bacteroidia|o__...      0.000999   \n",
       "k__Bacteria|p__Firmicutes|c__Clostridia|o__Clos...      0.003996   \n",
       "k__Bacteria|p__Bacteroidetes|c__Bacteroidia|o__...      0.005994   \n",
       "k__Bacteria|p__Firmicutes|c__Clostridia|o__Clos...      0.005994   \n",
       "k__Bacteria|p__Bacteroidetes|c__Bacteroidia|o__...      0.003996   \n",
       "k__Bacteria|p__Bacteroidetes|c__Bacteroidia|o__...      0.005994   \n",
       "k__Bacteria|p__Bacteroidetes|c__Bacteroidia|o__...      0.003996   \n",
       "k__Bacteria|p__Actinobacteria|c__Coriobacteriia...      0.003996   \n",
       "k__Bacteria|p__Actinobacteria|c__Coriobacteriia...      0.002997   \n",
       "k__Bacteria|p__Bacteroidetes|c__Bacteroidia|o__...      0.004995   \n",
       "k__Bacteria|p__Firmicutes|c__Clostridia|o__Clos...      0.004995   \n",
       "\n",
       "                                                    _calour_qval  \\\n",
       "k__Bacteria|p__Bacteroidetes|c__Bacteroidia|o__...      0.177822   \n",
       "k__Bacteria|p__Firmicutes|c__Clostridia|o__Clos...      0.120047   \n",
       "k__Bacteria|p__Bacteroidetes|c__Bacteroidia|o__...      0.099628   \n",
       "k__Bacteria|p__Firmicutes|c__Clostridia|o__Clos...      0.099628   \n",
       "k__Bacteria|p__Bacteroidetes|c__Bacteroidia|o__...      0.120047   \n",
       "k__Bacteria|p__Bacteroidetes|c__Bacteroidia|o__...      0.099628   \n",
       "k__Bacteria|p__Bacteroidetes|c__Bacteroidia|o__...      0.120047   \n",
       "k__Bacteria|p__Actinobacteria|c__Coriobacteriia...      0.120047   \n",
       "k__Bacteria|p__Actinobacteria|c__Coriobacteriia...      0.270230   \n",
       "k__Bacteria|p__Bacteroidetes|c__Bacteroidia|o__...      0.114635   \n",
       "k__Bacteria|p__Firmicutes|c__Clostridia|o__Clos...      0.114635   \n",
       "\n",
       "                                                   _calour_direction  \\\n",
       "k__Bacteria|p__Bacteroidetes|c__Bacteroidia|o__...         NOT CD,UC   \n",
       "k__Bacteria|p__Firmicutes|c__Clostridia|o__Clos...         NOT CD,UC   \n",
       "k__Bacteria|p__Bacteroidetes|c__Bacteroidia|o__...         NOT CD,UC   \n",
       "k__Bacteria|p__Firmicutes|c__Clostridia|o__Clos...         NOT CD,UC   \n",
       "k__Bacteria|p__Bacteroidetes|c__Bacteroidia|o__...         NOT CD,UC   \n",
       "k__Bacteria|p__Bacteroidetes|c__Bacteroidia|o__...         NOT CD,UC   \n",
       "k__Bacteria|p__Bacteroidetes|c__Bacteroidia|o__...         NOT CD,UC   \n",
       "k__Bacteria|p__Actinobacteria|c__Coriobacteriia...         NOT CD,UC   \n",
       "k__Bacteria|p__Actinobacteria|c__Coriobacteriia...         NOT CD,UC   \n",
       "k__Bacteria|p__Bacteroidetes|c__Bacteroidia|o__...         NOT CD,UC   \n",
       "k__Bacteria|p__Firmicutes|c__Clostridia|o__Clos...             CD,UC   \n",
       "\n",
       "                                                                  species_names  \n",
       "k__Bacteria|p__Bacteroidetes|c__Bacteroidia|o__...         Alistipes_putredinis  \n",
       "k__Bacteria|p__Firmicutes|c__Clostridia|o__Clos...          Eubacterium_rectale  \n",
       "k__Bacteria|p__Bacteroidetes|c__Bacteroidia|o__...         Alistipes_finegoldii  \n",
       "k__Bacteria|p__Firmicutes|c__Clostridia|o__Clos...          Gemmiger_formicilis  \n",
       "k__Bacteria|p__Bacteroidetes|c__Bacteroidia|o__...        Bacteroides_eggerthii  \n",
       "k__Bacteria|p__Bacteroidetes|c__Bacteroidia|o__...   Butyricimonas_synergistica  \n",
       "k__Bacteria|p__Bacteroidetes|c__Bacteroidia|o__...  Parabacteroides_goldsteinii  \n",
       "k__Bacteria|p__Actinobacteria|c__Coriobacteriia...      Asaccharobacter_celatus  \n",
       "k__Bacteria|p__Actinobacteria|c__Coriobacteriia...      Gordonibacter_pamelaeae  \n",
       "k__Bacteria|p__Bacteroidetes|c__Bacteroidia|o__...          Prevotella_corporis  \n",
       "k__Bacteria|p__Firmicutes|c__Clostridia|o__Clos...        Clostridium_symbiosum  "
      ]
     },
     "execution_count": 31,
     "metadata": {},
     "output_type": "execute_result"
    }
   ],
   "source": [
    "# for species:\n",
    "feature_names = dd.feature_metadata['_feature_id'].tolist()\n",
    "species_names = [s.split('|')[-1].replace('s__', '') for s in feature_names]\n",
    "dd.feature_metadata['species_names'] = species_names\n",
    "dd.feature_metadata"
   ]
  },
  {
   "cell_type": "code",
   "execution_count": 66,
   "id": "5672ee6e-29c9-4827-b0be-f3f0c4a6e1d1",
   "metadata": {},
   "outputs": [
    {
     "data": {
      "text/plain": [
       "'\\ndd.plot(gui=\\'qt5\\',sample_field=\\'diagnosis\\',barx_fields=[\\'Participant ID\\'],barx_label=False, feature_field=\"species_names\", yticklabel_len = 40, yticklabel_kwargs = {\\'rotation\\': 0},\\n       bary_fields = [\\'_calour_direction\\'])\\n       '"
      ]
     },
     "execution_count": 66,
     "metadata": {},
     "output_type": "execute_result"
    }
   ],
   "source": [
    "\n",
    "dd.plot(gui='qt5',sample_field='diagnosis',barx_fields=['Participant ID'],barx_label=False,\n",
    "feature_field = \"Name\", yticklabel_len = 40, yticklabel_kwargs = {'rotation' : 0, 'size' : 6},\n",
    "       bary_fields = ['_calour_direction']) # feature_field = \"Name\"\n",
    "\"\"\"\n",
    "dd.plot(gui='qt5',sample_field='diagnosis',barx_fields=['Participant ID'],barx_label=False, feature_field=\"species_names\", yticklabel_len = 40, yticklabel_kwargs = {'rotation': 0},\n",
    "       bary_fields = ['_calour_direction'])\n",
    "       \"\"\""
   ]
  },
  {
   "cell_type": "code",
   "execution_count": 104,
   "id": "0ae56832-4883-4742-87b8-f38054c348ea",
   "metadata": {},
   "outputs": [
    {
     "name": "stderr",
     "output_type": "stream",
     "text": [
      "/pita/users/hila/miniconda3/envs/calour/lib/python3.6/site-packages/calour/heatmap/heatmap.py:308: MatplotlibDeprecationWarning: You are modifying the state of a globally registered colormap. In future versions, you will not be able to modify a registered colormap in-place. To remove this warning, you can make a copy of the colormap first. cmap = copy.copy(mpl.cm.get_cmap(\"viridis\"))\n",
      "  cmap.set_bad(bad_color)\n",
      "/pita/users/hila/miniconda3/envs/calour/lib/python3.6/site-packages/calour/heatmap/heatmap.py:317: MatplotlibDeprecationWarning: Passing parameters norm and vmin/vmax simultaneously is deprecated since 3.3 and will become an error two minor releases later. Please pass vmin/vmax directly to the norm when creating it.\n",
      "  norm=norm, vmin=vmin, vmax=vmax, cmap=cmap)\n"
     ]
    },
    {
     "data": {
      "text/plain": [
       "<calour.heatmap.plotgui_qt5.PlotGUI_QT5 at 0x7fcfce5059e8>"
      ]
     },
     "execution_count": 104,
     "metadata": {},
     "output_type": "execute_result"
    }
   ],
   "source": [
    "dd.plot(gui='qt5',sample_field='diagnosis',barx_fields=['Participant ID'],barx_label=False, clim= [1e-04,1e-02])"
   ]
  },
  {
   "cell_type": "code",
   "execution_count": 178,
   "id": "c7443707-6124-4b20-8c1a-3dbbb46744c3",
   "metadata": {},
   "outputs": [],
   "source": [
    "#dd.save('de_ecs_count_norm_01_weeks_012')"
   ]
  },
  {
   "cell_type": "code",
   "execution_count": 163,
   "id": "8a0ed02c-f065-4bab-accc-ba756ccf4156",
   "metadata": {},
   "outputs": [],
   "source": [
    "#dd.save('de_pathways_count_norm_025_weeks_012')"
   ]
  },
  {
   "cell_type": "code",
   "execution_count": 18,
   "id": "6e0ec475-ed28-475c-8faa-f7467ce7a2ac",
   "metadata": {},
   "outputs": [],
   "source": [
    "#dd.save('de_non_stratified_ecs_fdr_025_binarytransform')\n",
    "#dd.save('/pita/users/hila/analysis/bioms/hmp2_de_mgx_paths_unstratified_abund_fdr_020_weeks_012')\n",
    "dd.save('/pita/users/hila/analysis/bioms/hmp2_ecs_non_stratified_weeks_0_1_2_alpha_010_binary_transform')"
   ]
  },
  {
   "cell_type": "code",
   "execution_count": 16,
   "id": "5bfb2d74-6a59-443c-9f4c-998d78479db1",
   "metadata": {},
   "outputs": [
    {
     "data": {
      "text/html": [
       "<div>\n",
       "<style scoped>\n",
       "    .dataframe tbody tr th:only-of-type {\n",
       "        vertical-align: middle;\n",
       "    }\n",
       "\n",
       "    .dataframe tbody tr th {\n",
       "        vertical-align: top;\n",
       "    }\n",
       "\n",
       "    .dataframe thead th {\n",
       "        text-align: right;\n",
       "    }\n",
       "</style>\n",
       "<table border=\"1\" class=\"dataframe\">\n",
       "  <thead>\n",
       "    <tr style=\"text-align: right;\">\n",
       "      <th></th>\n",
       "      <th>_feature_id</th>\n",
       "      <th>_calour_stat</th>\n",
       "      <th>_calour_pval</th>\n",
       "      <th>_calour_qval</th>\n",
       "      <th>_calour_direction</th>\n",
       "    </tr>\n",
       "  </thead>\n",
       "  <tbody>\n",
       "    <tr>\n",
       "      <th>k__Bacteria|p__Bacteroidetes|c__Bacteroidia|o__Bacteroidales|f__Rikenellaceae|g__Alistipes|s__Alistipes_putredinis</th>\n",
       "      <td>k__Bacteria|p__Bacteroidetes|c__Bacteroidia|o_...</td>\n",
       "      <td>-18.891892</td>\n",
       "      <td>0.000999</td>\n",
       "      <td>0.177822</td>\n",
       "      <td>NOT CD,UC</td>\n",
       "    </tr>\n",
       "    <tr>\n",
       "      <th>k__Bacteria|p__Firmicutes|c__Clostridia|o__Clostridiales|f__Lachnospiraceae|g__Lachnospiraceae_unclassified|s__Eubacterium_rectale</th>\n",
       "      <td>k__Bacteria|p__Firmicutes|c__Clostridia|o__Clo...</td>\n",
       "      <td>-18.162162</td>\n",
       "      <td>0.003996</td>\n",
       "      <td>0.120047</td>\n",
       "      <td>NOT CD,UC</td>\n",
       "    </tr>\n",
       "    <tr>\n",
       "      <th>k__Bacteria|p__Bacteroidetes|c__Bacteroidia|o__Bacteroidales|f__Rikenellaceae|g__Alistipes|s__Alistipes_finegoldii</th>\n",
       "      <td>k__Bacteria|p__Bacteroidetes|c__Bacteroidia|o_...</td>\n",
       "      <td>-17.878378</td>\n",
       "      <td>0.005994</td>\n",
       "      <td>0.099628</td>\n",
       "      <td>NOT CD,UC</td>\n",
       "    </tr>\n",
       "    <tr>\n",
       "      <th>k__Bacteria|p__Firmicutes|c__Clostridia|o__Clostridiales|f__Ruminococcaceae|g__Gemmiger|s__Gemmiger_formicilis</th>\n",
       "      <td>k__Bacteria|p__Firmicutes|c__Clostridia|o__Clo...</td>\n",
       "      <td>-15.648649</td>\n",
       "      <td>0.005994</td>\n",
       "      <td>0.099628</td>\n",
       "      <td>NOT CD,UC</td>\n",
       "    </tr>\n",
       "    <tr>\n",
       "      <th>k__Bacteria|p__Bacteroidetes|c__Bacteroidia|o__Bacteroidales|f__Bacteroidaceae|g__Bacteroides|s__Bacteroides_eggerthii</th>\n",
       "      <td>k__Bacteria|p__Bacteroidetes|c__Bacteroidia|o_...</td>\n",
       "      <td>-14.675676</td>\n",
       "      <td>0.003996</td>\n",
       "      <td>0.120047</td>\n",
       "      <td>NOT CD,UC</td>\n",
       "    </tr>\n",
       "    <tr>\n",
       "      <th>k__Bacteria|p__Bacteroidetes|c__Bacteroidia|o__Bacteroidales|f__Odoribacteraceae|g__Butyricimonas|s__Butyricimonas_synergistica</th>\n",
       "      <td>k__Bacteria|p__Bacteroidetes|c__Bacteroidia|o_...</td>\n",
       "      <td>-12.040541</td>\n",
       "      <td>0.005994</td>\n",
       "      <td>0.099628</td>\n",
       "      <td>NOT CD,UC</td>\n",
       "    </tr>\n",
       "    <tr>\n",
       "      <th>k__Bacteria|p__Bacteroidetes|c__Bacteroidia|o__Bacteroidales|f__Tannerellaceae|g__Parabacteroides|s__Parabacteroides_goldsteinii</th>\n",
       "      <td>k__Bacteria|p__Bacteroidetes|c__Bacteroidia|o_...</td>\n",
       "      <td>-11.918919</td>\n",
       "      <td>0.003996</td>\n",
       "      <td>0.120047</td>\n",
       "      <td>NOT CD,UC</td>\n",
       "    </tr>\n",
       "    <tr>\n",
       "      <th>k__Bacteria|p__Actinobacteria|c__Coriobacteriia|o__Eggerthellales|f__Eggerthellaceae|g__Asaccharobacter|s__Asaccharobacter_celatus</th>\n",
       "      <td>k__Bacteria|p__Actinobacteria|c__Coriobacterii...</td>\n",
       "      <td>-9.364865</td>\n",
       "      <td>0.003996</td>\n",
       "      <td>0.120047</td>\n",
       "      <td>NOT CD,UC</td>\n",
       "    </tr>\n",
       "    <tr>\n",
       "      <th>k__Bacteria|p__Actinobacteria|c__Coriobacteriia|o__Eggerthellales|f__Eggerthellaceae|g__Gordonibacter|s__Gordonibacter_pamelaeae</th>\n",
       "      <td>k__Bacteria|p__Actinobacteria|c__Coriobacterii...</td>\n",
       "      <td>-8.250000</td>\n",
       "      <td>0.002997</td>\n",
       "      <td>0.270230</td>\n",
       "      <td>NOT CD,UC</td>\n",
       "    </tr>\n",
       "    <tr>\n",
       "      <th>k__Bacteria|p__Bacteroidetes|c__Bacteroidia|o__Bacteroidales|f__Prevotellaceae|g__Prevotella|s__Prevotella_corporis</th>\n",
       "      <td>k__Bacteria|p__Bacteroidetes|c__Bacteroidia|o_...</td>\n",
       "      <td>-6.810811</td>\n",
       "      <td>0.004995</td>\n",
       "      <td>0.114635</td>\n",
       "      <td>NOT CD,UC</td>\n",
       "    </tr>\n",
       "    <tr>\n",
       "      <th>k__Bacteria|p__Firmicutes|c__Clostridia|o__Clostridiales|f__Lachnospiraceae|g__Lachnoclostridium|s__Clostridium_symbiosum</th>\n",
       "      <td>k__Bacteria|p__Firmicutes|c__Clostridia|o__Clo...</td>\n",
       "      <td>16.114865</td>\n",
       "      <td>0.004995</td>\n",
       "      <td>0.114635</td>\n",
       "      <td>CD,UC</td>\n",
       "    </tr>\n",
       "  </tbody>\n",
       "</table>\n",
       "</div>"
      ],
      "text/plain": [
       "                                                                                          _feature_id  \\\n",
       "k__Bacteria|p__Bacteroidetes|c__Bacteroidia|o__...  k__Bacteria|p__Bacteroidetes|c__Bacteroidia|o_...   \n",
       "k__Bacteria|p__Firmicutes|c__Clostridia|o__Clos...  k__Bacteria|p__Firmicutes|c__Clostridia|o__Clo...   \n",
       "k__Bacteria|p__Bacteroidetes|c__Bacteroidia|o__...  k__Bacteria|p__Bacteroidetes|c__Bacteroidia|o_...   \n",
       "k__Bacteria|p__Firmicutes|c__Clostridia|o__Clos...  k__Bacteria|p__Firmicutes|c__Clostridia|o__Clo...   \n",
       "k__Bacteria|p__Bacteroidetes|c__Bacteroidia|o__...  k__Bacteria|p__Bacteroidetes|c__Bacteroidia|o_...   \n",
       "k__Bacteria|p__Bacteroidetes|c__Bacteroidia|o__...  k__Bacteria|p__Bacteroidetes|c__Bacteroidia|o_...   \n",
       "k__Bacteria|p__Bacteroidetes|c__Bacteroidia|o__...  k__Bacteria|p__Bacteroidetes|c__Bacteroidia|o_...   \n",
       "k__Bacteria|p__Actinobacteria|c__Coriobacteriia...  k__Bacteria|p__Actinobacteria|c__Coriobacterii...   \n",
       "k__Bacteria|p__Actinobacteria|c__Coriobacteriia...  k__Bacteria|p__Actinobacteria|c__Coriobacterii...   \n",
       "k__Bacteria|p__Bacteroidetes|c__Bacteroidia|o__...  k__Bacteria|p__Bacteroidetes|c__Bacteroidia|o_...   \n",
       "k__Bacteria|p__Firmicutes|c__Clostridia|o__Clos...  k__Bacteria|p__Firmicutes|c__Clostridia|o__Clo...   \n",
       "\n",
       "                                                    _calour_stat  \\\n",
       "k__Bacteria|p__Bacteroidetes|c__Bacteroidia|o__...    -18.891892   \n",
       "k__Bacteria|p__Firmicutes|c__Clostridia|o__Clos...    -18.162162   \n",
       "k__Bacteria|p__Bacteroidetes|c__Bacteroidia|o__...    -17.878378   \n",
       "k__Bacteria|p__Firmicutes|c__Clostridia|o__Clos...    -15.648649   \n",
       "k__Bacteria|p__Bacteroidetes|c__Bacteroidia|o__...    -14.675676   \n",
       "k__Bacteria|p__Bacteroidetes|c__Bacteroidia|o__...    -12.040541   \n",
       "k__Bacteria|p__Bacteroidetes|c__Bacteroidia|o__...    -11.918919   \n",
       "k__Bacteria|p__Actinobacteria|c__Coriobacteriia...     -9.364865   \n",
       "k__Bacteria|p__Actinobacteria|c__Coriobacteriia...     -8.250000   \n",
       "k__Bacteria|p__Bacteroidetes|c__Bacteroidia|o__...     -6.810811   \n",
       "k__Bacteria|p__Firmicutes|c__Clostridia|o__Clos...     16.114865   \n",
       "\n",
       "                                                    _calour_pval  \\\n",
       "k__Bacteria|p__Bacteroidetes|c__Bacteroidia|o__...      0.000999   \n",
       "k__Bacteria|p__Firmicutes|c__Clostridia|o__Clos...      0.003996   \n",
       "k__Bacteria|p__Bacteroidetes|c__Bacteroidia|o__...      0.005994   \n",
       "k__Bacteria|p__Firmicutes|c__Clostridia|o__Clos...      0.005994   \n",
       "k__Bacteria|p__Bacteroidetes|c__Bacteroidia|o__...      0.003996   \n",
       "k__Bacteria|p__Bacteroidetes|c__Bacteroidia|o__...      0.005994   \n",
       "k__Bacteria|p__Bacteroidetes|c__Bacteroidia|o__...      0.003996   \n",
       "k__Bacteria|p__Actinobacteria|c__Coriobacteriia...      0.003996   \n",
       "k__Bacteria|p__Actinobacteria|c__Coriobacteriia...      0.002997   \n",
       "k__Bacteria|p__Bacteroidetes|c__Bacteroidia|o__...      0.004995   \n",
       "k__Bacteria|p__Firmicutes|c__Clostridia|o__Clos...      0.004995   \n",
       "\n",
       "                                                    _calour_qval  \\\n",
       "k__Bacteria|p__Bacteroidetes|c__Bacteroidia|o__...      0.177822   \n",
       "k__Bacteria|p__Firmicutes|c__Clostridia|o__Clos...      0.120047   \n",
       "k__Bacteria|p__Bacteroidetes|c__Bacteroidia|o__...      0.099628   \n",
       "k__Bacteria|p__Firmicutes|c__Clostridia|o__Clos...      0.099628   \n",
       "k__Bacteria|p__Bacteroidetes|c__Bacteroidia|o__...      0.120047   \n",
       "k__Bacteria|p__Bacteroidetes|c__Bacteroidia|o__...      0.099628   \n",
       "k__Bacteria|p__Bacteroidetes|c__Bacteroidia|o__...      0.120047   \n",
       "k__Bacteria|p__Actinobacteria|c__Coriobacteriia...      0.120047   \n",
       "k__Bacteria|p__Actinobacteria|c__Coriobacteriia...      0.270230   \n",
       "k__Bacteria|p__Bacteroidetes|c__Bacteroidia|o__...      0.114635   \n",
       "k__Bacteria|p__Firmicutes|c__Clostridia|o__Clos...      0.114635   \n",
       "\n",
       "                                                   _calour_direction  \n",
       "k__Bacteria|p__Bacteroidetes|c__Bacteroidia|o__...         NOT CD,UC  \n",
       "k__Bacteria|p__Firmicutes|c__Clostridia|o__Clos...         NOT CD,UC  \n",
       "k__Bacteria|p__Bacteroidetes|c__Bacteroidia|o__...         NOT CD,UC  \n",
       "k__Bacteria|p__Firmicutes|c__Clostridia|o__Clos...         NOT CD,UC  \n",
       "k__Bacteria|p__Bacteroidetes|c__Bacteroidia|o__...         NOT CD,UC  \n",
       "k__Bacteria|p__Bacteroidetes|c__Bacteroidia|o__...         NOT CD,UC  \n",
       "k__Bacteria|p__Bacteroidetes|c__Bacteroidia|o__...         NOT CD,UC  \n",
       "k__Bacteria|p__Actinobacteria|c__Coriobacteriia...         NOT CD,UC  \n",
       "k__Bacteria|p__Actinobacteria|c__Coriobacteriia...         NOT CD,UC  \n",
       "k__Bacteria|p__Bacteroidetes|c__Bacteroidia|o__...         NOT CD,UC  \n",
       "k__Bacteria|p__Firmicutes|c__Clostridia|o__Clos...             CD,UC  "
      ]
     },
     "execution_count": 16,
     "metadata": {},
     "output_type": "execute_result"
    }
   ],
   "source": [
    "dd.feature_metadata"
   ]
  },
  {
   "cell_type": "code",
   "execution_count": 17,
   "id": "7bd54792",
   "metadata": {},
   "outputs": [
    {
     "data": {
      "text/plain": [
       "array(['k__Bacteria|p__Bacteroidetes|c__Bacteroidia|o__Bacteroidales|f__Rikenellaceae|g__Alistipes|s__Alistipes_putredinis',\n",
       "       'k__Bacteria|p__Firmicutes|c__Clostridia|o__Clostridiales|f__Lachnospiraceae|g__Lachnospiraceae_unclassified|s__Eubacterium_rectale',\n",
       "       'k__Bacteria|p__Bacteroidetes|c__Bacteroidia|o__Bacteroidales|f__Rikenellaceae|g__Alistipes|s__Alistipes_finegoldii',\n",
       "       'k__Bacteria|p__Firmicutes|c__Clostridia|o__Clostridiales|f__Ruminococcaceae|g__Gemmiger|s__Gemmiger_formicilis',\n",
       "       'k__Bacteria|p__Bacteroidetes|c__Bacteroidia|o__Bacteroidales|f__Bacteroidaceae|g__Bacteroides|s__Bacteroides_eggerthii',\n",
       "       'k__Bacteria|p__Bacteroidetes|c__Bacteroidia|o__Bacteroidales|f__Odoribacteraceae|g__Butyricimonas|s__Butyricimonas_synergistica',\n",
       "       'k__Bacteria|p__Bacteroidetes|c__Bacteroidia|o__Bacteroidales|f__Tannerellaceae|g__Parabacteroides|s__Parabacteroides_goldsteinii',\n",
       "       'k__Bacteria|p__Actinobacteria|c__Coriobacteriia|o__Eggerthellales|f__Eggerthellaceae|g__Asaccharobacter|s__Asaccharobacter_celatus',\n",
       "       'k__Bacteria|p__Actinobacteria|c__Coriobacteriia|o__Eggerthellales|f__Eggerthellaceae|g__Gordonibacter|s__Gordonibacter_pamelaeae',\n",
       "       'k__Bacteria|p__Bacteroidetes|c__Bacteroidia|o__Bacteroidales|f__Prevotellaceae|g__Prevotella|s__Prevotella_corporis',\n",
       "       'k__Bacteria|p__Firmicutes|c__Clostridia|o__Clostridiales|f__Lachnospiraceae|g__Lachnoclostridium|s__Clostridium_symbiosum'],\n",
       "      dtype=object)"
      ]
     },
     "execution_count": 17,
     "metadata": {},
     "output_type": "execute_result"
    }
   ],
   "source": [
    "dd.feature_metadata.index.values"
   ]
  },
  {
   "cell_type": "code",
   "execution_count": 206,
   "id": "caac0af0-7b71-4b99-9409-8ffa20b2c243",
   "metadata": {},
   "outputs": [
    {
     "data": {
      "text/plain": [
       "Index(['3.4.13.3', '3.5.1.53', '3.2.1.39', '1.8.98.1', '3.1.3.41', '3.2.1.45',\n",
       "       '2.3.1.128', '3.4.21.26', '4.3.3.6', '6.1.1.13', '3.5.1.59', '2.1.1.61',\n",
       "       '3.5.1.18', '5.4.99.26', '6.2.1.26', '4.3.1.15', '2.8.3.9', '3.4.13.19',\n",
       "       '2.7.1.60', '4.2.1.1', '6.3.1.20', '2.7.1.170', '4.2.1.40', '1.2.1.22',\n",
       "       '1.5.1.34', '2.3.1.174', '4.2.1.6', '1.6.5.5', '6.3.4.14', '1.3.7.8',\n",
       "       '1.14.13.48', '2.8.3.10', '3.1.4.58', '2.1.1.64', '2.7.1.89',\n",
       "       '3.1.1.31', '6.4.1.2', '1.1.1.18', '4.1.2.40', '1.8.1.14', '2.4.2.52',\n",
       "       '1.8.5.3', '3.6.3.19', '4.2.1.70', '1.1.1.6', '4.2.2.17', '2.5.1.90',\n",
       "       '2.3.1.16', '1.3.1.34', '1.3.1.1', '3.5.99.3', '4.3.1.18', '4.2.1.45',\n",
       "       '1.1.1.79', '3.5.99.10', '3.1.5.1', '2.7.1.100', '2.7.1.22', '1.17.1.4',\n",
       "       '1.1.1.60', '1.1.3.15', '6.2.1.22', '2.7.1.121', '4.2.1.42'],\n",
       "      dtype='object')"
      ]
     },
     "execution_count": 206,
     "metadata": {},
     "output_type": "execute_result"
    }
   ],
   "source": [
    "dd.feature_metadata.index"
   ]
  },
  {
   "cell_type": "markdown",
   "id": "22d6653d-3201-4e56-b3f6-4af1f1e251f0",
   "metadata": {},
   "source": [
    "# Filter by first week "
   ]
  },
  {
   "cell_type": "code",
   "execution_count": 69,
   "id": "457a792d-6840-45b2-a2be-7b88911bc582",
   "metadata": {},
   "outputs": [],
   "source": [
    "first_visit_idx = datc.sample_metadata.groupby(['Participant ID']).week_num.idxmin()"
   ]
  },
  {
   "cell_type": "code",
   "execution_count": 70,
   "id": "8137c4d8-ba4b-4ffa-8b6f-c35494059a3a",
   "metadata": {},
   "outputs": [
    {
     "data": {
      "text/plain": [
       "AmpliconExperiment with 130 samples, 779983 features"
      ]
     },
     "execution_count": 70,
     "metadata": {},
     "output_type": "execute_result"
    }
   ],
   "source": [
    "datc_filtered_first_week = datc.filter_ids(ids = first_visit_idx, axis = 's') \n",
    "datc_filtered_first_week"
   ]
  },
  {
   "cell_type": "code",
   "execution_count": 71,
   "id": "270ac3ad-8ddc-4991-b716-c72dbe55ab3a",
   "metadata": {},
   "outputs": [],
   "source": [
    "fbw = datc_filtered_first_week.aggregate_by_metadata('Participant ID')"
   ]
  },
  {
   "cell_type": "code",
   "execution_count": 72,
   "id": "2c78a480-608c-4398-a8a8-c2a827a23475",
   "metadata": {},
   "outputs": [
    {
     "name": "stdout",
     "output_type": "stream",
     "text": [
      "2022-02-03 16:05:39 WARNING Do you forget to normalize your data? It is required before running this function\n"
     ]
    }
   ],
   "source": [
    "fbw = fbw.filter_prevalence(0.2,0.000001)"
   ]
  },
  {
   "cell_type": "code",
   "execution_count": 73,
   "id": "26106771-6957-4a8b-b7cf-7d797af483d1",
   "metadata": {},
   "outputs": [
    {
     "data": {
      "text/plain": [
       "AmpliconExperiment with 130 samples, 72140 features"
      ]
     },
     "execution_count": 73,
     "metadata": {},
     "output_type": "execute_result"
    }
   ],
   "source": [
    "fbw"
   ]
  },
  {
   "cell_type": "code",
   "execution_count": 74,
   "id": "6708508c-53b3-4901-aedc-e123ccaaa8e7",
   "metadata": {},
   "outputs": [
    {
     "name": "stdout",
     "output_type": "stream",
     "text": [
      "2022-02-03 16:05:51 WARNING Do you forget to normalize your data? It is required before running this function\n"
     ]
    }
   ],
   "source": [
    "de_fbw = fbw.diff_abundance('diagnosis',['CD','UC'], alpha = 0.1, random_seed=234) #, transform = 'binarydata'"
   ]
  },
  {
   "cell_type": "code",
   "execution_count": 75,
   "id": "1f20c054-d4ce-4084-b891-d4c73733e39a",
   "metadata": {},
   "outputs": [],
   "source": [
    "de_fbw = de_fbw.sort_samples('diagnosis')"
   ]
  },
  {
   "cell_type": "code",
   "execution_count": null,
   "id": "72cdc5ad-d56d-4197-9a3d-4d295996b0c6",
   "metadata": {},
   "outputs": [
    {
     "name": "stderr",
     "output_type": "stream",
     "text": [
      "/pita/users/hila/miniconda3/envs/calour/lib/python3.6/site-packages/calour/heatmap/heatmap.py:308: MatplotlibDeprecationWarning: You are modifying the state of a globally registered colormap. In future versions, you will not be able to modify a registered colormap in-place. To remove this warning, you can make a copy of the colormap first. cmap = copy.copy(mpl.cm.get_cmap(\"viridis\"))\n",
      "  cmap.set_bad(bad_color)\n"
     ]
    }
   ],
   "source": [
    "de_fbw.plot(gui='qt5',sample_field='diagnosis',barx_fields=['Participant ID'],barx_label=False)"
   ]
  },
  {
   "cell_type": "markdown",
   "id": "51196ccd-5805-4a6e-9f30-6b8135d45719",
   "metadata": {},
   "source": [
    "# Random junk"
   ]
  },
  {
   "cell_type": "code",
   "execution_count": 20,
   "id": "85184dd9-9b7b-4c99-98b0-61ba7e7c2137",
   "metadata": {},
   "outputs": [],
   "source": [
    "#dat_copy = dat_filtered_by_reads.copy()"
   ]
  },
  {
   "cell_type": "code",
   "execution_count": 21,
   "id": "1efbef0b-e227-4720-aa07-3aa85bd68eaf",
   "metadata": {},
   "outputs": [],
   "source": [
    "#dat_copy.sample_metadata = dat_copy.sample_metadata.merge(count_species,right_on = '# samples', left_on = 'External ID', how = 'inner')"
   ]
  },
  {
   "cell_type": "code",
   "execution_count": 22,
   "id": "149ef0ed-0d8e-4913-adca-dc2a8ccde8e9",
   "metadata": {},
   "outputs": [],
   "source": [
    "#dat_copy.sample_metadata.set_index('_sample_id', drop = False, inplace = True)"
   ]
  },
  {
   "cell_type": "code",
   "execution_count": 90,
   "id": "6759da97-669b-4dbe-97ae-2e9a1517975a",
   "metadata": {},
   "outputs": [],
   "source": [
    "#dat_copy.sample_metadata"
   ]
  },
  {
   "cell_type": "code",
   "execution_count": 24,
   "id": "a825da0c-9a4a-4b3a-981e-1980a39298be",
   "metadata": {},
   "outputs": [],
   "source": [
    "#dat_copy = dat_copy.add_sample_metadata_as_features(['total features'])"
   ]
  },
  {
   "cell_type": "code",
   "execution_count": 91,
   "id": "a381d034-0496-4ca9-abe5-26cd4e1dd30f",
   "metadata": {},
   "outputs": [],
   "source": [
    "#dat_copy.normalize_by_subset_features(['total features'], total = 1, negate = False)"
   ]
  },
  {
   "cell_type": "code",
   "execution_count": 89,
   "id": "cf48b441-97c5-410c-b6e1-74ac7db3b12b",
   "metadata": {},
   "outputs": [],
   "source": [
    "#dat_copy.data.sum(axis = 0)"
   ]
  },
  {
   "cell_type": "code",
   "execution_count": 26,
   "id": "57320335-3514-4889-a4ad-5de75f495912",
   "metadata": {},
   "outputs": [],
   "source": [
    "#datc = dat_copy.copy()"
   ]
  },
  {
   "cell_type": "code",
   "execution_count": 90,
   "id": "02dfebbb-3c17-4dd6-a1db-ddd9538f651b",
   "metadata": {},
   "outputs": [],
   "source": [
    "#dat=dat.sort_samples('diagnosis')"
   ]
  },
  {
   "cell_type": "code",
   "execution_count": 91,
   "id": "e2768ae7-3a0e-4bb1-a9fa-805eae084954",
   "metadata": {},
   "outputs": [],
   "source": [
    "#dat.plot(gui='qt5',sample_field='diagnosis')"
   ]
  },
  {
   "cell_type": "code",
   "execution_count": 129,
   "id": "f6255ee0-baf2-43ea-a309-38f78b5cf1e9",
   "metadata": {},
   "outputs": [
    {
     "data": {
      "text/plain": [
       "['FDSFSD', '-Rpks']"
      ]
     },
     "execution_count": 129,
     "metadata": {},
     "output_type": "execute_result"
    }
   ],
   "source": [
    "str = \"FDSFSD_Abundance-Rpks\"\n",
    "str.split(\"_Abundance\")"
   ]
  },
  {
   "cell_type": "code",
   "execution_count": null,
   "id": "a85c5186-47f8-4e48-8788-e13d656d6f4a",
   "metadata": {},
   "outputs": [],
   "source": [
    "format_sample_name = lambda x: x.split(\"_Abundance\")[0]\n",
    "sample_names = {format_sample_name(name):i for i, name in enumerate(file_handle.readline().rstrip().split(delimiter)[1:])}"
   ]
  },
  {
   "cell_type": "code",
   "execution_count": 9,
   "id": "1e9dd92e-6598-417c-aa94-ea6e977b298a",
   "metadata": {},
   "outputs": [
    {
     "name": "stderr",
     "output_type": "stream",
     "text": [
      "/pita/users/hila/miniconda3/envs/calour/lib/python3.6/site-packages/calour/heatmap/heatmap.py:308: MatplotlibDeprecationWarning: You are modifying the state of a globally registered colormap. In future versions, you will not be able to modify a registered colormap in-place. To remove this warning, you can make a copy of the colormap first. cmap = copy.copy(mpl.cm.get_cmap(\"viridis\"))\n",
      "  cmap.set_bad(bad_color)\n"
     ]
    },
    {
     "data": {
      "text/plain": [
       "<calour.heatmap.plotgui_qt5.PlotGUI_QT5 at 0x7f3bdd585588>"
      ]
     },
     "execution_count": 9,
     "metadata": {},
     "output_type": "execute_result"
    }
   ],
   "source": [
    "dat.plot(gui='qt5',sample_field='diagnosis',barx_fields=['Participant ID'],barx_label=False)"
   ]
  },
  {
   "cell_type": "code",
   "execution_count": null,
   "id": "153564a6-225c-4537-b054-a4c200d4d329",
   "metadata": {},
   "outputs": [],
   "source": []
  }
 ],
 "metadata": {
  "kernelspec": {
   "display_name": "Python 3",
   "language": "python",
   "name": "python3"
  },
  "language_info": {
   "codemirror_mode": {
    "name": "ipython",
    "version": 3
   },
   "file_extension": ".py",
   "mimetype": "text/x-python",
   "name": "python",
   "nbconvert_exporter": "python",
   "pygments_lexer": "ipython3",
   "version": "3.6.13"
  }
 },
 "nbformat": 4,
 "nbformat_minor": 5
}
