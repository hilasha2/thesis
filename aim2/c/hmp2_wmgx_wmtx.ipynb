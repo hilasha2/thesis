{
 "cells": [
  {
   "cell_type": "code",
   "execution_count": 5,
   "id": "fa046c06-91ff-4e0d-a0b5-2015144dae72",
   "metadata": {},
   "outputs": [],
   "source": [
    "import calour as ca\n",
    "import pandas as pd\n",
    "import numpy as np\n",
    "import os\n",
    "import matplotlib.pyplot as plt\n",
    "import matplotlib"
   ]
  },
  {
   "cell_type": "code",
   "execution_count": 6,
   "id": "76158588-2b06-46a5-a7fe-3f2f18968ab9",
   "metadata": {},
   "outputs": [],
   "source": [
    "base_folder = '/pita/users/hila/biobakery_workflows/output_data/10_Jul_2022_hmp2_mgx_mtx_first_weeks/'\n",
    "ratio_folder = 'humann/rna_dna_norm'\n",
    "mgx_folder = 'whole_metagenome_shotgun'\n",
    "mtx_folder = 'whole_metatranscriptome_shotgun'\n",
    "mtx_metadata = '/pita/users/hila/analysis/datasets/hmp2_metadata_metatranscriptomics.tsv'\n",
    "mgx_metadata = '/pita/users/hila/analysis/datasets/hmp2_metadata_mgx_mtx.tsv'"
   ]
  },
  {
   "cell_type": "markdown",
   "id": "7b2d3164-1bdf-46b5-8414-6da06f371c8a",
   "metadata": {},
   "source": [
    "# Handling files"
   ]
  },
  {
   "cell_type": "code",
   "execution_count": 4,
   "id": "4ef34941-1091-4600-8edb-43e730e26a20",
   "metadata": {},
   "outputs": [],
   "source": [
    "file_path = os.path.join(base_folder, ratio_folder, 'paths', 'rna_dna_relative_expression_unstratified.tsv')\n",
    "rna_dna_ratio = pd.read_csv(file_path, delimiter= '\\t', na_values = 'NaN')"
   ]
  },
  {
   "cell_type": "code",
   "execution_count": 9,
   "id": "93963fe8-6ff3-497e-a045-b4483b084b45",
   "metadata": {},
   "outputs": [],
   "source": [
    "file_path = os.path.join(base_folder, ratio_folder, 'ecs', 'rna_dna_relative_expression_unstratified.tsv')\n",
    "rna_dna_ratio = pd.read_csv(file_path, delimiter= '\\t', na_values = 'NaN')"
   ]
  },
  {
   "cell_type": "code",
   "execution_count": 61,
   "id": "62af02ce-f53a-4d2b-b56f-68efed7d59df",
   "metadata": {},
   "outputs": [],
   "source": [
    "folder_path = os.path.join(base_folder, 'humann/rna_dna_norm_20', 'paths')\n",
    "file_path = os.path.join(folder_path, 'rna_dna_relative_expression_unstratified.tsv')\n",
    "rna_dna_ratio = pd.read_csv(file_path, delimiter= '\\t', na_values = 'NaN')"
   ]
  },
  {
   "cell_type": "code",
   "execution_count": 65,
   "id": "e8ee5242-0b83-4ce2-96cb-c7576589797f",
   "metadata": {},
   "outputs": [],
   "source": [
    "folder_path = os.path.join(base_folder, 'humann/rna_dna_norm_20', 'ecs')\n",
    "file_path = os.path.join(folder_path, 'rna_dna_relative_expression_unstratified.tsv')\n",
    "rna_dna_ratio = pd.read_csv(file_path, delimiter= '\\t', na_values = 'NaN')"
   ]
  },
  {
   "cell_type": "code",
   "execution_count": 130,
   "id": "0b694575-d58d-4a81-a5ad-c76064488434",
   "metadata": {},
   "outputs": [],
   "source": [
    "folder_path = os.path.join(base_folder, 'humann/rna_dna_norm_20_to_0', 'paths')\n",
    "file_path = os.path.join(folder_path, 'rna_dna_relative_expression_unstratified.tsv')\n",
    "rna_dna_ratio = pd.read_csv(file_path, delimiter= '\\t', na_values = 'NaN')"
   ]
  },
  {
   "cell_type": "code",
   "execution_count": 134,
   "id": "c301dbde-f58a-4e61-ba96-654627f2ddbd",
   "metadata": {},
   "outputs": [],
   "source": [
    "folder_path = os.path.join(base_folder, 'humann/rna_dna_norm_20_to_0', 'ecs')\n",
    "file_path = os.path.join(folder_path, 'rna_dna_relative_expression_unstratified.tsv')\n",
    "rna_dna_ratio = pd.read_csv(file_path, delimiter= '\\t', na_values = 'NaN')"
   ]
  },
  {
   "cell_type": "code",
   "execution_count": 135,
   "id": "1c94f99d-fe6b-455e-809b-538fe2761f5a",
   "metadata": {},
   "outputs": [],
   "source": [
    "rna_dna_ratio_fixed = rna_dna_ratio.fillna(-1)\n",
    "rna_dna_ratio_fixed.replace([np.inf], -1, inplace=True)\n",
    "rna_dna_ratio_fixed.replace(0, 10**(-10), inplace=True)"
   ]
  },
  {
   "cell_type": "code",
   "execution_count": 136,
   "id": "198d8103-4fc1-4dc8-97c4-e554a7e5bde9",
   "metadata": {},
   "outputs": [
    {
     "data": {
      "text/plain": [
       "(1907, 75)"
      ]
     },
     "execution_count": 136,
     "metadata": {},
     "output_type": "execute_result"
    }
   ],
   "source": [
    "rna_dna_ratio_fixed.shape"
   ]
  },
  {
   "cell_type": "code",
   "execution_count": 8,
   "id": "8d63d74a-808e-41ec-bb8d-c464fb03ed41",
   "metadata": {},
   "outputs": [],
   "source": [
    "out_path = os.path.join(base_folder, \"paths_ratio_fixed.tsv\")\n",
    "rna_dna_ratio_fixed.to_csv(out_path, sep = '\\t', index = False)"
   ]
  },
  {
   "cell_type": "code",
   "execution_count": 12,
   "id": "eea59766-9f28-403a-b984-b1f5ccd4161a",
   "metadata": {},
   "outputs": [],
   "source": [
    "out_path = os.path.join(base_folder, \"ecs_ratio_fixed.tsv\")\n",
    "rna_dna_ratio_fixed.to_csv(out_path, sep = '\\t', index = False)"
   ]
  },
  {
   "cell_type": "code",
   "execution_count": 64,
   "id": "99cce726-8024-4631-b0be-c2e6e5938ccd",
   "metadata": {},
   "outputs": [],
   "source": [
    "out_path = os.path.join(folder_path, \"paths_ratio_20_fixed.tsv\")\n",
    "rna_dna_ratio_fixed.to_csv(out_path, sep = '\\t', index = False)"
   ]
  },
  {
   "cell_type": "code",
   "execution_count": 68,
   "id": "8a9046d0-4c24-4483-85ac-aa5b0dcb2af8",
   "metadata": {},
   "outputs": [],
   "source": [
    "out_path = os.path.join(folder_path, \"ecs_ratio_20_fixed.tsv\")\n",
    "rna_dna_ratio_fixed.to_csv(out_path, sep = '\\t', index = False)"
   ]
  },
  {
   "cell_type": "code",
   "execution_count": 133,
   "id": "c4a19009-9619-4142-98f4-2fbad2cf54f0",
   "metadata": {},
   "outputs": [],
   "source": [
    "out_path = os.path.join(folder_path, \"paths_ratio_20_to_0_fixed.tsv\")\n",
    "rna_dna_ratio_fixed.to_csv(out_path, sep = '\\t', index = False)"
   ]
  },
  {
   "cell_type": "code",
   "execution_count": 137,
   "id": "c826527a-de34-4e96-9b73-39f6fe63bf26",
   "metadata": {},
   "outputs": [],
   "source": [
    "out_path = os.path.join(folder_path, \"ecs_ratio_20_to_0_fixed.tsv\")\n",
    "rna_dna_ratio_fixed.to_csv(out_path, sep = '\\t', index = False)"
   ]
  },
  {
   "cell_type": "markdown",
   "id": "a07a685f-fbcf-4cb4-8d78-61d542854c6b",
   "metadata": {},
   "source": [
    "# Calculations "
   ]
  },
  {
   "cell_type": "markdown",
   "id": "a1a447e7-afad-489e-9ff6-5508f8ff7358",
   "metadata": {},
   "source": [
    "## Ratio"
   ]
  },
  {
   "cell_type": "code",
   "execution_count": 54,
   "id": "d5df40f4-5935-4107-ae19-d59a3fd0bd28",
   "metadata": {},
   "outputs": [],
   "source": [
    "# found diff only with alpha 0.45 (3 features, one of them oxide dismutase, higher in nonIBD)\n",
    "ca.set_log_level('ERROR')\n",
    "\n",
    "dat = ca.read_amplicon(os.path.join(base_folder, 'ecs_ratio_fixed.tsv'),\n",
    "                       mgx_metadata,\n",
    "                       min_reads = None,normalize = None, sparse = False,\n",
    "                      feature_metadata_file = './ecs_to_name.txt')"
   ]
  },
  {
   "cell_type": "code",
   "execution_count": 94,
   "id": "b58339aa-c7b7-4de5-9398-38f9585e7098",
   "metadata": {},
   "outputs": [],
   "source": [
    "# found diff only with alpha 0.45\n",
    "ca.set_log_level('ERROR')\n",
    "folder_path = os.path.join(base_folder, 'humann/rna_dna_norm_20', 'ecs')\n",
    "dat = ca.read_amplicon(os.path.join(folder_path, 'ecs_ratio_20_fixed.tsv'),\n",
    "                       mgx_metadata,\n",
    "                       min_reads = None,normalize = None, sparse = False,\n",
    "                      feature_metadata_file = './ecs_to_name.txt')"
   ]
  },
  {
   "cell_type": "code",
   "execution_count": 138,
   "id": "329f46ea-d081-4390-8491-9a50875a244d",
   "metadata": {},
   "outputs": [],
   "source": [
    "# no ratio above 1\n",
    "ca.set_log_level('ERROR')\n",
    "folder_path = os.path.join(base_folder, 'humann/rna_dna_norm_20_to_0', 'ecs')\n",
    "dat = ca.read_amplicon(os.path.join(folder_path, 'ecs_ratio_20_to_0_fixed.tsv'),\n",
    "                       mgx_metadata,\n",
    "                       min_reads = None,normalize = None, sparse = False,\n",
    "                      feature_metadata_file = './ecs_to_name.txt')"
   ]
  },
  {
   "cell_type": "code",
   "execution_count": 111,
   "id": "7fbe3132-2d5c-4651-bccf-0ec8e19af70d",
   "metadata": {},
   "outputs": [],
   "source": [
    "# found diff only with alpha 0.5 (gluconeogenesis 1, higher in nonIBD)\n",
    "dat = ca.read_amplicon(os.path.join(base_folder, 'paths_ratio_fixed.tsv'),\n",
    "                       mgx_metadata,\n",
    "                       min_reads = None,normalize = None, sparse = False)"
   ]
  },
  {
   "cell_type": "code",
   "execution_count": 70,
   "id": "d606864a-330e-4091-a69a-9b29e007f1f1",
   "metadata": {},
   "outputs": [],
   "source": [
    "# found diff only with alpha 0.5\n",
    "folder_path = os.path.join(base_folder, 'humann/rna_dna_norm_20', 'paths')\n",
    "dat = ca.read_amplicon(os.path.join(folder_path, 'paths_ratio_20_fixed.tsv'),\n",
    "                       mgx_metadata,\n",
    "                       min_reads = None,normalize = None, sparse = False)"
   ]
  },
  {
   "cell_type": "code",
   "execution_count": 147,
   "id": "8b771075-7ce8-4bc8-8991-ad6ee5b4053d",
   "metadata": {},
   "outputs": [],
   "source": [
    "# found only 1 diff with alpha 0.5\n",
    "folder_path = os.path.join(base_folder, 'humann/rna_dna_norm_20_to_0', 'paths')\n",
    "dat = ca.read_amplicon(os.path.join(folder_path, 'paths_ratio_20_to_0_fixed.tsv'),\n",
    "                       mgx_metadata,\n",
    "                       min_reads = None,normalize = None, sparse = False)"
   ]
  },
  {
   "cell_type": "code",
   "execution_count": 3,
   "id": "e861b697",
   "metadata": {},
   "outputs": [
    {
     "name": "stdout",
     "output_type": "stream",
     "text": [
      "2023-06-22 16:17:50 WARNING These have metadata but do not have data - dropped (1590): {'HSM5MD5D', 'CSM9X22I', 'HSMA33IS', 'CSM9X21J', 'CSM79HGV_P', 'CSM67UB9', 'MSM79HES', 'HSM7J4HA', 'MSM79H7Y', 'CSM7KOJU', 'HSM7J4HK', 'MSM6J2KC', 'HSM5MD3L_P', 'PSM7J1AQ', 'MSM5ZOJY_P', 'CSM5MCYS', 'HSM67VFF', 'CSM67UF1', 'PSM7J16F', 'MSM79HDU', 'CSM79HIV', 'MSM6J2JR', 'PSMA266I', 'CSM7KOJY', 'HSM6XRRD', 'MSM9VZFF', 'MSM9VZIQ', 'CSM7KOQ1', 'HSMA33MV', 'CSM7KOL4', 'PSM7J1CI', 'PSM7J12F', 'MSMAPC6G', 'MSM79H87', 'CSM5FZ3R_P', 'MSM9VZLB', 'MSM9VZL7', 'MSM6J2PU', 'HSM6XRVK', 'HSM7J4MS', 'CSM7KOKJ', 'CSM7KOJE', 'CSM5MCWI_P', 'CSM5MCY2', 'PSM7J1CG', 'CSM5MCWK_P', 'HSM6XRS6', 'MSM79HEY', 'CSM5MCXL', 'MSM79HCP', 'HSM7CYZT', 'HSM7J4K6', 'CSM7KOP8', 'CSM67UAI_P', 'PSM7J15G', 'HSM7J4JD', 'MSM9VZIU', 'MSM79HBX_P', 'PSM7J12R', 'PSMA2668', 'MSM5LLGL', 'CSM79HPC', 'HSM6XRSX', 'CSM79HJI_P', 'HSM67VD6', 'HSM5MD4B_P', 'HSMA33IK', 'MSM5LLER', 'MSMAPC6C', 'MSM6J2HL', 'HSM7CYWS_P', 'PSM7J1CK_P', 'MSM79H6Y', 'MSM5LLFK_P', 'MSM6J2QD', 'CSM67UG8', 'HSMA33OD', 'HSMA33NQ', 'PSM7J18K', 'CSM5MCUW_P', 'HSM7J4PI', 'CSM67UAY', 'PSMA265H', 'CSM79HJA', 'HSM6XRS8', 'MSM79HBP', 'MSM9VZOQ', 'HSMA33NO', 'PSM6XBVM', 'CSM5MCW6', 'CSM7KOOJ', 'ESM9IEP1', 'MSM9VZP3', 'HSMA33JZ', 'CSM67UF1_P', 'MSM6J2RA', 'HSMA33IC', 'HSM7J4O1', 'HSM7J4ME', 'HSM7CYXS', 'PSM7J16Y', 'CSM67UB5_P', 'PSMA264S', 'PSM6XBRK_TR', 'HSM67VG6_P', 'CSM5MCW4_P', 'MSM9VZOG', 'MSM6J2J5', 'HSM5FZBZ', 'CSM7KOK3', 'CSM79HH2_P', 'MSM6J2M3_P', 'CSM7KOKD', 'CSM5MCXJ', 'CSM79HPA_TR', 'PSM7J19H', 'CSM9X1ZC', 'CSM79HLA', 'CSM7KOUN', 'CSM79HGL_P', 'MSM5LLIQ_P', 'MSMAPC7P', 'ESM5MEDK', 'HSM7CZ1E', 'HSM5MD4N', 'PSM7J15K', 'ESM5MEDU', 'HSM7CYYB', 'CSM67UAW', 'HSM5MEE5_P', 'CSM5MCXD', 'CSM7KOTK', 'HSM67VF9', 'PSM7J179', 'HSM7J4MC', 'PSM6XBS2_P', 'MSM6J2LH', 'MSMA26EJ', 'MSM79HEA', 'MSMAPC66', 'MSM9VZNL', 'CSM5FZ46_P', 'HSM7CYYP', 'CSM7KOON', 'CSM67UB3', 'CSM79HGF', 'PSM7J13Y', 'CSM79HJW', 'HSM6XRVO', 'PSM6XBUM', 'CSM7KOP6', 'MSM79HFB', 'HSM7J4M6', 'HSM7CZ22', 'CSM5MCZB', 'HSM7CZ3E', 'MSM9VZH7', 'HSM7J4JH', 'MSM5LLGJ_P', 'CSM79HIN', 'HSM7J4NS', 'HSMA33N4', 'HSMA33MK', 'CSM7KOTO', 'HSM67VHD', 'HSM7CYX6', 'MSM6J2PO', 'MSM6J2HN', 'HSM7J4Q3_P', 'CSM7KOTS', 'MSM9VZI2', 'HSM5MD6K', 'CSM7KOKP_P', 'HSM5MD43', 'MSMA26DI', 'HSMA33IG', 'HSM7J4PQ', 'HSMA33MI', 'HSM7CYY7', 'MSM79HBN', 'ESM7F5CD', 'HSM7J4NU', 'HSM67VHJ', 'MSMA26AZ_TR', 'HSM67VHK', 'MSM9VZOU', 'PSM7J141', 'PSM6XBSC_P', 'MSMA26AX', 'HSM7CYXG', 'HSMA33OR', 'PSM7J154', 'HSM67VEM', 'MSM6J2KA', 'ESM5MEBA_P', 'HSMA33PX', 'PSM7J18M', 'HSM5FZC2_P', 'MSM79HCR', 'CSM79HIT', 'PSM7J15S', 'MSM5FZ9X_P', 'MSM9VZMS', 'HSMA33NA', 'CSM7KOMR_P', 'MSM9VZHT', 'MSMAPC55', 'PSM6XBUK', 'MSMB4LZZ', 'MSM6J2RO', 'MSM79HCI', 'ESM5ME9U', 'MSM5LLFM_P', 'MSMA26EH', 'HSM7J4G8', 'PSM7J171', 'CSM67UDF', 'MSM6J2PQ_P', 'HSM67VHB', 'MSM5LLI6_P', 'HSM5MD4O', 'MSM5LLFU_P', 'MSM9VZEM', 'HSM6XRTS', 'CSM9X237', 'MSM6J2LB', 'HSM5MD6C', 'HSM7J4QH', 'CSM9X1ZQ', 'PSM6XBQY_TR', 'PSMA269S', 'PSM7J1A8', 'CSM79HMN', 'HSM7CYX2', 'MSM9VZHX', 'CSM9X211', 'HSM67VEW', 'HSM5MD6A', 'MSM79H63', 'CSM7KONW_P', 'PSM7J1BH', 'PSM7J13I', 'CSM7KOS7', 'HSM5MD7Q', 'HSM67VIL', 'PSM7J1C2_P', 'MSM6J2JF_P', 'ESM5MEBE', 'HSM67VDT_P', 'MSM79HDO', 'ESM5GEZ4_P', 'PSM6XBQM_P', 'ESM5GEYX_P', 'CSMAG78W', 'MSM6J2IK', 'HSMA33LP', 'HSM7J4Q1', 'PSM7J1B7', 'HSMA33OL', 'CSM79HM9_P', 'CSM79HNW', 'PSM7J18E', 'MSM5LLEP', 'ESM5MEDP_P', 'HSM5MD5F_P', 'HSM7J4HY', 'MSM6J2JH_P', 'MSM79HDI', 'HSM6XRRJ', 'MSM6J2K8', 'PSM7J12J', 'CSM79HLA_TR', 'MSM6J2LW', 'PSMA2651_P', 'HSM5MD5X_P', 'CSM7KOJO', 'MSM6J2HF', 'MSM6J2PM', 'CSM5FZ42_P', 'HSM6XRV4', 'HSM7J4JV_P', 'MSM9VZF3', 'MSM5LLGN_P', 'CSM79HOX', 'PSM7J13K', 'CSM79HOT', 'CSM7KOPG', 'CSM67U9H_P', 'CSMAAEUA', 'HSM7J4P2', 'PSM7J136', 'HSM7J4JJ', 'HSM7J4PO', 'HSMA33IA', 'MSM9VZMA_TR', 'PSM6XBV4', 'MSMB4LXY', 'PSM7J13Y_P', 'MSM6J2R2', 'PSMA266Y', 'CSM67UEM', 'CSM79HIF', 'CSM67UB9_P', 'MSM79H8J_P', 'HSM7J4OE', 'PSM7J1BD', 'PSM7J1BP', 'MSM5LLHX_P', 'HSM7CYYF', 'CSM79HIH', 'PSM7J19B', 'HSM67VID', 'MSM6J2HJ', 'CSM7KOLY', 'CSM79HGH_P', 'PSM6XBVO', 'PSMA26A3', 'HSM7J4K2', 'HSM7CZ1A', 'HSM7J4K4', 'MSM9VZIM', 'ESM7F5C7', 'HSM6XRVU', 'MSM6J2RS', 'HSM5MD6S_P', 'MSM6J2QB', 'HSM7CZ1C', 'CSM5MCVZ_P', 'CSM79HGJ_P', 'ESM718TK', 'PSM6XBT3', 'HSM7J4KA', 'HSM67VEQ', 'ESM7F5AE_P', 'MSMA26AT', 'HSM7CYZ7', 'PSM6XBSG_P', 'CSM79HR8', 'MSM79H5S', 'MSMAPC7R', 'HSM6XRR3', 'MSM9VZGU', 'MSM6J2JT', 'MSM79HF9', 'HSM67VHF', 'PSM7J14T', 'HSMA33JB', 'MSM5LLFO_P', 'CSM79HOF', 'HSM7J4Q9', 'ESM5MEDD', 'MSM9VZF7', 'PSM7J1AS', 'CSM79HKX', 'CSM67U9N', 'CSM5FZ4E_P', 'MSMAPC5L', 'HSM6XRR9', 'HSM5MD8J_P', 'MSM79HCK', 'MSM7J16R', 'CSM7KOPI', 'PSMA263U', 'CSM7KOQ5_P', 'MSM9VZIW', 'CSM67UBN', 'CSM67UE7', 'HSM7J4IP', 'MSM6J2MF', 'ESM718UH', 'PSM7J1BN_P', 'CSM79HIB', 'MSMA26BV', 'PSM6XBSU', 'HSM7J4MK', 'HSM7J4RE', 'CSM7KOOV', 'CSM5MCZF', 'ESM5MEC3', 'HSM7J4N8', 'MSMAPC7J', 'MSM79H81', 'PSM7J14N', 'CSM79HLG', 'HSM7CZ18', 'CSM5FZ4G_P', 'MSM9VZOI', 'ESM7F5CF', 'HSMA33M2', 'MSM6J2PK', 'HSM6XRUN', 'CSM79HMT', 'HSM7J4HQ', 'MSM9VZOK', 'CSM9X213', 'MSM9VZPL', 'MSM79HDK', 'CSM5MCXH', 'HSMA33KO', 'MSM79H5E', 'CSM9X22G', 'PSM7J1BJ', 'MSM6J2QP', 'ESM5ME9G_P', 'HSM7J4KK', 'PSM7J1BB', 'MSM6J2R8', 'PSMA264Q', 'MSM5LLHG_P', 'HSM67VEC', 'PSM7J17T', 'PSM7J17V', 'HSM5MD59_P', 'CSM79HGP', 'CSM67UAO', 'HSMA33R5', 'CSM9X222', 'HSM67VEI', 'MSMAPC6O', 'CSM7KOSH', 'MSM6J2IQ', 'CSM5MCXV', 'MSM79H9U_P', 'MSM79H9W', 'CSM67UEP_P', 'MSM9VZLZ', 'CSM79HOH', 'CSM7KOPK', 'MSM6J2QR', 'HSM6XRUZ', 'MSM9VZLL', 'CSM79HOJ', 'HSM7J4QD', 'HSM67VG2_P', 'ESM5GEYU_P', 'CSM7KOO9', 'MSM79H8L', 'CSM7KOOL', 'CSM9X21R', 'HSM6XRQS', 'MSM9VZMA', 'HSM6XRTO', 'HSM5MD8D_P', 'CSM79HKV', 'HSMA33SE', 'PSM7J129', 'MSM6J2J3', 'MSM9VZLD', 'HSM7CZ2J_P', 'MSM9VZES', 'PSM7J14R', 'HSMA33LH', 'PSM7J19Z', 'MSMB4LZV', 'HSM7J4LF', 'CSM67UDN', 'MSM9VZJJ_P', 'HSM5MD3Y', 'ESM7F5AM', 'MSM9VZJZ', 'MSM6J2IM', 'MSM9VZL9', 'PSMA2675', 'HSM6XRVA', 'MSM6J2RM', 'HSM67VD2', 'HSM7J4IC', 'HSMA33LZ', 'MSM79HDQ', 'PSM7J1BV', 'PSM7J13Q', 'CSM9X22S', 'MSM6J2OJ', 'ESM718V4', 'CSM5MCXZ_P', 'MSM6J2LN', 'MSM79HBB', 'CSM79HGZ', 'HSMA33MX', 'MSM6J2PS', 'HSM6XRV6', 'PSMA265F', 'PSMA264K', 'MSM5LLI4_P', 'CSM79HJY', 'MSM79H6L', 'CSM5MCYI_P', 'CSM5FZ3X_P', 'MSM79H6B', 'HSM5MD6Q', 'HSM7J4GD', 'CSM79HN2', 'HSM7CYX4', 'HSM7CZ16', 'HSMA33SG', 'MSM6J2OP', 'MSM9VZJB', 'CSM67UET_P', 'MSM79H8N', 'PSM7J17L', 'MSMAPC64', 'MSM79H5U', 'HSM7J4JT_P', 'HSM7CYXO', 'HSMA33OV', 'HSM7J4JF', 'CSMAIG7X', 'MSM79HAN', 'CSM7KORC', 'PSMA263M', 'CSMAE44D', 'PSM7J1BF', 'HSM67VGK', 'HSM7CYXA', 'HSM67VEK', 'CSM7KORO', 'PSM7J19R', 'CSM7KOU7_P', 'PSM7J127', 'MSM6J2HP', 'PSMA267F', 'CSM5MCVD_P', 'CSM67UDR_TR', 'HSM7J4MW', 'MSMB4LZC', 'HSM6XRT8', 'MSM9VZHB', 'HSM7J4ON', 'MSM9VZLT', 'HSM7CZ1G', 'HSM5MD53', 'HSM6XRSE', 'HSM7J4IR', 'PSM7J12D', 'CSM67UAQ', 'CSM67UDR', 'MSM5LLDA', 'HSM7CYXC', 'MSM7J16P', 'CSM7KONU', 'HSM6XRT4_P', 'PSM6XBVS', 'HSM7J4HO', 'HSM7J4KO', 'CSM5MCWQ', 'MSM6J2QJ', 'HSM67VHQ', 'PSM7J15U', 'HSM7CZ26', 'HSM7CYYV_P', 'CSM7KOUJ_P', 'CSM79HQT_P', 'HSM6XRQC_P', 'MSM79H6F', 'CSM79HIL', 'HSM5MD6W', 'CSM79HOV', 'HSMA33KM', 'ESM7F5AK', 'HSM6XRV8', 'MSM79HF7', 'CSM5FZ3V_P', 'PSM7J12V', 'CSM7KON2', 'HSM5MD47_P', 'PSM6XBSK', 'MSMA26ER', 'CSM79HPU', 'CSM67U9H', 'CSM67UBZ', 'PSM7J173', 'PSM6XBTT', 'MSM79HC4', 'PSM6XBT5', 'CSMACTZP', 'MSM6J2LV', 'HSM6XRSN', 'MSM79H83', 'MSM633FF_P', 'CSM5FZ4M', 'PSM7J1BR', 'PSM6XBUG', 'HSM6XRSZ_P', 'HSM7J4O5', 'HSM6XRQ8', 'CSM79HHW_P', 'MSM9VZKI', 'MSMB4LZ4', 'MSM79H6J', 'CSM7KORM', 'MSM9VZGY', 'HSMA33LJ', 'PSM7J1AW', 'MSM79HDQ_TR', 'CSM7KOK1', 'MSM5LLE3_P', 'MSMA26BF', 'HSM6XRQW', 'HSM7CZ36', 'ESM5GEZ3_P', 'HSM5FZBQ_P', 'MSM9VZLV', 'MSM79H54', 'HSM7J4OL', 'HSM67VD4', 'HSM5MD66', 'MSMAPC6A', 'CSM7KOKZ', 'MSM5FZA2_P', 'MSM9VZFN', 'CSM67U9R_P', 'HSM6XRQB_P', 'PSM7J163', 'HSM67VI7', 'MSM79H9M', 'HSM7CZ1V', 'PSM7J186', 'CSM79HQZ', 'PSMA266Q', 'CSM7KOKL_P', 'MSM9VZGS', 'HSM7J4O3', 'PSM6XBRM_P', 'CSM5MCXR', 'MSM5LLI2_P', 'CSM7KOPU', 'HSMA33JN', 'CSM7KOOF', 'MSM79HD6_P', 'HSM6XRR7', 'MSM9VZGO', 'MSM6J2SE', 'CSM7KOQZ_P', 'HSM7CZ2L_P', 'MSMA26EP', 'HSM7CYX8', 'PSM7J169', 'CSM79HIZ', 'HSM7J4LP', 'CSM7KOKF', 'MSMA26DK', 'CSM9X1ZO', 'MSM5LLGR_P', 'HSM5MD48', 'CSM79HPQ_P', 'HSM67VFD', 'MSM79HA1', 'MSMA26BR', 'MSM6J2SI', 'MSM6J2IG', 'HSMA33MZ', 'CSM7KOMT', 'CSM79HRC', 'HSM5MD4A_P', 'CSM67UDJ', 'CSM5FZ3Z_P', 'HSM67VFX', 'MSM9VZHL', 'HSM7J4NC', 'CSM7KOQX', 'PSMA266U', 'CSMAHYLR', 'HSMA33QO', 'MSM6J2K6', 'HSMA33OP', 'MSM9VZMC', 'MSM9VZM4_P', 'MSM79HA7', 'HSM7CYYD', 'HSM7J4MA', 'MSM6J2RC', 'PSM6XBVK', 'CSM79HG5', 'HSM7CYZ9', 'HSM7J4LN', 'MSM79H5Q', 'CSMA9J65', 'HSM67VEU', 'PSMA265T', 'HSMA33SI', 'HSM7J4KI', 'CSM79HQF', 'ESM718TM', 'PSM6XBTX', 'HSM5MD5P', 'MSM79HF9_TR', 'MSMB4LZR', 'CSM79HHM', 'MSM6J2OH', 'PSM7J1BX', 'ESM5MEBU', 'HSM7CZ3G', 'CSMAF72L', 'MSM9VZPN', 'CSM5MCZD', 'MSM5LLHI_P', 'CSM7KOMV_P', 'PSM6XBTH_P', 'CSM7KOTA', 'HSM7J4I5', 'PSMA267P', 'MSM9VZLF', 'HSM7J4QB', 'HSMA33MG', 'HSM5MD6U_P', 'HSM7J4L9', 'CSM79HGD_P', 'MSM5LLF2_P', 'HSM7J4PE', 'PSM7J17F', 'HSM7CYY9', 'HSM7J4HI', 'MSM9VZKC', 'HSMA33SK', 'MSM6J2KE', 'MSM6J2RQ', 'HSM67VFJ', 'CSM79HNU', 'MSM79HDC', 'PSM7J182', 'CSM5MCVJ_P', 'CSM7KOJG', 'CSM7KOU9', 'PSMA265J_TR', 'HSM6XRTM', 'MSM79H5Y', 'MSM5LLDS', 'PSM6XBV2', 'MSM5LLHV_P', 'HSM7J4IW', 'PSMA265B', 'MSM9VZMI', 'MSM79HDM', 'CSM5FZ44_P', 'HSM67VIB', 'PSM7J13U_P', 'HSMA33JP', 'HSM7J4OZ', 'CSM5MCU8_P', 'HSM6XRTG', 'HSM5MD73', 'HSMA33S4', 'CSM79HO1', 'CSM67U9V_P', 'HSM67VE4', 'MSMAPC5D', 'HSM6XRUV', 'MSM6J2Q9', 'MSMA26EZ', 'CSM67UB1', 'HSM67VF3', 'HSM5MD49_P', 'HSM7J4O9', 'MSMA26DM', 'PSM7J1AO', 'HSM5MD7O', 'CSM7KOSP', 'HSM7J4KC', 'PSM7J161', 'MSM5LLIK_P', 'HSM7J4HU', 'PSM7J12Z', 'MSM79H67', 'HSM6XRQK', 'CSM7KOPW', 'PSM7J177', 'HSMA33RT', 'HSM6XRVC_TR', 'HSM5MD5K_P', 'HSM7J4NE', 'HSM7J4PK', 'PSM7J1AU', 'CSM7KOSL', 'HSM7J4PW', 'PSM6XBRK', 'HSM5MD7Z_P', 'MSM6J2IO', 'MSM7J16N', 'MSM79H5M', 'CSM5YRY7_P', 'HSMA33NG_P', 'CSM67UBR', 'MSM6J2SK', 'PSM6XBT9', 'CSM5MCYO_P', 'CSM7KONA', 'PSM6XBTF_P', 'HSM67VGA', 'MSM6J2QH', 'CSM7KOK5', 'MSM6J2IY', 'MSM79H9Q', 'ESM5GEZ1_P', 'MSMA26AV', 'HSM7CYY3', 'CSM7KOOT', 'CSM5MCVF_P', 'HSM7J4PM', 'MSM79HDG_TR', 'MSMA26AR', 'PSM7J1DF', 'PSMB4MBI', 'CSM9X23H', 'PSM6XBT1', 'MSM79HF1_P', 'HSM7CZ2X_P', 'HSM7J4I7', 'MSMB4LZK', 'MSM6J2MJ', 'CSM67UEW_TR', 'HSM67VHH', 'PSM7J18Q', 'CSM79HHU', 'ESM5GEYW_P', 'ESM7F5CB', 'CSM67UAS', 'PSM7J16B', 'MSM9VZFT', 'MSM9VZNH', 'HSM7J4KG', 'PSM7J17B', 'MSM9VZLJ', 'MSM7J16L', 'MSM9VZO2', 'CSM5MCXB_P', 'CSM67UEW', 'CSM7KOUL', 'MSM5LLF8', 'HSM7J4LD', 'MSM79H7Q', 'CSM9X1ZY', 'HSMA33RF', 'MSM79HC8', 'HSM6XRSG', 'MSMA26CV', 'HSMA33NW', 'CSM79HHA', 'HSM5MD75', 'PSM6XBTL', 'HSM6XRVC', 'ESM5MEC9', 'MSM6J2LT', 'ESM5MEA7_P', 'HSM5MD44_P', 'ESM5MEBP_P', 'CSM79HQ9', 'HSMA33KU', 'CSM67UEW_P', 'HSM67VFX_P', 'PSM6XBTN_P', 'MSM6J2K4', 'CSM9X1Y5', 'CSM79HQR_P', 'MSM6J2MB', 'HSM6XRV2', 'HSMA33OJ', 'MSM9VZGW', 'HSM5MD6M', 'PSMA26A1', 'HSM7J4OB', 'MSMA26BL', 'MSM79H85', 'HSM5MD7S', 'CSM67UAK', 'HSM67VCX_P', 'HSM7J4GP', 'HSM7J4PS', 'PSM6XBW1_P', 'MSMAPC5Z', 'MSMAPC6E', 'PSMA265D', 'HSMA33RX_TR', 'CSM7KOKN', 'MSM79H52_P', 'MSM9VZF5', 'HSMA33MA', 'PSM6XBS4_P', 'HSM7CZ3C', 'ESM718T9', 'MSM9VZNZ', 'MSM79HBT', 'MSM79H6H', 'CSM9X215', 'PSM7J19T', 'CSM79HMP', 'MSMAPC59', 'MSM9VZHP', 'ESM5MEAB_P', 'PSMA266C', 'PSMA264U', 'PSM6XBW3', 'PSM6XBSE_P', 'ESM5MECQ', 'CSM79HJ6_P', 'MSM79HDG', 'CSM79HL4', 'MSM9VZOO', 'CSM67U9T_P', 'CSM9X22U', 'HSM7J4PU', 'CSM7KOR8_P', 'HSM6XRS2', 'MSM9VZHJ', 'HSM6XRT6_P', 'MSM5LLDE', 'MSM79H9K', 'MSM6J2QL', 'ESM5MED2', 'HSM67VGC', 'HSM5MD4P_P', 'MSM9VZIS', 'CSM79HPO', 'PSM7J1DL', 'HSM7J4HW', 'CSM67UFV', 'MSM79HAT', 'CSM7KOLA', 'MSMB4LZX', 'MSM9VZJF_P', 'MSM6J2RK', 'PSM6XBQS', 'HSM7CYZL', 'HSMA33LH_TR', 'CSM5MCYU_P', 'HSM7J4JZ', 'PSM7J184', 'MSM9VZEY', 'MSM79H6N', 'ESM5MEDF', 'CSM7KOLE', 'HSM67VIF', 'PSM6XBVQ', 'HSMA33M8', 'PSM7J13E', 'HSMA33RD', 'MSM79HD8_P', 'CSM7KOMZ', 'CSM67UBF', 'MSM6J2JD', 'MSM79HBV', 'CSM5MCYM_P', 'HSM7CYY5', 'MSM79HBZ', 'CSM7KORK', 'CSM7KOPM', 'CSM67UBX', 'MSM79HCN_P', 'MSMA26DG', 'CSM5MCY4', 'HSM7J4I3', 'CSM79HR2', 'HSM5MD8H_P', 'PSM6XBSM', 'HSM67VI9', 'PSMB4MC1', 'PSM7J1B3_P', 'MSM79H9A', 'HSM67VEE', 'HSM6XRQE_P', 'MSM5LLF4', 'CSM7KOLK', 'CSM79HM1', 'ESM718SY', 'HSM67VDX_P', 'HSM5MD4Y', 'MSM6J2N6_P', 'CSM7KOK7', 'PSM6XBUQ', 'MSM79HAJ', 'PSMA269O', 'CSM9X219', 'CSM67UCK', 'HSM67VDP', 'PSM7J19J', 'MSM6J2HH', 'CSM5MCWA_P', 'CSM7KOJS', 'HSM7J4PY', 'CSM79HP2', 'HSM6XRVM', 'MSM9VZMW', 'HSMA33NY', 'CSM7KOO5', 'HSMA33JD', 'HSM5MD6K_P', 'CSM79HRG', 'MSM9VZFR', 'HSM7CZ1Z', 'PSM7J15I', 'PSM6XBUO', 'HSM6XRQI', 'PSM7J1AM', 'HSM7CYYH', 'CSM9X1Y3', 'CSM79HP4', 'HSM5MD5Z_P', 'HSMA33P2_P', 'HSM7J4KQ', 'MSMA26ET', 'CSM79HNK', 'HSM7J4QT', 'CSM67UC6', 'CSM7KOSX', 'ESM5ME9H_P', 'CSM7KORI', 'HSM5MD41', 'PSM6XBSU_TR', 'HSM7J4MY', 'HSM7J4OX', 'PSM7J1CC', 'CSMA88CB', 'CSM67UGC', 'MSM6J2HB', 'PSM7J19P', 'CSM67UEA', 'CSM5FZ3N_P', 'PSM6XBSE', 'PSM7J19F', 'ESM718TF', 'CSM5MCUY_P', 'HSM67VGE_P', 'HSM5MD6I', 'MSMA2688', 'MSM9VZEQ', 'ESM5GEZ6_P', 'HSM6XRTC_P', 'CSM7KOR4_P', 'PSM7J15Q', 'HSMA33RR', 'HSM7CYZB', 'HSMA33MS', 'CSM79HLM', 'CSM7KOR2', 'CSM9X1XU', 'HSM7J4GR', 'CSM79HLE', 'CSM79HGR_P', 'CSM5MCUO', 'MSM6J2M3', 'CSM79HOL', 'HSM5MD4U_P', 'CSM7KOOX', 'HSM67VG8', 'CSM7KOP2', 'HSM7J4L5', 'CSM5FZ4K_P', 'CSM5MCUA_P', 'HSMA33KE', 'MSM9VZPT', 'MSMA26BN', 'CSM7KOOP', 'CSM5MCWC', 'HSMA33IO', 'HSM7J4NY', 'HSM7J4HG', 'HSMA33PN', 'HSM7CZ24', 'HSM7J4N4', 'CSM7KOKT', 'HSM6XRQO', 'CSM9X22K', 'MSM5LLIE_P', 'MSM9VZLH', 'MSM79HFW', 'MSM6J2KM', 'PSM6XBSS', 'PSM7J1C8', 'MSM6J2J1', 'CSM7KOOD', 'MSM9VZI6', 'CSM5FZ4A_P', 'HSM7CZ2E', 'MSM5LLIM_P', 'CSM79HIJ', 'MSM6J2Q5', 'HSM7CZ2H', 'MSM79H8F', 'CSM67U9P_P', 'HSMA33QY', 'HSM67VDR_P', 'MSM79HAL', 'PSMA267R', 'MSM9VZKE', 'HSM7J4OT', 'HSM7J4K8', 'MSM79HBR', 'CSM79HL6', 'PSM6XBT7', 'MSM6J2OL', 'HSMA33O3', 'PSM7J14P', 'HSM5MD7K', 'PSMA264O', 'PSMA269W', 'CSM79HID', 'HSM67VI5', 'MSM9VZEU', 'CSM7KOSJ', 'CSM79HN6', 'HSM7J4JP', 'MSM79HF3', 'MSM9VZMU', 'ESM5MEB9_P', 'HSM67VDZ', 'HSM6XRRB', 'CSM5MCXF_P', 'CSMA8M9R', 'HSM5FZBR_P', 'CSM5MCZ3', 'MSM9VZHZ', 'HSMA33LB', 'HSM67VEM_TR', 'HSM6XRUX', 'PSM7J143_P', 'ESM5ME9D_P', 'HSM5MD6O_P', 'MSM79HDA', 'MSM5LLD6_P', 'CSM79HGN_P', 'MSM79HAR', 'PSM7J193', 'PSMA266O', 'MSM6J2JP', 'MSM9VZFJ_P', 'PSM7J17X', 'HSM67VFR', 'HSM5MD6I_P', 'PSMA266M', 'ESM7F5C5', 'MSMA26BD', 'HSM6XRQB', 'MSM9VZHF', 'CSM7KOKH_P', 'HSM67VH1', 'HSM5MD4W_P', 'HSM5MD8F_P', 'ESM718T7', 'CSM9X23B', 'MSM79H6D', 'ESM5MEBI', 'MSM9VZOS', 'PSMB4MC3', 'PSM7J1B9', 'HSMA33L1', 'MSM5LLGF_P', 'HSM6XRTA_P', 'MSMA26BT', 'MSM79HBL', 'CSM79HGF_P', 'HSM7J4KM', 'HSM67VIJ_P', 'CSM67UH7', 'MSMAPC57', 'CSM79HR6', 'PSMA265N', 'CSM7KOTU', 'CSM7KONK', 'CSM79HJU', 'CSM67UA2', 'CSM79HP6', 'HSM7CYZD', 'HSMA33MC', 'PSM7J13M', 'ESM5MEDZ_P', 'PSM6XBS8', 'CSM79HKB', 'CSM79HNI', 'HSMA33NC', 'HSM7J4IS', 'MSM6J2LL', 'MSM79H7M', 'MSM6J2RG_P', 'HSMA33PL', 'MSM79H7E', 'MSM5LLDM', 'MSMAPC6K', 'CSM5MCY8', 'HSMA33J3', 'MSM7J16J', 'MSM79H5G', 'PSMB4MC5', 'HSMA33O1', 'MSMAPC5B', 'CSM79HKZ', 'MSM9VZHN', 'PSMA2653', 'CSM7KOKR', 'MSM79HEW', 'HSMA33P6', 'MSMB4LYB', 'CSM7KOTC', 'MSM5LLHQ_P', 'CSM79HQX', 'PSMA265J', 'HSM7J4JN', 'MSM9VZNX', 'CSM5MCVN', 'PSM7J14X', 'CSM79HPS', 'CSM79HKT', 'PSM6XBTD', 'HSM7J4IO', 'MSM5LLDI', 'HSM67VGA_P', 'HSMA33LX', 'HSM67VFH', 'PSM7J1CS_P', 'CSM9X23N', 'CSM5MCV1_P', 'ESM5GEZA_P', 'MSMB4LXS', 'CSM79HH4', 'HSM6XRVW', 'PSMB4MBS', 'CSM5MCXP', 'HSM7CZ2V_P', 'MSMA26AP', 'CSM79HPK', 'MSM9VZLX_P', 'CSM79HH8', 'MSM5LLH4_P', 'MSMA26BH', 'PSM7J1A2', 'MSMA26BX', 'HSM67VES', 'CSM7KOJQ', 'HSM7CYZ5', 'MSM79H9Y', 'PSM7J12B', 'HSM5MD7M', 'MSM9VZNH_TR', 'HSM5MD71', 'PSM7J17Z', 'HSM5MD79', 'HSM5MD5D_P', 'HSM7CYXE', 'MSM79HEU', 'HSMA33R9', 'MSM79H9G', 'MSM9VZFH', 'MSM9VZOM', 'CSM79HNY_P', 'ESM5MEA9_P', 'ESM5MEC7_P', 'CSM67UBB', 'CSM9X1Z4', 'CSM79HI7', 'HSMA33J9', 'PSM7J1CU', 'HSM7J4NM', 'HSM5MD43_P', 'HSM67VFZ', 'MSM6J2LJ', 'PSM6XBTP', 'CSM67UDY', 'HSM7J4N6', 'CSM7KOQP_P', 'CSM5FZ4C_P', 'HSM7J4M8', 'CSM79HQB', 'MSM9VZEW', 'PSM6XBS4', 'PSM6XBTR', 'CSM5MCVB_P', 'CSM7KOLM', 'MSM79H5A', 'HSMA33KQ', 'HSM6XRQU', 'HSM7J4QF', 'HSM7CYZJ', 'HSMA33PZ', 'HSM7J4I9', 'PSMA265L', 'PSMA264W', 'CSM7CZ2F_P', 'CSM7KOMX', 'MSM9VZLN', 'CSM79HI3', 'MSM6J2JB', 'PSM7J18G', 'PSMA267H', 'MSM9VZF1', 'HSM7J4OV', 'MSM6J2HD', 'HSM6XRTE_P', 'CSM7KOOH', 'HSM7CZ28', 'MSM9VZN4_P', 'CSM67UBH', 'CSM79HM7', 'MSMA26AL', 'MSM79H69', 'CSM5MCUE_P', 'CSM67UAA', 'CSM79HJO', 'HSM6XRSX_P', 'HSM7CYZF', 'CSM7KOOZ', 'HSM7CZ2A', 'HSM5MD7W_P', 'HSM67VHW', 'HSM7J4O7', 'ESM5MECL', 'MSM79H98', 'CSM5MCUC_P', 'HSM7J4IU', 'HSM67VI1', 'MSMA26CX', 'CSM5MCYQ_P', 'MSM6J2II', 'MSM6J2PW', 'MSM79HDE', 'HSM7J4HS', 'HSM6XRUR', 'MSM5LLE9_P', 'MSM9VZLR', 'MSM6J2IE', 'CSM79HHW', 'MSM6J2Q7', 'CSM79HNM', 'CSM7KORS', 'HSM7CZ1T_P', 'CSM7KORG', 'MSM9VZHR', 'CSM5MCUS_P', 'HSM7CZ32', 'MSM79HB6', 'CSM7KORU', 'HSM7CYXI', 'MSM5LLHC', 'CSM7KOPO', 'MSM79H5K', 'CSM67U9B', 'MSMA26EN', 'PSM6XBQU', 'HSM7J4PA', 'MSMA26BB', 'HSM7J4HC', 'MSM9VZIO', 'PSMA269G', 'MSM5LLH8_P', 'PSMA267J', 'HSMA33RX', 'CSM5MCX3', 'CSM67UFZ', 'HSM5MD8L_P', 'PSM7J1A6', 'MSMB4LYH', 'CSM79HJQ', 'HSM67VEG', 'HSMA33J7', 'MSM9VZLP', 'CSM79HIX', 'MSM9VZME', 'MSM5LLDC', 'HSMA33ME', 'HSM6XRQY', 'MSM5FZ9N_P', 'MSM6J2ON', 'HSM5MD7U', 'HSMA33J5', 'PSM7J19N', 'CSM7KOSV', 'CSM67UB7_P', 'CSM5MCZ7', 'MSM5LLIG_P', 'MSMA26BJ', 'MSMA26DO', 'HSM6XRT2_P', 'ESM718V8', 'MSM6J2MD', 'CSM67UE3', 'CSM5MCWM_P', 'HSM67VCZ', 'PSM7J1BL', 'MSM79H65', 'PSM6XBUI', 'MSM79H7W', 'HSM7CYYR_P', 'HSM6XRTQ', 'MSM9VZNR', 'HSM5MD82_P', 'HSM7CZ14', 'CSM79HPM_P', 'PSM6XBU2', 'MSM9VZEK_TR', 'CSM9X21N', 'CSM79HLI', 'CSM5MCYW', 'HSM5MD5B_P', 'HSM7J4HE', 'HSM6XRSI', 'HSM5FZBP_P', 'MSMA267X', 'CSM7KOL2', 'MSM9VZPH', 'CSM5MCXN', 'HSM7J4M4', 'CSM79HG7_P', 'PSM7J158', 'HSM5MD7J', 'HSMA33Q6', 'ESM5GEXY', 'PSM7J16W', 'HSMA33J1_P', 'CSM5LLGB_P', 'MSM5LLDQ', 'CSM7KOKB', 'MSM79HA3', 'MSM9VZIY', 'MSM79H58', 'MSM9VZEO', 'MSMA2684', 'PSM7J16U', 'CSM79HQV', 'ESM718U9_P', 'MSM5LLGD_P', 'CSM7KOPS', 'CSM5MCWG', 'HSM67VGY', 'PSMA267D', 'CSM7KONS_P', 'PSM7J17D', 'PSM7J18I', 'MSM79H7O', 'CSM67UGO', 'HSM67VHS', 'MSM6J2ML', 'CSM79HNG_P', 'MSM79H8H', 'PSM7J15A', 'PSM7J19X_P', 'CSM7KOOR', 'CSM79HLC', 'HSM7J4QL', 'HSMA33OX', 'CSM79HJ8_P', 'CSM79HM5_P', 'CSM7KOTQ', 'MSM6J2RU', 'HSMA33OZ', 'PSM7J1C4', 'PSM7J15O', 'CSM5MCWE', 'CSM7KOPE', 'HSM7J4Q7', 'MSM79H9C', 'MSM9VZOW', 'CSM9X233', 'PSMA2659', 'HSM7J4R2', 'CSM9X1YV', 'HSM67VGI_P', 'PSMB4MBK', 'MSM5LLI8_P', 'MSM6J2HT', 'MSM9VZEK', 'MSM6J2HR', 'MSM79H7G', 'MSM9VZP1', 'HSM7J4LH', 'CSM7KOMP', 'PSMB4MC7', 'MSMAPC7T', 'CSM5MCUK_P', 'PSM7J156', 'HSMA33JR', 'HSMA33KS', 'HSM6XRST', 'MSM79HF5', 'MSM5LLHO_P', 'HSM7J4IQ', 'HSMA33OT', 'PSM6XBSO', 'CSM79HOZ', 'HSM7CYZR', 'HSM7J4PC', 'PSM6XBSI', 'CSM7KON8', 'ESM5MEDN', 'MSM9VZOY', 'MSM5LLDU', 'CSM79HNE', 'CSM79HK9', 'CSM7KOST', 'CSM67U9D', 'CSM5MCXX_P', 'MSM5LLGH_P', 'PSMA263W', 'PSM7J15W', 'PSMA2671', 'HSM7CZ2Z', 'HSM7CYZV', 'HSM7J4J9', 'MSM79HAH', 'MSM5LLHE_P', 'MSM5LLHA_P', 'HSM5MD8N_P', 'CSM79HJ4_P', 'HSM6XRTG_P', 'CSM79HPA', 'CSM79HJC_P', 'CSM7KOMH', 'ESM5MEC5', 'CSM79HGX', 'CSMAH393', 'CSM7KOUB', 'HSM6XRS4', 'CSM7KOJW', 'MSMB4LXW', 'HSMA33R7', 'CSM67U9X_P', 'MSM79HFY', 'HSM7CZ38', 'MSM6J2MH', 'MSMA26AN', 'CSM9X21L', 'MSM79H94_P', 'MSM6J2LY', 'HSM67VDT', 'HSM5MD5B', 'HSM5MD6Y', 'MSM5LLF6', 'CSM79HLK', 'CSM67UF5', 'HSM7J4QZ', 'PSM7J16H', 'CSM67U9J', 'HSM6XRQM', 'ESM5MEBG', 'CSM67UCU_P', 'CSM79HJS', 'HSM7J4OP', 'HSM5MD6E_P', 'MSMA26AZ', 'MSMAPC5H', 'PSM7J15M', 'CSM79HR4', 'MSM79HCG', 'MSM6J2QF', 'PSM6XBTZ_P', 'PSM7J1A4', 'CSM5MCV5_P', 'CSM79HJ2_P', 'HSM6XRR5', 'CSM67UAM', 'MSM79H8B', 'HSM7J4QJ', 'HSMA33QM', 'PSM7J4EF', 'HSM7CYXQ', 'MSMA26EL', 'HSM67VGK_TR', 'CSM67UEI', 'CSM79HIR', 'CSM67UAG', 'HSM5MD6A_TR', 'CSM9X21T', 'MSM6J2Q3', 'HSM6XRRV', 'HSMA33R1', 'CSM5MCVL', 'ESM5MEE6_P', 'HSM67VGG', 'PSMA263S', 'HSM7J4G1', 'HSM7J4NA', 'HSM5MD5H_P', 'PSM6XBTB', 'CSM79HRE', 'PSM6XBVY_P', 'MSM5LLDK', 'MSM9VZJ3', 'PSM6XBR1', 'MSM6J2LR', 'MSM79H89', 'CSM5MCZ5', 'CSM7KOMB', 'PSM6XBQY', 'CSM9X235', 'HSM7J4PG', 'PSM6XBSA', 'MSM79HDS', 'ESM5MEBS', 'MSMB4LZP', 'CSM5MCXT', 'CSM5MCVV_P', 'MSMAPC6M', 'MSMB4LZ8', 'PSM7J14L'}\n"
     ]
    }
   ],
   "source": [
    "# gene families, filtered such that features are detected in at least 10% of samples\n",
    "# found 79 features with alpha 0.2 (0 to log2(10^-10), inf to 0, nan to 0)\n",
    "dat = ca.read_amplicon('/pita/users/hila/analysis/datasets/hmp2_mtx_genefamilies_filtered_10_perc_detection.tsv',\n",
    "                       mgx_metadata,\n",
    "                       min_reads = None,normalize = None, sparse = False)"
   ]
  },
  {
   "cell_type": "code",
   "execution_count": 4,
   "id": "35d472c9-4754-43ce-9343-1f4df6ad9807",
   "metadata": {},
   "outputs": [
    {
     "data": {
      "text/plain": [
       "AmpliconExperiment with 46 samples, 46114 features"
      ]
     },
     "execution_count": 4,
     "metadata": {},
     "output_type": "execute_result"
    }
   ],
   "source": [
    "dat"
   ]
  },
  {
   "cell_type": "code",
   "execution_count": 121,
   "id": "2e677d33-6fe4-4606-8dc2-a247664df7c1",
   "metadata": {},
   "outputs": [],
   "source": [
    "#dat.sample_metadata"
   ]
  },
  {
   "cell_type": "code",
   "execution_count": 5,
   "id": "dfb001cb-5c4a-434b-b94f-f30e9244ec68",
   "metadata": {},
   "outputs": [
    {
     "data": {
      "text/plain": [
       "AmpliconExperiment with 46 samples, 46114 features"
      ]
     },
     "execution_count": 5,
     "metadata": {},
     "output_type": "execute_result"
    }
   ],
   "source": [
    "bool = (dat.sample_metadata['final_pair_1_mgx'] > 8000000) & (dat.sample_metadata['final_pair_2_mgx'] > 8000000) & (dat.sample_metadata['final_mtx'] > 5000000)\n",
    "dat = dat.filter_ids(ids = bool.index[bool], axis = 's') \n",
    "dat"
   ]
  },
  {
   "cell_type": "code",
   "execution_count": 6,
   "id": "74023d56",
   "metadata": {},
   "outputs": [
    {
     "data": {
      "text/plain": [
       "(46, 46114)"
      ]
     },
     "execution_count": 6,
     "metadata": {},
     "output_type": "execute_result"
    }
   ],
   "source": [
    "dat.data.shape"
   ]
  },
  {
   "cell_type": "code",
   "execution_count": 154,
   "id": "fd945bf7",
   "metadata": {},
   "outputs": [
    {
     "data": {
      "text/plain": [
       "0"
      ]
     },
     "execution_count": 154,
     "metadata": {},
     "output_type": "execute_result"
    }
   ],
   "source": [
    "# checking that there is no real ratio that equals 1\n",
    "np.any(dat.data == 1, axis =0).sum()"
   ]
  },
  {
   "cell_type": "code",
   "execution_count": 7,
   "id": "0bffa50b",
   "metadata": {},
   "outputs": [
    {
     "data": {
      "text/plain": [
       "array([False, False, False, ..., False, False, False])"
      ]
     },
     "execution_count": 7,
     "metadata": {},
     "output_type": "execute_result"
    }
   ],
   "source": [
    "# removing columns (features) that are all zeros, nans or infs\n",
    "equals_zero = dat.data == 0\n",
    "is_nan = np.isnan(dat.data)\n",
    "is_inf = np.isinf(dat.data)\n",
    "problematic_bool = equals_zero | is_nan | is_inf\n",
    "bad_cols = np.all(problematic_bool, axis =0)\n",
    "bad_cols"
   ]
  },
  {
   "cell_type": "code",
   "execution_count": 8,
   "id": "bdb53122",
   "metadata": {},
   "outputs": [
    {
     "data": {
      "text/plain": [
       "0"
      ]
     },
     "execution_count": 8,
     "metadata": {},
     "output_type": "execute_result"
    }
   ],
   "source": [
    "bad_cols.sum()"
   ]
  },
  {
   "cell_type": "code",
   "execution_count": 8,
   "id": "8bbbd570",
   "metadata": {},
   "outputs": [],
   "source": [
    "bad_features = dat.feature_metadata[bad_cols].index\n",
    "x = dat.filter_ids(bad_features, axis = 'f', negate = True)"
   ]
  },
  {
   "cell_type": "code",
   "execution_count": 9,
   "id": "ce9f2f30",
   "metadata": {},
   "outputs": [
    {
     "data": {
      "text/plain": [
       "array([[       nan,        nan, 0.06641227, ...,        nan, 0.52205997,\n",
       "               nan],\n",
       "       [0.        , 0.        , 0.35800406, ..., 0.        , 0.        ,\n",
       "               nan],\n",
       "       [       nan,        nan, 0.10768139, ..., 1.50831747, 0.        ,\n",
       "               inf],\n",
       "       ...,\n",
       "       [       nan,        nan, 0.19006416, ...,        nan,        nan,\n",
       "               nan],\n",
       "       [       nan,        nan, 0.03754099, ...,        nan,        nan,\n",
       "               nan],\n",
       "       [       nan, 0.71112824, 0.0888405 , ..., 0.        ,        inf,\n",
       "               nan]])"
      ]
     },
     "execution_count": 9,
     "metadata": {},
     "output_type": "execute_result"
    }
   ],
   "source": [
    "x.data"
   ]
  },
  {
   "cell_type": "code",
   "execution_count": 10,
   "id": "76560cb3",
   "metadata": {},
   "outputs": [],
   "source": [
    "# if the matrix wasn't changed before:\n",
    "x.data[x.data == 0] = 10**(-10)\n",
    "x.data[np.isinf(x.data)] = 1\n",
    "x.data[np.isnan(x.data)] = 1"
   ]
  },
  {
   "cell_type": "code",
   "execution_count": 11,
   "id": "9f39c7a2-c6f9-4e2c-803a-c4c373aae464",
   "metadata": {},
   "outputs": [],
   "source": [
    "x.data = np.log2(x.data)"
   ]
  },
  {
   "cell_type": "code",
   "execution_count": 12,
   "id": "2f2b83e7",
   "metadata": {},
   "outputs": [
    {
     "data": {
      "text/plain": [
       "array([[  0.        ,   0.        ,  -3.91240635, ...,   0.        ,\n",
       "         -0.93771256,   0.        ],\n",
       "       [-33.21928095, -33.21928095,  -1.48195213, ..., -33.21928095,\n",
       "        -33.21928095,   0.        ],\n",
       "       [  0.        ,   0.        ,  -3.2151591 , ...,   0.59294011,\n",
       "        -33.21928095,   0.        ],\n",
       "       ...,\n",
       "       [  0.        ,   0.        ,  -2.39544157, ...,   0.        ,\n",
       "          0.        ,   0.        ],\n",
       "       [  0.        ,   0.        ,  -4.73538946, ...,   0.        ,\n",
       "          0.        ,   0.        ],\n",
       "       [  0.        ,  -0.49181835,  -3.49263863, ..., -33.21928095,\n",
       "          0.        ,   0.        ]])"
      ]
     },
     "execution_count": 12,
     "metadata": {},
     "output_type": "execute_result"
    }
   ],
   "source": [
    "x.data"
   ]
  },
  {
   "cell_type": "code",
   "execution_count": 45,
   "id": "0ef2e8f2",
   "metadata": {},
   "outputs": [],
   "source": [
    "# log2(10**-10) == -33.2\n",
    "#x.data[x.data <= -33.2] = -8"
   ]
  },
  {
   "cell_type": "code",
   "execution_count": 13,
   "id": "6bd7354b-a823-4099-9e8c-fba5f12af1b2",
   "metadata": {},
   "outputs": [],
   "source": [
    "x=x.sort_samples('week_num')\n",
    "x=x.sort_samples('Participant ID')\n",
    "x=x.sort_samples('diagnosis')"
   ]
  },
  {
   "cell_type": "code",
   "execution_count": 14,
   "id": "4396e9dc-981c-4e95-a3af-18b900a20deb",
   "metadata": {},
   "outputs": [],
   "source": [
    "x = x.sort_abundance()"
   ]
  },
  {
   "cell_type": "code",
   "execution_count": 15,
   "id": "57a247a1",
   "metadata": {},
   "outputs": [],
   "source": [
    "x.databases = {}"
   ]
  },
  {
   "cell_type": "code",
   "execution_count": 16,
   "id": "df11e3ad",
   "metadata": {},
   "outputs": [],
   "source": [
    "xx = x.cluster_data(transform=ca.transforming.standardize,axis=1)\n",
    "#xx.cluster_features(cutoff=-100)"
   ]
  },
  {
   "cell_type": "code",
   "execution_count": 17,
   "id": "6371d0ed-35ce-4b41-b358-e850e71bfce3",
   "metadata": {},
   "outputs": [],
   "source": [
    "cmp = np.vstack((plt.cm.Blues(np.linspace(1,0.25,128)),[0,0,0,0],plt.cm.Reds(np.linspace(0.25,1,128))))\n",
    "mymap = matplotlib.colors.LinearSegmentedColormap.from_list('my_cmp', cmp)"
   ]
  },
  {
   "cell_type": "code",
   "execution_count": 18,
   "id": "43000df9",
   "metadata": {},
   "outputs": [],
   "source": [
    "x_vis = xx.copy()\n",
    "x_vis.data[x_vis.data == 0] = np.nan\n",
    "x_vis.data[x_vis.data == np.log2(10**-10)] = 0"
   ]
  },
  {
   "cell_type": "code",
   "execution_count": 21,
   "id": "a814f290",
   "metadata": {},
   "outputs": [],
   "source": [
    "qqq={\"results\":[{\"id\":\"UniRef90_A6KYL2\",\"name\":\"Cluster: 30S ribosomal protein S21\",\"updated\":\"2023-05-03\",\"entryType\":\"UniRef90\",\"commonTaxon\":{\"scientificName\":\"root\",\"taxonId\":1},\"memberCount\":37,\"organismCount\":33,\"representativeMember\":{\"memberIdType\":\"UniProtKB ID\",\"memberId\":\"RS21_PHOV8\",\"organismName\":\"Phocaeicola vulgatus (strain ATCC 8482 / DSM 1447 / JCM 5826 / CCUG 4940 /NBRC 14291 / NCTC 11154) (Bacteroides vulgatus)\",\"organismTaxId\":435590,\"sequenceLength\":63,\"proteinName\":\"30S ribosomal protein S21\",\"accessions\":[\"A6KYL2\"],\"uniref50Id\":\"UniRef50_B2RL54\",\"uniref100Id\":\"UniRef100_A6KYL2\",\"uniparcId\":\"UPI000156E040\",\"seed\":True,\"sequence\":{\"value\":\"MIVVPVKEGENIEKALKKFKRKFEKTGVVKELRARQQFDKPSVLNRLKRERAIYVQKLQQVEE\",\"length\":63,\"molWeight\":7526,\"crc64\":\"EAF90BC70DB8E292\",\"md5\":\"D7FC69EBFDF8D6B4F4620F2BCFDE56D4\"}},\"seedId\":\"A6KYL2\",\"memberIdTypes\":[\"UniProtKB Unreviewed (TrEMBL)\",\"UniProtKB Reviewed (Swiss-Prot)\",\"UniParc\"],\"members\":[\"A6KYL2\",\"A0A0P0L1D7\",\"A0A076J0E4\",\"A0A831NA25\",\"A0A078QWS3\",\"A0A833B111\",\"I8W9K5\",\"A0A069SIR9\",\"I8WAB5\",\"B6W5A8\"],\"organisms\":[{\"scientificName\":\"Phocaeicola vulgatus\",\"commonName\":\"strain ATCC 8482 / DSM 1447 / JCM 5826 / CCUG 4940 /NBRC 14291 / NCTC 11154\",\"taxonId\":435590},{\"scientificName\":\"Phocaeicola vulgatus\",\"commonName\":\"Bacteroides vulgatus\",\"taxonId\":821},{\"scientificName\":\"Phocaeicola dorei\",\"taxonId\":357276},{\"scientificName\":\"Bacteroides sp\",\"taxonId\":29523},{\"scientificName\":\"Phocaeicola vulgatus str. 3775 SL\",\"commonName\":\"B\",\"taxonId\":1339350},{\"scientificName\":\"Bacteroides ovatus\",\"taxonId\":28116},{\"scientificName\":\"Phocaeicola dorei CL02T12C06\",\"taxonId\":997876},{\"scientificName\":\"Phocaeicola vulgatus str. 3975 RP4\",\"taxonId\":1339352},{\"scientificName\":\"Phocaeicola dorei CL03T12C01\",\"taxonId\":997877},{\"scientificName\":\"Phocaeicola dorei DSM 17855\",\"taxonId\":483217}],\"goTerms\":[{\"goId\":\"GO:0003735\",\"aspect\":\"GO Molecular Function\"},{\"goId\":\"GO:0005840\",\"aspect\":\"GO Cellular Component\"},{\"goId\":\"GO:0006412\",\"aspect\":\"GO Biological Process\"}]},{\"id\":\"UniRef100_A6KYL2\",\"name\":\"Cluster: 30S ribosomal protein S21\",\"updated\":\"2022-08-03\",\"entryType\":\"UniRef100\",\"commonTaxon\":{\"scientificName\":\"Bacteroidaceae\",\"taxonId\":815},\"memberCount\":15,\"organismCount\":15,\"representativeMember\":{\"memberIdType\":\"UniProtKB ID\",\"memberId\":\"RS21_PHOV8\",\"organismName\":\"Phocaeicola vulgatus (strain ATCC 8482 / DSM 1447 / JCM 5826 / CCUG 4940 /NBRC 14291 / NCTC 11154) (Bacteroides vulgatus)\",\"organismTaxId\":435590,\"sequenceLength\":63,\"proteinName\":\"30S ribosomal protein S21\",\"accessions\":[\"A6KYL2\"],\"uniref50Id\":\"UniRef50_B2RL54\",\"uniref90Id\":\"UniRef90_A6KYL2\",\"uniparcId\":\"UPI000156E040\",\"seed\":True,\"sequence\":{\"value\":\"MIVVPVKEGENIEKALKKFKRKFEKTGVVKELRARQQFDKPSVLNRLKRERAIYVQKLQQVEE\",\"length\":63,\"molWeight\":7526,\"crc64\":\"EAF90BC70DB8E292\",\"md5\":\"D7FC69EBFDF8D6B4F4620F2BCFDE56D4\"}},\"seedId\":\"A6KYL2\",\"memberIdTypes\":[\"UniProtKB Reviewed (Swiss-Prot)\",\"UniProtKB Unreviewed (TrEMBL)\"],\"members\":[\"A6KYL2\",\"A0A0P0L1D7\",\"A0A076J0E4\",\"A0A831NA25\",\"A0A078QWS3\",\"A0A833B111\",\"I8W9K5\",\"A0A069SIR9\",\"I8WAB5\",\"B6W5A8\"],\"organisms\":[{\"scientificName\":\"Phocaeicola vulgatus\",\"commonName\":\"strain ATCC 8482 / DSM 1447 / JCM 5826 / CCUG 4940 /NBRC 14291 / NCTC 11154\",\"taxonId\":435590},{\"scientificName\":\"Phocaeicola vulgatus\",\"commonName\":\"Bacteroides vulgatus\",\"taxonId\":821},{\"scientificName\":\"Phocaeicola dorei\",\"taxonId\":357276},{\"scientificName\":\"Bacteroides sp\",\"taxonId\":29523},{\"scientificName\":\"Phocaeicola vulgatus str. 3775 SL\",\"commonName\":\"B\",\"taxonId\":1339350},{\"scientificName\":\"Bacteroides ovatus\",\"taxonId\":28116},{\"scientificName\":\"Phocaeicola dorei CL02T12C06\",\"taxonId\":997876},{\"scientificName\":\"Phocaeicola vulgatus str. 3975 RP4\",\"taxonId\":1339352},{\"scientificName\":\"Phocaeicola dorei CL03T12C01\",\"taxonId\":997877},{\"scientificName\":\"Phocaeicola dorei DSM 17855\",\"taxonId\":483217}]},{\"id\":\"UniRef50_B2RL54\",\"name\":\"Cluster: 30S ribosomal protein S21\",\"updated\":\"2023-05-03\",\"entryType\":\"UniRef50\",\"commonTaxon\":{\"scientificName\":\"root\",\"taxonId\":1},\"memberCount\":1519,\"organismCount\":1128,\"representativeMember\":{\"memberIdType\":\"UniProtKB ID\",\"memberId\":\"RS21_PORG3\",\"organismName\":\"Porphyromonas gingivalis (strain ATCC 33277 / DSM 20709 / CIP 103683 / JCM12257 / NCTC 11834 / 2561)\",\"organismTaxId\":431947,\"sequenceLength\":63,\"proteinName\":\"30S ribosomal protein S21\",\"accessions\":[\"B2RL54\"],\"uniref90Id\":\"UniRef90_B2RL54\",\"uniref100Id\":\"UniRef100_B2RL54\",\"uniparcId\":\"UPI000174FB9D\",\"sequence\":{\"value\":\"MIVVPVKEGENIERALKRFKRKFEKTGAVRELRARQAFEKPSVAKRKKMQKAIYMKQLQVAEE\",\"length\":63,\"molWeight\":7447,\"crc64\":\"F9AB9DA0D7A474F8\",\"md5\":\"C2CDD8350B62C77CF8F3F997B2684E92\"}},\"seedId\":\"A0A1M6SN12\",\"memberIdTypes\":[\"UniProtKB Reviewed (Swiss-Prot)\",\"UniProtKB Unreviewed (TrEMBL)\",\"UniParc\"],\"members\":[\"B2RL54\",\"Q7MX34\",\"A6LE91\",\"A6GYV0\",\"A6KYL2\",\"A0A2U1FIZ1\",\"A0A099WS93\",\"A0A134DRU8\",\"A0A212FTW7\",\"A0A829KN96\"],\"organisms\":[{\"scientificName\":\"Porphyromonas gingivalis\",\"commonName\":\"strain ATCC 33277 / DSM 20709 / CIP 103683 / JCM12257 / NCTC 11834 / 2561\",\"taxonId\":431947},{\"scientificName\":\"Porphyromonas gingivalis\",\"commonName\":\"strain ATCC BAA-308 / W83\",\"taxonId\":242619},{\"scientificName\":\"Parabacteroides distasonis\",\"commonName\":\"strain ATCC 8503 / DSM 20701 / CIP 104284 / JCM5825 / NCTC 11152\",\"taxonId\":435591},{\"scientificName\":\"Flavobacterium psychrophilum\",\"commonName\":\"strain ATCC 49511 / DSM 21280 / CIP 103535 /JIP02/86\",\"taxonId\":402612},{\"scientificName\":\"Phocaeicola vulgatus\",\"commonName\":\"strain ATCC 8482 / DSM 1447 / JCM 5826 / CCUG 4940 /NBRC 14291 / NCTC 11154\",\"taxonId\":435590},{\"scientificName\":\"Porphyromonas loveana\",\"taxonId\":1884669},{\"scientificName\":\"Porphyromonas gulae\",\"taxonId\":111105},{\"scientificName\":\"Porphyromonas gingivalis\",\"taxonId\":837},{\"scientificName\":\"Porphyromonas gingivalis SJD5\",\"taxonId\":1297565},{\"scientificName\":\"Porphyromonas gingivalis F0569\",\"taxonId\":1227270}],\"goTerms\":[{\"goId\":\"GO:0003735\",\"aspect\":\"GO Molecular Function\"},{\"goId\":\"GO:0005840\",\"aspect\":\"GO Cellular Component\"},{\"goId\":\"GO:0006412\",\"aspect\":\"GO Biological Process\"}]}],\"suggestions\":[{\"query\":\"ahcyl2\",\"hits\":17},{\"query\":\"alkal2\",\"hits\":4},{\"query\":\"alkyl\",\"hits\":140002},{\"query\":\"ankl2\",\"hits\":368},{\"query\":\"anky2\",\"hits\":52}]}"
   ]
  },
  {
   "cell_type": "code",
   "execution_count": 33,
   "id": "e203e09c",
   "metadata": {},
   "outputs": [
    {
     "data": {
      "text/plain": [
       "dict_keys(['id', 'name', 'updated', 'entryType', 'commonTaxon', 'memberCount', 'organismCount', 'representativeMember', 'seedId', 'memberIdTypes', 'members', 'organisms', 'goTerms'])"
      ]
     },
     "execution_count": 33,
     "metadata": {},
     "output_type": "execute_result"
    }
   ],
   "source": [
    "qqq['results'][0].keys()"
   ]
  },
  {
   "cell_type": "code",
   "execution_count": 39,
   "id": "02e3984f",
   "metadata": {},
   "outputs": [
    {
     "data": {
      "text/plain": [
       "[{'goId': 'GO:0003735', 'aspect': 'GO Molecular Function'},\n",
       " {'goId': 'GO:0005840', 'aspect': 'GO Cellular Component'},\n",
       " {'goId': 'GO:0006412', 'aspect': 'GO Biological Process'}]"
      ]
     },
     "execution_count": 39,
     "metadata": {},
     "output_type": "execute_result"
    }
   ],
   "source": [
    "qqq['results'][0]['goTerms']"
   ]
  },
  {
   "cell_type": "code",
   "execution_count": 43,
   "id": "aa7236bf-55b9-4084-94e5-23ea99eec99c",
   "metadata": {},
   "outputs": [
    {
     "data": {
      "text/plain": [
       "<calour.heatmap.plotgui_qt5.PlotGUI_QT5 at 0x7fabd88daef0>"
      ]
     },
     "execution_count": 43,
     "metadata": {},
     "output_type": "execute_result"
    }
   ],
   "source": [
    "x_vis.plot(gui='qt5', sample_field = 'diagnosis', barx_fields=['Participant ID'],barx_label=False,\n",
    "       cmap = mymap, norm = None,clim=[-6,6], \n",
    "       yticklabel_kwargs = {\"size\": 7}, yticklabel_len = 40, feature_field = '_feature_id', databases = ['uniref']) # feature_field = 'Name',\n"
   ]
  },
  {
   "cell_type": "code",
   "execution_count": 17,
   "id": "259c9e54",
   "metadata": {},
   "outputs": [],
   "source": [
    "x_new = xx.sort_abundance({'_sample_id': ['MSM5LLHR_P']}, key = np.mean)\n",
    "# MSM5LLHR_P\n",
    "# CSM79HJM"
   ]
  },
  {
   "cell_type": "code",
   "execution_count": 19,
   "id": "1eaea6d6",
   "metadata": {},
   "outputs": [
    {
     "data": {
      "text/plain": [
       "<calour.heatmap.plotgui_qt5.PlotGUI_QT5 at 0x7fa1ffb01c50>"
      ]
     },
     "execution_count": 19,
     "metadata": {},
     "output_type": "execute_result"
    }
   ],
   "source": [
    "x_new.plot(gui='qt5', sample_field = 'diagnosis', barx_fields=['Participant ID'],barx_label=False,\n",
    "       cmap = mymap, norm = None,clim=[-6,6], \n",
    "       yticklabel_kwargs = {\"size\": 7}, yticklabel_len = 40, feature_field = '_feature_id') # feature_field = 'Name',\n"
   ]
  },
  {
   "cell_type": "code",
   "execution_count": 187,
   "id": "912df995-c271-4178-a1f1-95369d94e74f",
   "metadata": {},
   "outputs": [
    {
     "name": "stdout",
     "output_type": "stream",
     "text": [
      "2023-06-15 14:53:33 WARNING Do you forget to normalize your data? It is required before running this function\n",
      "2023-06-15 14:53:33 WARNING no significant features found\n"
     ]
    }
   ],
   "source": [
    "x_diff = x.diff_abundance('diagnosis', ['UC', 'CD'], ['nonIBD'], alpha = 0.2)"
   ]
  },
  {
   "cell_type": "code",
   "execution_count": 13,
   "id": "6b98bf8b-55cb-4d78-8f92-376d40f7327d",
   "metadata": {},
   "outputs": [
    {
     "data": {
      "text/plain": [
       "AmpliconExperiment with 46 samples, 53 features"
      ]
     },
     "execution_count": 13,
     "metadata": {},
     "output_type": "execute_result"
    }
   ],
   "source": [
    "x_diff"
   ]
  },
  {
   "cell_type": "code",
   "execution_count": 17,
   "id": "3da4b877-2d8e-4dc3-8489-a7122f19df3b",
   "metadata": {},
   "outputs": [
    {
     "data": {
      "text/plain": [
       "<calour.heatmap.plotgui_qt5.PlotGUI_QT5 at 0x7f0ff1249978>"
      ]
     },
     "execution_count": 17,
     "metadata": {},
     "output_type": "execute_result"
    }
   ],
   "source": [
    "x_diff.plot(gui='qt5',sample_field='diagnosis',barx_fields=['Participant ID'],barx_label=False,\n",
    "            feature_field = '_feature_id',  yticklabel_kwargs = {\"size\": 7, \"rotation\" : 0},\n",
    "            bary_fields = ['_calour_direction'], databases = [], cmap = mymap, clim=[-6,6], norm = None)"
   ]
  },
  {
   "cell_type": "code",
   "execution_count": 42,
   "id": "091b8fbd",
   "metadata": {},
   "outputs": [],
   "source": [
    "x_vis.save('/pita/users/hila/analysis/bioms/hmp2_ratio_genefamilies')"
   ]
  },
  {
   "cell_type": "markdown",
   "id": "2615aa87-52ba-4c3b-b1d5-51ee3679b6a8",
   "metadata": {},
   "source": [
    "## Mtx + Mgx"
   ]
  },
  {
   "cell_type": "code",
   "execution_count": 171,
   "id": "73ebda43-4833-413b-a0f6-f160d9505bf8",
   "metadata": {},
   "outputs": [],
   "source": [
    "def get_name(names):\n",
    "    nname = []\n",
    "    for cname in names:\n",
    "        nname.append('_'.join(cname.split('_')[:-1]))\n",
    "    return nname"
   ]
  },
  {
   "cell_type": "code",
   "execution_count": 320,
   "id": "a11d2a40-3507-424d-b0a8-6c0ad5557098",
   "metadata": {},
   "outputs": [],
   "source": [
    "# mtx ecs \n",
    "# diff found with 0.2 5M (filtered with prev. 0.2 0.000...). \n",
    "ca.set_log_level('ERROR')\n",
    "\n",
    "dat = ca.read_amplicon(os.path.join(base_folder, mtx_folder, 'humann/merged/ecs_relab_unstratified.tsv'),\n",
    "                       mgx_metadata,\n",
    "                       min_reads = None,normalize = None, sparse = False,\n",
    "                      feature_metadata_file = './ecs_to_name.txt',\n",
    "                      sample_id_proc = get_name)"
   ]
  },
  {
   "cell_type": "code",
   "execution_count": 26,
   "id": "2f48ddd4-0b39-4c25-9570-de5f0e3580de",
   "metadata": {},
   "outputs": [],
   "source": [
    "# mtx - paths \n",
    "# found with 0.45 5M (filtered with prev. 0.2 0.00000..)\n",
    "# found with 0.3 1M (only 1, no prev)\n",
    "# found with 0.2 1M (with prev)\n",
    "# didn't find anything with filtering '_cat' [a,b] or [e,c] (unless 0.5 diff)\n",
    "dat = ca.read_amplicon(os.path.join(base_folder, mtx_folder, 'humann/merged/pathabundance_relab_unstratified.tsv'),\n",
    "                       mgx_metadata,\n",
    "                       feature_metadata_file = '../bioms/hmp2_mtx_ratio_feat_metadata_feature.txt',\n",
    "                       min_reads = None,normalize = None, sparse = False,\n",
    "                      sample_id_proc = get_name)\n",
    "ca.set_log_level('INFO')"
   ]
  },
  {
   "cell_type": "code",
   "execution_count": 400,
   "id": "954d4f57-7df7-43d0-99a6-228ed5d0f5a6",
   "metadata": {},
   "outputs": [],
   "source": [
    "# mtx - ecs counts normalized:\n",
    "# diff only found with 0.4 5M (not filtered with prevalence)\n",
    "ca.set_log_level('ERROR')\n",
    "\n",
    "dat = ca.read_amplicon('/pita/users/hila/analysis/datasets/hmp2_mtx_ecs_count_species_normalized.tsv',\n",
    "                       mgx_metadata,\n",
    "                       min_reads = None,normalize = None, sparse = False,\n",
    "                      feature_metadata_file = './ecs_to_name.txt')"
   ]
  },
  {
   "cell_type": "code",
   "execution_count": 5,
   "id": "1e0b77ca-587a-46eb-ab22-483fe453c81f",
   "metadata": {},
   "outputs": [],
   "source": [
    "# mtx - paths counts normalized\n",
    "ca.set_log_level('ERROR')\n",
    "dat = ca.read_amplicon('/pita/users/hila/analysis/datasets/hmp2_mtx_pathabundance_count_species_normalized.tsv',\n",
    "                       mgx_metadata,\n",
    "                       min_reads = None,normalize = None, sparse = False)"
   ]
  },
  {
   "cell_type": "code",
   "execution_count": 63,
   "id": "db239eb4-f6a5-4d3e-ae47-6c1e020e43ae",
   "metadata": {},
   "outputs": [],
   "source": [
    "# MGX!!!!!! pay attention to this.\n",
    "# didn't find anything with filtering '_cat' [a,b] or [e,c] (unless 0.35 diff)\n",
    "dat = ca.read_amplicon(os.path.join(base_folder, mgx_folder, 'humann/merged/pathabundance_relab_unstratified.tsv'),\n",
    "                       mgx_metadata,\n",
    "                       feature_metadata_file = '../bioms/hmp2_mtx_ratio_feat_metadata_feature.txt',\n",
    "                       min_reads = None,normalize = None, sparse = False,\n",
    "                      sample_id_proc = get_name)\n",
    "ca.set_log_level('INFO')"
   ]
  },
  {
   "cell_type": "code",
   "execution_count": 645,
   "id": "4279c8e4-d7ee-4b4f-8dae-5c7b51cd2f73",
   "metadata": {},
   "outputs": [],
   "source": [
    "# MGX - ecs\n",
    "# didn't find anything. includes preve(0.2...)\n",
    "\n",
    "ca.set_log_level('ERROR')\n",
    "\n",
    "dat = ca.read_amplicon(os.path.join(base_folder, mgx_folder, 'humann/merged/ecs_relab_unstratified.tsv'),\n",
    "                       mgx_metadata,\n",
    "                       min_reads = None,normalize = None, sparse = False,\n",
    "                      feature_metadata_file = './ecs_to_name.txt',\n",
    "                      sample_id_proc = get_name)\n",
    "ca.set_log_level('INFO')"
   ]
  },
  {
   "cell_type": "code",
   "execution_count": 64,
   "id": "1f73301d-14b8-4614-a0c7-7f3ff8e58f90",
   "metadata": {},
   "outputs": [
    {
     "data": {
      "text/plain": [
       "AmpliconExperiment with 75 samples, 398 features"
      ]
     },
     "execution_count": 64,
     "metadata": {},
     "output_type": "execute_result"
    }
   ],
   "source": [
    "dat"
   ]
  },
  {
   "cell_type": "code",
   "execution_count": 65,
   "id": "a0a0603b-2f22-4a41-b0fa-1000ea668e43",
   "metadata": {},
   "outputs": [
    {
     "data": {
      "text/plain": [
       "AmpliconExperiment with 46 samples, 398 features"
      ]
     },
     "execution_count": 65,
     "metadata": {},
     "output_type": "execute_result"
    }
   ],
   "source": [
    "bool = (dat.sample_metadata['final_pair_1_mgx'] > 8000000) & (dat.sample_metadata['final_pair_2_mgx'] > 8000000) & (dat.sample_metadata['final_mtx'] > 5000000)\n",
    "#bool = (dat.sample_metadata['final_mtx'] > 5000000)\n",
    "#bool = (dat.sample_metadata['final_pair_1_mgx'] > 8000000) & (dat.sample_metadata['final_pair_2_mgx'] > 8000000)\n",
    "dat = dat.filter_ids(ids = bool.index[bool], axis = 's') \n",
    "dat"
   ]
  },
  {
   "cell_type": "code",
   "execution_count": 66,
   "id": "c8970ae3-e7c5-4c83-ad98-b4fd5b9dbb1a",
   "metadata": {},
   "outputs": [],
   "source": [
    "dat=dat.sort_samples('week_num')\n",
    "dat=dat.sort_samples('Participant ID')\n",
    "dat=dat.sort_samples('diagnosis')\n",
    "dat = dat.sort_by_metadata('_cat', axis = 'f')"
   ]
  },
  {
   "cell_type": "code",
   "execution_count": 67,
   "id": "b70a67d5-2504-4597-a307-6bd0b2974459",
   "metadata": {},
   "outputs": [
    {
     "name": "stdout",
     "output_type": "stream",
     "text": [
      "2022-09-18 18:34:17 WARNING Do you forget to normalize your data? It is required before running this function\n",
      "2022-09-18 18:34:17 INFO After filtering, 276 remain.\n"
     ]
    }
   ],
   "source": [
    "y = dat.filter_prevalence(0.2,0.000001)"
   ]
  },
  {
   "cell_type": "code",
   "execution_count": 68,
   "id": "2df53cbe-763d-49f8-8699-d42c6e88c1e3",
   "metadata": {},
   "outputs": [
    {
     "name": "stderr",
     "output_type": "stream",
     "text": [
      "/pita/users/hila/miniconda3/envs/calour/lib/python3.6/site-packages/calour/heatmap/heatmap.py:308: MatplotlibDeprecationWarning: You are modifying the state of a globally registered colormap. In future versions, you will not be able to modify a registered colormap in-place. To remove this warning, you can make a copy of the colormap first. cmap = copy.copy(mpl.cm.get_cmap(\"viridis\"))\n",
      "  cmap.set_bad(bad_color)\n"
     ]
    },
    {
     "data": {
      "text/plain": [
       "<calour.heatmap.plotgui_qt5.PlotGUI_QT5 at 0x7f1619fcb860>"
      ]
     },
     "execution_count": 68,
     "metadata": {},
     "output_type": "execute_result"
    }
   ],
   "source": [
    "y.plot(gui='qt5', sample_field = 'diagnosis', barx_fields=['Participant ID'],barx_label=False,\n",
    "        norm = None, \n",
    "       yticklabel_kwargs = {\"size\": 7}, yticklabel_len = 40, feature_field = '_feature_id', bary_fields = ['_cat']) #"
   ]
  },
  {
   "cell_type": "code",
   "execution_count": 31,
   "id": "1737597d-9a75-4d20-882e-741943e09c39",
   "metadata": {},
   "outputs": [
    {
     "data": {
      "text/plain": [
       "AmpliconExperiment with 46 samples, 164 features"
      ]
     },
     "execution_count": 31,
     "metadata": {},
     "output_type": "execute_result"
    }
   ],
   "source": [
    "y"
   ]
  },
  {
   "cell_type": "code",
   "execution_count": 651,
   "id": "38b1c607-4e6e-4b23-8598-6a61390c4ba0",
   "metadata": {},
   "outputs": [
    {
     "name": "stdout",
     "output_type": "stream",
     "text": [
      "2022-09-13 16:50:59 INFO 52 samples with both values\n",
      "2022-09-13 16:50:59 WARNING Do you forget to normalize your data? It is required before running this function\n",
      "2022-09-13 16:50:59 INFO After filtering, 2083 remain.\n",
      "2022-09-13 16:50:59 INFO 33 samples with value 1 (['UC', 'CD'])\n",
      "2022-09-13 16:50:59 INFO number of higher in UC,CD: 1. number of higher in nonIBD : 4. total 5\n"
     ]
    }
   ],
   "source": [
    "y_diff = dat.diff_abundance('diagnosis', ['UC', 'CD'], ['nonIBD'], alpha = 0.5, transform = 'binarydata')"
   ]
  },
  {
   "cell_type": "code",
   "execution_count": 643,
   "id": "ee2d3efc-7d47-422e-842a-7bdf941e287b",
   "metadata": {},
   "outputs": [
    {
     "data": {
      "text/plain": [
       "AmpliconExperiment with 52 samples, 0 features"
      ]
     },
     "execution_count": 643,
     "metadata": {},
     "output_type": "execute_result"
    }
   ],
   "source": [
    "y_diff"
   ]
  },
  {
   "cell_type": "code",
   "execution_count": 32,
   "id": "0f091aef-c062-4414-9c20-46e42106cc41",
   "metadata": {},
   "outputs": [
    {
     "data": {
      "text/html": [
       "<div>\n",
       "<style scoped>\n",
       "    .dataframe tbody tr th:only-of-type {\n",
       "        vertical-align: middle;\n",
       "    }\n",
       "\n",
       "    .dataframe tbody tr th {\n",
       "        vertical-align: top;\n",
       "    }\n",
       "\n",
       "    .dataframe thead th {\n",
       "        text-align: right;\n",
       "    }\n",
       "</style>\n",
       "<table border=\"1\" class=\"dataframe\">\n",
       "  <thead>\n",
       "    <tr style=\"text-align: right;\">\n",
       "      <th></th>\n",
       "      <th>_feature_id</th>\n",
       "      <th>_core_var</th>\n",
       "      <th>_ratio_core_cat</th>\n",
       "      <th>_mean_ratio_cat</th>\n",
       "      <th>_RNA_prev</th>\n",
       "      <th>_DNA_prev</th>\n",
       "      <th>_cat</th>\n",
       "    </tr>\n",
       "    <tr>\n",
       "      <th>Unnamed: 0</th>\n",
       "      <th></th>\n",
       "      <th></th>\n",
       "      <th></th>\n",
       "      <th></th>\n",
       "      <th></th>\n",
       "      <th></th>\n",
       "      <th></th>\n",
       "    </tr>\n",
       "  </thead>\n",
       "  <tbody>\n",
       "    <tr>\n",
       "      <th>1CMET2-PWY: folate transformations III (E. coli)</th>\n",
       "      <td>1CMET2-PWY: folate transformations III (E. coli)</td>\n",
       "      <td>core</td>\n",
       "      <td>other</td>\n",
       "      <td>r:d&gt;1</td>\n",
       "      <td>else</td>\n",
       "      <td>DNA exists</td>\n",
       "      <td>a</td>\n",
       "    </tr>\n",
       "    <tr>\n",
       "      <th>ANAEROFRUCAT-PWY: homolactic fermentation</th>\n",
       "      <td>ANAEROFRUCAT-PWY: homolactic fermentation</td>\n",
       "      <td>core</td>\n",
       "      <td>other</td>\n",
       "      <td>r:d&gt;1</td>\n",
       "      <td>else</td>\n",
       "      <td>DNA exists</td>\n",
       "      <td>a</td>\n",
       "    </tr>\n",
       "    <tr>\n",
       "      <th>ANAGLYCOLYSIS-PWY: glycolysis III (from glucose)</th>\n",
       "      <td>ANAGLYCOLYSIS-PWY: glycolysis III (from glucose)</td>\n",
       "      <td>core</td>\n",
       "      <td>r:d=&gt;1</td>\n",
       "      <td>r:d&gt;1</td>\n",
       "      <td>else</td>\n",
       "      <td>DNA exists</td>\n",
       "      <td>a</td>\n",
       "    </tr>\n",
       "    <tr>\n",
       "      <th>ARGININE-SYN4-PWY: L-ornithine biosynthesis II</th>\n",
       "      <td>ARGININE-SYN4-PWY: L-ornithine biosynthesis II</td>\n",
       "      <td>core</td>\n",
       "      <td>d:r&lt;1</td>\n",
       "      <td>r:d&lt;1</td>\n",
       "      <td>else</td>\n",
       "      <td>DNA exists</td>\n",
       "      <td>b</td>\n",
       "    </tr>\n",
       "    <tr>\n",
       "      <th>ARGSYN-PWY: L-arginine biosynthesis I (via L-ornithine)</th>\n",
       "      <td>ARGSYN-PWY: L-arginine biosynthesis I (via L-o...</td>\n",
       "      <td>variable</td>\n",
       "      <td>NaN</td>\n",
       "      <td>r:d&lt;1</td>\n",
       "      <td>else</td>\n",
       "      <td>DNA exists</td>\n",
       "      <td>e</td>\n",
       "    </tr>\n",
       "    <tr>\n",
       "      <th>...</th>\n",
       "      <td>...</td>\n",
       "      <td>...</td>\n",
       "      <td>...</td>\n",
       "      <td>...</td>\n",
       "      <td>...</td>\n",
       "      <td>...</td>\n",
       "      <td>...</td>\n",
       "    </tr>\n",
       "    <tr>\n",
       "      <th>THISYNARA-PWY: superpathway of thiamine diphosphate biosynthesis III (eukaryotes)</th>\n",
       "      <td>THISYNARA-PWY: superpathway of thiamine diphos...</td>\n",
       "      <td>variable</td>\n",
       "      <td>NaN</td>\n",
       "      <td>r:d&lt;1</td>\n",
       "      <td>else</td>\n",
       "      <td>DNA exists</td>\n",
       "      <td>e</td>\n",
       "    </tr>\n",
       "    <tr>\n",
       "      <th>THRESYN-PWY: superpathway of L-threonine biosynthesis</th>\n",
       "      <td>THRESYN-PWY: superpathway of L-threonine biosy...</td>\n",
       "      <td>core</td>\n",
       "      <td>d:r&lt;1</td>\n",
       "      <td>r:d&lt;1</td>\n",
       "      <td>else</td>\n",
       "      <td>DNA exists</td>\n",
       "      <td>b</td>\n",
       "    </tr>\n",
       "    <tr>\n",
       "      <th>TRNA-CHARGING-PWY: tRNA charging</th>\n",
       "      <td>TRNA-CHARGING-PWY: tRNA charging</td>\n",
       "      <td>core</td>\n",
       "      <td>other</td>\n",
       "      <td>r:d&gt;1</td>\n",
       "      <td>else</td>\n",
       "      <td>DNA exists</td>\n",
       "      <td>a</td>\n",
       "    </tr>\n",
       "    <tr>\n",
       "      <th>UDPNAGSYN-PWY: UDP-N-acetyl-D-glucosamine biosynthesis I</th>\n",
       "      <td>UDPNAGSYN-PWY: UDP-N-acetyl-D-glucosamine bios...</td>\n",
       "      <td>variable</td>\n",
       "      <td>NaN</td>\n",
       "      <td>r:d&lt;1</td>\n",
       "      <td>RNA=0, DNA&gt;0</td>\n",
       "      <td>DNA exists</td>\n",
       "      <td>c</td>\n",
       "    </tr>\n",
       "    <tr>\n",
       "      <th>VALSYN-PWY: L-valine biosynthesis</th>\n",
       "      <td>VALSYN-PWY: L-valine biosynthesis</td>\n",
       "      <td>core</td>\n",
       "      <td>other</td>\n",
       "      <td>r:d&gt;1</td>\n",
       "      <td>else</td>\n",
       "      <td>DNA exists</td>\n",
       "      <td>a</td>\n",
       "    </tr>\n",
       "  </tbody>\n",
       "</table>\n",
       "<p>164 rows × 7 columns</p>\n",
       "</div>"
      ],
      "text/plain": [
       "                                                                                          _feature_id  \\\n",
       "Unnamed: 0                                                                                              \n",
       "1CMET2-PWY: folate transformations III (E. coli)     1CMET2-PWY: folate transformations III (E. coli)   \n",
       "ANAEROFRUCAT-PWY: homolactic fermentation                   ANAEROFRUCAT-PWY: homolactic fermentation   \n",
       "ANAGLYCOLYSIS-PWY: glycolysis III (from glucose)     ANAGLYCOLYSIS-PWY: glycolysis III (from glucose)   \n",
       "ARGININE-SYN4-PWY: L-ornithine biosynthesis II         ARGININE-SYN4-PWY: L-ornithine biosynthesis II   \n",
       "ARGSYN-PWY: L-arginine biosynthesis I (via L-or...  ARGSYN-PWY: L-arginine biosynthesis I (via L-o...   \n",
       "...                                                                                               ...   \n",
       "THISYNARA-PWY: superpathway of thiamine diphosp...  THISYNARA-PWY: superpathway of thiamine diphos...   \n",
       "THRESYN-PWY: superpathway of L-threonine biosyn...  THRESYN-PWY: superpathway of L-threonine biosy...   \n",
       "TRNA-CHARGING-PWY: tRNA charging                                     TRNA-CHARGING-PWY: tRNA charging   \n",
       "UDPNAGSYN-PWY: UDP-N-acetyl-D-glucosamine biosy...  UDPNAGSYN-PWY: UDP-N-acetyl-D-glucosamine bios...   \n",
       "VALSYN-PWY: L-valine biosynthesis                                   VALSYN-PWY: L-valine biosynthesis   \n",
       "\n",
       "                                                   _core_var _ratio_core_cat  \\\n",
       "Unnamed: 0                                                                     \n",
       "1CMET2-PWY: folate transformations III (E. coli)        core           other   \n",
       "ANAEROFRUCAT-PWY: homolactic fermentation               core           other   \n",
       "ANAGLYCOLYSIS-PWY: glycolysis III (from glucose)        core          r:d=>1   \n",
       "ARGININE-SYN4-PWY: L-ornithine biosynthesis II          core           d:r<1   \n",
       "ARGSYN-PWY: L-arginine biosynthesis I (via L-or...  variable             NaN   \n",
       "...                                                      ...             ...   \n",
       "THISYNARA-PWY: superpathway of thiamine diphosp...  variable             NaN   \n",
       "THRESYN-PWY: superpathway of L-threonine biosyn...      core           d:r<1   \n",
       "TRNA-CHARGING-PWY: tRNA charging                        core           other   \n",
       "UDPNAGSYN-PWY: UDP-N-acetyl-D-glucosamine biosy...  variable             NaN   \n",
       "VALSYN-PWY: L-valine biosynthesis                       core           other   \n",
       "\n",
       "                                                   _mean_ratio_cat  \\\n",
       "Unnamed: 0                                                           \n",
       "1CMET2-PWY: folate transformations III (E. coli)             r:d>1   \n",
       "ANAEROFRUCAT-PWY: homolactic fermentation                    r:d>1   \n",
       "ANAGLYCOLYSIS-PWY: glycolysis III (from glucose)             r:d>1   \n",
       "ARGININE-SYN4-PWY: L-ornithine biosynthesis II               r:d<1   \n",
       "ARGSYN-PWY: L-arginine biosynthesis I (via L-or...           r:d<1   \n",
       "...                                                            ...   \n",
       "THISYNARA-PWY: superpathway of thiamine diphosp...           r:d<1   \n",
       "THRESYN-PWY: superpathway of L-threonine biosyn...           r:d<1   \n",
       "TRNA-CHARGING-PWY: tRNA charging                             r:d>1   \n",
       "UDPNAGSYN-PWY: UDP-N-acetyl-D-glucosamine biosy...           r:d<1   \n",
       "VALSYN-PWY: L-valine biosynthesis                            r:d>1   \n",
       "\n",
       "                                                       _RNA_prev   _DNA_prev  \\\n",
       "Unnamed: 0                                                                     \n",
       "1CMET2-PWY: folate transformations III (E. coli)            else  DNA exists   \n",
       "ANAEROFRUCAT-PWY: homolactic fermentation                   else  DNA exists   \n",
       "ANAGLYCOLYSIS-PWY: glycolysis III (from glucose)            else  DNA exists   \n",
       "ARGININE-SYN4-PWY: L-ornithine biosynthesis II              else  DNA exists   \n",
       "ARGSYN-PWY: L-arginine biosynthesis I (via L-or...          else  DNA exists   \n",
       "...                                                          ...         ...   \n",
       "THISYNARA-PWY: superpathway of thiamine diphosp...          else  DNA exists   \n",
       "THRESYN-PWY: superpathway of L-threonine biosyn...          else  DNA exists   \n",
       "TRNA-CHARGING-PWY: tRNA charging                            else  DNA exists   \n",
       "UDPNAGSYN-PWY: UDP-N-acetyl-D-glucosamine biosy...  RNA=0, DNA>0  DNA exists   \n",
       "VALSYN-PWY: L-valine biosynthesis                           else  DNA exists   \n",
       "\n",
       "                                                   _cat  \n",
       "Unnamed: 0                                               \n",
       "1CMET2-PWY: folate transformations III (E. coli)      a  \n",
       "ANAEROFRUCAT-PWY: homolactic fermentation             a  \n",
       "ANAGLYCOLYSIS-PWY: glycolysis III (from glucose)      a  \n",
       "ARGININE-SYN4-PWY: L-ornithine biosynthesis II        b  \n",
       "ARGSYN-PWY: L-arginine biosynthesis I (via L-or...    e  \n",
       "...                                                 ...  \n",
       "THISYNARA-PWY: superpathway of thiamine diphosp...    e  \n",
       "THRESYN-PWY: superpathway of L-threonine biosyn...    b  \n",
       "TRNA-CHARGING-PWY: tRNA charging                      a  \n",
       "UDPNAGSYN-PWY: UDP-N-acetyl-D-glucosamine biosy...    c  \n",
       "VALSYN-PWY: L-valine biosynthesis                     a  \n",
       "\n",
       "[164 rows x 7 columns]"
      ]
     },
     "execution_count": 32,
     "metadata": {},
     "output_type": "execute_result"
    }
   ],
   "source": [
    "y.feature_metadata"
   ]
  },
  {
   "cell_type": "code",
   "execution_count": 81,
   "id": "4a69a11b-f83b-4a86-9f6b-31a1fc84cdc6",
   "metadata": {},
   "outputs": [],
   "source": [
    "y_filt = y.filter_by_metadata('_cat', ['e', 'c'], 'f')"
   ]
  },
  {
   "cell_type": "code",
   "execution_count": 82,
   "id": "5505a06d-a6c7-4a97-af47-4546ef72937d",
   "metadata": {},
   "outputs": [
    {
     "data": {
      "text/plain": [
       "AmpliconExperiment with 46 samples, 137 features"
      ]
     },
     "execution_count": 82,
     "metadata": {},
     "output_type": "execute_result"
    }
   ],
   "source": [
    "y_filt"
   ]
  },
  {
   "cell_type": "code",
   "execution_count": 83,
   "id": "16ea5857-8e05-4103-917d-bf01f13e2111",
   "metadata": {},
   "outputs": [
    {
     "name": "stderr",
     "output_type": "stream",
     "text": [
      "/pita/users/hila/miniconda3/envs/calour/lib/python3.6/site-packages/calour/heatmap/heatmap.py:308: MatplotlibDeprecationWarning: You are modifying the state of a globally registered colormap. In future versions, you will not be able to modify a registered colormap in-place. To remove this warning, you can make a copy of the colormap first. cmap = copy.copy(mpl.cm.get_cmap(\"viridis\"))\n",
      "  cmap.set_bad(bad_color)\n"
     ]
    },
    {
     "data": {
      "text/plain": [
       "<calour.heatmap.plotgui_qt5.PlotGUI_QT5 at 0x7f161a0700b8>"
      ]
     },
     "execution_count": 83,
     "metadata": {},
     "output_type": "execute_result"
    }
   ],
   "source": [
    "y_filt.plot(gui='qt5', sample_field = 'diagnosis', barx_fields=['Participant ID'],barx_label=False,\n",
    "        norm = None, \n",
    "       yticklabel_kwargs = {\"size\": 7}, yticklabel_len = 40, feature_field = '_feature_id')"
   ]
  },
  {
   "cell_type": "code",
   "execution_count": 86,
   "id": "6799b942-9052-47e3-8200-60ea7ab8e0c9",
   "metadata": {},
   "outputs": [
    {
     "name": "stdout",
     "output_type": "stream",
     "text": [
      "2022-09-18 18:52:33 INFO 46 samples with both values\n",
      "2022-09-18 18:52:33 WARNING Do you forget to normalize your data? It is required before running this function\n",
      "2022-09-18 18:52:33 INFO After filtering, 395 remain.\n",
      "2022-09-18 18:52:33 INFO 30 samples with value 1 (['UC', 'CD'])\n",
      "2022-09-18 18:52:33 INFO number of higher in UC,CD: 1. number of higher in nonIBD : 1. total 2\n"
     ]
    }
   ],
   "source": [
    "y_diff = dat.diff_abundance('diagnosis', ['UC', 'CD'], ['nonIBD'], alpha = 0.35)"
   ]
  },
  {
   "cell_type": "code",
   "execution_count": 87,
   "id": "d2ed11bc-cf5f-4537-adbd-fd33bd966fb3",
   "metadata": {},
   "outputs": [
    {
     "data": {
      "text/plain": [
       "AmpliconExperiment with 46 samples, 2 features"
      ]
     },
     "execution_count": 87,
     "metadata": {},
     "output_type": "execute_result"
    }
   ],
   "source": [
    "y_diff"
   ]
  },
  {
   "cell_type": "code",
   "execution_count": 88,
   "id": "f7e82411-4945-453f-a0be-47b52fb06e4b",
   "metadata": {},
   "outputs": [
    {
     "name": "stderr",
     "output_type": "stream",
     "text": [
      "/pita/users/hila/miniconda3/envs/calour/lib/python3.6/site-packages/calour/heatmap/heatmap.py:308: MatplotlibDeprecationWarning: You are modifying the state of a globally registered colormap. In future versions, you will not be able to modify a registered colormap in-place. To remove this warning, you can make a copy of the colormap first. cmap = copy.copy(mpl.cm.get_cmap(\"viridis\"))\n",
      "  cmap.set_bad(bad_color)\n"
     ]
    },
    {
     "data": {
      "text/plain": [
       "<calour.heatmap.plotgui_qt5.PlotGUI_QT5 at 0x7f161a070c50>"
      ]
     },
     "execution_count": 88,
     "metadata": {},
     "output_type": "execute_result"
    }
   ],
   "source": [
    "y_diff.plot(gui='qt5',sample_field='diagnosis',barx_fields=['Participant ID'],barx_label=False,\n",
    "       bary_fields = ['_calour_direction'])"
   ]
  },
  {
   "cell_type": "code",
   "execution_count": 624,
   "id": "101688c2-1323-4961-9fa1-faac72950cb4",
   "metadata": {},
   "outputs": [
    {
     "data": {
      "text/html": [
       "<div>\n",
       "<style scoped>\n",
       "    .dataframe tbody tr th:only-of-type {\n",
       "        vertical-align: middle;\n",
       "    }\n",
       "\n",
       "    .dataframe tbody tr th {\n",
       "        vertical-align: top;\n",
       "    }\n",
       "\n",
       "    .dataframe thead th {\n",
       "        text-align: right;\n",
       "    }\n",
       "</style>\n",
       "<table border=\"1\" class=\"dataframe\">\n",
       "  <thead>\n",
       "    <tr style=\"text-align: right;\">\n",
       "      <th></th>\n",
       "      <th>_feature_id</th>\n",
       "      <th>_calour_stat</th>\n",
       "      <th>_calour_pval</th>\n",
       "      <th>_calour_qval</th>\n",
       "      <th>_calour_direction</th>\n",
       "    </tr>\n",
       "  </thead>\n",
       "  <tbody>\n",
       "    <tr>\n",
       "      <th>PHOSLIPSYN-PWY: superpathway of phospholipid biosynthesis I (bacteria)</th>\n",
       "      <td>PHOSLIPSYN-PWY: superpathway of phospholipid b...</td>\n",
       "      <td>-13.559809</td>\n",
       "      <td>0.000999</td>\n",
       "      <td>0.108225</td>\n",
       "      <td>nonIBD</td>\n",
       "    </tr>\n",
       "    <tr>\n",
       "      <th>PWY4FS-7: phosphatidylglycerol biosynthesis I (plastidic)</th>\n",
       "      <td>PWY4FS-7: phosphatidylglycerol biosynthesis I ...</td>\n",
       "      <td>-12.730463</td>\n",
       "      <td>0.000999</td>\n",
       "      <td>0.108225</td>\n",
       "      <td>nonIBD</td>\n",
       "    </tr>\n",
       "    <tr>\n",
       "      <th>PWY4FS-8: phosphatidylglycerol biosynthesis II (non-plastidic)</th>\n",
       "      <td>PWY4FS-8: phosphatidylglycerol biosynthesis II...</td>\n",
       "      <td>-12.730463</td>\n",
       "      <td>0.000999</td>\n",
       "      <td>0.108225</td>\n",
       "      <td>nonIBD</td>\n",
       "    </tr>\n",
       "    <tr>\n",
       "      <th>PWY-7383: anaerobic energy metabolism (invertebrates, cytosol)</th>\n",
       "      <td>PWY-7383: anaerobic energy metabolism (inverte...</td>\n",
       "      <td>-11.279107</td>\n",
       "      <td>0.005994</td>\n",
       "      <td>0.283288</td>\n",
       "      <td>nonIBD</td>\n",
       "    </tr>\n",
       "    <tr>\n",
       "      <th>PWY66-399: gluconeogenesis III</th>\n",
       "      <td>PWY66-399: gluconeogenesis III</td>\n",
       "      <td>-11.279107</td>\n",
       "      <td>0.005994</td>\n",
       "      <td>0.283288</td>\n",
       "      <td>nonIBD</td>\n",
       "    </tr>\n",
       "    <tr>\n",
       "      <th>PWY-7220: adenosine deoxyribonucleotides de novo biosynthesis II</th>\n",
       "      <td>PWY-7220: adenosine deoxyribonucleotides de no...</td>\n",
       "      <td>11.071770</td>\n",
       "      <td>0.008991</td>\n",
       "      <td>0.271093</td>\n",
       "      <td>UC,CD</td>\n",
       "    </tr>\n",
       "    <tr>\n",
       "      <th>PWY-7222: guanosine deoxyribonucleotides de novo biosynthesis II</th>\n",
       "      <td>PWY-7222: guanosine deoxyribonucleotides de no...</td>\n",
       "      <td>11.071770</td>\n",
       "      <td>0.008991</td>\n",
       "      <td>0.271093</td>\n",
       "      <td>UC,CD</td>\n",
       "    </tr>\n",
       "    <tr>\n",
       "      <th>PWY-7229: superpathway of adenosine nucleotides de novo biosynthesis I</th>\n",
       "      <td>PWY-7229: superpathway of adenosine nucleotide...</td>\n",
       "      <td>11.154705</td>\n",
       "      <td>0.006993</td>\n",
       "      <td>0.289461</td>\n",
       "      <td>UC,CD</td>\n",
       "    </tr>\n",
       "    <tr>\n",
       "      <th>PWY-6126: superpathway of adenosine nucleotides de novo biosynthesis II</th>\n",
       "      <td>PWY-6126: superpathway of adenosine nucleotide...</td>\n",
       "      <td>11.403509</td>\n",
       "      <td>0.007992</td>\n",
       "      <td>0.295038</td>\n",
       "      <td>UC,CD</td>\n",
       "    </tr>\n",
       "    <tr>\n",
       "      <th>PWY-6125: superpathway of guanosine nucleotides de novo biosynthesis II</th>\n",
       "      <td>PWY-6125: superpathway of guanosine nucleotide...</td>\n",
       "      <td>11.735247</td>\n",
       "      <td>0.004995</td>\n",
       "      <td>0.331668</td>\n",
       "      <td>UC,CD</td>\n",
       "    </tr>\n",
       "    <tr>\n",
       "      <th>PWY-7228: superpathway of guanosine nucleotides de novo biosynthesis I</th>\n",
       "      <td>PWY-7228: superpathway of guanosine nucleotide...</td>\n",
       "      <td>11.735247</td>\n",
       "      <td>0.004995</td>\n",
       "      <td>0.331668</td>\n",
       "      <td>UC,CD</td>\n",
       "    </tr>\n",
       "  </tbody>\n",
       "</table>\n",
       "</div>"
      ],
      "text/plain": [
       "                                                                                          _feature_id  \\\n",
       "PHOSLIPSYN-PWY: superpathway of phospholipid bi...  PHOSLIPSYN-PWY: superpathway of phospholipid b...   \n",
       "PWY4FS-7: phosphatidylglycerol biosynthesis I (...  PWY4FS-7: phosphatidylglycerol biosynthesis I ...   \n",
       "PWY4FS-8: phosphatidylglycerol biosynthesis II ...  PWY4FS-8: phosphatidylglycerol biosynthesis II...   \n",
       "PWY-7383: anaerobic energy metabolism (inverteb...  PWY-7383: anaerobic energy metabolism (inverte...   \n",
       "PWY66-399: gluconeogenesis III                                         PWY66-399: gluconeogenesis III   \n",
       "PWY-7220: adenosine deoxyribonucleotides de nov...  PWY-7220: adenosine deoxyribonucleotides de no...   \n",
       "PWY-7222: guanosine deoxyribonucleotides de nov...  PWY-7222: guanosine deoxyribonucleotides de no...   \n",
       "PWY-7229: superpathway of adenosine nucleotides...  PWY-7229: superpathway of adenosine nucleotide...   \n",
       "PWY-6126: superpathway of adenosine nucleotides...  PWY-6126: superpathway of adenosine nucleotide...   \n",
       "PWY-6125: superpathway of guanosine nucleotides...  PWY-6125: superpathway of guanosine nucleotide...   \n",
       "PWY-7228: superpathway of guanosine nucleotides...  PWY-7228: superpathway of guanosine nucleotide...   \n",
       "\n",
       "                                                    _calour_stat  \\\n",
       "PHOSLIPSYN-PWY: superpathway of phospholipid bi...    -13.559809   \n",
       "PWY4FS-7: phosphatidylglycerol biosynthesis I (...    -12.730463   \n",
       "PWY4FS-8: phosphatidylglycerol biosynthesis II ...    -12.730463   \n",
       "PWY-7383: anaerobic energy metabolism (inverteb...    -11.279107   \n",
       "PWY66-399: gluconeogenesis III                        -11.279107   \n",
       "PWY-7220: adenosine deoxyribonucleotides de nov...     11.071770   \n",
       "PWY-7222: guanosine deoxyribonucleotides de nov...     11.071770   \n",
       "PWY-7229: superpathway of adenosine nucleotides...     11.154705   \n",
       "PWY-6126: superpathway of adenosine nucleotides...     11.403509   \n",
       "PWY-6125: superpathway of guanosine nucleotides...     11.735247   \n",
       "PWY-7228: superpathway of guanosine nucleotides...     11.735247   \n",
       "\n",
       "                                                    _calour_pval  \\\n",
       "PHOSLIPSYN-PWY: superpathway of phospholipid bi...      0.000999   \n",
       "PWY4FS-7: phosphatidylglycerol biosynthesis I (...      0.000999   \n",
       "PWY4FS-8: phosphatidylglycerol biosynthesis II ...      0.000999   \n",
       "PWY-7383: anaerobic energy metabolism (inverteb...      0.005994   \n",
       "PWY66-399: gluconeogenesis III                          0.005994   \n",
       "PWY-7220: adenosine deoxyribonucleotides de nov...      0.008991   \n",
       "PWY-7222: guanosine deoxyribonucleotides de nov...      0.008991   \n",
       "PWY-7229: superpathway of adenosine nucleotides...      0.006993   \n",
       "PWY-6126: superpathway of adenosine nucleotides...      0.007992   \n",
       "PWY-6125: superpathway of guanosine nucleotides...      0.004995   \n",
       "PWY-7228: superpathway of guanosine nucleotides...      0.004995   \n",
       "\n",
       "                                                    _calour_qval  \\\n",
       "PHOSLIPSYN-PWY: superpathway of phospholipid bi...      0.108225   \n",
       "PWY4FS-7: phosphatidylglycerol biosynthesis I (...      0.108225   \n",
       "PWY4FS-8: phosphatidylglycerol biosynthesis II ...      0.108225   \n",
       "PWY-7383: anaerobic energy metabolism (inverteb...      0.283288   \n",
       "PWY66-399: gluconeogenesis III                          0.283288   \n",
       "PWY-7220: adenosine deoxyribonucleotides de nov...      0.271093   \n",
       "PWY-7222: guanosine deoxyribonucleotides de nov...      0.271093   \n",
       "PWY-7229: superpathway of adenosine nucleotides...      0.289461   \n",
       "PWY-6126: superpathway of adenosine nucleotides...      0.295038   \n",
       "PWY-6125: superpathway of guanosine nucleotides...      0.331668   \n",
       "PWY-7228: superpathway of guanosine nucleotides...      0.331668   \n",
       "\n",
       "                                                   _calour_direction  \n",
       "PHOSLIPSYN-PWY: superpathway of phospholipid bi...            nonIBD  \n",
       "PWY4FS-7: phosphatidylglycerol biosynthesis I (...            nonIBD  \n",
       "PWY4FS-8: phosphatidylglycerol biosynthesis II ...            nonIBD  \n",
       "PWY-7383: anaerobic energy metabolism (inverteb...            nonIBD  \n",
       "PWY66-399: gluconeogenesis III                                nonIBD  \n",
       "PWY-7220: adenosine deoxyribonucleotides de nov...             UC,CD  \n",
       "PWY-7222: guanosine deoxyribonucleotides de nov...             UC,CD  \n",
       "PWY-7229: superpathway of adenosine nucleotides...             UC,CD  \n",
       "PWY-6126: superpathway of adenosine nucleotides...             UC,CD  \n",
       "PWY-6125: superpathway of guanosine nucleotides...             UC,CD  \n",
       "PWY-7228: superpathway of guanosine nucleotides...             UC,CD  "
      ]
     },
     "execution_count": 624,
     "metadata": {},
     "output_type": "execute_result"
    }
   ],
   "source": [
    "y_diff.feature_metadata"
   ]
  },
  {
   "cell_type": "code",
   "execution_count": 617,
   "id": "13c5c251-0c2b-48cf-b9bb-23dcfb25e2b4",
   "metadata": {},
   "outputs": [],
   "source": [
    "high_ctl_dna = 'PHOSLIPSYN-PWY: superpathway of phospholipid biosynthesis I (bacteria)'"
   ]
  },
  {
   "cell_type": "code",
   "execution_count": 625,
   "id": "f6c16339-cd97-46f5-b136-1f517f638f1a",
   "metadata": {},
   "outputs": [],
   "source": [
    "z = y.filter_ids(y_diff.feature_metadata.index)"
   ]
  },
  {
   "cell_type": "code",
   "execution_count": 626,
   "id": "5ed93695-ed6b-47d8-b613-b4d709f838c3",
   "metadata": {},
   "outputs": [
    {
     "name": "stderr",
     "output_type": "stream",
     "text": [
      "/pita/users/hila/miniconda3/envs/calour/lib/python3.6/site-packages/calour/heatmap/heatmap.py:308: MatplotlibDeprecationWarning: You are modifying the state of a globally registered colormap. In future versions, you will not be able to modify a registered colormap in-place. To remove this warning, you can make a copy of the colormap first. cmap = copy.copy(mpl.cm.get_cmap(\"viridis\"))\n",
      "  cmap.set_bad(bad_color)\n"
     ]
    },
    {
     "data": {
      "text/plain": [
       "<calour.heatmap.plotgui_qt5.PlotGUI_QT5 at 0x7fc46dc82550>"
      ]
     },
     "execution_count": 626,
     "metadata": {},
     "output_type": "execute_result"
    }
   ],
   "source": [
    "z.plot(gui='qt5', sample_field = 'diagnosis', barx_fields=['Participant ID'],barx_label=False,\n",
    "        norm = None, \n",
    "       yticklabel_kwargs = {\"size\": 7}, yticklabel_len = 40, feature_field = '_feature_id')"
   ]
  },
  {
   "cell_type": "code",
   "execution_count": 627,
   "id": "2d523c7e-5806-4a08-ab03-9afd495f8337",
   "metadata": {},
   "outputs": [],
   "source": [
    "z_diff = z.diff_abundance('diagnosis', ['UC', 'CD'], ['nonIBD'], alpha = 0.3)"
   ]
  },
  {
   "cell_type": "code",
   "execution_count": 628,
   "id": "b4630511-c5ee-4752-88a8-69720efb93d9",
   "metadata": {},
   "outputs": [
    {
     "data": {
      "text/plain": [
       "AmpliconExperiment with 52 samples, 11 features"
      ]
     },
     "execution_count": 628,
     "metadata": {},
     "output_type": "execute_result"
    }
   ],
   "source": [
    "z_diff"
   ]
  },
  {
   "cell_type": "code",
   "execution_count": 630,
   "id": "258fcad6-8268-47e2-bafb-a6a472f1a57c",
   "metadata": {},
   "outputs": [
    {
     "name": "stderr",
     "output_type": "stream",
     "text": [
      "/pita/users/hila/miniconda3/envs/calour/lib/python3.6/site-packages/calour/heatmap/heatmap.py:308: MatplotlibDeprecationWarning: You are modifying the state of a globally registered colormap. In future versions, you will not be able to modify a registered colormap in-place. To remove this warning, you can make a copy of the colormap first. cmap = copy.copy(mpl.cm.get_cmap(\"viridis\"))\n",
      "  cmap.set_bad(bad_color)\n"
     ]
    },
    {
     "data": {
      "text/plain": [
       "<calour.heatmap.plotgui_qt5.PlotGUI_QT5 at 0x7fc46de37cf8>"
      ]
     },
     "execution_count": 630,
     "metadata": {},
     "output_type": "execute_result"
    }
   ],
   "source": [
    "z_diff.plot(gui='qt5', sample_field = 'diagnosis', barx_fields=['Participant ID'],barx_label=False,\n",
    "        norm = None, \n",
    "       yticklabel_kwargs = {\"size\": 7}, yticklabel_len = 40, feature_field = '_feature_id',  bary_fields = ['_calour_direction'])"
   ]
  },
  {
   "cell_type": "code",
   "execution_count": 217,
   "id": "c3a179f0-cd38-4c8a-a05f-3bf87d5da4d9",
   "metadata": {},
   "outputs": [
    {
     "data": {
      "text/plain": [
       "True"
      ]
     },
     "execution_count": 217,
     "metadata": {},
     "output_type": "execute_result"
    }
   ],
   "source": [
    "os.path.isfile('/pita/users/hila/biobakery_workflows/output_data/10_Jul_2022_hmp2_mgx_mtx_first_weeks/whole_metagenome_shotgun/humann/merged/ecs_relab_unstratified.tsv')"
   ]
  },
  {
   "cell_type": "code",
   "execution_count": null,
   "id": "0b7d8cf9-4cc9-4a53-a0e7-df31e65e7003",
   "metadata": {},
   "outputs": [],
   "source": [
    "'/pita/users/hila/biobakery_workflows/output_data/10_Jul_2022_hmp2_mgx_mtx_first_weeks/whole_metatranscriptome_shotgun/humann/merged/ecs_relab_unstratified.tsv'\n",
    "'/pita/users/hila/biobakery_workflows/output_data/10_Jul_2022_hmp2_mgx_mtx_first_weeks/whole_metagenome_shotgun/humann/merged/ecs_relab_unstratified.tsv'"
   ]
  },
  {
   "cell_type": "markdown",
   "id": "3b125bbb-9481-4343-b4fb-b685a6b71e0c",
   "metadata": {},
   "source": [
    "# creating dfs with min read"
   ]
  },
  {
   "cell_type": "code",
   "execution_count": 178,
   "id": "63396bef-681e-423e-95fc-d1ec42a42965",
   "metadata": {},
   "outputs": [
    {
     "data": {
      "text/html": [
       "<div>\n",
       "<style scoped>\n",
       "    .dataframe tbody tr th:only-of-type {\n",
       "        vertical-align: middle;\n",
       "    }\n",
       "\n",
       "    .dataframe tbody tr th {\n",
       "        vertical-align: top;\n",
       "    }\n",
       "\n",
       "    .dataframe thead th {\n",
       "        text-align: right;\n",
       "    }\n",
       "</style>\n",
       "<table border=\"1\" class=\"dataframe\">\n",
       "  <thead>\n",
       "    <tr style=\"text-align: right;\">\n",
       "      <th></th>\n",
       "      <th>CSM5FZ3T_P_Abundance-RPKs</th>\n",
       "      <th>CSM5MCTZ_P_Abundance-RPKs</th>\n",
       "      <th>CSM5MCU4_P_Abundance-RPKs</th>\n",
       "      <th>CSM5MCUG_P_Abundance-RPKs</th>\n",
       "      <th>CSM5MCUQ_P_Abundance-RPKs</th>\n",
       "      <th>CSM5MCV1_P_Abundance-RPKs</th>\n",
       "      <th>CSM5MCXT_Abundance-RPKs</th>\n",
       "      <th>CSM67U9H_Abundance-RPKs</th>\n",
       "      <th>CSM67UAU_Abundance-RPKs</th>\n",
       "      <th>CSM6J2H9_P_Abundance-RPKs</th>\n",
       "      <th>...</th>\n",
       "      <th>PSM6XBRK_TR_Abundance-RPKs</th>\n",
       "      <th>PSM6XBSE_Abundance-RPKs</th>\n",
       "      <th>PSM6XBSI_Abundance-RPKs</th>\n",
       "      <th>PSM6XBT3_Abundance-RPKs</th>\n",
       "      <th>PSM6XBVI_Abundance-RPKs</th>\n",
       "      <th>PSM7J177_Abundance-RPKs</th>\n",
       "      <th>PSM7J199_Abundance-RPKs</th>\n",
       "      <th>PSM7J4EF_Abundance-RPKs</th>\n",
       "      <th>PSMA265X_Abundance-RPKs</th>\n",
       "      <th>PSMA266U_Abundance-RPKs</th>\n",
       "    </tr>\n",
       "    <tr>\n",
       "      <th># Gene Family</th>\n",
       "      <th></th>\n",
       "      <th></th>\n",
       "      <th></th>\n",
       "      <th></th>\n",
       "      <th></th>\n",
       "      <th></th>\n",
       "      <th></th>\n",
       "      <th></th>\n",
       "      <th></th>\n",
       "      <th></th>\n",
       "      <th></th>\n",
       "      <th></th>\n",
       "      <th></th>\n",
       "      <th></th>\n",
       "      <th></th>\n",
       "      <th></th>\n",
       "      <th></th>\n",
       "      <th></th>\n",
       "      <th></th>\n",
       "      <th></th>\n",
       "      <th></th>\n",
       "    </tr>\n",
       "  </thead>\n",
       "  <tbody>\n",
       "    <tr>\n",
       "      <th>UNMAPPED</th>\n",
       "      <td>7.762117e+06</td>\n",
       "      <td>1.194642e+07</td>\n",
       "      <td>8.990218e+06</td>\n",
       "      <td>1.435785e+07</td>\n",
       "      <td>3.442401e+06</td>\n",
       "      <td>1.383730e+07</td>\n",
       "      <td>9.202028e+06</td>\n",
       "      <td>1.566929e+06</td>\n",
       "      <td>3.014989e+06</td>\n",
       "      <td>1.089085e+07</td>\n",
       "      <td>...</td>\n",
       "      <td>2.195493e+06</td>\n",
       "      <td>2.154596e+06</td>\n",
       "      <td>8.635140e+05</td>\n",
       "      <td>1.395935e+06</td>\n",
       "      <td>2.756469e+06</td>\n",
       "      <td>14497.000000</td>\n",
       "      <td>6.574273e+06</td>\n",
       "      <td>503392.000000</td>\n",
       "      <td>7.221684e+06</td>\n",
       "      <td>4.887119e+06</td>\n",
       "    </tr>\n",
       "    <tr>\n",
       "      <th>UNGROUPED</th>\n",
       "      <td>1.624973e+07</td>\n",
       "      <td>2.359584e+07</td>\n",
       "      <td>5.185262e+06</td>\n",
       "      <td>2.239199e+07</td>\n",
       "      <td>4.746577e+06</td>\n",
       "      <td>7.334599e+07</td>\n",
       "      <td>1.785460e+07</td>\n",
       "      <td>2.433938e+06</td>\n",
       "      <td>3.363554e+06</td>\n",
       "      <td>1.565668e+07</td>\n",
       "      <td>...</td>\n",
       "      <td>3.380404e+06</td>\n",
       "      <td>4.767825e+06</td>\n",
       "      <td>1.980673e+06</td>\n",
       "      <td>6.419539e+06</td>\n",
       "      <td>8.907818e+06</td>\n",
       "      <td>2791.691768</td>\n",
       "      <td>2.078568e+07</td>\n",
       "      <td>277541.663464</td>\n",
       "      <td>1.087590e+07</td>\n",
       "      <td>1.167685e+07</td>\n",
       "    </tr>\n",
       "    <tr>\n",
       "      <th>UNGROUPED|g__Absiella.s__Absiella_dolichum</th>\n",
       "      <td>0.000000e+00</td>\n",
       "      <td>0.000000e+00</td>\n",
       "      <td>0.000000e+00</td>\n",
       "      <td>1.847372e+03</td>\n",
       "      <td>0.000000e+00</td>\n",
       "      <td>0.000000e+00</td>\n",
       "      <td>0.000000e+00</td>\n",
       "      <td>0.000000e+00</td>\n",
       "      <td>0.000000e+00</td>\n",
       "      <td>0.000000e+00</td>\n",
       "      <td>...</td>\n",
       "      <td>0.000000e+00</td>\n",
       "      <td>0.000000e+00</td>\n",
       "      <td>0.000000e+00</td>\n",
       "      <td>0.000000e+00</td>\n",
       "      <td>0.000000e+00</td>\n",
       "      <td>0.000000</td>\n",
       "      <td>0.000000e+00</td>\n",
       "      <td>0.000000</td>\n",
       "      <td>0.000000e+00</td>\n",
       "      <td>0.000000e+00</td>\n",
       "    </tr>\n",
       "    <tr>\n",
       "      <th>UNGROUPED|g__Acidaminococcus.s__Acidaminococcus_intestini</th>\n",
       "      <td>0.000000e+00</td>\n",
       "      <td>0.000000e+00</td>\n",
       "      <td>0.000000e+00</td>\n",
       "      <td>0.000000e+00</td>\n",
       "      <td>0.000000e+00</td>\n",
       "      <td>0.000000e+00</td>\n",
       "      <td>0.000000e+00</td>\n",
       "      <td>0.000000e+00</td>\n",
       "      <td>0.000000e+00</td>\n",
       "      <td>1.572923e+02</td>\n",
       "      <td>...</td>\n",
       "      <td>2.270098e+03</td>\n",
       "      <td>6.511477e+02</td>\n",
       "      <td>0.000000e+00</td>\n",
       "      <td>0.000000e+00</td>\n",
       "      <td>8.407260e+04</td>\n",
       "      <td>0.000000</td>\n",
       "      <td>9.780441e+02</td>\n",
       "      <td>0.000000</td>\n",
       "      <td>0.000000e+00</td>\n",
       "      <td>0.000000e+00</td>\n",
       "    </tr>\n",
       "    <tr>\n",
       "      <th>UNGROUPED|g__Adlercreutzia.s__Adlercreutzia_equolifaciens</th>\n",
       "      <td>0.000000e+00</td>\n",
       "      <td>0.000000e+00</td>\n",
       "      <td>0.000000e+00</td>\n",
       "      <td>0.000000e+00</td>\n",
       "      <td>0.000000e+00</td>\n",
       "      <td>0.000000e+00</td>\n",
       "      <td>0.000000e+00</td>\n",
       "      <td>0.000000e+00</td>\n",
       "      <td>0.000000e+00</td>\n",
       "      <td>0.000000e+00</td>\n",
       "      <td>...</td>\n",
       "      <td>0.000000e+00</td>\n",
       "      <td>0.000000e+00</td>\n",
       "      <td>0.000000e+00</td>\n",
       "      <td>0.000000e+00</td>\n",
       "      <td>0.000000e+00</td>\n",
       "      <td>0.000000</td>\n",
       "      <td>0.000000e+00</td>\n",
       "      <td>0.000000</td>\n",
       "      <td>0.000000e+00</td>\n",
       "      <td>0.000000e+00</td>\n",
       "    </tr>\n",
       "    <tr>\n",
       "      <th>...</th>\n",
       "      <td>...</td>\n",
       "      <td>...</td>\n",
       "      <td>...</td>\n",
       "      <td>...</td>\n",
       "      <td>...</td>\n",
       "      <td>...</td>\n",
       "      <td>...</td>\n",
       "      <td>...</td>\n",
       "      <td>...</td>\n",
       "      <td>...</td>\n",
       "      <td>...</td>\n",
       "      <td>...</td>\n",
       "      <td>...</td>\n",
       "      <td>...</td>\n",
       "      <td>...</td>\n",
       "      <td>...</td>\n",
       "      <td>...</td>\n",
       "      <td>...</td>\n",
       "      <td>...</td>\n",
       "      <td>...</td>\n",
       "      <td>...</td>\n",
       "    </tr>\n",
       "    <tr>\n",
       "      <th>7.6.2.2|g__Escherichia.s__Escherichia_coli</th>\n",
       "      <td>0.000000e+00</td>\n",
       "      <td>0.000000e+00</td>\n",
       "      <td>0.000000e+00</td>\n",
       "      <td>0.000000e+00</td>\n",
       "      <td>0.000000e+00</td>\n",
       "      <td>1.304312e+02</td>\n",
       "      <td>0.000000e+00</td>\n",
       "      <td>0.000000e+00</td>\n",
       "      <td>0.000000e+00</td>\n",
       "      <td>0.000000e+00</td>\n",
       "      <td>...</td>\n",
       "      <td>0.000000e+00</td>\n",
       "      <td>0.000000e+00</td>\n",
       "      <td>0.000000e+00</td>\n",
       "      <td>0.000000e+00</td>\n",
       "      <td>0.000000e+00</td>\n",
       "      <td>0.000000</td>\n",
       "      <td>0.000000e+00</td>\n",
       "      <td>0.000000</td>\n",
       "      <td>0.000000e+00</td>\n",
       "      <td>0.000000e+00</td>\n",
       "    </tr>\n",
       "    <tr>\n",
       "      <th>7.6.2.2|g__Klebsiella.s__Klebsiella_pneumoniae</th>\n",
       "      <td>0.000000e+00</td>\n",
       "      <td>0.000000e+00</td>\n",
       "      <td>0.000000e+00</td>\n",
       "      <td>0.000000e+00</td>\n",
       "      <td>0.000000e+00</td>\n",
       "      <td>1.247436e+01</td>\n",
       "      <td>0.000000e+00</td>\n",
       "      <td>0.000000e+00</td>\n",
       "      <td>0.000000e+00</td>\n",
       "      <td>0.000000e+00</td>\n",
       "      <td>...</td>\n",
       "      <td>0.000000e+00</td>\n",
       "      <td>0.000000e+00</td>\n",
       "      <td>0.000000e+00</td>\n",
       "      <td>0.000000e+00</td>\n",
       "      <td>0.000000e+00</td>\n",
       "      <td>0.000000</td>\n",
       "      <td>0.000000e+00</td>\n",
       "      <td>0.000000</td>\n",
       "      <td>0.000000e+00</td>\n",
       "      <td>0.000000e+00</td>\n",
       "    </tr>\n",
       "    <tr>\n",
       "      <th>7.6.2.5</th>\n",
       "      <td>0.000000e+00</td>\n",
       "      <td>0.000000e+00</td>\n",
       "      <td>0.000000e+00</td>\n",
       "      <td>0.000000e+00</td>\n",
       "      <td>0.000000e+00</td>\n",
       "      <td>1.446392e+02</td>\n",
       "      <td>0.000000e+00</td>\n",
       "      <td>0.000000e+00</td>\n",
       "      <td>0.000000e+00</td>\n",
       "      <td>0.000000e+00</td>\n",
       "      <td>...</td>\n",
       "      <td>0.000000e+00</td>\n",
       "      <td>0.000000e+00</td>\n",
       "      <td>0.000000e+00</td>\n",
       "      <td>0.000000e+00</td>\n",
       "      <td>0.000000e+00</td>\n",
       "      <td>0.000000</td>\n",
       "      <td>0.000000e+00</td>\n",
       "      <td>0.000000</td>\n",
       "      <td>0.000000e+00</td>\n",
       "      <td>0.000000e+00</td>\n",
       "    </tr>\n",
       "    <tr>\n",
       "      <th>7.6.2.5|g__Escherichia.s__Escherichia_coli</th>\n",
       "      <td>0.000000e+00</td>\n",
       "      <td>0.000000e+00</td>\n",
       "      <td>0.000000e+00</td>\n",
       "      <td>0.000000e+00</td>\n",
       "      <td>0.000000e+00</td>\n",
       "      <td>8.971281e+01</td>\n",
       "      <td>0.000000e+00</td>\n",
       "      <td>0.000000e+00</td>\n",
       "      <td>0.000000e+00</td>\n",
       "      <td>0.000000e+00</td>\n",
       "      <td>...</td>\n",
       "      <td>0.000000e+00</td>\n",
       "      <td>0.000000e+00</td>\n",
       "      <td>0.000000e+00</td>\n",
       "      <td>0.000000e+00</td>\n",
       "      <td>0.000000e+00</td>\n",
       "      <td>0.000000</td>\n",
       "      <td>0.000000e+00</td>\n",
       "      <td>0.000000</td>\n",
       "      <td>0.000000e+00</td>\n",
       "      <td>0.000000e+00</td>\n",
       "    </tr>\n",
       "    <tr>\n",
       "      <th>7.6.2.5|g__Klebsiella.s__Klebsiella_pneumoniae</th>\n",
       "      <td>0.000000e+00</td>\n",
       "      <td>0.000000e+00</td>\n",
       "      <td>0.000000e+00</td>\n",
       "      <td>0.000000e+00</td>\n",
       "      <td>0.000000e+00</td>\n",
       "      <td>5.492644e+01</td>\n",
       "      <td>0.000000e+00</td>\n",
       "      <td>0.000000e+00</td>\n",
       "      <td>0.000000e+00</td>\n",
       "      <td>0.000000e+00</td>\n",
       "      <td>...</td>\n",
       "      <td>0.000000e+00</td>\n",
       "      <td>0.000000e+00</td>\n",
       "      <td>0.000000e+00</td>\n",
       "      <td>0.000000e+00</td>\n",
       "      <td>0.000000e+00</td>\n",
       "      <td>0.000000</td>\n",
       "      <td>0.000000e+00</td>\n",
       "      <td>0.000000</td>\n",
       "      <td>0.000000e+00</td>\n",
       "      <td>0.000000e+00</td>\n",
       "    </tr>\n",
       "  </tbody>\n",
       "</table>\n",
       "<p>37992 rows × 74 columns</p>\n",
       "</div>"
      ],
      "text/plain": [
       "                                                    CSM5FZ3T_P_Abundance-RPKs  \\\n",
       "# Gene Family                                                                   \n",
       "UNMAPPED                                                         7.762117e+06   \n",
       "UNGROUPED                                                        1.624973e+07   \n",
       "UNGROUPED|g__Absiella.s__Absiella_dolichum                       0.000000e+00   \n",
       "UNGROUPED|g__Acidaminococcus.s__Acidaminococcus...               0.000000e+00   \n",
       "UNGROUPED|g__Adlercreutzia.s__Adlercreutzia_equ...               0.000000e+00   \n",
       "...                                                                       ...   \n",
       "7.6.2.2|g__Escherichia.s__Escherichia_coli                       0.000000e+00   \n",
       "7.6.2.2|g__Klebsiella.s__Klebsiella_pneumoniae                   0.000000e+00   \n",
       "7.6.2.5                                                          0.000000e+00   \n",
       "7.6.2.5|g__Escherichia.s__Escherichia_coli                       0.000000e+00   \n",
       "7.6.2.5|g__Klebsiella.s__Klebsiella_pneumoniae                   0.000000e+00   \n",
       "\n",
       "                                                    CSM5MCTZ_P_Abundance-RPKs  \\\n",
       "# Gene Family                                                                   \n",
       "UNMAPPED                                                         1.194642e+07   \n",
       "UNGROUPED                                                        2.359584e+07   \n",
       "UNGROUPED|g__Absiella.s__Absiella_dolichum                       0.000000e+00   \n",
       "UNGROUPED|g__Acidaminococcus.s__Acidaminococcus...               0.000000e+00   \n",
       "UNGROUPED|g__Adlercreutzia.s__Adlercreutzia_equ...               0.000000e+00   \n",
       "...                                                                       ...   \n",
       "7.6.2.2|g__Escherichia.s__Escherichia_coli                       0.000000e+00   \n",
       "7.6.2.2|g__Klebsiella.s__Klebsiella_pneumoniae                   0.000000e+00   \n",
       "7.6.2.5                                                          0.000000e+00   \n",
       "7.6.2.5|g__Escherichia.s__Escherichia_coli                       0.000000e+00   \n",
       "7.6.2.5|g__Klebsiella.s__Klebsiella_pneumoniae                   0.000000e+00   \n",
       "\n",
       "                                                    CSM5MCU4_P_Abundance-RPKs  \\\n",
       "# Gene Family                                                                   \n",
       "UNMAPPED                                                         8.990218e+06   \n",
       "UNGROUPED                                                        5.185262e+06   \n",
       "UNGROUPED|g__Absiella.s__Absiella_dolichum                       0.000000e+00   \n",
       "UNGROUPED|g__Acidaminococcus.s__Acidaminococcus...               0.000000e+00   \n",
       "UNGROUPED|g__Adlercreutzia.s__Adlercreutzia_equ...               0.000000e+00   \n",
       "...                                                                       ...   \n",
       "7.6.2.2|g__Escherichia.s__Escherichia_coli                       0.000000e+00   \n",
       "7.6.2.2|g__Klebsiella.s__Klebsiella_pneumoniae                   0.000000e+00   \n",
       "7.6.2.5                                                          0.000000e+00   \n",
       "7.6.2.5|g__Escherichia.s__Escherichia_coli                       0.000000e+00   \n",
       "7.6.2.5|g__Klebsiella.s__Klebsiella_pneumoniae                   0.000000e+00   \n",
       "\n",
       "                                                    CSM5MCUG_P_Abundance-RPKs  \\\n",
       "# Gene Family                                                                   \n",
       "UNMAPPED                                                         1.435785e+07   \n",
       "UNGROUPED                                                        2.239199e+07   \n",
       "UNGROUPED|g__Absiella.s__Absiella_dolichum                       1.847372e+03   \n",
       "UNGROUPED|g__Acidaminococcus.s__Acidaminococcus...               0.000000e+00   \n",
       "UNGROUPED|g__Adlercreutzia.s__Adlercreutzia_equ...               0.000000e+00   \n",
       "...                                                                       ...   \n",
       "7.6.2.2|g__Escherichia.s__Escherichia_coli                       0.000000e+00   \n",
       "7.6.2.2|g__Klebsiella.s__Klebsiella_pneumoniae                   0.000000e+00   \n",
       "7.6.2.5                                                          0.000000e+00   \n",
       "7.6.2.5|g__Escherichia.s__Escherichia_coli                       0.000000e+00   \n",
       "7.6.2.5|g__Klebsiella.s__Klebsiella_pneumoniae                   0.000000e+00   \n",
       "\n",
       "                                                    CSM5MCUQ_P_Abundance-RPKs  \\\n",
       "# Gene Family                                                                   \n",
       "UNMAPPED                                                         3.442401e+06   \n",
       "UNGROUPED                                                        4.746577e+06   \n",
       "UNGROUPED|g__Absiella.s__Absiella_dolichum                       0.000000e+00   \n",
       "UNGROUPED|g__Acidaminococcus.s__Acidaminococcus...               0.000000e+00   \n",
       "UNGROUPED|g__Adlercreutzia.s__Adlercreutzia_equ...               0.000000e+00   \n",
       "...                                                                       ...   \n",
       "7.6.2.2|g__Escherichia.s__Escherichia_coli                       0.000000e+00   \n",
       "7.6.2.2|g__Klebsiella.s__Klebsiella_pneumoniae                   0.000000e+00   \n",
       "7.6.2.5                                                          0.000000e+00   \n",
       "7.6.2.5|g__Escherichia.s__Escherichia_coli                       0.000000e+00   \n",
       "7.6.2.5|g__Klebsiella.s__Klebsiella_pneumoniae                   0.000000e+00   \n",
       "\n",
       "                                                    CSM5MCV1_P_Abundance-RPKs  \\\n",
       "# Gene Family                                                                   \n",
       "UNMAPPED                                                         1.383730e+07   \n",
       "UNGROUPED                                                        7.334599e+07   \n",
       "UNGROUPED|g__Absiella.s__Absiella_dolichum                       0.000000e+00   \n",
       "UNGROUPED|g__Acidaminococcus.s__Acidaminococcus...               0.000000e+00   \n",
       "UNGROUPED|g__Adlercreutzia.s__Adlercreutzia_equ...               0.000000e+00   \n",
       "...                                                                       ...   \n",
       "7.6.2.2|g__Escherichia.s__Escherichia_coli                       1.304312e+02   \n",
       "7.6.2.2|g__Klebsiella.s__Klebsiella_pneumoniae                   1.247436e+01   \n",
       "7.6.2.5                                                          1.446392e+02   \n",
       "7.6.2.5|g__Escherichia.s__Escherichia_coli                       8.971281e+01   \n",
       "7.6.2.5|g__Klebsiella.s__Klebsiella_pneumoniae                   5.492644e+01   \n",
       "\n",
       "                                                    CSM5MCXT_Abundance-RPKs  \\\n",
       "# Gene Family                                                                 \n",
       "UNMAPPED                                                       9.202028e+06   \n",
       "UNGROUPED                                                      1.785460e+07   \n",
       "UNGROUPED|g__Absiella.s__Absiella_dolichum                     0.000000e+00   \n",
       "UNGROUPED|g__Acidaminococcus.s__Acidaminococcus...             0.000000e+00   \n",
       "UNGROUPED|g__Adlercreutzia.s__Adlercreutzia_equ...             0.000000e+00   \n",
       "...                                                                     ...   \n",
       "7.6.2.2|g__Escherichia.s__Escherichia_coli                     0.000000e+00   \n",
       "7.6.2.2|g__Klebsiella.s__Klebsiella_pneumoniae                 0.000000e+00   \n",
       "7.6.2.5                                                        0.000000e+00   \n",
       "7.6.2.5|g__Escherichia.s__Escherichia_coli                     0.000000e+00   \n",
       "7.6.2.5|g__Klebsiella.s__Klebsiella_pneumoniae                 0.000000e+00   \n",
       "\n",
       "                                                    CSM67U9H_Abundance-RPKs  \\\n",
       "# Gene Family                                                                 \n",
       "UNMAPPED                                                       1.566929e+06   \n",
       "UNGROUPED                                                      2.433938e+06   \n",
       "UNGROUPED|g__Absiella.s__Absiella_dolichum                     0.000000e+00   \n",
       "UNGROUPED|g__Acidaminococcus.s__Acidaminococcus...             0.000000e+00   \n",
       "UNGROUPED|g__Adlercreutzia.s__Adlercreutzia_equ...             0.000000e+00   \n",
       "...                                                                     ...   \n",
       "7.6.2.2|g__Escherichia.s__Escherichia_coli                     0.000000e+00   \n",
       "7.6.2.2|g__Klebsiella.s__Klebsiella_pneumoniae                 0.000000e+00   \n",
       "7.6.2.5                                                        0.000000e+00   \n",
       "7.6.2.5|g__Escherichia.s__Escherichia_coli                     0.000000e+00   \n",
       "7.6.2.5|g__Klebsiella.s__Klebsiella_pneumoniae                 0.000000e+00   \n",
       "\n",
       "                                                    CSM67UAU_Abundance-RPKs  \\\n",
       "# Gene Family                                                                 \n",
       "UNMAPPED                                                       3.014989e+06   \n",
       "UNGROUPED                                                      3.363554e+06   \n",
       "UNGROUPED|g__Absiella.s__Absiella_dolichum                     0.000000e+00   \n",
       "UNGROUPED|g__Acidaminococcus.s__Acidaminococcus...             0.000000e+00   \n",
       "UNGROUPED|g__Adlercreutzia.s__Adlercreutzia_equ...             0.000000e+00   \n",
       "...                                                                     ...   \n",
       "7.6.2.2|g__Escherichia.s__Escherichia_coli                     0.000000e+00   \n",
       "7.6.2.2|g__Klebsiella.s__Klebsiella_pneumoniae                 0.000000e+00   \n",
       "7.6.2.5                                                        0.000000e+00   \n",
       "7.6.2.5|g__Escherichia.s__Escherichia_coli                     0.000000e+00   \n",
       "7.6.2.5|g__Klebsiella.s__Klebsiella_pneumoniae                 0.000000e+00   \n",
       "\n",
       "                                                    CSM6J2H9_P_Abundance-RPKs  \\\n",
       "# Gene Family                                                                   \n",
       "UNMAPPED                                                         1.089085e+07   \n",
       "UNGROUPED                                                        1.565668e+07   \n",
       "UNGROUPED|g__Absiella.s__Absiella_dolichum                       0.000000e+00   \n",
       "UNGROUPED|g__Acidaminococcus.s__Acidaminococcus...               1.572923e+02   \n",
       "UNGROUPED|g__Adlercreutzia.s__Adlercreutzia_equ...               0.000000e+00   \n",
       "...                                                                       ...   \n",
       "7.6.2.2|g__Escherichia.s__Escherichia_coli                       0.000000e+00   \n",
       "7.6.2.2|g__Klebsiella.s__Klebsiella_pneumoniae                   0.000000e+00   \n",
       "7.6.2.5                                                          0.000000e+00   \n",
       "7.6.2.5|g__Escherichia.s__Escherichia_coli                       0.000000e+00   \n",
       "7.6.2.5|g__Klebsiella.s__Klebsiella_pneumoniae                   0.000000e+00   \n",
       "\n",
       "                                                    ...  \\\n",
       "# Gene Family                                       ...   \n",
       "UNMAPPED                                            ...   \n",
       "UNGROUPED                                           ...   \n",
       "UNGROUPED|g__Absiella.s__Absiella_dolichum          ...   \n",
       "UNGROUPED|g__Acidaminococcus.s__Acidaminococcus...  ...   \n",
       "UNGROUPED|g__Adlercreutzia.s__Adlercreutzia_equ...  ...   \n",
       "...                                                 ...   \n",
       "7.6.2.2|g__Escherichia.s__Escherichia_coli          ...   \n",
       "7.6.2.2|g__Klebsiella.s__Klebsiella_pneumoniae      ...   \n",
       "7.6.2.5                                             ...   \n",
       "7.6.2.5|g__Escherichia.s__Escherichia_coli          ...   \n",
       "7.6.2.5|g__Klebsiella.s__Klebsiella_pneumoniae      ...   \n",
       "\n",
       "                                                    PSM6XBRK_TR_Abundance-RPKs  \\\n",
       "# Gene Family                                                                    \n",
       "UNMAPPED                                                          2.195493e+06   \n",
       "UNGROUPED                                                         3.380404e+06   \n",
       "UNGROUPED|g__Absiella.s__Absiella_dolichum                        0.000000e+00   \n",
       "UNGROUPED|g__Acidaminococcus.s__Acidaminococcus...                2.270098e+03   \n",
       "UNGROUPED|g__Adlercreutzia.s__Adlercreutzia_equ...                0.000000e+00   \n",
       "...                                                                        ...   \n",
       "7.6.2.2|g__Escherichia.s__Escherichia_coli                        0.000000e+00   \n",
       "7.6.2.2|g__Klebsiella.s__Klebsiella_pneumoniae                    0.000000e+00   \n",
       "7.6.2.5                                                           0.000000e+00   \n",
       "7.6.2.5|g__Escherichia.s__Escherichia_coli                        0.000000e+00   \n",
       "7.6.2.5|g__Klebsiella.s__Klebsiella_pneumoniae                    0.000000e+00   \n",
       "\n",
       "                                                    PSM6XBSE_Abundance-RPKs  \\\n",
       "# Gene Family                                                                 \n",
       "UNMAPPED                                                       2.154596e+06   \n",
       "UNGROUPED                                                      4.767825e+06   \n",
       "UNGROUPED|g__Absiella.s__Absiella_dolichum                     0.000000e+00   \n",
       "UNGROUPED|g__Acidaminococcus.s__Acidaminococcus...             6.511477e+02   \n",
       "UNGROUPED|g__Adlercreutzia.s__Adlercreutzia_equ...             0.000000e+00   \n",
       "...                                                                     ...   \n",
       "7.6.2.2|g__Escherichia.s__Escherichia_coli                     0.000000e+00   \n",
       "7.6.2.2|g__Klebsiella.s__Klebsiella_pneumoniae                 0.000000e+00   \n",
       "7.6.2.5                                                        0.000000e+00   \n",
       "7.6.2.5|g__Escherichia.s__Escherichia_coli                     0.000000e+00   \n",
       "7.6.2.5|g__Klebsiella.s__Klebsiella_pneumoniae                 0.000000e+00   \n",
       "\n",
       "                                                    PSM6XBSI_Abundance-RPKs  \\\n",
       "# Gene Family                                                                 \n",
       "UNMAPPED                                                       8.635140e+05   \n",
       "UNGROUPED                                                      1.980673e+06   \n",
       "UNGROUPED|g__Absiella.s__Absiella_dolichum                     0.000000e+00   \n",
       "UNGROUPED|g__Acidaminococcus.s__Acidaminococcus...             0.000000e+00   \n",
       "UNGROUPED|g__Adlercreutzia.s__Adlercreutzia_equ...             0.000000e+00   \n",
       "...                                                                     ...   \n",
       "7.6.2.2|g__Escherichia.s__Escherichia_coli                     0.000000e+00   \n",
       "7.6.2.2|g__Klebsiella.s__Klebsiella_pneumoniae                 0.000000e+00   \n",
       "7.6.2.5                                                        0.000000e+00   \n",
       "7.6.2.5|g__Escherichia.s__Escherichia_coli                     0.000000e+00   \n",
       "7.6.2.5|g__Klebsiella.s__Klebsiella_pneumoniae                 0.000000e+00   \n",
       "\n",
       "                                                    PSM6XBT3_Abundance-RPKs  \\\n",
       "# Gene Family                                                                 \n",
       "UNMAPPED                                                       1.395935e+06   \n",
       "UNGROUPED                                                      6.419539e+06   \n",
       "UNGROUPED|g__Absiella.s__Absiella_dolichum                     0.000000e+00   \n",
       "UNGROUPED|g__Acidaminococcus.s__Acidaminococcus...             0.000000e+00   \n",
       "UNGROUPED|g__Adlercreutzia.s__Adlercreutzia_equ...             0.000000e+00   \n",
       "...                                                                     ...   \n",
       "7.6.2.2|g__Escherichia.s__Escherichia_coli                     0.000000e+00   \n",
       "7.6.2.2|g__Klebsiella.s__Klebsiella_pneumoniae                 0.000000e+00   \n",
       "7.6.2.5                                                        0.000000e+00   \n",
       "7.6.2.5|g__Escherichia.s__Escherichia_coli                     0.000000e+00   \n",
       "7.6.2.5|g__Klebsiella.s__Klebsiella_pneumoniae                 0.000000e+00   \n",
       "\n",
       "                                                    PSM6XBVI_Abundance-RPKs  \\\n",
       "# Gene Family                                                                 \n",
       "UNMAPPED                                                       2.756469e+06   \n",
       "UNGROUPED                                                      8.907818e+06   \n",
       "UNGROUPED|g__Absiella.s__Absiella_dolichum                     0.000000e+00   \n",
       "UNGROUPED|g__Acidaminococcus.s__Acidaminococcus...             8.407260e+04   \n",
       "UNGROUPED|g__Adlercreutzia.s__Adlercreutzia_equ...             0.000000e+00   \n",
       "...                                                                     ...   \n",
       "7.6.2.2|g__Escherichia.s__Escherichia_coli                     0.000000e+00   \n",
       "7.6.2.2|g__Klebsiella.s__Klebsiella_pneumoniae                 0.000000e+00   \n",
       "7.6.2.5                                                        0.000000e+00   \n",
       "7.6.2.5|g__Escherichia.s__Escherichia_coli                     0.000000e+00   \n",
       "7.6.2.5|g__Klebsiella.s__Klebsiella_pneumoniae                 0.000000e+00   \n",
       "\n",
       "                                                    PSM7J177_Abundance-RPKs  \\\n",
       "# Gene Family                                                                 \n",
       "UNMAPPED                                                       14497.000000   \n",
       "UNGROUPED                                                       2791.691768   \n",
       "UNGROUPED|g__Absiella.s__Absiella_dolichum                         0.000000   \n",
       "UNGROUPED|g__Acidaminococcus.s__Acidaminococcus...                 0.000000   \n",
       "UNGROUPED|g__Adlercreutzia.s__Adlercreutzia_equ...                 0.000000   \n",
       "...                                                                     ...   \n",
       "7.6.2.2|g__Escherichia.s__Escherichia_coli                         0.000000   \n",
       "7.6.2.2|g__Klebsiella.s__Klebsiella_pneumoniae                     0.000000   \n",
       "7.6.2.5                                                            0.000000   \n",
       "7.6.2.5|g__Escherichia.s__Escherichia_coli                         0.000000   \n",
       "7.6.2.5|g__Klebsiella.s__Klebsiella_pneumoniae                     0.000000   \n",
       "\n",
       "                                                    PSM7J199_Abundance-RPKs  \\\n",
       "# Gene Family                                                                 \n",
       "UNMAPPED                                                       6.574273e+06   \n",
       "UNGROUPED                                                      2.078568e+07   \n",
       "UNGROUPED|g__Absiella.s__Absiella_dolichum                     0.000000e+00   \n",
       "UNGROUPED|g__Acidaminococcus.s__Acidaminococcus...             9.780441e+02   \n",
       "UNGROUPED|g__Adlercreutzia.s__Adlercreutzia_equ...             0.000000e+00   \n",
       "...                                                                     ...   \n",
       "7.6.2.2|g__Escherichia.s__Escherichia_coli                     0.000000e+00   \n",
       "7.6.2.2|g__Klebsiella.s__Klebsiella_pneumoniae                 0.000000e+00   \n",
       "7.6.2.5                                                        0.000000e+00   \n",
       "7.6.2.5|g__Escherichia.s__Escherichia_coli                     0.000000e+00   \n",
       "7.6.2.5|g__Klebsiella.s__Klebsiella_pneumoniae                 0.000000e+00   \n",
       "\n",
       "                                                    PSM7J4EF_Abundance-RPKs  \\\n",
       "# Gene Family                                                                 \n",
       "UNMAPPED                                                      503392.000000   \n",
       "UNGROUPED                                                     277541.663464   \n",
       "UNGROUPED|g__Absiella.s__Absiella_dolichum                         0.000000   \n",
       "UNGROUPED|g__Acidaminococcus.s__Acidaminococcus...                 0.000000   \n",
       "UNGROUPED|g__Adlercreutzia.s__Adlercreutzia_equ...                 0.000000   \n",
       "...                                                                     ...   \n",
       "7.6.2.2|g__Escherichia.s__Escherichia_coli                         0.000000   \n",
       "7.6.2.2|g__Klebsiella.s__Klebsiella_pneumoniae                     0.000000   \n",
       "7.6.2.5                                                            0.000000   \n",
       "7.6.2.5|g__Escherichia.s__Escherichia_coli                         0.000000   \n",
       "7.6.2.5|g__Klebsiella.s__Klebsiella_pneumoniae                     0.000000   \n",
       "\n",
       "                                                    PSMA265X_Abundance-RPKs  \\\n",
       "# Gene Family                                                                 \n",
       "UNMAPPED                                                       7.221684e+06   \n",
       "UNGROUPED                                                      1.087590e+07   \n",
       "UNGROUPED|g__Absiella.s__Absiella_dolichum                     0.000000e+00   \n",
       "UNGROUPED|g__Acidaminococcus.s__Acidaminococcus...             0.000000e+00   \n",
       "UNGROUPED|g__Adlercreutzia.s__Adlercreutzia_equ...             0.000000e+00   \n",
       "...                                                                     ...   \n",
       "7.6.2.2|g__Escherichia.s__Escherichia_coli                     0.000000e+00   \n",
       "7.6.2.2|g__Klebsiella.s__Klebsiella_pneumoniae                 0.000000e+00   \n",
       "7.6.2.5                                                        0.000000e+00   \n",
       "7.6.2.5|g__Escherichia.s__Escherichia_coli                     0.000000e+00   \n",
       "7.6.2.5|g__Klebsiella.s__Klebsiella_pneumoniae                 0.000000e+00   \n",
       "\n",
       "                                                    PSMA266U_Abundance-RPKs  \n",
       "# Gene Family                                                                \n",
       "UNMAPPED                                                       4.887119e+06  \n",
       "UNGROUPED                                                      1.167685e+07  \n",
       "UNGROUPED|g__Absiella.s__Absiella_dolichum                     0.000000e+00  \n",
       "UNGROUPED|g__Acidaminococcus.s__Acidaminococcus...             0.000000e+00  \n",
       "UNGROUPED|g__Adlercreutzia.s__Adlercreutzia_equ...             0.000000e+00  \n",
       "...                                                                     ...  \n",
       "7.6.2.2|g__Escherichia.s__Escherichia_coli                     0.000000e+00  \n",
       "7.6.2.2|g__Klebsiella.s__Klebsiella_pneumoniae                 0.000000e+00  \n",
       "7.6.2.5                                                        0.000000e+00  \n",
       "7.6.2.5|g__Escherichia.s__Escherichia_coli                     0.000000e+00  \n",
       "7.6.2.5|g__Klebsiella.s__Klebsiella_pneumoniae                 0.000000e+00  \n",
       "\n",
       "[37992 rows x 74 columns]"
      ]
     },
     "execution_count": 178,
     "metadata": {},
     "output_type": "execute_result"
    }
   ],
   "source": [
    "#file_path = os.path.join(base_folder, mgx_folder, 'humann/merged', 'pathabundance.tsv')\n",
    "#file_path = os.path.join(base_folder, mgx_folder, 'humann/merged', 'ecs.tsv')\n",
    "#file_path = os.path.join(base_folder, mtx_folder, 'humann/merged', 'pathabundance.tsv')\n",
    "file_path = os.path.join(base_folder, mtx_folder, 'humann/merged', 'ecs.tsv')\n",
    "abund_df = pd.read_csv(file_path, delimiter= '\\t', na_values = 'NaN', index_col=0)\n",
    "abund_df"
   ]
  },
  {
   "cell_type": "code",
   "execution_count": 179,
   "id": "15b17ed0-b1cd-48ee-9b4e-2541ce26c2da",
   "metadata": {},
   "outputs": [],
   "source": [
    "#abund_df[(abund_df <= 20)] = 0 \n",
    "abund_df[(abund_df <= 1)] = 0 "
   ]
  },
  {
   "cell_type": "code",
   "execution_count": 180,
   "id": "ef100cf7-d4bf-47bb-a67b-03c6920feb94",
   "metadata": {},
   "outputs": [
    {
     "data": {
      "text/html": [
       "<div>\n",
       "<style scoped>\n",
       "    .dataframe tbody tr th:only-of-type {\n",
       "        vertical-align: middle;\n",
       "    }\n",
       "\n",
       "    .dataframe tbody tr th {\n",
       "        vertical-align: top;\n",
       "    }\n",
       "\n",
       "    .dataframe thead th {\n",
       "        text-align: right;\n",
       "    }\n",
       "</style>\n",
       "<table border=\"1\" class=\"dataframe\">\n",
       "  <thead>\n",
       "    <tr style=\"text-align: right;\">\n",
       "      <th></th>\n",
       "      <th>CSM5FZ3T_P_Abundance-RPKs</th>\n",
       "      <th>CSM5MCTZ_P_Abundance-RPKs</th>\n",
       "      <th>CSM5MCU4_P_Abundance-RPKs</th>\n",
       "      <th>CSM5MCUG_P_Abundance-RPKs</th>\n",
       "      <th>CSM5MCUQ_P_Abundance-RPKs</th>\n",
       "      <th>CSM5MCV1_P_Abundance-RPKs</th>\n",
       "      <th>CSM5MCXT_Abundance-RPKs</th>\n",
       "      <th>CSM67U9H_Abundance-RPKs</th>\n",
       "      <th>CSM67UAU_Abundance-RPKs</th>\n",
       "      <th>CSM6J2H9_P_Abundance-RPKs</th>\n",
       "      <th>...</th>\n",
       "      <th>PSM6XBRK_TR_Abundance-RPKs</th>\n",
       "      <th>PSM6XBSE_Abundance-RPKs</th>\n",
       "      <th>PSM6XBSI_Abundance-RPKs</th>\n",
       "      <th>PSM6XBT3_Abundance-RPKs</th>\n",
       "      <th>PSM6XBVI_Abundance-RPKs</th>\n",
       "      <th>PSM7J177_Abundance-RPKs</th>\n",
       "      <th>PSM7J199_Abundance-RPKs</th>\n",
       "      <th>PSM7J4EF_Abundance-RPKs</th>\n",
       "      <th>PSMA265X_Abundance-RPKs</th>\n",
       "      <th>PSMA266U_Abundance-RPKs</th>\n",
       "    </tr>\n",
       "    <tr>\n",
       "      <th># Gene Family</th>\n",
       "      <th></th>\n",
       "      <th></th>\n",
       "      <th></th>\n",
       "      <th></th>\n",
       "      <th></th>\n",
       "      <th></th>\n",
       "      <th></th>\n",
       "      <th></th>\n",
       "      <th></th>\n",
       "      <th></th>\n",
       "      <th></th>\n",
       "      <th></th>\n",
       "      <th></th>\n",
       "      <th></th>\n",
       "      <th></th>\n",
       "      <th></th>\n",
       "      <th></th>\n",
       "      <th></th>\n",
       "      <th></th>\n",
       "      <th></th>\n",
       "      <th></th>\n",
       "    </tr>\n",
       "  </thead>\n",
       "  <tbody>\n",
       "    <tr>\n",
       "      <th>UNMAPPED</th>\n",
       "      <td>7.762117e+06</td>\n",
       "      <td>1.194642e+07</td>\n",
       "      <td>8.990218e+06</td>\n",
       "      <td>1.435785e+07</td>\n",
       "      <td>3.442401e+06</td>\n",
       "      <td>1.383730e+07</td>\n",
       "      <td>9.202028e+06</td>\n",
       "      <td>1.566929e+06</td>\n",
       "      <td>3.014989e+06</td>\n",
       "      <td>1.089085e+07</td>\n",
       "      <td>...</td>\n",
       "      <td>2.195493e+06</td>\n",
       "      <td>2.154596e+06</td>\n",
       "      <td>8.635140e+05</td>\n",
       "      <td>1.395935e+06</td>\n",
       "      <td>2.756469e+06</td>\n",
       "      <td>14497.000000</td>\n",
       "      <td>6.574273e+06</td>\n",
       "      <td>503392.000000</td>\n",
       "      <td>7.221684e+06</td>\n",
       "      <td>4.887119e+06</td>\n",
       "    </tr>\n",
       "    <tr>\n",
       "      <th>UNGROUPED</th>\n",
       "      <td>1.624973e+07</td>\n",
       "      <td>2.359584e+07</td>\n",
       "      <td>5.185262e+06</td>\n",
       "      <td>2.239199e+07</td>\n",
       "      <td>4.746577e+06</td>\n",
       "      <td>7.334599e+07</td>\n",
       "      <td>1.785460e+07</td>\n",
       "      <td>2.433938e+06</td>\n",
       "      <td>3.363554e+06</td>\n",
       "      <td>1.565668e+07</td>\n",
       "      <td>...</td>\n",
       "      <td>3.380404e+06</td>\n",
       "      <td>4.767825e+06</td>\n",
       "      <td>1.980673e+06</td>\n",
       "      <td>6.419539e+06</td>\n",
       "      <td>8.907818e+06</td>\n",
       "      <td>2791.691768</td>\n",
       "      <td>2.078568e+07</td>\n",
       "      <td>277541.663464</td>\n",
       "      <td>1.087590e+07</td>\n",
       "      <td>1.167685e+07</td>\n",
       "    </tr>\n",
       "    <tr>\n",
       "      <th>UNGROUPED|g__Absiella.s__Absiella_dolichum</th>\n",
       "      <td>0.000000e+00</td>\n",
       "      <td>0.000000e+00</td>\n",
       "      <td>0.000000e+00</td>\n",
       "      <td>1.847372e+03</td>\n",
       "      <td>0.000000e+00</td>\n",
       "      <td>0.000000e+00</td>\n",
       "      <td>0.000000e+00</td>\n",
       "      <td>0.000000e+00</td>\n",
       "      <td>0.000000e+00</td>\n",
       "      <td>0.000000e+00</td>\n",
       "      <td>...</td>\n",
       "      <td>0.000000e+00</td>\n",
       "      <td>0.000000e+00</td>\n",
       "      <td>0.000000e+00</td>\n",
       "      <td>0.000000e+00</td>\n",
       "      <td>0.000000e+00</td>\n",
       "      <td>0.000000</td>\n",
       "      <td>0.000000e+00</td>\n",
       "      <td>0.000000</td>\n",
       "      <td>0.000000e+00</td>\n",
       "      <td>0.000000e+00</td>\n",
       "    </tr>\n",
       "    <tr>\n",
       "      <th>UNGROUPED|g__Acidaminococcus.s__Acidaminococcus_intestini</th>\n",
       "      <td>0.000000e+00</td>\n",
       "      <td>0.000000e+00</td>\n",
       "      <td>0.000000e+00</td>\n",
       "      <td>0.000000e+00</td>\n",
       "      <td>0.000000e+00</td>\n",
       "      <td>0.000000e+00</td>\n",
       "      <td>0.000000e+00</td>\n",
       "      <td>0.000000e+00</td>\n",
       "      <td>0.000000e+00</td>\n",
       "      <td>1.572923e+02</td>\n",
       "      <td>...</td>\n",
       "      <td>2.270098e+03</td>\n",
       "      <td>6.511477e+02</td>\n",
       "      <td>0.000000e+00</td>\n",
       "      <td>0.000000e+00</td>\n",
       "      <td>8.407260e+04</td>\n",
       "      <td>0.000000</td>\n",
       "      <td>9.780441e+02</td>\n",
       "      <td>0.000000</td>\n",
       "      <td>0.000000e+00</td>\n",
       "      <td>0.000000e+00</td>\n",
       "    </tr>\n",
       "    <tr>\n",
       "      <th>UNGROUPED|g__Adlercreutzia.s__Adlercreutzia_equolifaciens</th>\n",
       "      <td>0.000000e+00</td>\n",
       "      <td>0.000000e+00</td>\n",
       "      <td>0.000000e+00</td>\n",
       "      <td>0.000000e+00</td>\n",
       "      <td>0.000000e+00</td>\n",
       "      <td>0.000000e+00</td>\n",
       "      <td>0.000000e+00</td>\n",
       "      <td>0.000000e+00</td>\n",
       "      <td>0.000000e+00</td>\n",
       "      <td>0.000000e+00</td>\n",
       "      <td>...</td>\n",
       "      <td>0.000000e+00</td>\n",
       "      <td>0.000000e+00</td>\n",
       "      <td>0.000000e+00</td>\n",
       "      <td>0.000000e+00</td>\n",
       "      <td>0.000000e+00</td>\n",
       "      <td>0.000000</td>\n",
       "      <td>0.000000e+00</td>\n",
       "      <td>0.000000</td>\n",
       "      <td>0.000000e+00</td>\n",
       "      <td>0.000000e+00</td>\n",
       "    </tr>\n",
       "    <tr>\n",
       "      <th>...</th>\n",
       "      <td>...</td>\n",
       "      <td>...</td>\n",
       "      <td>...</td>\n",
       "      <td>...</td>\n",
       "      <td>...</td>\n",
       "      <td>...</td>\n",
       "      <td>...</td>\n",
       "      <td>...</td>\n",
       "      <td>...</td>\n",
       "      <td>...</td>\n",
       "      <td>...</td>\n",
       "      <td>...</td>\n",
       "      <td>...</td>\n",
       "      <td>...</td>\n",
       "      <td>...</td>\n",
       "      <td>...</td>\n",
       "      <td>...</td>\n",
       "      <td>...</td>\n",
       "      <td>...</td>\n",
       "      <td>...</td>\n",
       "      <td>...</td>\n",
       "    </tr>\n",
       "    <tr>\n",
       "      <th>7.6.2.2|g__Escherichia.s__Escherichia_coli</th>\n",
       "      <td>0.000000e+00</td>\n",
       "      <td>0.000000e+00</td>\n",
       "      <td>0.000000e+00</td>\n",
       "      <td>0.000000e+00</td>\n",
       "      <td>0.000000e+00</td>\n",
       "      <td>1.304312e+02</td>\n",
       "      <td>0.000000e+00</td>\n",
       "      <td>0.000000e+00</td>\n",
       "      <td>0.000000e+00</td>\n",
       "      <td>0.000000e+00</td>\n",
       "      <td>...</td>\n",
       "      <td>0.000000e+00</td>\n",
       "      <td>0.000000e+00</td>\n",
       "      <td>0.000000e+00</td>\n",
       "      <td>0.000000e+00</td>\n",
       "      <td>0.000000e+00</td>\n",
       "      <td>0.000000</td>\n",
       "      <td>0.000000e+00</td>\n",
       "      <td>0.000000</td>\n",
       "      <td>0.000000e+00</td>\n",
       "      <td>0.000000e+00</td>\n",
       "    </tr>\n",
       "    <tr>\n",
       "      <th>7.6.2.2|g__Klebsiella.s__Klebsiella_pneumoniae</th>\n",
       "      <td>0.000000e+00</td>\n",
       "      <td>0.000000e+00</td>\n",
       "      <td>0.000000e+00</td>\n",
       "      <td>0.000000e+00</td>\n",
       "      <td>0.000000e+00</td>\n",
       "      <td>1.247436e+01</td>\n",
       "      <td>0.000000e+00</td>\n",
       "      <td>0.000000e+00</td>\n",
       "      <td>0.000000e+00</td>\n",
       "      <td>0.000000e+00</td>\n",
       "      <td>...</td>\n",
       "      <td>0.000000e+00</td>\n",
       "      <td>0.000000e+00</td>\n",
       "      <td>0.000000e+00</td>\n",
       "      <td>0.000000e+00</td>\n",
       "      <td>0.000000e+00</td>\n",
       "      <td>0.000000</td>\n",
       "      <td>0.000000e+00</td>\n",
       "      <td>0.000000</td>\n",
       "      <td>0.000000e+00</td>\n",
       "      <td>0.000000e+00</td>\n",
       "    </tr>\n",
       "    <tr>\n",
       "      <th>7.6.2.5</th>\n",
       "      <td>0.000000e+00</td>\n",
       "      <td>0.000000e+00</td>\n",
       "      <td>0.000000e+00</td>\n",
       "      <td>0.000000e+00</td>\n",
       "      <td>0.000000e+00</td>\n",
       "      <td>1.446392e+02</td>\n",
       "      <td>0.000000e+00</td>\n",
       "      <td>0.000000e+00</td>\n",
       "      <td>0.000000e+00</td>\n",
       "      <td>0.000000e+00</td>\n",
       "      <td>...</td>\n",
       "      <td>0.000000e+00</td>\n",
       "      <td>0.000000e+00</td>\n",
       "      <td>0.000000e+00</td>\n",
       "      <td>0.000000e+00</td>\n",
       "      <td>0.000000e+00</td>\n",
       "      <td>0.000000</td>\n",
       "      <td>0.000000e+00</td>\n",
       "      <td>0.000000</td>\n",
       "      <td>0.000000e+00</td>\n",
       "      <td>0.000000e+00</td>\n",
       "    </tr>\n",
       "    <tr>\n",
       "      <th>7.6.2.5|g__Escherichia.s__Escherichia_coli</th>\n",
       "      <td>0.000000e+00</td>\n",
       "      <td>0.000000e+00</td>\n",
       "      <td>0.000000e+00</td>\n",
       "      <td>0.000000e+00</td>\n",
       "      <td>0.000000e+00</td>\n",
       "      <td>8.971281e+01</td>\n",
       "      <td>0.000000e+00</td>\n",
       "      <td>0.000000e+00</td>\n",
       "      <td>0.000000e+00</td>\n",
       "      <td>0.000000e+00</td>\n",
       "      <td>...</td>\n",
       "      <td>0.000000e+00</td>\n",
       "      <td>0.000000e+00</td>\n",
       "      <td>0.000000e+00</td>\n",
       "      <td>0.000000e+00</td>\n",
       "      <td>0.000000e+00</td>\n",
       "      <td>0.000000</td>\n",
       "      <td>0.000000e+00</td>\n",
       "      <td>0.000000</td>\n",
       "      <td>0.000000e+00</td>\n",
       "      <td>0.000000e+00</td>\n",
       "    </tr>\n",
       "    <tr>\n",
       "      <th>7.6.2.5|g__Klebsiella.s__Klebsiella_pneumoniae</th>\n",
       "      <td>0.000000e+00</td>\n",
       "      <td>0.000000e+00</td>\n",
       "      <td>0.000000e+00</td>\n",
       "      <td>0.000000e+00</td>\n",
       "      <td>0.000000e+00</td>\n",
       "      <td>5.492644e+01</td>\n",
       "      <td>0.000000e+00</td>\n",
       "      <td>0.000000e+00</td>\n",
       "      <td>0.000000e+00</td>\n",
       "      <td>0.000000e+00</td>\n",
       "      <td>...</td>\n",
       "      <td>0.000000e+00</td>\n",
       "      <td>0.000000e+00</td>\n",
       "      <td>0.000000e+00</td>\n",
       "      <td>0.000000e+00</td>\n",
       "      <td>0.000000e+00</td>\n",
       "      <td>0.000000</td>\n",
       "      <td>0.000000e+00</td>\n",
       "      <td>0.000000</td>\n",
       "      <td>0.000000e+00</td>\n",
       "      <td>0.000000e+00</td>\n",
       "    </tr>\n",
       "  </tbody>\n",
       "</table>\n",
       "<p>37992 rows × 74 columns</p>\n",
       "</div>"
      ],
      "text/plain": [
       "                                                    CSM5FZ3T_P_Abundance-RPKs  \\\n",
       "# Gene Family                                                                   \n",
       "UNMAPPED                                                         7.762117e+06   \n",
       "UNGROUPED                                                        1.624973e+07   \n",
       "UNGROUPED|g__Absiella.s__Absiella_dolichum                       0.000000e+00   \n",
       "UNGROUPED|g__Acidaminococcus.s__Acidaminococcus...               0.000000e+00   \n",
       "UNGROUPED|g__Adlercreutzia.s__Adlercreutzia_equ...               0.000000e+00   \n",
       "...                                                                       ...   \n",
       "7.6.2.2|g__Escherichia.s__Escherichia_coli                       0.000000e+00   \n",
       "7.6.2.2|g__Klebsiella.s__Klebsiella_pneumoniae                   0.000000e+00   \n",
       "7.6.2.5                                                          0.000000e+00   \n",
       "7.6.2.5|g__Escherichia.s__Escherichia_coli                       0.000000e+00   \n",
       "7.6.2.5|g__Klebsiella.s__Klebsiella_pneumoniae                   0.000000e+00   \n",
       "\n",
       "                                                    CSM5MCTZ_P_Abundance-RPKs  \\\n",
       "# Gene Family                                                                   \n",
       "UNMAPPED                                                         1.194642e+07   \n",
       "UNGROUPED                                                        2.359584e+07   \n",
       "UNGROUPED|g__Absiella.s__Absiella_dolichum                       0.000000e+00   \n",
       "UNGROUPED|g__Acidaminococcus.s__Acidaminococcus...               0.000000e+00   \n",
       "UNGROUPED|g__Adlercreutzia.s__Adlercreutzia_equ...               0.000000e+00   \n",
       "...                                                                       ...   \n",
       "7.6.2.2|g__Escherichia.s__Escherichia_coli                       0.000000e+00   \n",
       "7.6.2.2|g__Klebsiella.s__Klebsiella_pneumoniae                   0.000000e+00   \n",
       "7.6.2.5                                                          0.000000e+00   \n",
       "7.6.2.5|g__Escherichia.s__Escherichia_coli                       0.000000e+00   \n",
       "7.6.2.5|g__Klebsiella.s__Klebsiella_pneumoniae                   0.000000e+00   \n",
       "\n",
       "                                                    CSM5MCU4_P_Abundance-RPKs  \\\n",
       "# Gene Family                                                                   \n",
       "UNMAPPED                                                         8.990218e+06   \n",
       "UNGROUPED                                                        5.185262e+06   \n",
       "UNGROUPED|g__Absiella.s__Absiella_dolichum                       0.000000e+00   \n",
       "UNGROUPED|g__Acidaminococcus.s__Acidaminococcus...               0.000000e+00   \n",
       "UNGROUPED|g__Adlercreutzia.s__Adlercreutzia_equ...               0.000000e+00   \n",
       "...                                                                       ...   \n",
       "7.6.2.2|g__Escherichia.s__Escherichia_coli                       0.000000e+00   \n",
       "7.6.2.2|g__Klebsiella.s__Klebsiella_pneumoniae                   0.000000e+00   \n",
       "7.6.2.5                                                          0.000000e+00   \n",
       "7.6.2.5|g__Escherichia.s__Escherichia_coli                       0.000000e+00   \n",
       "7.6.2.5|g__Klebsiella.s__Klebsiella_pneumoniae                   0.000000e+00   \n",
       "\n",
       "                                                    CSM5MCUG_P_Abundance-RPKs  \\\n",
       "# Gene Family                                                                   \n",
       "UNMAPPED                                                         1.435785e+07   \n",
       "UNGROUPED                                                        2.239199e+07   \n",
       "UNGROUPED|g__Absiella.s__Absiella_dolichum                       1.847372e+03   \n",
       "UNGROUPED|g__Acidaminococcus.s__Acidaminococcus...               0.000000e+00   \n",
       "UNGROUPED|g__Adlercreutzia.s__Adlercreutzia_equ...               0.000000e+00   \n",
       "...                                                                       ...   \n",
       "7.6.2.2|g__Escherichia.s__Escherichia_coli                       0.000000e+00   \n",
       "7.6.2.2|g__Klebsiella.s__Klebsiella_pneumoniae                   0.000000e+00   \n",
       "7.6.2.5                                                          0.000000e+00   \n",
       "7.6.2.5|g__Escherichia.s__Escherichia_coli                       0.000000e+00   \n",
       "7.6.2.5|g__Klebsiella.s__Klebsiella_pneumoniae                   0.000000e+00   \n",
       "\n",
       "                                                    CSM5MCUQ_P_Abundance-RPKs  \\\n",
       "# Gene Family                                                                   \n",
       "UNMAPPED                                                         3.442401e+06   \n",
       "UNGROUPED                                                        4.746577e+06   \n",
       "UNGROUPED|g__Absiella.s__Absiella_dolichum                       0.000000e+00   \n",
       "UNGROUPED|g__Acidaminococcus.s__Acidaminococcus...               0.000000e+00   \n",
       "UNGROUPED|g__Adlercreutzia.s__Adlercreutzia_equ...               0.000000e+00   \n",
       "...                                                                       ...   \n",
       "7.6.2.2|g__Escherichia.s__Escherichia_coli                       0.000000e+00   \n",
       "7.6.2.2|g__Klebsiella.s__Klebsiella_pneumoniae                   0.000000e+00   \n",
       "7.6.2.5                                                          0.000000e+00   \n",
       "7.6.2.5|g__Escherichia.s__Escherichia_coli                       0.000000e+00   \n",
       "7.6.2.5|g__Klebsiella.s__Klebsiella_pneumoniae                   0.000000e+00   \n",
       "\n",
       "                                                    CSM5MCV1_P_Abundance-RPKs  \\\n",
       "# Gene Family                                                                   \n",
       "UNMAPPED                                                         1.383730e+07   \n",
       "UNGROUPED                                                        7.334599e+07   \n",
       "UNGROUPED|g__Absiella.s__Absiella_dolichum                       0.000000e+00   \n",
       "UNGROUPED|g__Acidaminococcus.s__Acidaminococcus...               0.000000e+00   \n",
       "UNGROUPED|g__Adlercreutzia.s__Adlercreutzia_equ...               0.000000e+00   \n",
       "...                                                                       ...   \n",
       "7.6.2.2|g__Escherichia.s__Escherichia_coli                       1.304312e+02   \n",
       "7.6.2.2|g__Klebsiella.s__Klebsiella_pneumoniae                   1.247436e+01   \n",
       "7.6.2.5                                                          1.446392e+02   \n",
       "7.6.2.5|g__Escherichia.s__Escherichia_coli                       8.971281e+01   \n",
       "7.6.2.5|g__Klebsiella.s__Klebsiella_pneumoniae                   5.492644e+01   \n",
       "\n",
       "                                                    CSM5MCXT_Abundance-RPKs  \\\n",
       "# Gene Family                                                                 \n",
       "UNMAPPED                                                       9.202028e+06   \n",
       "UNGROUPED                                                      1.785460e+07   \n",
       "UNGROUPED|g__Absiella.s__Absiella_dolichum                     0.000000e+00   \n",
       "UNGROUPED|g__Acidaminococcus.s__Acidaminococcus...             0.000000e+00   \n",
       "UNGROUPED|g__Adlercreutzia.s__Adlercreutzia_equ...             0.000000e+00   \n",
       "...                                                                     ...   \n",
       "7.6.2.2|g__Escherichia.s__Escherichia_coli                     0.000000e+00   \n",
       "7.6.2.2|g__Klebsiella.s__Klebsiella_pneumoniae                 0.000000e+00   \n",
       "7.6.2.5                                                        0.000000e+00   \n",
       "7.6.2.5|g__Escherichia.s__Escherichia_coli                     0.000000e+00   \n",
       "7.6.2.5|g__Klebsiella.s__Klebsiella_pneumoniae                 0.000000e+00   \n",
       "\n",
       "                                                    CSM67U9H_Abundance-RPKs  \\\n",
       "# Gene Family                                                                 \n",
       "UNMAPPED                                                       1.566929e+06   \n",
       "UNGROUPED                                                      2.433938e+06   \n",
       "UNGROUPED|g__Absiella.s__Absiella_dolichum                     0.000000e+00   \n",
       "UNGROUPED|g__Acidaminococcus.s__Acidaminococcus...             0.000000e+00   \n",
       "UNGROUPED|g__Adlercreutzia.s__Adlercreutzia_equ...             0.000000e+00   \n",
       "...                                                                     ...   \n",
       "7.6.2.2|g__Escherichia.s__Escherichia_coli                     0.000000e+00   \n",
       "7.6.2.2|g__Klebsiella.s__Klebsiella_pneumoniae                 0.000000e+00   \n",
       "7.6.2.5                                                        0.000000e+00   \n",
       "7.6.2.5|g__Escherichia.s__Escherichia_coli                     0.000000e+00   \n",
       "7.6.2.5|g__Klebsiella.s__Klebsiella_pneumoniae                 0.000000e+00   \n",
       "\n",
       "                                                    CSM67UAU_Abundance-RPKs  \\\n",
       "# Gene Family                                                                 \n",
       "UNMAPPED                                                       3.014989e+06   \n",
       "UNGROUPED                                                      3.363554e+06   \n",
       "UNGROUPED|g__Absiella.s__Absiella_dolichum                     0.000000e+00   \n",
       "UNGROUPED|g__Acidaminococcus.s__Acidaminococcus...             0.000000e+00   \n",
       "UNGROUPED|g__Adlercreutzia.s__Adlercreutzia_equ...             0.000000e+00   \n",
       "...                                                                     ...   \n",
       "7.6.2.2|g__Escherichia.s__Escherichia_coli                     0.000000e+00   \n",
       "7.6.2.2|g__Klebsiella.s__Klebsiella_pneumoniae                 0.000000e+00   \n",
       "7.6.2.5                                                        0.000000e+00   \n",
       "7.6.2.5|g__Escherichia.s__Escherichia_coli                     0.000000e+00   \n",
       "7.6.2.5|g__Klebsiella.s__Klebsiella_pneumoniae                 0.000000e+00   \n",
       "\n",
       "                                                    CSM6J2H9_P_Abundance-RPKs  \\\n",
       "# Gene Family                                                                   \n",
       "UNMAPPED                                                         1.089085e+07   \n",
       "UNGROUPED                                                        1.565668e+07   \n",
       "UNGROUPED|g__Absiella.s__Absiella_dolichum                       0.000000e+00   \n",
       "UNGROUPED|g__Acidaminococcus.s__Acidaminococcus...               1.572923e+02   \n",
       "UNGROUPED|g__Adlercreutzia.s__Adlercreutzia_equ...               0.000000e+00   \n",
       "...                                                                       ...   \n",
       "7.6.2.2|g__Escherichia.s__Escherichia_coli                       0.000000e+00   \n",
       "7.6.2.2|g__Klebsiella.s__Klebsiella_pneumoniae                   0.000000e+00   \n",
       "7.6.2.5                                                          0.000000e+00   \n",
       "7.6.2.5|g__Escherichia.s__Escherichia_coli                       0.000000e+00   \n",
       "7.6.2.5|g__Klebsiella.s__Klebsiella_pneumoniae                   0.000000e+00   \n",
       "\n",
       "                                                    ...  \\\n",
       "# Gene Family                                       ...   \n",
       "UNMAPPED                                            ...   \n",
       "UNGROUPED                                           ...   \n",
       "UNGROUPED|g__Absiella.s__Absiella_dolichum          ...   \n",
       "UNGROUPED|g__Acidaminococcus.s__Acidaminococcus...  ...   \n",
       "UNGROUPED|g__Adlercreutzia.s__Adlercreutzia_equ...  ...   \n",
       "...                                                 ...   \n",
       "7.6.2.2|g__Escherichia.s__Escherichia_coli          ...   \n",
       "7.6.2.2|g__Klebsiella.s__Klebsiella_pneumoniae      ...   \n",
       "7.6.2.5                                             ...   \n",
       "7.6.2.5|g__Escherichia.s__Escherichia_coli          ...   \n",
       "7.6.2.5|g__Klebsiella.s__Klebsiella_pneumoniae      ...   \n",
       "\n",
       "                                                    PSM6XBRK_TR_Abundance-RPKs  \\\n",
       "# Gene Family                                                                    \n",
       "UNMAPPED                                                          2.195493e+06   \n",
       "UNGROUPED                                                         3.380404e+06   \n",
       "UNGROUPED|g__Absiella.s__Absiella_dolichum                        0.000000e+00   \n",
       "UNGROUPED|g__Acidaminococcus.s__Acidaminococcus...                2.270098e+03   \n",
       "UNGROUPED|g__Adlercreutzia.s__Adlercreutzia_equ...                0.000000e+00   \n",
       "...                                                                        ...   \n",
       "7.6.2.2|g__Escherichia.s__Escherichia_coli                        0.000000e+00   \n",
       "7.6.2.2|g__Klebsiella.s__Klebsiella_pneumoniae                    0.000000e+00   \n",
       "7.6.2.5                                                           0.000000e+00   \n",
       "7.6.2.5|g__Escherichia.s__Escherichia_coli                        0.000000e+00   \n",
       "7.6.2.5|g__Klebsiella.s__Klebsiella_pneumoniae                    0.000000e+00   \n",
       "\n",
       "                                                    PSM6XBSE_Abundance-RPKs  \\\n",
       "# Gene Family                                                                 \n",
       "UNMAPPED                                                       2.154596e+06   \n",
       "UNGROUPED                                                      4.767825e+06   \n",
       "UNGROUPED|g__Absiella.s__Absiella_dolichum                     0.000000e+00   \n",
       "UNGROUPED|g__Acidaminococcus.s__Acidaminococcus...             6.511477e+02   \n",
       "UNGROUPED|g__Adlercreutzia.s__Adlercreutzia_equ...             0.000000e+00   \n",
       "...                                                                     ...   \n",
       "7.6.2.2|g__Escherichia.s__Escherichia_coli                     0.000000e+00   \n",
       "7.6.2.2|g__Klebsiella.s__Klebsiella_pneumoniae                 0.000000e+00   \n",
       "7.6.2.5                                                        0.000000e+00   \n",
       "7.6.2.5|g__Escherichia.s__Escherichia_coli                     0.000000e+00   \n",
       "7.6.2.5|g__Klebsiella.s__Klebsiella_pneumoniae                 0.000000e+00   \n",
       "\n",
       "                                                    PSM6XBSI_Abundance-RPKs  \\\n",
       "# Gene Family                                                                 \n",
       "UNMAPPED                                                       8.635140e+05   \n",
       "UNGROUPED                                                      1.980673e+06   \n",
       "UNGROUPED|g__Absiella.s__Absiella_dolichum                     0.000000e+00   \n",
       "UNGROUPED|g__Acidaminococcus.s__Acidaminococcus...             0.000000e+00   \n",
       "UNGROUPED|g__Adlercreutzia.s__Adlercreutzia_equ...             0.000000e+00   \n",
       "...                                                                     ...   \n",
       "7.6.2.2|g__Escherichia.s__Escherichia_coli                     0.000000e+00   \n",
       "7.6.2.2|g__Klebsiella.s__Klebsiella_pneumoniae                 0.000000e+00   \n",
       "7.6.2.5                                                        0.000000e+00   \n",
       "7.6.2.5|g__Escherichia.s__Escherichia_coli                     0.000000e+00   \n",
       "7.6.2.5|g__Klebsiella.s__Klebsiella_pneumoniae                 0.000000e+00   \n",
       "\n",
       "                                                    PSM6XBT3_Abundance-RPKs  \\\n",
       "# Gene Family                                                                 \n",
       "UNMAPPED                                                       1.395935e+06   \n",
       "UNGROUPED                                                      6.419539e+06   \n",
       "UNGROUPED|g__Absiella.s__Absiella_dolichum                     0.000000e+00   \n",
       "UNGROUPED|g__Acidaminococcus.s__Acidaminococcus...             0.000000e+00   \n",
       "UNGROUPED|g__Adlercreutzia.s__Adlercreutzia_equ...             0.000000e+00   \n",
       "...                                                                     ...   \n",
       "7.6.2.2|g__Escherichia.s__Escherichia_coli                     0.000000e+00   \n",
       "7.6.2.2|g__Klebsiella.s__Klebsiella_pneumoniae                 0.000000e+00   \n",
       "7.6.2.5                                                        0.000000e+00   \n",
       "7.6.2.5|g__Escherichia.s__Escherichia_coli                     0.000000e+00   \n",
       "7.6.2.5|g__Klebsiella.s__Klebsiella_pneumoniae                 0.000000e+00   \n",
       "\n",
       "                                                    PSM6XBVI_Abundance-RPKs  \\\n",
       "# Gene Family                                                                 \n",
       "UNMAPPED                                                       2.756469e+06   \n",
       "UNGROUPED                                                      8.907818e+06   \n",
       "UNGROUPED|g__Absiella.s__Absiella_dolichum                     0.000000e+00   \n",
       "UNGROUPED|g__Acidaminococcus.s__Acidaminococcus...             8.407260e+04   \n",
       "UNGROUPED|g__Adlercreutzia.s__Adlercreutzia_equ...             0.000000e+00   \n",
       "...                                                                     ...   \n",
       "7.6.2.2|g__Escherichia.s__Escherichia_coli                     0.000000e+00   \n",
       "7.6.2.2|g__Klebsiella.s__Klebsiella_pneumoniae                 0.000000e+00   \n",
       "7.6.2.5                                                        0.000000e+00   \n",
       "7.6.2.5|g__Escherichia.s__Escherichia_coli                     0.000000e+00   \n",
       "7.6.2.5|g__Klebsiella.s__Klebsiella_pneumoniae                 0.000000e+00   \n",
       "\n",
       "                                                    PSM7J177_Abundance-RPKs  \\\n",
       "# Gene Family                                                                 \n",
       "UNMAPPED                                                       14497.000000   \n",
       "UNGROUPED                                                       2791.691768   \n",
       "UNGROUPED|g__Absiella.s__Absiella_dolichum                         0.000000   \n",
       "UNGROUPED|g__Acidaminococcus.s__Acidaminococcus...                 0.000000   \n",
       "UNGROUPED|g__Adlercreutzia.s__Adlercreutzia_equ...                 0.000000   \n",
       "...                                                                     ...   \n",
       "7.6.2.2|g__Escherichia.s__Escherichia_coli                         0.000000   \n",
       "7.6.2.2|g__Klebsiella.s__Klebsiella_pneumoniae                     0.000000   \n",
       "7.6.2.5                                                            0.000000   \n",
       "7.6.2.5|g__Escherichia.s__Escherichia_coli                         0.000000   \n",
       "7.6.2.5|g__Klebsiella.s__Klebsiella_pneumoniae                     0.000000   \n",
       "\n",
       "                                                    PSM7J199_Abundance-RPKs  \\\n",
       "# Gene Family                                                                 \n",
       "UNMAPPED                                                       6.574273e+06   \n",
       "UNGROUPED                                                      2.078568e+07   \n",
       "UNGROUPED|g__Absiella.s__Absiella_dolichum                     0.000000e+00   \n",
       "UNGROUPED|g__Acidaminococcus.s__Acidaminococcus...             9.780441e+02   \n",
       "UNGROUPED|g__Adlercreutzia.s__Adlercreutzia_equ...             0.000000e+00   \n",
       "...                                                                     ...   \n",
       "7.6.2.2|g__Escherichia.s__Escherichia_coli                     0.000000e+00   \n",
       "7.6.2.2|g__Klebsiella.s__Klebsiella_pneumoniae                 0.000000e+00   \n",
       "7.6.2.5                                                        0.000000e+00   \n",
       "7.6.2.5|g__Escherichia.s__Escherichia_coli                     0.000000e+00   \n",
       "7.6.2.5|g__Klebsiella.s__Klebsiella_pneumoniae                 0.000000e+00   \n",
       "\n",
       "                                                    PSM7J4EF_Abundance-RPKs  \\\n",
       "# Gene Family                                                                 \n",
       "UNMAPPED                                                      503392.000000   \n",
       "UNGROUPED                                                     277541.663464   \n",
       "UNGROUPED|g__Absiella.s__Absiella_dolichum                         0.000000   \n",
       "UNGROUPED|g__Acidaminococcus.s__Acidaminococcus...                 0.000000   \n",
       "UNGROUPED|g__Adlercreutzia.s__Adlercreutzia_equ...                 0.000000   \n",
       "...                                                                     ...   \n",
       "7.6.2.2|g__Escherichia.s__Escherichia_coli                         0.000000   \n",
       "7.6.2.2|g__Klebsiella.s__Klebsiella_pneumoniae                     0.000000   \n",
       "7.6.2.5                                                            0.000000   \n",
       "7.6.2.5|g__Escherichia.s__Escherichia_coli                         0.000000   \n",
       "7.6.2.5|g__Klebsiella.s__Klebsiella_pneumoniae                     0.000000   \n",
       "\n",
       "                                                    PSMA265X_Abundance-RPKs  \\\n",
       "# Gene Family                                                                 \n",
       "UNMAPPED                                                       7.221684e+06   \n",
       "UNGROUPED                                                      1.087590e+07   \n",
       "UNGROUPED|g__Absiella.s__Absiella_dolichum                     0.000000e+00   \n",
       "UNGROUPED|g__Acidaminococcus.s__Acidaminococcus...             0.000000e+00   \n",
       "UNGROUPED|g__Adlercreutzia.s__Adlercreutzia_equ...             0.000000e+00   \n",
       "...                                                                     ...   \n",
       "7.6.2.2|g__Escherichia.s__Escherichia_coli                     0.000000e+00   \n",
       "7.6.2.2|g__Klebsiella.s__Klebsiella_pneumoniae                 0.000000e+00   \n",
       "7.6.2.5                                                        0.000000e+00   \n",
       "7.6.2.5|g__Escherichia.s__Escherichia_coli                     0.000000e+00   \n",
       "7.6.2.5|g__Klebsiella.s__Klebsiella_pneumoniae                 0.000000e+00   \n",
       "\n",
       "                                                    PSMA266U_Abundance-RPKs  \n",
       "# Gene Family                                                                \n",
       "UNMAPPED                                                       4.887119e+06  \n",
       "UNGROUPED                                                      1.167685e+07  \n",
       "UNGROUPED|g__Absiella.s__Absiella_dolichum                     0.000000e+00  \n",
       "UNGROUPED|g__Acidaminococcus.s__Acidaminococcus...             0.000000e+00  \n",
       "UNGROUPED|g__Adlercreutzia.s__Adlercreutzia_equ...             0.000000e+00  \n",
       "...                                                                     ...  \n",
       "7.6.2.2|g__Escherichia.s__Escherichia_coli                     0.000000e+00  \n",
       "7.6.2.2|g__Klebsiella.s__Klebsiella_pneumoniae                 0.000000e+00  \n",
       "7.6.2.5                                                        0.000000e+00  \n",
       "7.6.2.5|g__Escherichia.s__Escherichia_coli                     0.000000e+00  \n",
       "7.6.2.5|g__Klebsiella.s__Klebsiella_pneumoniae                 0.000000e+00  \n",
       "\n",
       "[37992 rows x 74 columns]"
      ]
     },
     "execution_count": 180,
     "metadata": {},
     "output_type": "execute_result"
    }
   ],
   "source": [
    "abund_df"
   ]
  },
  {
   "cell_type": "code",
   "execution_count": 181,
   "id": "75261d8a-d9ac-46cb-8732-3fb6cd9d82de",
   "metadata": {},
   "outputs": [],
   "source": [
    "#out_path = os.path.join(base_folder, mgx_folder, 'humann/merged', 'pathabundance_below_1_is_0.tsv')\n",
    "#out_path = os.path.join(base_folder, mgx_folder, 'humann/merged', 'ecs_below_1_is_0.tsv')\n",
    "#out_path = os.path.join(base_folder, mtx_folder, 'humann/merged', 'pathabundance_below_1_is_0.tsv')\n",
    "out_path = os.path.join(base_folder, mtx_folder, 'humann/merged', 'ecs_below_1_is_0.tsv')"
   ]
  },
  {
   "cell_type": "code",
   "execution_count": 182,
   "id": "d27d6f4a-2e55-46be-a0c3-a5caec8d976d",
   "metadata": {},
   "outputs": [],
   "source": [
    "abund_df.to_csv(out_path, sep = '\\t')"
   ]
  },
  {
   "cell_type": "code",
   "execution_count": null,
   "id": "51769031-d0bd-4e27-9f0e-e7820b4ae844",
   "metadata": {},
   "outputs": [],
   "source": []
  },
  {
   "cell_type": "markdown",
   "id": "ad2d32dd-810d-4ab9-8cfa-38e7c5d7714a",
   "metadata": {},
   "source": [
    "# core and variable paths "
   ]
  },
  {
   "cell_type": "code",
   "execution_count": 194,
   "id": "8636a8f1-ff1c-4308-b5a8-4b25cc287ecd",
   "metadata": {},
   "outputs": [],
   "source": [
    "def get_name(names):\n",
    "    nname = []\n",
    "    for cname in names:\n",
    "        nname.append('_'.join(cname.split('_')[:-1]))\n",
    "    return nname"
   ]
  },
  {
   "cell_type": "code",
   "execution_count": 195,
   "id": "c1dde86b-c5f0-4683-80e7-2ac84ece3a24",
   "metadata": {},
   "outputs": [],
   "source": [
    "ca.set_log_level('ERROR')\n",
    "folder_path = os.path.join(base_folder, 'humann/rna_dna_norm_1_to_0', 'paths')\n",
    "dat = ca.read_amplicon(os.path.join(folder_path, 'rna_dna_relative_expression_unstratified.tsv'),\n",
    "                       mgx_metadata,\n",
    "                       min_reads = None,normalize = None, sparse = False)"
   ]
  },
  {
   "cell_type": "code",
   "execution_count": 234,
   "id": "81eec0aa",
   "metadata": {},
   "outputs": [
    {
     "name": "stdout",
     "output_type": "stream",
     "text": [
      "2023-06-15 17:45:20 INFO loaded 46 samples, 46114 features\n",
      "2023-06-15 17:45:20 WARNING These have metadata but do not have data - dropped (1590): {'HSM5MD73', 'MSM9VZLZ', 'PSM7J1C8', 'HSM7CYXA', 'HSMA33NW', 'MSM6J2J3', 'CSM67UEA', 'CSM67UAK', 'MSM9VZNX', 'HSM67VFX_P', 'CSM9X222', 'MSM6J2J1', 'MSMA26BL', 'CSM5FZ4K_P', 'HSM7J4Q7', 'PSM7J1BR', 'HSM7CZ1T_P', 'ESM7F5CF', 'PSM7J13M', 'HSM5MD4A_P', 'PSMA26A1', 'CSM67UBN', 'PSM7J16B', 'ESM5ME9G_P', 'CSM79HQZ', 'CSM9X22G', 'PSM7J156', 'CSM5MCXV', 'MSMAPC7R', 'CSM5MCUA_P', 'HSM7J4KM', 'CSM9X211', 'MSM9VZOO', 'MSM5LLIG_P', 'CSM79HL6', 'HSM6XRTE_P', 'PSM6XBTB', 'ESM5MEE6_P', 'CSM7KOOR', 'PSM7J1CG', 'HSM7J4HG', 'MSM6J2JF_P', 'HSM7J4G1', 'HSM6XRQU', 'MSM6J2Q9', 'PSMA267P', 'MSM6J2II', 'HSM7CYY7', 'HSM6XRT4_P', 'HSM7J4OE', 'MSM9VZMI', 'PSM7J15K', 'PSM7J16W', 'PSM7J1AS', 'MSM5LLF6', 'PSM6XBU2', 'ESM5MEC9', 'CSM67UEI', 'MSM6J2IQ', 'MSM79HBZ', 'MSM79H9Q', 'HSM5MD49_P', 'HSM7J4OL', 'PSM7J17Z', 'MSM9VZHT', 'PSM7J127', 'MSM6J2IK', 'CSM5FZ44_P', 'HSM7CZ24', 'PSMA265N', 'CSM7KORO', 'CSM7KOOD', 'HSM7CYX4', 'PSM6XBRK_TR', 'MSMA26AT', 'MSMB4LZ8', 'MSMAPC5H', 'PSM7J15W', 'CSM79HJU', 'MSM79HAT', 'MSM9VZFF', 'CSM7KOSV', 'CSM5FZ3Z_P', 'CSM7KOTQ', 'CSM7KONK', 'CSM67U9H_P', 'HSM67VEI', 'CSM67UA2', 'MSMAPC59', 'CSM67U9V_P', 'HSM67VCZ', 'HSM5MD3Y', 'CSM7KOJS', 'CSM7KOR4_P', 'HSM6XRVC_TR', 'PSMA267H', 'CSM5MCUY_P', 'HSM7J4PO', 'HSMA33NO', 'PSM7J12D', 'HSM5MD5D_P', 'MSM9VZIQ', 'PSM7J12Z', 'CSM79HNY_P', 'HSM67VIF', 'HSM6XRS2', 'HSM7CYXG', 'CSM79HPO', 'HSM6XRQS', 'HSM7J4R2', 'CSM79HIX', 'MSM6J2RQ', 'CSM7KOKB', 'PSM6XBUI', 'CSM67UB5_P', 'MSM6J2K4', 'CSM67UG8', 'CSM67UH7', 'HSM7J4MK', 'CSM79HGZ', 'CSM7KOLM', 'CSM7KOTK', 'HSMA33MC', 'MSM6J2LV', 'CSM67U9H', 'MSM79H6J', 'PSM7J1AW', 'MSM9VZI2', 'PSM7J12B', 'HSM6XRSG', 'HSM7J4PQ', 'HSM7J4QD', 'PSM6XBSG_P', 'CSM7KOKL_P', 'HSM7J4N8', 'MSMA26AL', 'MSM6J2LL', 'CSM67UB7_P', 'CSM5MCYO_P', 'HSMA33QM', 'HSM7J4N6', 'MSMA26BF', 'CSM79HLE', 'HSM7CYXI', 'CSM7KOJO', 'MSMAPC57', 'HSM7CYWS_P', 'MSM6J2IO', 'MSM6J2IM', 'CSM7KOJW', 'HSMA33MI', 'MSM9VZME', 'PSMA269G', 'MSM9VZIM', 'PSMA265F', 'PSM7J15M', 'HSM5MD82_P', 'MSM79H65', 'PSM6XBSE_P', 'PSM6XBVK', 'HSM7J4HW', 'CSM5MCYQ_P', 'CSM9X1ZO', 'PSM7J143_P', 'CSM7KOK3', 'MSMAPC64', 'CSM9X1Z4', 'MSM6J2JH_P', 'MSMAPC66', 'CSM7KOKN', 'HSM7CYZD', 'HSMA33JP', 'HSM6XRSI', 'CSMAF72L', 'MSM6J2SK', 'CSM5LLGB_P', 'PSM7J1A2', 'CSM5MCXD', 'HSMA33LJ', 'CSM9X213', 'CSM79HGV_P', 'MSM9VZOQ', 'MSM6J2SE', 'PSM7J13U_P', 'PSMA266C', 'MSM6J2R2', 'HSM7J4MS', 'HSMA33IK', 'CSM5MCY8', 'HSMA33M2', 'PSM7J1BN_P', 'HSM5MD3L_P', 'HSM7J4OB', 'MSM9VZLJ', 'CSM5MCWK_P', 'MSMA26EZ', 'HSM6XRR7', 'CSM67UDF', 'CSM7KOMP', 'MSM6J2MJ', 'MSM79H58', 'HSM5MD6I_P', 'CSM79HIB', 'MSM5LLHA_P', 'HSM7J4KK', 'HSM6XRUX', 'HSM7J4IU', 'MSM9VZOU', 'CSM79HKT', 'MSM9VZP3', 'HSM7CYYB', 'MSMB4LYB', 'MSMAPC6K', 'CSMAHYLR', 'MSMA26BX', 'CSM79HPM_P', 'HSM67VHQ', 'PSMA266Q', 'HSM7J4RE', 'CSM7KONS_P', 'MSM79HBT', 'PSM6XBW1_P', 'MSM6J2MH', 'MSM6J2LH', 'MSM79HF1_P', 'CSM67UB9_P', 'MSM79HF3', 'HSMA33J1_P', 'HSM67VDZ', 'HSM7CZ1A', 'CSM79HPC', 'PSM7J1C2_P', 'MSM6J2QH', 'HSM7J4N4', 'HSMA33OZ', 'MSM79H5M', 'HSM7J4OX', 'MSM9VZF3', 'MSM9VZNR', 'HSM7J4JF', 'MSM6J2IG', 'CSM7KOP6', 'PSM6XBT5', 'MSM6J2OL', 'CSM67UBF', 'PSMA267D', 'CSM79HGN_P', 'CSM9X21L', 'MSMB4LXY', 'PSM7J1BF', 'HSM5MD7Z_P', 'CSM7KOQZ_P', 'MSM9VZEO', 'HSM7CZ28', 'MSM9VZGS', 'CSM79HO1', 'CSM79HP6', 'CSM7KOTS', 'HSM67VFZ', 'ESM718TM', 'MSM5LLER', 'MSM79HAH', 'CSM5MCWC', 'PSM6XBV2', 'ESM7F5C5', 'CSM7KOTC', 'MSM9VZMA', 'ESM5MEA9_P', 'PSMA263M', 'HSM5MD7K', 'HSM5MD4N', 'MSMA26DK', 'MSM9VZJJ_P', 'CSM79HLA', 'MSM5LLIM_P', 'CSM5FZ3X_P', 'MSM6J2M3', 'HSMA33S4', 'HSM6XRSZ_P', 'CSM79HJC_P', 'CSM7KORG', 'CSM9X1YV', 'CSMAG78W', 'CSM79HOZ', 'MSM6J2MF', 'MSM79H9Y', 'CSM5MCY2', 'HSM5MD4Y', 'PSM6XBTN_P', 'MSMAPC5D', 'CSM79HI7', 'CSM5MCUS_P', 'MSM6J2JB', 'HSM5MD5X_P', 'HSM7J4LH', 'HSM7J4MA', 'MSM5LLI4_P', 'CSM7KORI', 'ESM718T9', 'MSM5FZA2_P', 'CSM79HNG_P', 'HSMA33OT', 'HSM5MD43', 'MSM9VZI6', 'CSM79HM5_P', 'PSM7J12R', 'MSM9VZLR', 'PSMA269O', 'CSM79HGR_P', 'HSM7J4IW', 'MSM79HBV', 'PSM7J19B', 'MSMA267X', 'HSM6XRTG', 'MSM9VZL7', 'MSM6J2KA', 'HSM67VG6_P', 'MSM79HCG', 'PSM6XBTL', 'PSM6XBQY_TR', 'HSM7CZ1C', 'PSM6XBS4', 'HSM5MD8H_P', 'CSM79HG7_P', 'HSM67VD6', 'MSM79HF9', 'HSM6XRRD', 'CSM67UBB', 'CSM7KOMR_P', 'CSM67U9D', 'HSM6XRR9', 'HSMA33J5', 'MSM79H9U_P', 'CSM7KOU7_P', 'HSM5MD6A', 'CSM7KOPU', 'HSMA33MZ', 'HSMA33J9', 'MSM79H94_P', 'CSM5YRY7_P', 'HSM7J4HO', 'CSM9X1ZQ', 'CSM79HQX', 'HSM6XRTS', 'MSM5LLFU_P', 'PSM7J1DF', 'HSM67VFR', 'HSM5FZBR_P', 'PSMA264U', 'HSM6XRQO', 'HSM67VE4', 'CSM7KORC', 'MSM79HAN', 'HSM5MD6W', 'CSM7KOOP', 'HSMA33R5', 'HSM7J4HY', 'CSM67UAS', 'PSM6XBT7', 'PSM7J129', 'MSM79HDI', 'CSM7KOKJ', 'PSM7J1AM', 'PSMA264W', 'MSM79H9K', 'CSM67UGC', 'MSMAPC55', 'HSM7J4PS', 'CSM5MCWI_P', 'MSM5LLFO_P', 'MSM79H6F', 'HSM5MD4P_P', 'MSM6J2HN', 'MSM79H52_P', 'CSM79HKB', 'MSM5LLH8_P', 'CSM79HHW_P', 'HSMA33SI', 'CSM79HIL', 'CSM79HRG', 'HSM5MD6C', 'HSM67VFX', 'MSMA26EH', 'PSM6XBSK', 'CSM67UBZ', 'PSM7J13Q', 'CSM5MCZ7', 'HSM7J4O9', 'MSM9VZFT', 'PSMA265J_TR', 'HSM67VG2_P', 'MSM5LLHO_P', 'HSM67VHD', 'HSM5MD8F_P', 'CSM7KOUL', 'MSM9VZJZ', 'CSM67UFV', 'PSMA266O', 'MSM6J2M3_P', 'MSM9VZLT', 'ESM5MEC5', 'HSM7J4O7', 'CSM5MCXL', 'PSM7J1A8', 'CSM79HKZ', 'HSM7J4M4', 'ESM5GEZ1_P', 'CSM67UEM', 'PSM7J19F', 'HSM7J4Q3_P', 'HSMA33JD', 'HSM5MD6U_P', 'HSM7CZ26', 'PSM6XBSU_TR', 'ESM718TK', 'MSM79H5U', 'CSM67UEW_P', 'CSM79HIV', 'HSM6XRV6', 'MSM7J16J', 'CSM5MCVN', 'CSM9X215', 'CSM79HRE', 'ESM5MEBA_P', 'MSMB4LZV', 'MSM79HCP', 'CSM7KOPI', 'CSM7KOKR', 'PSM7J184', 'MSM5LLE9_P', 'HSM7CYZR', 'CSM79HM7', 'HSM5MD8L_P', 'MSM5LLDK', 'HSM6XRSE', 'HSMA33SK', 'CSM67UB3', 'PSM7J1AQ', 'HSM5MD43_P', 'MSM9VZIS', 'MSMAPC7T', 'MSMB4LZP', 'MSM6J2R8', 'PSMA267J', 'CSM7KON8', 'CSM7KOJY', 'MSM9VZN4_P', 'HSM7J4QT', 'MSM79H63', 'HSM5MD41', 'HSM7CZ1E', 'HSM7CZ1V', 'HSM7J4JD', 'CSM7KOST', 'PSMA263S', 'CSM7KOL4', 'MSM9VZGO', 'CSM9X23B', 'MSM6J2K8', 'MSM5LLDS', 'CSM79HOF', 'CSM79HIF', 'HSM7J4K4', 'MSM9VZHF', 'PSM6XBSO', 'CSM5FZ3R_P', 'CSM5FZ4M', 'HSMA33LP', 'CSM79HOJ', 'MSMA26AP', 'PSM7J182', 'PSM7J17X', 'CSM7KOO9', 'HSM67VGA', 'CSM5MCVL', 'MSMA26BN', 'CSM5MCV1_P', 'HSM7J4JZ', 'HSM5MD6O_P', 'HSM7J4OV', 'MSM6J2IY', 'CSM5MCZF', 'CSM7KONA', 'MSM5LLDQ', 'CSM7KOK5', 'MSM6J2HJ', 'CSM7KORM', 'ESM5MEBE', 'PSM7J15U', 'CSMAH393', 'CSM5MCYW', 'HSM7J4I3', 'HSMA33J3', 'MSM9VZKC', 'HSMA33LZ', 'CSM9X22U', 'HSM6XRQC_P', 'CSM79HLK', 'MSM5LLGN_P', 'PSM7J1CI', 'HSM6XRQK', 'MSM79HAJ', 'PSM7J13Y_P', 'MSM9VZES', 'CSM67UCU_P', 'CSM67UAW', 'CSM79HQF', 'MSM6J2PS', 'CSM7KOMX', 'CSM67UGO', 'MSM79HDA', 'MSM9VZIY', 'HSM5MD5D', 'CSM79HLM', 'HSM67VGC', 'CSM7KONW_P', 'MSM9VZOG', 'MSM6J2LT', 'HSM7J4J9', 'CSM79HR6', 'PSM7J13I', 'CSM7KOQ1', 'HSM7CZ3C', 'CSM67UEP_P', 'PSM6XBRK', 'ESM5MEC7_P', 'HSM5FZBQ_P', 'CSM7KOOH', 'MSM79HF7', 'CSM67UEW_TR', 'HSM5MD66', 'MSM9VZMS', 'HSM5MD53', 'MSM9VZGY', 'MSM79H6B', 'MSM79H85', 'CSM7KOJU', 'MSM6J2QJ', 'MSM9VZF1', 'PSM7J18I', 'MSMA26CX', 'MSM5LLGF_P', 'CSM79HLI', 'HSM67VHK', 'HSM6XRT8', 'HSM5MD4O', 'HSM67VHW', 'HSM5MD7M', 'HSM7CZ1Z', 'CSM7KOMV_P', 'HSM6XRQY', 'CSM7KOJG', 'MSM9VZHR', 'PSM7J1BV', 'CSM7KONU', 'MSMA26ER', 'PSM7J171', 'HSM67VFF', 'MSM6J2HH', 'MSM79H5K', 'MSM6J2HD', 'PSM7J1BL', 'PSM6XBSA', 'HSM67VGA_P', 'PSM7J1CS_P', 'PSM6XBRM_P', 'CSM5FZ3N_P', 'HSMA33RT', 'MSM9VZLF', 'HSMA33PX', 'CSM5MCV5_P', 'MSMAPC6G', 'HSMA33ME', 'MSM6J2K6', 'MSM79HDQ_TR', 'HSM6XRQB_P', 'CSM79HHA', 'MSM9VZIU', 'PSM7J17L', 'CSM5MCYI_P', 'MSMA26AX', 'ESM5GEYX_P', 'HSMA33R9', 'MSM6J2RA', 'ESM7F5CD', 'HSM6XRVW', 'HSM6XRVC', 'HSM5MD59_P', 'CSM7KOUB', 'PSM7J1BB', 'PSM7J1A4', 'MSM9VZEQ', 'MSM6J2QB', 'CSM7KOQP_P', 'PSM7J14N', 'MSMAPC6O', 'HSM67VD4', 'MSMB4LXS', 'HSMA33NY', 'PSM6XBVY_P', 'CSM5MCVJ_P', 'HSM7J4QL', 'PSM6XBSS', 'HSM67VHS', 'HSM67VIJ_P', 'CSMAE44D', 'HSM7J4GP', 'HSM5MD71', 'CSM67UAY', 'PSM6XBSI', 'HSM7J4HA', 'HSM7J4K2', 'PSM6XBVM', 'MSM9VZPN', 'MSM79HBR', 'ESM5MEDU', 'CSM79HGF_P', 'CSM5MCWM_P', 'CSM5MCYM_P', 'CSM79HLA_TR', 'ESM5GEXY', 'HSM7J4LF', 'MSM9VZNH_TR', 'HSMA33KM', 'CSM67U9J', 'CSM79HIZ', 'HSM5MD6E_P', 'ESM5MEBG', 'HSM7CZ2Z', 'CSM67UCK', 'CSM79HNI', 'MSM79H69', 'CSM67UFZ', 'HSM5MD7U', 'HSM6XRRV', 'MSM79H7O', 'MSMAPC6A', 'HSM67VDX_P', 'ESM718T7', 'HSM7J4HE', 'HSMA33RX_TR', 'HSMA33MS', 'MSM79H54', 'CSM7KOK7', 'PSM7J1BD', 'CSM7KOQ5_P', 'MSM79HFW', 'MSM7J16P', 'HSMA33OP', 'HSM5MD7Q', 'HSM7J4G8', 'MSMA26DI', 'HSM67VGE_P', 'PSM7J15Q', 'MSM9VZLX_P', 'PSM7J158', 'PSM7J16H', 'MSMA26BB', 'CSM79HN6', 'PSM7J16U', 'MSM5LLHQ_P', 'CSM7KOU9', 'CSM67UEW', 'PSM7J15I', 'PSM7J17T', 'HSM7J4PW', 'CSM67UE7', 'PSM7J16Y', 'MSM5LLI2_P', 'MSM9VZJ3', 'HSM67VI1', 'CSM7KOOT', 'PSM6XBUK', 'PSM7J14L', 'HSMA33M8', 'HSM7J4L9', 'CSM79HJY', 'MSM79HEA', 'HSMA33JR', 'CSM67UB9', 'MSM9VZNZ', 'PSM6XBR1', 'MSM79H9G', 'CSM7KOUJ_P', 'ESM7F5CB', 'MSM79H9M', 'ESM5ME9H_P', 'PSM7J13E', 'HSM7J4PU', 'PSM6XBTH_P', 'CSM79HID', 'PSM6XBT1', 'HSM7J4HK', 'CSM79HOL', 'HSM5MD6Q', 'HSM67VDT_P', 'HSM7J4LP', 'CSM79HR2', 'HSM6XRUZ', 'MSM79H5E', 'PSM7J1B9', 'MSM79H5A', 'HSM6XRVM', 'CSM79HLG', 'CSM5MCWE', 'CSM79HPS', 'HSM6XRUN', 'CSM79HQ9', 'MSM79HBB', 'CSM79HH4', 'ESM5MEAB_P', 'HSM7J4Q1', 'HSM6XRUR', 'HSM7CYXE', 'CSM79HJS', 'CSM7KOLE', 'HSM7CZ16', 'PSMA265H', 'HSM7CZ18', 'HSM7CZ2X_P', 'MSM9VZOK', 'CSM5FZ42_P', 'CSM9X1Y5', 'HSM7J4OP', 'MSM79HDC', 'HSM5MD5F_P', 'MSM9VZOS', 'CSM79HHW', 'PSM6XBTR', 'CSM7KOQX', 'PSM7J15S', 'MSM6J2JD', 'MSM5LLDC', 'HSM67VGY', 'MSM9VZLN', 'MSM5LLGD_P', 'MSMB4LXW', 'HSM7CZ2E', 'ESM5MECQ', 'HSM6XRSX', 'MSM5LLFM_P', 'HSMA33J7', 'ESM5MEA7_P', 'PSM7J14P', 'CSM7KOK1', 'CSM79HNK', 'MSMB4LYH', 'CSM79HJQ', 'MSM9VZOY', 'PSMA2668', 'MSM6J2LY', 'HSMA33R7', 'MSM6J2J5', 'MSM9VZOM', 'HSM7J4GR', 'MSM5LLIE_P', 'PSM7J1BP', 'PSM6XBUM', 'HSM67VFH', 'HSM6XRVA', 'CSM5MCXB_P', 'CSM79HPA_TR', 'CSM5MCVF_P', 'CSM5MCZB', 'HSM6XRQ8', 'HSM7CYZ5', 'CSM7KOPO', 'MSM6J2QF', 'MSM79HCI', 'HSMA33PZ', 'HSM7CZ36', 'MSM5LLI6_P', 'CSM67U9B', 'MSM5LLHC', 'PSM6XBVO', 'ESM9IEP1', 'HSMA33P6', 'MSM6J2SI', 'MSM79HDK', 'PSM7J17F', 'HSM67VHF', 'CSM7KOP2', 'HSMA33O1', 'HSMA33OV', 'CSM7KOTU', 'CSM7KOSH', 'MSM79H9A', 'MSM79H89', 'MSMA26DG', 'PSM6XBVS', 'CSM7KOJQ', 'HSM6XRUV', 'MSMAPC7P', 'MSM9VZKE', 'MSMAPC7J', 'ESM5GEZ6_P', 'PSM6XBT9', 'CSM5MCVD_P', 'CSM9X21R', 'PSM7J14R', 'MSM6J2PU', 'PSM7J1B7', 'MSM9VZEK', 'ESM7F5AE_P', 'MSM5LLF8', 'MSM79HDS', 'HSM7J4NC', 'HSM6XRTM', 'PSM7J163', 'PSM7J193', 'MSM79HA7', 'HSM7J4OZ', 'MSM6J2QD', 'HSMA33IC', 'HSMA33RD', 'MSM5LLDM', 'HSM6XRSX_P', 'PSM7J4EF', 'MSM79HDQ', 'MSMB4LZ4', 'MSM6J2HT', 'CSM9X1XU', 'PSM7J17B', 'CSM79HI3', 'CSM9X21J', 'CSM7KOPS', 'PSM7J14X', 'CSM79HK9', 'CSM79HP4', 'PSM7J177', 'MSM79HD8_P', 'PSMA266Y', 'HSM6XRVK', 'CSM79HPU', 'HSM5MEE5_P', 'HSM7J4HC', 'HSM7J4NA', 'ESM5MEC3', 'MSM9VZEW', 'PSM6XBSC_P', 'MSM7J16L', 'MSM6J2KE', 'HSM5MD4B_P', 'MSM6J2LN', 'HSMA33JN', 'PSM6XBQM_P', 'MSM5LLHI_P', 'MSM6J2PO', 'MSM9VZGU', 'MSM79H87', 'HSM7J4O3', 'PSMA267R', 'PSMA2671', 'ESM718V4', 'ESM5MEBU', 'CSM7KOLA', 'HSMA33MG', 'CSM9X21T', 'MSMA26BH', 'CSM79HIN', 'HSM7CYYD', 'HSMA33R1', 'CSM79HIR', 'CSM7CZ2F_P', 'HSM6XRR5', 'MSM9VZHP', 'PSM7J13K', 'HSM7J4PE', 'PSMA264O', 'HSM6XRT2_P', 'MSM9VZM4_P', 'CSM79HNM', 'MSM9VZHL', 'CSM5MCU8_P', 'HSM6XRVU', 'HSM7CYX6', 'HSM7J4OT', 'HSM7CYXS', 'HSMA33PN', 'MSM5LLGR_P', 'MSM9VZPT', 'MSM6J2RS', 'HSM7CYZ7', 'HSM7CZ32', 'PSM6XBW3', 'MSM6J2RU', 'CSM7KON2', 'MSM5FZ9N_P', 'CSM9X23H', 'MSM6J2IE', 'HSM7CZ2J_P', 'CSMA9J65', 'CSM7KOJE', 'ESM5GEZ4_P', 'CSM79HR8', 'HSM7J4KI', 'CSM79HNW', 'PSM6XBVQ', 'MSM9VZJB', 'CSM5MCWQ', 'HSM7CYZB', 'MSM9VZHZ', 'MSM9VZLL', 'CSM79HKV', 'ESM5ME9U', 'HSM6XRTC_P', 'MSM79H8L', 'HSM6XRVO', 'HSM7CZ2V_P', 'PSM7J19P', 'PSM6XBSM', 'PSM7J19H', 'HSM67VIB', 'PSM6XBUG', 'MSMA26BD', 'MSM79H6L', 'HSMA33IG', 'PSM7J18E', 'MSMA26AZ_TR', 'PSM7J19T', 'PSMB4MC3', 'PSMA266U', 'HSM6XRQM', 'CSM7KOKZ', 'HSM67VI7', 'PSMA265D', 'CSM7KOMB', 'HSM6XRS4', 'CSM79HIH', 'MSM5LLFK_P', 'CSM7KOKH_P', 'HSM7J4JP', 'PSM7J12F', 'HSMA33OR', 'MSM7J16N', 'MSM6J2JR', 'HSM67VGI_P', 'PSM7J18M', 'HSM7J4NU', 'HSM7J4JT_P', 'CSM5MCXR', 'CSM79HJO', 'PSM7J18Q', 'PSM6XBTX', 'CSM5FZ4G_P', 'HSMA33QO', 'MSM6J2HP', 'PSM7J179', 'HSMA33OL', 'MSM79H5G', 'HSM7CYZV', 'HSMA33NG_P', 'MSM6J2HR', 'HSM7CYY3', 'HSMA33IO', 'CSM79HHM', 'CSM5FZ46_P', 'ESM7F5AK', 'MSM79H7Q', 'HSM7CYY5', 'MSM7J16R', 'CSM5MCVV_P', 'PSMA265L', 'MSM6J2PM', 'MSM9VZHX', 'CSM67UAI_P', 'MSM633FF_P', 'CSM7KOO5', 'CSM67U9P_P', 'ESM5MEDZ_P', 'HSM5MD48', 'HSM67VHB', 'MSM79HAL', 'MSMA26DO', 'HSMA33NA', 'CSM5MCWG', 'HSM7J4I9', 'HSM7J4PA', 'CSM5MCXN', 'MSM79H9C', 'MSM9VZMA_TR', 'ESM718SY', 'CSM79HH8', 'HSM67VES', 'MSM9VZF7', 'HSM7J4PG', 'HSMA33OD', 'CSM7KOOL', 'PSMA264S', 'MSM9VZLB', 'PSM6XBS4_P', 'MSM5LLHV_P', 'ESM718V8', 'HSMA33MK', 'PSM7J14T', 'HSM6XRTQ', 'HSM7J4JN', 'HSM67VCX_P', 'ESM5MEDN', 'CSM7KOSP', 'HSM67VEC', 'HSM67VFD', 'MSM9VZPH', 'HSM5MD8J_P', 'HSM7J4QZ', 'HSM5MD5K_P', 'MSM6J2N6_P', 'MSM5LLE3_P', 'CSM67U9N', 'CSM7KOMZ', 'HSM6XRV4', 'PSM6XBUQ', 'MSM6J2KC', 'CSM7KOUN', 'HSMA33P2_P', 'CSMA88CB', 'MSM9VZOW', 'MSM79HCN_P', 'HSMA33LH', 'ESM5GEYW_P', 'HSM67VEM', 'MSM6J2HF', 'PSM7J16F', 'MSM5LLHG_P', 'ESM5MEBI', 'ESM5MECL', 'HSMA33PL', 'CSM79HN2', 'PSM7J136', 'MSM6J2LW', 'MSM6J2KM', 'CSM67UDR', 'MSM79H6H', 'CSM5MCWA_P', 'HSMA33KO', 'HSM7CZ2H', 'PSMB4MBS', 'CSM79HOT', 'MSM6J2PQ_P', 'HSM7J4HS', 'MSM79HBP', 'CSM67UBX', 'HSM6XRTG_P', 'CSM79HGH_P', 'HSM7J4QF', 'CSM79HHU', 'HSM7J4PM', 'MSM9VZMU', 'HSMA33RR', 'MSMA26AN', 'PSMA266I', 'MSM5LLIQ_P', 'HSM7CYYR_P', 'MSM9VZF5', 'ESM5MED2', 'HSM7J4KG', 'HSM6XRQW', 'CSM9X21N', 'PSM7J1BH', 'CSM67UF1_P', 'ESM5MEB9_P', 'HSM7J4K6', 'HSM5MD5B', 'HSM7CYZ9', 'HSMA33IA', 'CSM5MCZ3', 'CSM79HH2_P', 'HSMA33MV', 'MSM9VZEK_TR', 'CSM79HGP', 'CSM67UE3', 'HSM7J4IP', 'MSM5LLDU', 'HSM67VI5', 'MSM6J2MD', 'HSM7J4ON', 'CSM79HGJ_P', 'HSM5MD8N_P', 'MSM9VZHN', 'HSM5MD7J', 'MSM79HBX_P', 'HSM67VEE', 'MSM9VZHJ', 'CSM7KORS', 'MSMB4LZX', 'HSM7J4LN', 'HSM7J4M6', 'HSM5MD7O', 'HSMA33JZ', 'HSM67VEW', 'HSM67VDR_P', 'HSM67VH1', 'CSM79HOV', 'HSM7J4MC', 'CSM9X23N', 'PSMA264K', 'MSM79H7W', 'ESM718UH', 'MSM9VZKI', 'HSM7J4HU', 'CSM7KOSX', 'HSM7J4HI', 'PSM7J1CK_P', 'MSM6J2QR', 'HSM67VEK', 'MSM9VZMC', 'CSM67UAO', 'CSM79HR4', 'MSM79HAR', 'HSM5MD8D_P', 'HSM5MD44_P', 'MSMA26EJ', 'PSM6XBQS', 'CSM67UF5', 'MSMA26ET', 'HSM5MD4W_P', 'MSM6J2Q5', 'HSM6XRTO', 'HSM6XRST', 'HSM7J4MW', 'HSM5MD75', 'CSM67UAA', 'PSMB4MC7', 'MSMAPC5Z', 'PSM6XBS8', 'HSMA33RF', 'CSM67U9R_P', 'HSM5MD7S', 'HSMA33KU', 'CSM9X22K', 'PSM7J19J', 'PSMA263W', 'MSM79H83', 'PSM7J1DL', 'CSM9X237', 'MSM79H98', 'ESM5MEDP_P', 'HSM5MD6K_P', 'CSM79HRC', 'PSM7J173', 'PSM6XBT3', 'CSM79HQR_P', 'MSM5LLGL', 'PSM6XBTF_P', 'CSM67UBR', 'CSM79HGF', 'MSMB4LZK', 'CSM79HJI_P', 'MSM79HES', 'CSM67UB1', 'CSM79HGL_P', 'CSM5FZ4C_P', 'CSM5MCUE_P', 'CSM79HJ4_P', 'CSM7KOR8_P', 'HSM7J4NE', 'HSM7J4O1', 'HSM7J4IO', 'MSM9VZIO', 'MSM79HDG_TR', 'MSM79HDU', 'HSMA33IS', 'HSM7J4IR', 'MSMA26AZ', 'HSM7J4IQ', 'PSMA264Q', 'HSMA33SE', 'MSMB4LZC', 'HSM7CYYF', 'MSM79HC8', 'CSM79HIT', 'MSM79H81', 'PSM7J154', 'HSM7CZ3G', 'CSM5MCXJ', 'PSMB4MBK', 'HSM7J4O5', 'MSM6J2JP', 'MSM6J2RG_P', 'CSM7KOPK', 'HSM7J4Q9', 'HSMA33JB', 'MSM79HC4', 'CSM79HMP', 'MSM79H6Y', 'CSM5MCUC_P', 'HSM7CYX2', 'PSM7J161', 'PSM7J1CU', 'MSM9VZMW', 'CSM7KOSL', 'MSM9VZGW', 'HSM7J4NS', 'HSM7J4KO', 'PSM7J15A', 'HSM5MD5P', 'ESM5GEZ3_P', 'MSM79H8N', 'MSM6J2QL', 'MSMAPC6M', 'HSM67VHH', 'HSM7J4PY', 'MSM79H7Y', 'MSM9VZH7', 'HSMA33LH_TR', 'HSM7J4HQ', 'MSM9VZLP', 'CSM5MCVB_P', 'MSM79HA3', 'MSM5LLI8_P', 'HSM6XRS6', 'MSM9VZFH', 'MSM79H5Y', 'PSMA2653', 'MSMA26EP', 'PSM6XBTD', 'CSM7KOPG', 'HSM7J4KC', 'HSM5MD6K', 'HSM7J4NY', 'PSMA267F', 'MSM79H7M', 'PSM7J1AU', 'PSM7J18K', 'HSM67VDT', 'CSM9X1ZY', 'MSM6J2Q7', 'CSM79HPK', 'MSMA26DM', 'PSM6XBS2_P', 'CSM7KOOJ', 'HSM67VDP', 'CSM7KOOX', 'HSM7J4I5', 'PSM6XBTT', 'HSM5MD6I', 'CSM67UDJ', 'CSM7KOP8', 'ESM5GEZA_P', 'HSMA33LX', 'MSM6J2RO', 'PSMA266M', 'MSM9VZLD', 'PSMA265J', 'CSM5MCYU_P', 'HSM67VGK', 'MSM6J2HL', 'PSMB4MC1', 'HSM6XRTA_P', 'MSM79HDG', 'MSM79HA1', 'HSM7CYY9', 'CSM7KOOF', 'MSM79H7E', 'HSMA33NQ', 'HSM7J4PC', 'HSMA33MX', 'MSM9VZNH', 'MSMA2688', 'CSM79HGD_P', 'PSM7J17V', 'HSM6XRQB', 'MSM79H8B', 'HSMA33N4', 'HSM7CYX8', 'CSMAIG7X', 'HSM7J4JJ', 'CSM79HMN', 'CSM79HNU', 'MSMA26AV', 'ESM5MEBS', 'CSM5MCVZ_P', 'CSM79HQT_P', 'MSM79HF5', 'MSMA2684', 'MSM79HD6_P', 'PSM7J1B3_P', 'CSM79HQB', 'MSM6J2PK', 'CSM67UAQ', 'MSM9VZFJ_P', 'CSM79HJW', 'HSM7J4ME', 'HSMA33Q6', 'MSM6J2RK', 'CSM5MCYS', 'HSM7CYXC', 'MSM9VZEY', 'HSM7CYYV_P', 'MSM5FZ9X_P', 'CSM5MCXP', 'CSM67UAM', 'CSM9X22S', 'PSM7J15O', 'ESM5ME9D_P', 'MSM6J2Q3', 'HSM67VIL', 'PSM7J13Y', 'MSM79HDM', 'MSM79H8H', 'MSM6J2RC', 'HSM67VEU', 'HSM67VI9', 'MSM5LLEP', 'CSM79HLC', 'MSM5LLGJ_P', 'CSM67UBH', 'CSM79HMT', 'MSM79HB6', 'HSM5MD7W_P', 'CSM7KOS7', 'HSM7CZ38', 'HSMA33SG', 'CSM9X235', 'HSM67VG8', 'PSMB4MBI', 'CSM7KOPW', 'MSM9VZIW', 'HSM6XRV8', 'CSM5MCXH', 'MSM6J2RM', 'HSM5MD6Y', 'MSM79H9W', 'MSM9VZHB', 'CSM79HJ6_P', 'ESM5GEYU_P', 'MSM9VZFR', 'HSM6XRRJ', 'CSM67U9X_P', 'HSM7CZ22', 'MSM6J2PW', 'PSMA265B', 'MSM5LLF4', 'CSM7KOPM', 'MSM5LLDE', 'PSM7J1BX', 'PSM6XBTP', 'MSM79HDE', 'HSM67VGK_TR', 'PSM7J141', 'CSM5MCUK_P', 'HSMA33QY', 'HSM7J4M8', 'PSM6XBQU', 'HSM7J4GD', 'HSM5MD4U_P', 'CSM7KOKD', 'HSM7J4NM', 'HSM6XRSN', 'HSM7CZ3E', 'PSM6XBSE', 'CSM5MCW6', 'ESM5MEDK', 'HSM5FZBP_P', 'CSM79HP2', 'MSM79HFY', 'HSM7J4K8', 'MSM9VZEM', 'HSM7CZ14', 'PSM6XBSU', 'MSM5LLGH_P', 'CSM9X22I', 'HSM5MD5H_P', 'ESM5MEDD', 'MSMAPC6C', 'MSM6J2HB', 'MSMA26AR', 'MSM79HF9_TR', 'MSM79H8F', 'MSM9VZP1', 'MSM9VZOI', 'MSMA26BV', 'MSM9VZFN', 'CSM5MCXF_P', 'HSM5MD79', 'CSM67UDR_TR', 'ESM5MEDF', 'MSM5LLDA', 'MSMA26BT', 'CSM79HJA', 'CSM5MCXT', 'HSMA33RX', 'PSMA265T', 'HSM67VID', 'MSM79HBL', 'HSM7J4QJ', 'CSM5MCW4_P', 'MSM9VZO2', 'CSM79HKX', 'MSMAPC5B', 'PSM7J17D', 'CSM67UET_P', 'HSM67VEG', 'CSM67UDY', 'MSMA26EL', 'HSM6XRR3', 'HSMA33OX', 'HSM7CYYH', 'HSM67VD2', 'HSM5MD6M', 'PSM7J19X_P', 'HSM7CYXQ', 'CSM79HPQ_P', 'HSM6XRV2', 'MSM6J2ON', 'PSMA263U', 'HSMA33MA', 'HSM7J4JH', 'HSM6XRQE_P', 'CSM7KOMH', 'HSM7CZ1G', 'MSM79HCR', 'MSM6J2LR', 'MSM79HFB', 'PSM7J186', 'PSM7J12J', 'HSM7J4KA', 'CSM7KORK', 'HSM5FZBZ', 'CSM7KOSJ', 'CSM79HG5', 'HSMA33L1', 'HSM7CYZL', 'MSM6J2MB', 'HSM6XRQI', 'HSM5MD5Z_P', 'CSM7KOLY', 'CSM7KOKF', 'CSM5MCXX_P', 'MSMA26BR', 'CSM9X233', 'MSM79HBN', 'CSM7KOPE', 'CSM5FZ4A_P', 'PSM6XBTZ_P', 'HSM7CYYP', 'PSM7J19R', 'HSM5MD5B_P', 'PSM7J18G', 'HSM7CZ2A', 'CSM79HL4', 'HSM7J4QH', 'HSM6XRRB', 'CSM7KOR2', 'MSM6J2JT', 'CSM7KOON', 'CSMACTZP', 'PSM7J1A6', 'CSM67UF1', 'CSM67UAG', 'MSM6J2ML', 'HSM7J4KQ', 'MSM79HEU', 'MSM79HEW', 'MSM5LLH4_P', 'HSM7J4I7', 'MSM79HEY', 'HSMA33KS', 'MSM9VZLH', 'CSM5MCUO', 'ESM718TF', 'HSMA33KQ', 'CSMA8M9R', 'HSM67VEQ', 'PSMA269W', 'MSM6J2OP', 'MSM5LLD6_P', 'PSMA269S', 'CSM67U9T_P', 'HSM7J4P2', 'HSM6XRT6_P', 'CSM9X1ZC', 'HSMA33LB', 'PSMA2675', 'HSM7CYXO', 'HSM6XRS8', 'CSM5MCX3', 'HSM7CYZJ', 'MSMA26EN', 'HSMA33O3', 'MSM5LLDI', 'CSM7KORU', 'HSM67VEM_TR', 'HSM5MD47_P', 'MSM9VZNL', 'CSM5MCY4', 'CSM7KOKP_P', 'MSM79H5S', 'CSM79HM1', 'HSM7CYZT', 'ESM5MEBP_P', 'MSM5LLF2_P', 'PSM7J12V', 'CSM9X1Y3', 'HSM7J4PI', 'PSMB4MC5', 'HSM7J4IS', 'CSM79HOX', 'HSM7J4LD', 'MSMB4LZZ', 'CSM7KOTO', 'HSM5MD6S_P', 'HSM7J4QB', 'MSM79H67', 'CSM7KOMT', 'PSM7J1C4', 'PSMA2659', 'CSM79HJ8_P', 'CSM9X219', 'MSM9VZJF_P', 'CSM5MCZD', 'HSMA33OJ', 'HSM5FZC2_P', 'CSM5MCUW_P', 'PSMA2651_P', 'HSM67VFJ', 'HSM7J4MY', 'CSM7KOKT', 'CSM79HQV', 'MSM6J2QP', 'PSM6XBQY', 'MSM79H7G', 'MSM5LLHX_P', 'CSM7KOOZ', 'PSM6XBUO', 'HSM7CZ2L_P', 'PSM7J1CC', 'HSMA33NC', 'MSM9VZL9', 'MSMAPC6E', 'CSM7KOL2', 'HSM7J4JV_P', 'PSM7J169', 'ESM7F5AM', 'MSM79H6N', 'CSM7KOOV', 'CSM7KOLK', 'ESM7F5C7', 'MSM79HCK', 'HSM7J4IC', 'PSM7J1AO', 'PSM7J19N', 'MSMAPC5L', 'HSM5MD6A_TR', 'MSM79HDO', 'HSM67VGG', 'MSM6J2OJ', 'HSM67VHJ', 'CSM67UC6', 'HSM7CYZF', 'MSMB4LZR', 'CSM79HM9_P', 'MSM5ZOJY_P', 'MSM5LLIK_P', 'CSM7KOTA', 'PSM7J1BJ', 'CSM5MCZ5', 'CSMAAEUA', 'HSM7J4L5', 'CSM79HJ2_P', 'MSM6J2LJ', 'MSM6J2OH', 'MSMA26BJ', 'PSMA26A3', 'MSM79H6D', 'PSM7J19Z', 'CSM67UDN', 'PSM6XBV4', 'CSM5FZ4E_P', 'MSM5LLHE_P', 'PSM7J15G', 'MSM9VZLV', 'MSM79H8J_P', 'CSM79HGX', 'MSM9VZPL', 'HSM7J4PK', 'ESM718U9_P', 'MSM6J2LB', 'MSM79H5Q', 'MSM9VZEU', 'CSM5FZ3V_P', 'CSM79HIJ', 'CSM79HOH', 'CSM79HPA', 'MSMA26CV', 'HSM67VF3', 'CSM5MCXZ_P', 'HSM67VF9', 'HSMA33KE', 'CSM79HNE'}\n"
     ]
    }
   ],
   "source": [
    "dat = ca.read_amplicon('/pita/users/hila/analysis/datasets/hmp2_mtx_genefamilies_filtered_10_perc_detection.tsv',\n",
    "                       mgx_metadata,\n",
    "                       min_reads = None,normalize = None, sparse = False)"
   ]
  },
  {
   "cell_type": "code",
   "execution_count": 235,
   "id": "c7ec634c-b536-4327-8815-646736440a3b",
   "metadata": {},
   "outputs": [
    {
     "data": {
      "text/plain": [
       "AmpliconExperiment with 46 samples, 46114 features"
      ]
     },
     "execution_count": 235,
     "metadata": {},
     "output_type": "execute_result"
    }
   ],
   "source": [
    "dat"
   ]
  },
  {
   "cell_type": "code",
   "execution_count": 236,
   "id": "f9e43b51-c17b-47e6-8fc7-eddd16723af0",
   "metadata": {},
   "outputs": [
    {
     "data": {
      "text/plain": [
       "AmpliconExperiment with 46 samples, 46114 features"
      ]
     },
     "execution_count": 236,
     "metadata": {},
     "output_type": "execute_result"
    }
   ],
   "source": [
    "bool = (dat.sample_metadata['final_pair_1_mgx'] > 8000000) & (dat.sample_metadata['final_pair_2_mgx'] > 8000000) & (dat.sample_metadata['final_mtx'] > 5000000)\n",
    "dat = dat.filter_ids(ids = bool.index[bool], axis = 's') \n",
    "dat"
   ]
  },
  {
   "cell_type": "code",
   "execution_count": 237,
   "id": "3af9f305-09b7-4752-b2a4-5a2df35d675c",
   "metadata": {},
   "outputs": [],
   "source": [
    "num_features = dat.data.shape[1]\n",
    "num_samples = dat.data.shape[0]\n",
    "# how many samples with zero value per feature\n",
    "count_zeros = np.count_nonzero(dat.data==0, axis = 0)\n",
    "# how many samples with nan value per feature\n",
    "count_nan = np.count_nonzero(np.isnan(dat.data), axis = 0)\n",
    "# how many sample with inf value per feature\n",
    "count_inf = np.count_nonzero(np.isinf(dat.data), axis = 0)\n",
    "\n",
    "sum_zero_rna = count_zeros + count_nan + count_inf\n",
    "# precentage of samples which have RNA expression\n",
    "fraction_nonzero_rna = 1-sum_zero_rna/num_samples"
   ]
  },
  {
   "cell_type": "code",
   "execution_count": 238,
   "id": "c3db88e7-a543-4e01-863e-1538ca0194fd",
   "metadata": {},
   "outputs": [
    {
     "data": {
      "text/plain": [
       "1399"
      ]
     },
     "execution_count": 238,
     "metadata": {},
     "output_type": "execute_result"
    }
   ],
   "source": [
    "is_core = np.greater_equal(fraction_nonzero_rna, 0.8)\n",
    "np.sum(is_core)"
   ]
  },
  {
   "cell_type": "code",
   "execution_count": 239,
   "id": "7b14a500-5bdd-4368-99b1-acd7d81c59f5",
   "metadata": {},
   "outputs": [],
   "source": [
    "cor_var_arr = np.where(is_core, 'core', 'variable')"
   ]
  },
  {
   "cell_type": "code",
   "execution_count": 240,
   "id": "c280d71e-8fa8-4ddf-86d1-4778aedb349f",
   "metadata": {},
   "outputs": [],
   "source": [
    "dat.feature_metadata['_core_var'] = cor_var_arr"
   ]
  },
  {
   "cell_type": "code",
   "execution_count": 241,
   "id": "0889857c-ff62-4eab-b1f8-437e80e17050",
   "metadata": {},
   "outputs": [],
   "source": [
    "ratio_val_arr = [\"\"] * num_features\n",
    "grt_than_one = 0\n",
    "# for each core feature: \n",
    "for i, cor_var_value in enumerate(cor_var_arr):\n",
    "    if(cor_var_value == 'core'):\n",
    "        # whether samples are have a ratio greater than 1. \n",
    "        for j in range(num_samples):\n",
    "            ratio_val = dat.data[j, i]\n",
    "            if ~np.isnan(ratio_val):\n",
    "                if(ratio_val >= 1):\n",
    "                    grt_than_one += 1\n",
    "        perc_grt_than_one = grt_than_one/num_samples\n",
    "        # at least 80% samples have rna/dna > 1\n",
    "        if(perc_grt_than_one >= 0.8):\n",
    "            ratio_val_arr[i] = \"r:d=>1\"\n",
    "        # at least 80% samples rna/dna < 1\n",
    "        elif(perc_grt_than_one <= 0.2):\n",
    "            ratio_val_arr[i] = \"d:r<1\"\n",
    "        else:\n",
    "            ratio_val_arr[i] = \"other\"\n",
    "    grt_than_one = 0\n",
    "dat.feature_metadata['_ratio_core_cat'] = ratio_val_arr"
   ]
  },
  {
   "cell_type": "code",
   "execution_count": 242,
   "id": "6622541d-fcad-43ba-80c5-2d5f457de8b1",
   "metadata": {},
   "outputs": [],
   "source": [
    "def my_mean(a):\n",
    "    finite_a = a[np.isfinite(a)]\n",
    "    if(np.size(finite_a) == 0):\n",
    "        finite_a = np.nan\n",
    "    return np.mean(finite_a)\n",
    "\n",
    "# calculate the mean ratio of the features\n",
    "mean_ratio = np.apply_along_axis(my_mean, axis = 0, arr = dat.data)\n",
    "\n",
    "def assign_mean_cat(a):\n",
    "    if(np.isnan(a)):\n",
    "        cat = \"nan\" # all are nan\n",
    "    else:\n",
    "        if(a >= 1):\n",
    "            cat = \"r:d>1\" # mean(r:d>1)\n",
    "        else:\n",
    "            cat = \"r:d<1\" # mean(r:d<1)\n",
    "    return cat\n",
    "\n",
    "# assign a category to features' mean value \n",
    "mean_ratio_cat = [assign_mean_cat(a) for a in mean_ratio]\n",
    "dat.feature_metadata['_mean_ratio_cat'] = mean_ratio_cat\n",
    "#dat.feature_metadata['_mean_ratio_val'] = mean_ratio"
   ]
  },
  {
   "cell_type": "code",
   "execution_count": 243,
   "id": "e93d6466-0249-49cc-a9a9-783a5ca44ba0",
   "metadata": {},
   "outputs": [],
   "source": [
    "# Checking prevalence of RNA == 0, whether at least half are not expressed.  \n",
    "# but DNA > 0\n",
    "perc_zeros = (count_zeros)/num_samples\n",
    "zeros_majority_bool = np.greater_equal(perc_zeros, 0.5)\n",
    "zeros_majority_arr = np.where(zeros_majority_bool, 'RNA=0, DNA>0', 'else')\n",
    "dat.feature_metadata['_RNA_prev'] = zeros_majority_arr "
   ]
  },
  {
   "cell_type": "code",
   "execution_count": 244,
   "id": "3230a2ca-1638-411b-92c8-b5d558993c1a",
   "metadata": {},
   "outputs": [],
   "source": [
    "# Find whether 0.3-0.8 of the values have no DNA\n",
    "no_dna_prev = (count_nan + count_inf)/num_samples\n",
    "\n",
    "def assign_dna_cat(a):\n",
    "    if((a >= 0.3) and (a <= 0.8)):\n",
    "        cat = \"0.3-0.8 no DNA\"\n",
    "    elif(a>0.8):\n",
    "        cat = \">0.8 no DNA\"\n",
    "    else:\n",
    "        cat = \"DNA exists\"\n",
    "    return cat\n",
    "\n",
    "dna_prev_cat = [assign_dna_cat(a) for a in no_dna_prev]\n",
    "dat.feature_metadata['_DNA_prev'] = dna_prev_cat"
   ]
  },
  {
   "cell_type": "code",
   "execution_count": 245,
   "id": "c04da368-c46a-40ca-b8a6-8b4d7db564a8",
   "metadata": {},
   "outputs": [],
   "source": [
    "def assign_category(feat_df):\n",
    "    core_cat = feat_df._core_var\n",
    "    mean_ratio = feat_df._mean_ratio_cat\n",
    "    rna_prev = feat_df._RNA_prev\n",
    "    dna_prev = feat_df._DNA_prev\n",
    "    cat = \"\"\n",
    "    if core_cat == \"core\":\n",
    "        if mean_ratio == \"r:d>1\":\n",
    "            cat = \"a\"\n",
    "        if mean_ratio == \"r:d<1\":\n",
    "            cat = \"b\"\n",
    "    if core_cat == \"variable\":\n",
    "        if rna_prev == 'RNA=0, DNA>0':\n",
    "            cat = \"c\"\n",
    "        else:\n",
    "            if dna_prev == \"0.3-0.8 no DNA\":\n",
    "                cat = \"d\"\n",
    "            elif dna_prev == \">0.8 no DNA\":\n",
    "                cat = \"f\"\n",
    "            else:\n",
    "                cat = \"e\"\n",
    "    return cat\n",
    "\n",
    "dat.feature_metadata['_cat'] = dat.feature_metadata.apply(lambda row: assign_category(row), axis = 1)\n",
    "                "
   ]
  },
  {
   "cell_type": "code",
   "execution_count": 545,
   "id": "b9fe8769-886f-4838-86eb-d09310648c25",
   "metadata": {},
   "outputs": [
    {
     "data": {
      "text/plain": [
       "'core'"
      ]
     },
     "execution_count": 545,
     "metadata": {},
     "output_type": "execute_result"
    }
   ],
   "source": [
    "#dat.feature_metadata.loc['1CMET2-PWY: folate transformations III (E. coli)']._core_var"
   ]
  },
  {
   "cell_type": "code",
   "execution_count": 246,
   "id": "cb73b08f-6849-415e-8d54-53add3527fbe",
   "metadata": {},
   "outputs": [
    {
     "data": {
      "text/html": [
       "<div>\n",
       "<style scoped>\n",
       "    .dataframe tbody tr th:only-of-type {\n",
       "        vertical-align: middle;\n",
       "    }\n",
       "\n",
       "    .dataframe tbody tr th {\n",
       "        vertical-align: top;\n",
       "    }\n",
       "\n",
       "    .dataframe thead th {\n",
       "        text-align: right;\n",
       "    }\n",
       "</style>\n",
       "<table border=\"1\" class=\"dataframe\">\n",
       "  <thead>\n",
       "    <tr style=\"text-align: right;\">\n",
       "      <th></th>\n",
       "      <th>_feature_id</th>\n",
       "      <th>_core_var</th>\n",
       "      <th>_ratio_core_cat</th>\n",
       "      <th>_mean_ratio_cat</th>\n",
       "      <th>_RNA_prev</th>\n",
       "      <th>_DNA_prev</th>\n",
       "      <th>_cat</th>\n",
       "    </tr>\n",
       "  </thead>\n",
       "  <tbody>\n",
       "    <tr>\n",
       "      <th>UniRef90_A0A015NWM0</th>\n",
       "      <td>UniRef90_A0A015NWM0</td>\n",
       "      <td>variable</td>\n",
       "      <td></td>\n",
       "      <td>r:d&gt;1</td>\n",
       "      <td>else</td>\n",
       "      <td>0.3-0.8 no DNA</td>\n",
       "      <td>d</td>\n",
       "    </tr>\n",
       "    <tr>\n",
       "      <th>UniRef90_A0A015NZS9</th>\n",
       "      <td>UniRef90_A0A015NZS9</td>\n",
       "      <td>variable</td>\n",
       "      <td></td>\n",
       "      <td>r:d&lt;1</td>\n",
       "      <td>else</td>\n",
       "      <td>0.3-0.8 no DNA</td>\n",
       "      <td>d</td>\n",
       "    </tr>\n",
       "    <tr>\n",
       "      <th>UniRef90_A0A015P063</th>\n",
       "      <td>UniRef90_A0A015P063</td>\n",
       "      <td>variable</td>\n",
       "      <td></td>\n",
       "      <td>r:d&lt;1</td>\n",
       "      <td>else</td>\n",
       "      <td>DNA exists</td>\n",
       "      <td>e</td>\n",
       "    </tr>\n",
       "    <tr>\n",
       "      <th>UniRef90_A0A015P405</th>\n",
       "      <td>UniRef90_A0A015P405</td>\n",
       "      <td>variable</td>\n",
       "      <td></td>\n",
       "      <td>r:d&lt;1</td>\n",
       "      <td>else</td>\n",
       "      <td>0.3-0.8 no DNA</td>\n",
       "      <td>d</td>\n",
       "    </tr>\n",
       "    <tr>\n",
       "      <th>UniRef90_A0A015P476</th>\n",
       "      <td>UniRef90_A0A015P476</td>\n",
       "      <td>variable</td>\n",
       "      <td></td>\n",
       "      <td>r:d&lt;1</td>\n",
       "      <td>RNA=0, DNA&gt;0</td>\n",
       "      <td>DNA exists</td>\n",
       "      <td>c</td>\n",
       "    </tr>\n",
       "    <tr>\n",
       "      <th>...</th>\n",
       "      <td>...</td>\n",
       "      <td>...</td>\n",
       "      <td>...</td>\n",
       "      <td>...</td>\n",
       "      <td>...</td>\n",
       "      <td>...</td>\n",
       "      <td>...</td>\n",
       "    </tr>\n",
       "    <tr>\n",
       "      <th>UniRef90_W6PTZ6</th>\n",
       "      <td>UniRef90_W6PTZ6</td>\n",
       "      <td>variable</td>\n",
       "      <td></td>\n",
       "      <td>r:d&lt;1</td>\n",
       "      <td>else</td>\n",
       "      <td>0.3-0.8 no DNA</td>\n",
       "      <td>d</td>\n",
       "    </tr>\n",
       "    <tr>\n",
       "      <th>UniRef90_W7D682</th>\n",
       "      <td>UniRef90_W7D682</td>\n",
       "      <td>variable</td>\n",
       "      <td></td>\n",
       "      <td>r:d&gt;1</td>\n",
       "      <td>else</td>\n",
       "      <td>0.3-0.8 no DNA</td>\n",
       "      <td>d</td>\n",
       "    </tr>\n",
       "    <tr>\n",
       "      <th>UniRef90_W8F975</th>\n",
       "      <td>UniRef90_W8F975</td>\n",
       "      <td>variable</td>\n",
       "      <td></td>\n",
       "      <td>r:d&gt;1</td>\n",
       "      <td>else</td>\n",
       "      <td>0.3-0.8 no DNA</td>\n",
       "      <td>d</td>\n",
       "    </tr>\n",
       "    <tr>\n",
       "      <th>UniRef90_X0UXD8</th>\n",
       "      <td>UniRef90_X0UXD8</td>\n",
       "      <td>variable</td>\n",
       "      <td></td>\n",
       "      <td>r:d&lt;1</td>\n",
       "      <td>else</td>\n",
       "      <td>0.3-0.8 no DNA</td>\n",
       "      <td>d</td>\n",
       "    </tr>\n",
       "    <tr>\n",
       "      <th>UniRef90_X2JRT8</th>\n",
       "      <td>UniRef90_X2JRT8</td>\n",
       "      <td>variable</td>\n",
       "      <td></td>\n",
       "      <td>r:d&gt;1</td>\n",
       "      <td>else</td>\n",
       "      <td>0.3-0.8 no DNA</td>\n",
       "      <td>d</td>\n",
       "    </tr>\n",
       "  </tbody>\n",
       "</table>\n",
       "<p>46114 rows × 7 columns</p>\n",
       "</div>"
      ],
      "text/plain": [
       "                             _feature_id _core_var _ratio_core_cat  \\\n",
       "UniRef90_A0A015NWM0  UniRef90_A0A015NWM0  variable                   \n",
       "UniRef90_A0A015NZS9  UniRef90_A0A015NZS9  variable                   \n",
       "UniRef90_A0A015P063  UniRef90_A0A015P063  variable                   \n",
       "UniRef90_A0A015P405  UniRef90_A0A015P405  variable                   \n",
       "UniRef90_A0A015P476  UniRef90_A0A015P476  variable                   \n",
       "...                                  ...       ...             ...   \n",
       "UniRef90_W6PTZ6          UniRef90_W6PTZ6  variable                   \n",
       "UniRef90_W7D682          UniRef90_W7D682  variable                   \n",
       "UniRef90_W8F975          UniRef90_W8F975  variable                   \n",
       "UniRef90_X0UXD8          UniRef90_X0UXD8  variable                   \n",
       "UniRef90_X2JRT8          UniRef90_X2JRT8  variable                   \n",
       "\n",
       "                    _mean_ratio_cat     _RNA_prev       _DNA_prev _cat  \n",
       "UniRef90_A0A015NWM0           r:d>1          else  0.3-0.8 no DNA    d  \n",
       "UniRef90_A0A015NZS9           r:d<1          else  0.3-0.8 no DNA    d  \n",
       "UniRef90_A0A015P063           r:d<1          else      DNA exists    e  \n",
       "UniRef90_A0A015P405           r:d<1          else  0.3-0.8 no DNA    d  \n",
       "UniRef90_A0A015P476           r:d<1  RNA=0, DNA>0      DNA exists    c  \n",
       "...                             ...           ...             ...  ...  \n",
       "UniRef90_W6PTZ6               r:d<1          else  0.3-0.8 no DNA    d  \n",
       "UniRef90_W7D682               r:d>1          else  0.3-0.8 no DNA    d  \n",
       "UniRef90_W8F975               r:d>1          else  0.3-0.8 no DNA    d  \n",
       "UniRef90_X0UXD8               r:d<1          else  0.3-0.8 no DNA    d  \n",
       "UniRef90_X2JRT8               r:d>1          else  0.3-0.8 no DNA    d  \n",
       "\n",
       "[46114 rows x 7 columns]"
      ]
     },
     "execution_count": 246,
     "metadata": {},
     "output_type": "execute_result"
    }
   ],
   "source": [
    "dat.feature_metadata"
   ]
  },
  {
   "cell_type": "code",
   "execution_count": 247,
   "id": "ebdcb98a",
   "metadata": {},
   "outputs": [
    {
     "ename": "ValueError",
     "evalue": "Columns must be same length as key",
     "output_type": "error",
     "traceback": [
      "\u001b[0;31m---------------------------------------------------------------------------\u001b[0m",
      "\u001b[0;31mValueError\u001b[0m                                Traceback (most recent call last)",
      "\u001b[0;32m<ipython-input-247-00514bf9c77d>\u001b[0m in \u001b[0;36m<module>\u001b[0;34m\u001b[0m\n\u001b[0;32m----> 1\u001b[0;31m \u001b[0mdat\u001b[0m\u001b[0;34m.\u001b[0m\u001b[0mfeature_metadata\u001b[0m\u001b[0;34m[\u001b[0m\u001b[0;34m[\u001b[0m\u001b[0;34m'pathway'\u001b[0m\u001b[0;34m,\u001b[0m \u001b[0;34m'function_biobakery'\u001b[0m\u001b[0;34m]\u001b[0m\u001b[0;34m]\u001b[0m \u001b[0;34m=\u001b[0m \u001b[0mdat\u001b[0m\u001b[0;34m.\u001b[0m\u001b[0mfeature_metadata\u001b[0m\u001b[0;34m[\u001b[0m\u001b[0;34m'_feature_id'\u001b[0m\u001b[0;34m]\u001b[0m\u001b[0;34m.\u001b[0m\u001b[0mstr\u001b[0m\u001b[0;34m.\u001b[0m\u001b[0msplit\u001b[0m\u001b[0;34m(\u001b[0m\u001b[0;34m':'\u001b[0m\u001b[0;34m,\u001b[0m \u001b[0mexpand\u001b[0m\u001b[0;34m=\u001b[0m\u001b[0;32mTrue\u001b[0m\u001b[0;34m)\u001b[0m\u001b[0;34m\u001b[0m\u001b[0;34m\u001b[0m\u001b[0m\n\u001b[0m\u001b[1;32m      2\u001b[0m \u001b[0mdat\u001b[0m\u001b[0;34m.\u001b[0m\u001b[0mfeature_metadata\u001b[0m\u001b[0;34m\u001b[0m\u001b[0;34m\u001b[0m\u001b[0m\n",
      "\u001b[0;32m~/miniconda3/envs/calour/lib/python3.6/site-packages/pandas/core/frame.py\u001b[0m in \u001b[0;36m__setitem__\u001b[0;34m(self, key, value)\u001b[0m\n\u001b[1;32m   3039\u001b[0m             \u001b[0mself\u001b[0m\u001b[0;34m.\u001b[0m\u001b[0m_setitem_frame\u001b[0m\u001b[0;34m(\u001b[0m\u001b[0mkey\u001b[0m\u001b[0;34m,\u001b[0m \u001b[0mvalue\u001b[0m\u001b[0;34m)\u001b[0m\u001b[0;34m\u001b[0m\u001b[0;34m\u001b[0m\u001b[0m\n\u001b[1;32m   3040\u001b[0m         \u001b[0;32melif\u001b[0m \u001b[0misinstance\u001b[0m\u001b[0;34m(\u001b[0m\u001b[0mkey\u001b[0m\u001b[0;34m,\u001b[0m \u001b[0;34m(\u001b[0m\u001b[0mSeries\u001b[0m\u001b[0;34m,\u001b[0m \u001b[0mnp\u001b[0m\u001b[0;34m.\u001b[0m\u001b[0mndarray\u001b[0m\u001b[0;34m,\u001b[0m \u001b[0mlist\u001b[0m\u001b[0;34m,\u001b[0m \u001b[0mIndex\u001b[0m\u001b[0;34m)\u001b[0m\u001b[0;34m)\u001b[0m\u001b[0;34m:\u001b[0m\u001b[0;34m\u001b[0m\u001b[0;34m\u001b[0m\u001b[0m\n\u001b[0;32m-> 3041\u001b[0;31m             \u001b[0mself\u001b[0m\u001b[0;34m.\u001b[0m\u001b[0m_setitem_array\u001b[0m\u001b[0;34m(\u001b[0m\u001b[0mkey\u001b[0m\u001b[0;34m,\u001b[0m \u001b[0mvalue\u001b[0m\u001b[0;34m)\u001b[0m\u001b[0;34m\u001b[0m\u001b[0;34m\u001b[0m\u001b[0m\n\u001b[0m\u001b[1;32m   3042\u001b[0m         \u001b[0;32melse\u001b[0m\u001b[0;34m:\u001b[0m\u001b[0;34m\u001b[0m\u001b[0;34m\u001b[0m\u001b[0m\n\u001b[1;32m   3043\u001b[0m             \u001b[0;31m# set column\u001b[0m\u001b[0;34m\u001b[0m\u001b[0;34m\u001b[0m\u001b[0;34m\u001b[0m\u001b[0m\n",
      "\u001b[0;32m~/miniconda3/envs/calour/lib/python3.6/site-packages/pandas/core/frame.py\u001b[0m in \u001b[0;36m_setitem_array\u001b[0;34m(self, key, value)\u001b[0m\n\u001b[1;32m   3065\u001b[0m             \u001b[0;32mif\u001b[0m \u001b[0misinstance\u001b[0m\u001b[0;34m(\u001b[0m\u001b[0mvalue\u001b[0m\u001b[0;34m,\u001b[0m \u001b[0mDataFrame\u001b[0m\u001b[0;34m)\u001b[0m\u001b[0;34m:\u001b[0m\u001b[0;34m\u001b[0m\u001b[0;34m\u001b[0m\u001b[0m\n\u001b[1;32m   3066\u001b[0m                 \u001b[0;32mif\u001b[0m \u001b[0mlen\u001b[0m\u001b[0;34m(\u001b[0m\u001b[0mvalue\u001b[0m\u001b[0;34m.\u001b[0m\u001b[0mcolumns\u001b[0m\u001b[0;34m)\u001b[0m \u001b[0;34m!=\u001b[0m \u001b[0mlen\u001b[0m\u001b[0;34m(\u001b[0m\u001b[0mkey\u001b[0m\u001b[0;34m)\u001b[0m\u001b[0;34m:\u001b[0m\u001b[0;34m\u001b[0m\u001b[0;34m\u001b[0m\u001b[0m\n\u001b[0;32m-> 3067\u001b[0;31m                     \u001b[0;32mraise\u001b[0m \u001b[0mValueError\u001b[0m\u001b[0;34m(\u001b[0m\u001b[0;34m\"Columns must be same length as key\"\u001b[0m\u001b[0;34m)\u001b[0m\u001b[0;34m\u001b[0m\u001b[0;34m\u001b[0m\u001b[0m\n\u001b[0m\u001b[1;32m   3068\u001b[0m                 \u001b[0;32mfor\u001b[0m \u001b[0mk1\u001b[0m\u001b[0;34m,\u001b[0m \u001b[0mk2\u001b[0m \u001b[0;32min\u001b[0m \u001b[0mzip\u001b[0m\u001b[0;34m(\u001b[0m\u001b[0mkey\u001b[0m\u001b[0;34m,\u001b[0m \u001b[0mvalue\u001b[0m\u001b[0;34m.\u001b[0m\u001b[0mcolumns\u001b[0m\u001b[0;34m)\u001b[0m\u001b[0;34m:\u001b[0m\u001b[0;34m\u001b[0m\u001b[0;34m\u001b[0m\u001b[0m\n\u001b[1;32m   3069\u001b[0m                     \u001b[0mself\u001b[0m\u001b[0;34m[\u001b[0m\u001b[0mk1\u001b[0m\u001b[0;34m]\u001b[0m \u001b[0;34m=\u001b[0m \u001b[0mvalue\u001b[0m\u001b[0;34m[\u001b[0m\u001b[0mk2\u001b[0m\u001b[0;34m]\u001b[0m\u001b[0;34m\u001b[0m\u001b[0;34m\u001b[0m\u001b[0m\n",
      "\u001b[0;31mValueError\u001b[0m: Columns must be same length as key"
     ]
    }
   ],
   "source": [
    "dat.feature_metadata[['pathway', 'function_biobakery']] = dat.feature_metadata['_feature_id'].str.split(':', expand=True)\n",
    "dat.feature_metadata"
   ]
  },
  {
   "cell_type": "code",
   "execution_count": 248,
   "id": "d53b7a4c",
   "metadata": {},
   "outputs": [
    {
     "data": {
      "text/html": [
       "<div>\n",
       "<style scoped>\n",
       "    .dataframe tbody tr th:only-of-type {\n",
       "        vertical-align: middle;\n",
       "    }\n",
       "\n",
       "    .dataframe tbody tr th {\n",
       "        vertical-align: top;\n",
       "    }\n",
       "\n",
       "    .dataframe thead th {\n",
       "        text-align: right;\n",
       "    }\n",
       "</style>\n",
       "<table border=\"1\" class=\"dataframe\">\n",
       "  <thead>\n",
       "    <tr style=\"text-align: right;\">\n",
       "      <th></th>\n",
       "      <th>pathway</th>\n",
       "      <th>Superclass1</th>\n",
       "      <th>Superclass2</th>\n",
       "      <th>function</th>\n",
       "    </tr>\n",
       "  </thead>\n",
       "  <tbody>\n",
       "    <tr>\n",
       "      <th>0</th>\n",
       "      <td>12DICHLORETHDEG-PWY</td>\n",
       "      <td>Degradation/Utilization/Assimilation</td>\n",
       "      <td>Chlorinated Compound Degradation</td>\n",
       "      <td>1,2-dichloroethane degradation</td>\n",
       "    </tr>\n",
       "    <tr>\n",
       "      <th>1</th>\n",
       "      <td>14DICHLORBENZDEG-PWY</td>\n",
       "      <td>Degradation/Utilization/Assimilation</td>\n",
       "      <td>Aromatic Compound Degradation</td>\n",
       "      <td>1,4-dichlorobenzene degradation</td>\n",
       "    </tr>\n",
       "    <tr>\n",
       "      <th>2</th>\n",
       "      <td>1CMET2-PWY</td>\n",
       "      <td>Biosynthesis</td>\n",
       "      <td>Cofactor, Carrier, and Vitamin Biosynthesis</td>\n",
       "      <td>N10-formyl-tetrahydrofolate biosynthesis</td>\n",
       "    </tr>\n",
       "    <tr>\n",
       "      <th>3</th>\n",
       "      <td>2AMINOBENZDEG-PWY</td>\n",
       "      <td>Degradation/Utilization/Assimilation</td>\n",
       "      <td>Aromatic Compound Degradation</td>\n",
       "      <td>anthranilate degradation III (anaerobic)</td>\n",
       "    </tr>\n",
       "    <tr>\n",
       "      <th>4</th>\n",
       "      <td>2ASDEG-PWY</td>\n",
       "      <td>Degradation/Utilization/Assimilation</td>\n",
       "      <td>Aromatic Compound Degradation</td>\n",
       "      <td>orthanilate degradation</td>\n",
       "    </tr>\n",
       "    <tr>\n",
       "      <th>...</th>\n",
       "      <td>...</td>\n",
       "      <td>...</td>\n",
       "      <td>...</td>\n",
       "      <td>...</td>\n",
       "    </tr>\n",
       "    <tr>\n",
       "      <th>2715</th>\n",
       "      <td>PWY-7548</td>\n",
       "      <td>Biosynthesis</td>\n",
       "      <td>SECONDARY-METABOLITE-BIOSYNTHESIS</td>\n",
       "      <td>methylthiolincosamide biosynthesis</td>\n",
       "    </tr>\n",
       "    <tr>\n",
       "      <th>2716</th>\n",
       "      <td>PWY0-1534</td>\n",
       "      <td>Degradation</td>\n",
       "      <td>Noncarbon-Nutrients</td>\n",
       "      <td>hydrogen sulfide biosynthesis I</td>\n",
       "    </tr>\n",
       "    <tr>\n",
       "      <th>2717</th>\n",
       "      <td>PWY3O-1109</td>\n",
       "      <td>Biosynthesis</td>\n",
       "      <td>AROMATIC-COMPOUNDS-BIOSYN</td>\n",
       "      <td>superpathway of 4-hydroxybenzoate biosynthesis...</td>\n",
       "    </tr>\n",
       "    <tr>\n",
       "      <th>2718</th>\n",
       "      <td>PWY66-422</td>\n",
       "      <td>Degradation</td>\n",
       "      <td>Carbohydrates-Degradation</td>\n",
       "      <td>D-galactose degradation V (Leloir pathway)</td>\n",
       "    </tr>\n",
       "    <tr>\n",
       "      <th>2719</th>\n",
       "      <td>ARG+POLYAMINE-SYN</td>\n",
       "      <td>Biosynthesis</td>\n",
       "      <td>Amine and Polyamine Biosynthesis</td>\n",
       "      <td>superpathway of arginine and polyamine biosynt...</td>\n",
       "    </tr>\n",
       "  </tbody>\n",
       "</table>\n",
       "<p>2720 rows × 4 columns</p>\n",
       "</div>"
      ],
      "text/plain": [
       "                   pathway                           Superclass1  \\\n",
       "0      12DICHLORETHDEG-PWY  Degradation/Utilization/Assimilation   \n",
       "1     14DICHLORBENZDEG-PWY  Degradation/Utilization/Assimilation   \n",
       "2               1CMET2-PWY                          Biosynthesis   \n",
       "3        2AMINOBENZDEG-PWY  Degradation/Utilization/Assimilation   \n",
       "4               2ASDEG-PWY  Degradation/Utilization/Assimilation   \n",
       "...                    ...                                   ...   \n",
       "2715              PWY-7548                          Biosynthesis   \n",
       "2716             PWY0-1534                           Degradation   \n",
       "2717            PWY3O-1109                          Biosynthesis   \n",
       "2718             PWY66-422                           Degradation   \n",
       "2719     ARG+POLYAMINE-SYN                          Biosynthesis   \n",
       "\n",
       "                                      Superclass2  \\\n",
       "0                Chlorinated Compound Degradation   \n",
       "1                   Aromatic Compound Degradation   \n",
       "2     Cofactor, Carrier, and Vitamin Biosynthesis   \n",
       "3                   Aromatic Compound Degradation   \n",
       "4                   Aromatic Compound Degradation   \n",
       "...                                           ...   \n",
       "2715            SECONDARY-METABOLITE-BIOSYNTHESIS   \n",
       "2716                          Noncarbon-Nutrients   \n",
       "2717                    AROMATIC-COMPOUNDS-BIOSYN   \n",
       "2718                    Carbohydrates-Degradation   \n",
       "2719             Amine and Polyamine Biosynthesis   \n",
       "\n",
       "                                               function  \n",
       "0                        1,2-dichloroethane degradation  \n",
       "1                       1,4-dichlorobenzene degradation  \n",
       "2              N10-formyl-tetrahydrofolate biosynthesis  \n",
       "3              anthranilate degradation III (anaerobic)  \n",
       "4                               orthanilate degradation  \n",
       "...                                                 ...  \n",
       "2715                 methylthiolincosamide biosynthesis  \n",
       "2716                    hydrogen sulfide biosynthesis I  \n",
       "2717  superpathway of 4-hydroxybenzoate biosynthesis...  \n",
       "2718         D-galactose degradation V (Leloir pathway)  \n",
       "2719  superpathway of arginine and polyamine biosynt...  \n",
       "\n",
       "[2720 rows x 4 columns]"
      ]
     },
     "execution_count": 248,
     "metadata": {},
     "output_type": "execute_result"
    }
   ],
   "source": [
    "metacyc_df =  pd.read_csv('/pita/users/hila/analysis/datasets/map_metacyc_pwy_by_user.tsv', index_col = False, sep = '\\t')\n",
    "metacyc_df"
   ]
  },
  {
   "cell_type": "code",
   "execution_count": 249,
   "id": "a2acc72e",
   "metadata": {},
   "outputs": [
    {
     "ename": "KeyError",
     "evalue": "'pathway'",
     "output_type": "error",
     "traceback": [
      "\u001b[0;31m---------------------------------------------------------------------------\u001b[0m",
      "\u001b[0;31mKeyError\u001b[0m                                  Traceback (most recent call last)",
      "\u001b[0;32m<ipython-input-249-b960c5c622e6>\u001b[0m in \u001b[0;36m<module>\u001b[0;34m\u001b[0m\n\u001b[0;32m----> 1\u001b[0;31m \u001b[0mdat\u001b[0m\u001b[0;34m.\u001b[0m\u001b[0mfeature_metadata\u001b[0m \u001b[0;34m=\u001b[0m \u001b[0mpd\u001b[0m\u001b[0;34m.\u001b[0m\u001b[0mmerge\u001b[0m\u001b[0;34m(\u001b[0m\u001b[0mdat\u001b[0m\u001b[0;34m.\u001b[0m\u001b[0mfeature_metadata\u001b[0m\u001b[0;34m,\u001b[0m \u001b[0mmetacyc_df\u001b[0m\u001b[0;34m,\u001b[0m \u001b[0mon\u001b[0m\u001b[0;34m=\u001b[0m\u001b[0;34m[\u001b[0m\u001b[0;34m'pathway'\u001b[0m\u001b[0;34m]\u001b[0m\u001b[0;34m,\u001b[0m \u001b[0mhow\u001b[0m\u001b[0;34m=\u001b[0m\u001b[0;34m'left'\u001b[0m\u001b[0;34m)\u001b[0m\u001b[0;34m\u001b[0m\u001b[0;34m\u001b[0m\u001b[0m\n\u001b[0m\u001b[1;32m      2\u001b[0m \u001b[0mdat\u001b[0m\u001b[0;34m.\u001b[0m\u001b[0mfeature_metadata\u001b[0m\u001b[0;34m\u001b[0m\u001b[0;34m\u001b[0m\u001b[0m\n",
      "\u001b[0;32m~/miniconda3/envs/calour/lib/python3.6/site-packages/pandas/core/reshape/merge.py\u001b[0m in \u001b[0;36mmerge\u001b[0;34m(left, right, how, on, left_on, right_on, left_index, right_index, sort, suffixes, copy, indicator, validate)\u001b[0m\n\u001b[1;32m     85\u001b[0m         \u001b[0mcopy\u001b[0m\u001b[0;34m=\u001b[0m\u001b[0mcopy\u001b[0m\u001b[0;34m,\u001b[0m\u001b[0;34m\u001b[0m\u001b[0;34m\u001b[0m\u001b[0m\n\u001b[1;32m     86\u001b[0m         \u001b[0mindicator\u001b[0m\u001b[0;34m=\u001b[0m\u001b[0mindicator\u001b[0m\u001b[0;34m,\u001b[0m\u001b[0;34m\u001b[0m\u001b[0;34m\u001b[0m\u001b[0m\n\u001b[0;32m---> 87\u001b[0;31m         \u001b[0mvalidate\u001b[0m\u001b[0;34m=\u001b[0m\u001b[0mvalidate\u001b[0m\u001b[0;34m,\u001b[0m\u001b[0;34m\u001b[0m\u001b[0;34m\u001b[0m\u001b[0m\n\u001b[0m\u001b[1;32m     88\u001b[0m     )\n\u001b[1;32m     89\u001b[0m     \u001b[0;32mreturn\u001b[0m \u001b[0mop\u001b[0m\u001b[0;34m.\u001b[0m\u001b[0mget_result\u001b[0m\u001b[0;34m(\u001b[0m\u001b[0;34m)\u001b[0m\u001b[0;34m\u001b[0m\u001b[0;34m\u001b[0m\u001b[0m\n",
      "\u001b[0;32m~/miniconda3/envs/calour/lib/python3.6/site-packages/pandas/core/reshape/merge.py\u001b[0m in \u001b[0;36m__init__\u001b[0;34m(self, left, right, how, on, left_on, right_on, axis, left_index, right_index, sort, suffixes, copy, indicator, validate)\u001b[0m\n\u001b[1;32m    650\u001b[0m             \u001b[0mself\u001b[0m\u001b[0;34m.\u001b[0m\u001b[0mright_join_keys\u001b[0m\u001b[0;34m,\u001b[0m\u001b[0;34m\u001b[0m\u001b[0;34m\u001b[0m\u001b[0m\n\u001b[1;32m    651\u001b[0m             \u001b[0mself\u001b[0m\u001b[0;34m.\u001b[0m\u001b[0mjoin_names\u001b[0m\u001b[0;34m,\u001b[0m\u001b[0;34m\u001b[0m\u001b[0;34m\u001b[0m\u001b[0m\n\u001b[0;32m--> 652\u001b[0;31m         ) = self._get_merge_keys()\n\u001b[0m\u001b[1;32m    653\u001b[0m \u001b[0;34m\u001b[0m\u001b[0m\n\u001b[1;32m    654\u001b[0m         \u001b[0;31m# validate the merge keys dtypes. We may need to coerce\u001b[0m\u001b[0;34m\u001b[0m\u001b[0;34m\u001b[0m\u001b[0;34m\u001b[0m\u001b[0m\n",
      "\u001b[0;32m~/miniconda3/envs/calour/lib/python3.6/site-packages/pandas/core/reshape/merge.py\u001b[0m in \u001b[0;36m_get_merge_keys\u001b[0;34m(self)\u001b[0m\n\u001b[1;32m   1016\u001b[0m                         \u001b[0mright_keys\u001b[0m\u001b[0;34m.\u001b[0m\u001b[0mappend\u001b[0m\u001b[0;34m(\u001b[0m\u001b[0mrk\u001b[0m\u001b[0;34m)\u001b[0m\u001b[0;34m\u001b[0m\u001b[0;34m\u001b[0m\u001b[0m\n\u001b[1;32m   1017\u001b[0m                     \u001b[0;32mif\u001b[0m \u001b[0mlk\u001b[0m \u001b[0;32mis\u001b[0m \u001b[0;32mnot\u001b[0m \u001b[0;32mNone\u001b[0m\u001b[0;34m:\u001b[0m\u001b[0;34m\u001b[0m\u001b[0;34m\u001b[0m\u001b[0m\n\u001b[0;32m-> 1018\u001b[0;31m                         \u001b[0mleft_keys\u001b[0m\u001b[0;34m.\u001b[0m\u001b[0mappend\u001b[0m\u001b[0;34m(\u001b[0m\u001b[0mleft\u001b[0m\u001b[0;34m.\u001b[0m\u001b[0m_get_label_or_level_values\u001b[0m\u001b[0;34m(\u001b[0m\u001b[0mlk\u001b[0m\u001b[0;34m)\u001b[0m\u001b[0;34m)\u001b[0m\u001b[0;34m\u001b[0m\u001b[0;34m\u001b[0m\u001b[0m\n\u001b[0m\u001b[1;32m   1019\u001b[0m                         \u001b[0mjoin_names\u001b[0m\u001b[0;34m.\u001b[0m\u001b[0mappend\u001b[0m\u001b[0;34m(\u001b[0m\u001b[0mlk\u001b[0m\u001b[0;34m)\u001b[0m\u001b[0;34m\u001b[0m\u001b[0;34m\u001b[0m\u001b[0m\n\u001b[1;32m   1020\u001b[0m                     \u001b[0;32melse\u001b[0m\u001b[0;34m:\u001b[0m\u001b[0;34m\u001b[0m\u001b[0;34m\u001b[0m\u001b[0m\n",
      "\u001b[0;32m~/miniconda3/envs/calour/lib/python3.6/site-packages/pandas/core/generic.py\u001b[0m in \u001b[0;36m_get_label_or_level_values\u001b[0;34m(self, key, axis)\u001b[0m\n\u001b[1;32m   1561\u001b[0m             \u001b[0mvalues\u001b[0m \u001b[0;34m=\u001b[0m \u001b[0mself\u001b[0m\u001b[0;34m.\u001b[0m\u001b[0maxes\u001b[0m\u001b[0;34m[\u001b[0m\u001b[0maxis\u001b[0m\u001b[0;34m]\u001b[0m\u001b[0;34m.\u001b[0m\u001b[0mget_level_values\u001b[0m\u001b[0;34m(\u001b[0m\u001b[0mkey\u001b[0m\u001b[0;34m)\u001b[0m\u001b[0;34m.\u001b[0m\u001b[0m_values\u001b[0m\u001b[0;34m\u001b[0m\u001b[0;34m\u001b[0m\u001b[0m\n\u001b[1;32m   1562\u001b[0m         \u001b[0;32melse\u001b[0m\u001b[0;34m:\u001b[0m\u001b[0;34m\u001b[0m\u001b[0;34m\u001b[0m\u001b[0m\n\u001b[0;32m-> 1563\u001b[0;31m             \u001b[0;32mraise\u001b[0m \u001b[0mKeyError\u001b[0m\u001b[0;34m(\u001b[0m\u001b[0mkey\u001b[0m\u001b[0;34m)\u001b[0m\u001b[0;34m\u001b[0m\u001b[0;34m\u001b[0m\u001b[0m\n\u001b[0m\u001b[1;32m   1564\u001b[0m \u001b[0;34m\u001b[0m\u001b[0m\n\u001b[1;32m   1565\u001b[0m         \u001b[0;31m# Check for duplicates\u001b[0m\u001b[0;34m\u001b[0m\u001b[0;34m\u001b[0m\u001b[0;34m\u001b[0m\u001b[0m\n",
      "\u001b[0;31mKeyError\u001b[0m: 'pathway'"
     ]
    }
   ],
   "source": [
    "dat.feature_metadata = pd.merge(dat.feature_metadata, metacyc_df, on=['pathway'], how='left')\n",
    "dat.feature_metadata"
   ]
  },
  {
   "cell_type": "code",
   "execution_count": 250,
   "id": "58b4fc58",
   "metadata": {},
   "outputs": [
    {
     "data": {
      "text/html": [
       "<div>\n",
       "<style scoped>\n",
       "    .dataframe tbody tr th:only-of-type {\n",
       "        vertical-align: middle;\n",
       "    }\n",
       "\n",
       "    .dataframe tbody tr th {\n",
       "        vertical-align: top;\n",
       "    }\n",
       "\n",
       "    .dataframe thead th {\n",
       "        text-align: right;\n",
       "    }\n",
       "</style>\n",
       "<table border=\"1\" class=\"dataframe\">\n",
       "  <thead>\n",
       "    <tr style=\"text-align: right;\">\n",
       "      <th></th>\n",
       "      <th>_feature_id</th>\n",
       "      <th>_core_var</th>\n",
       "      <th>_ratio_core_cat</th>\n",
       "      <th>_mean_ratio_cat</th>\n",
       "      <th>_RNA_prev</th>\n",
       "      <th>_DNA_prev</th>\n",
       "      <th>_cat</th>\n",
       "    </tr>\n",
       "  </thead>\n",
       "  <tbody>\n",
       "    <tr>\n",
       "      <th>UniRef90_A0A015NWM0</th>\n",
       "      <td>UniRef90_A0A015NWM0</td>\n",
       "      <td>variable</td>\n",
       "      <td></td>\n",
       "      <td>r:d&gt;1</td>\n",
       "      <td>else</td>\n",
       "      <td>0.3-0.8 no DNA</td>\n",
       "      <td>d</td>\n",
       "    </tr>\n",
       "    <tr>\n",
       "      <th>UniRef90_A0A015NZS9</th>\n",
       "      <td>UniRef90_A0A015NZS9</td>\n",
       "      <td>variable</td>\n",
       "      <td></td>\n",
       "      <td>r:d&lt;1</td>\n",
       "      <td>else</td>\n",
       "      <td>0.3-0.8 no DNA</td>\n",
       "      <td>d</td>\n",
       "    </tr>\n",
       "    <tr>\n",
       "      <th>UniRef90_A0A015P063</th>\n",
       "      <td>UniRef90_A0A015P063</td>\n",
       "      <td>variable</td>\n",
       "      <td></td>\n",
       "      <td>r:d&lt;1</td>\n",
       "      <td>else</td>\n",
       "      <td>DNA exists</td>\n",
       "      <td>e</td>\n",
       "    </tr>\n",
       "    <tr>\n",
       "      <th>UniRef90_A0A015P405</th>\n",
       "      <td>UniRef90_A0A015P405</td>\n",
       "      <td>variable</td>\n",
       "      <td></td>\n",
       "      <td>r:d&lt;1</td>\n",
       "      <td>else</td>\n",
       "      <td>0.3-0.8 no DNA</td>\n",
       "      <td>d</td>\n",
       "    </tr>\n",
       "    <tr>\n",
       "      <th>UniRef90_A0A015P476</th>\n",
       "      <td>UniRef90_A0A015P476</td>\n",
       "      <td>variable</td>\n",
       "      <td></td>\n",
       "      <td>r:d&lt;1</td>\n",
       "      <td>RNA=0, DNA&gt;0</td>\n",
       "      <td>DNA exists</td>\n",
       "      <td>c</td>\n",
       "    </tr>\n",
       "    <tr>\n",
       "      <th>...</th>\n",
       "      <td>...</td>\n",
       "      <td>...</td>\n",
       "      <td>...</td>\n",
       "      <td>...</td>\n",
       "      <td>...</td>\n",
       "      <td>...</td>\n",
       "      <td>...</td>\n",
       "    </tr>\n",
       "    <tr>\n",
       "      <th>UniRef90_W6PTZ6</th>\n",
       "      <td>UniRef90_W6PTZ6</td>\n",
       "      <td>variable</td>\n",
       "      <td></td>\n",
       "      <td>r:d&lt;1</td>\n",
       "      <td>else</td>\n",
       "      <td>0.3-0.8 no DNA</td>\n",
       "      <td>d</td>\n",
       "    </tr>\n",
       "    <tr>\n",
       "      <th>UniRef90_W7D682</th>\n",
       "      <td>UniRef90_W7D682</td>\n",
       "      <td>variable</td>\n",
       "      <td></td>\n",
       "      <td>r:d&gt;1</td>\n",
       "      <td>else</td>\n",
       "      <td>0.3-0.8 no DNA</td>\n",
       "      <td>d</td>\n",
       "    </tr>\n",
       "    <tr>\n",
       "      <th>UniRef90_W8F975</th>\n",
       "      <td>UniRef90_W8F975</td>\n",
       "      <td>variable</td>\n",
       "      <td></td>\n",
       "      <td>r:d&gt;1</td>\n",
       "      <td>else</td>\n",
       "      <td>0.3-0.8 no DNA</td>\n",
       "      <td>d</td>\n",
       "    </tr>\n",
       "    <tr>\n",
       "      <th>UniRef90_X0UXD8</th>\n",
       "      <td>UniRef90_X0UXD8</td>\n",
       "      <td>variable</td>\n",
       "      <td></td>\n",
       "      <td>r:d&lt;1</td>\n",
       "      <td>else</td>\n",
       "      <td>0.3-0.8 no DNA</td>\n",
       "      <td>d</td>\n",
       "    </tr>\n",
       "    <tr>\n",
       "      <th>UniRef90_X2JRT8</th>\n",
       "      <td>UniRef90_X2JRT8</td>\n",
       "      <td>variable</td>\n",
       "      <td></td>\n",
       "      <td>r:d&gt;1</td>\n",
       "      <td>else</td>\n",
       "      <td>0.3-0.8 no DNA</td>\n",
       "      <td>d</td>\n",
       "    </tr>\n",
       "  </tbody>\n",
       "</table>\n",
       "<p>46114 rows × 7 columns</p>\n",
       "</div>"
      ],
      "text/plain": [
       "                             _feature_id _core_var _ratio_core_cat  \\\n",
       "UniRef90_A0A015NWM0  UniRef90_A0A015NWM0  variable                   \n",
       "UniRef90_A0A015NZS9  UniRef90_A0A015NZS9  variable                   \n",
       "UniRef90_A0A015P063  UniRef90_A0A015P063  variable                   \n",
       "UniRef90_A0A015P405  UniRef90_A0A015P405  variable                   \n",
       "UniRef90_A0A015P476  UniRef90_A0A015P476  variable                   \n",
       "...                                  ...       ...             ...   \n",
       "UniRef90_W6PTZ6          UniRef90_W6PTZ6  variable                   \n",
       "UniRef90_W7D682          UniRef90_W7D682  variable                   \n",
       "UniRef90_W8F975          UniRef90_W8F975  variable                   \n",
       "UniRef90_X0UXD8          UniRef90_X0UXD8  variable                   \n",
       "UniRef90_X2JRT8          UniRef90_X2JRT8  variable                   \n",
       "\n",
       "                    _mean_ratio_cat     _RNA_prev       _DNA_prev _cat  \n",
       "UniRef90_A0A015NWM0           r:d>1          else  0.3-0.8 no DNA    d  \n",
       "UniRef90_A0A015NZS9           r:d<1          else  0.3-0.8 no DNA    d  \n",
       "UniRef90_A0A015P063           r:d<1          else      DNA exists    e  \n",
       "UniRef90_A0A015P405           r:d<1          else  0.3-0.8 no DNA    d  \n",
       "UniRef90_A0A015P476           r:d<1  RNA=0, DNA>0      DNA exists    c  \n",
       "...                             ...           ...             ...  ...  \n",
       "UniRef90_W6PTZ6               r:d<1          else  0.3-0.8 no DNA    d  \n",
       "UniRef90_W7D682               r:d>1          else  0.3-0.8 no DNA    d  \n",
       "UniRef90_W8F975               r:d>1          else  0.3-0.8 no DNA    d  \n",
       "UniRef90_X0UXD8               r:d<1          else  0.3-0.8 no DNA    d  \n",
       "UniRef90_X2JRT8               r:d>1          else  0.3-0.8 no DNA    d  \n",
       "\n",
       "[46114 rows x 7 columns]"
      ]
     },
     "execution_count": 250,
     "metadata": {},
     "output_type": "execute_result"
    }
   ],
   "source": [
    "dat.feature_metadata.rename(index=dat.feature_metadata['_feature_id'], inplace=True)\n",
    "dat.feature_metadata"
   ]
  },
  {
   "cell_type": "code",
   "execution_count": 251,
   "id": "c7852906-c74a-4747-b6ee-ac673158883b",
   "metadata": {},
   "outputs": [],
   "source": [
    "x = dat.sort_samples('week_num')\n",
    "x = x.sort_samples('Participant ID')\n",
    "x = x.sort_samples('diagnosis')\n",
    "x = x.sort_abundance()\n",
    "#x = x.sort_by_metadata('_DNA_prev', axis = 'f')\n",
    "#x = x.sort_by_metadata('_RNA_prev', axis = 'f')\n",
    "#x = x.sort_by_metadata('_mean_ratio_cat', axis = 'f')\n",
    "#x = x.sort_by_metadata('_core_var',axis = 'f')\n",
    "# for pathways:\n",
    "#x = x.sort_by_metadata('function', axis = 'f')\n",
    "#x = x.sort_by_metadata('Superclass2', axis = 'f')\n",
    "x = x.sort_by_metadata('_cat', axis = 'f')\n"
   ]
  },
  {
   "cell_type": "code",
   "execution_count": 252,
   "id": "99ab0604-5ee7-4586-9c7f-a2d86e5ba7df",
   "metadata": {},
   "outputs": [
    {
     "name": "stderr",
     "output_type": "stream",
     "text": [
      "/pita/users/hila/miniconda3/envs/calour/lib/python3.6/site-packages/ipykernel_launcher.py:2: RuntimeWarning: divide by zero encountered in log2\n",
      "  \n"
     ]
    }
   ],
   "source": [
    "xx = x.copy()\n",
    "xx.data = np.log2(xx.data)"
   ]
  },
  {
   "cell_type": "code",
   "execution_count": 107,
   "id": "b2296cbe-14f0-4da6-84fe-ba173212141c",
   "metadata": {},
   "outputs": [],
   "source": [
    "#MAX = np.ma.masked_invalid(x.data).max()\n",
    "#MAX"
   ]
  },
  {
   "cell_type": "code",
   "execution_count": 253,
   "id": "8af12533-ae65-4481-941e-6216a8dd6cd6",
   "metadata": {},
   "outputs": [],
   "source": [
    "xx.data[np.isneginf(xx.data)] = 0\n",
    "#xx.data[xx.data==-np.inf] = 0 # RNA = 0, DNA = val\n",
    "#x.data[x.data==np.nan] = MAX + 2 # RNA = 0, DNA = 0\n",
    "#x.data[x.data==np.inf] = MAX + 3 # RNA = val, DNA = 0"
   ]
  },
  {
   "cell_type": "code",
   "execution_count": 218,
   "id": "93dc15a0-1403-48a7-9e86-e4bde9a567ed",
   "metadata": {},
   "outputs": [],
   "source": [
    "import copy\n",
    "#mymap = copy.copy(plt.cm.get_cmap('RdYlBu'))\n",
    "#mymap.set_bad(color = 'white', alpha = 1.)\n",
    "#a = plt.cm.gray\n",
    "\n",
    "#cmp = np.vstack((plt.cm.Blues(np.linspace(1,0.25,128)), plt.cm.Greys([0.5]), plt.cm.Reds(np.linspace(0.25,1,128))))\n",
    "#mymap = matplotlib.colors.LinearSegmentedColormap.from_list('my_cmp', cmp)\n",
    "\n",
    "# works but the mid section color spreads to both sides\n",
    "red_blue = plt.cm.get_cmap('coolwarm', 256)\n",
    "newcolors = red_blue(np.linspace(0, 1, 256))\n",
    "grey = np.array([0.5, 0.5,0.5, 1])\n",
    "newcolors[128, :] = grey\n",
    "newcmp = matplotlib.colors.ListedColormap(newcolors)\n",
    "\n"
   ]
  },
  {
   "cell_type": "code",
   "execution_count": 254,
   "id": "82934e59-b420-49bb-b429-958b707065fe",
   "metadata": {},
   "outputs": [
    {
     "data": {
      "text/plain": [
       "<calour.heatmap.plotgui_qt5.PlotGUI_QT5 at 0x7fa203ee09e8>"
      ]
     },
     "execution_count": 254,
     "metadata": {},
     "output_type": "execute_result"
    }
   ],
   "source": [
    "xx.plot(gui='qt5', sample_field = 'diagnosis', barx_fields=['Participant ID'],barx_label=False,\n",
    "       cmap = newcmp, norm = None,clim=[-5,5], \n",
    "       yticklabel_kwargs = {\"size\": 7}, yticklabel_len = 40, feature_field = '_feature_id',\n",
    "      bary_fields = ['_cat'], #'Superclass2' # ['_core_var', '_mean_ratio_cat', '_RNA_prev']\n",
    "       bary_label = [True, False], databases=[]) # feature_field = 'Name', [True, True, True]\n"
   ]
  },
  {
   "cell_type": "code",
   "execution_count": 51,
   "id": "a04a9d48",
   "metadata": {},
   "outputs": [
    {
     "data": {
      "text/plain": [
       "array([nan, 'Alcohol Degradation', 'Amine and Polyamine Biosynthesis',\n",
       "       'Amine and Polyamine Degradation', 'Amino Acid Biosynthesis',\n",
       "       'Amino Acid Degradation', 'Aromatic Compound Degradation',\n",
       "       'C1 Compound Utilization and Assimilation',\n",
       "       'Carbohydrate Biosynthesis', 'Carbohydrate Degradation',\n",
       "       'Carboxylate Degradation', 'Cell Structure Biosynthesis',\n",
       "       'Cofactor, Carrier, and Vitamin Biosynthesis',\n",
       "       'Degradation/Utilization/Assimilation - Other',\n",
       "       'Electron Transfer Chains', 'Fatty Acid and Lipid Biosynthesis',\n",
       "       'Fatty Acid and Lipid Degradation', 'Fermentation',\n",
       "       'Generation of Precursor Metabolites and Energy',\n",
       "       'Hormone Degradation', 'Inorganic Nutrient Metabolism',\n",
       "       'Interconversion', 'Interconversions',\n",
       "       'Metabolic Regulator Biosynthesis',\n",
       "       'Nucleoside and Nucleotide Biosynthesis',\n",
       "       'Nucleoside and Nucleotide Degradation', 'Other Biosynthesis',\n",
       "       'Secondary Metabolite Biosynthesis',\n",
       "       'Secondary Metabolite Degradation', 'Superpathways', 'TCA cycle'],\n",
       "      dtype=object)"
      ]
     },
     "execution_count": 51,
     "metadata": {},
     "output_type": "execute_result"
    }
   ],
   "source": [
    "xx.feature_metadata.loc[xx.feature_metadata['_cat'] == 'f', :]['Superclass2'].unique()"
   ]
  },
  {
   "cell_type": "code",
   "execution_count": 21,
   "id": "aff32785-690e-40d0-9fde-a55ebebac12e",
   "metadata": {},
   "outputs": [],
   "source": [
    "x.save('./hmp2_mtx_ratio_feat_metadata')"
   ]
  },
  {
   "cell_type": "code",
   "execution_count": 222,
   "id": "704d7923-af40-4f89-a686-691333a8ae9c",
   "metadata": {},
   "outputs": [],
   "source": [
    "def nanmeandiff(data, labels):\n",
    "    mean0 = np.nanmean(data[:, labels == 0], axis=1)\n",
    "    mean1 = np.nanmean(data[:, labels == 1], axis=1)\n",
    "    tstat = mean1 - mean0\n",
    "    return tstat"
   ]
  },
  {
   "cell_type": "code",
   "execution_count": 95,
   "id": "a81e4ba0-dbe5-45e4-bac7-15f02b60a2c2",
   "metadata": {},
   "outputs": [],
   "source": [
    "x_de = x.copy()\n",
    "x_de.data[x_de.data==np.nan] = 0"
   ]
  },
  {
   "cell_type": "code",
   "execution_count": 109,
   "id": "0f12c200-2119-4f08-a726-4a7dcb5f555f",
   "metadata": {},
   "outputs": [],
   "source": [
    "xx = x.filter_by_metadata('_cat', ['b'], 'f')"
   ]
  },
  {
   "cell_type": "code",
   "execution_count": 676,
   "id": "8ec1c15c-cc68-4e46-b555-8d03c56fcf05",
   "metadata": {},
   "outputs": [
    {
     "name": "stdout",
     "output_type": "stream",
     "text": [
      "2022-09-13 17:09:50 WARNING Do you forget to normalize your data? It is required before running this function\n",
      "2022-09-13 17:09:50 INFO After filtering, 138 remain.\n"
     ]
    },
    {
     "data": {
      "text/plain": [
       "AmpliconExperiment with 46 samples, 138 features"
      ]
     },
     "execution_count": 676,
     "metadata": {},
     "output_type": "execute_result"
    }
   ],
   "source": [
    "x.filter_sum_abundance(0, strict = True)"
   ]
  },
  {
   "cell_type": "code",
   "execution_count": 223,
   "id": "d50877af-b4f6-4854-89fa-0ca1d58549e5",
   "metadata": {},
   "outputs": [
    {
     "name": "stdout",
     "output_type": "stream",
     "text": [
      "2023-06-15 17:23:02 INFO 46 samples with both values\n",
      "2023-06-15 17:23:02 WARNING Do you forget to normalize your data? It is required before running this function\n",
      "2023-06-15 17:23:02 INFO After filtering, 66 remain.\n",
      "2023-06-15 17:23:02 INFO 30 samples with value 1 (['UC', 'CD'])\n",
      "2023-06-15 17:23:02 INFO number of higher in UC,CD: 0. number of higher in nonIBD : 0. total 0\n",
      "2023-06-15 17:23:02 WARNING no significant features found\n"
     ]
    },
    {
     "name": "stderr",
     "output_type": "stream",
     "text": [
      "/pita/users/hila/miniconda3/envs/calour/lib/python3.6/site-packages/ipykernel_launcher.py:4: RuntimeWarning: invalid value encountered in subtract\n",
      "  after removing the cwd from sys.path.\n"
     ]
    },
    {
     "data": {
      "text/plain": [
       "AmpliconExperiment with 46 samples, 0 features"
      ]
     },
     "execution_count": 223,
     "metadata": {},
     "output_type": "execute_result"
    }
   ],
   "source": [
    "ca.set_log_level('INFO')\n",
    "xx.diff_abundance('diagnosis', ['UC', 'CD'], ['nonIBD'], alpha = 0.3, transform = None) # method=nanmeandiff"
   ]
  },
  {
   "cell_type": "code",
   "execution_count": 199,
   "id": "72f8d3eb-7546-410f-943c-18910ca43b3c",
   "metadata": {},
   "outputs": [
    {
     "data": {
      "text/plain": [
       "-4.8104377416298565"
      ]
     },
     "execution_count": 199,
     "metadata": {},
     "output_type": "execute_result"
    }
   ],
   "source": [
    "np.ma.masked_invalid(x.data).min()"
   ]
  },
  {
   "cell_type": "code",
   "execution_count": 200,
   "id": "ab044fb5-a504-4109-816b-4ba648419297",
   "metadata": {},
   "outputs": [
    {
     "data": {
      "text/plain": [
       "7.075768625727364"
      ]
     },
     "execution_count": 200,
     "metadata": {},
     "output_type": "execute_result"
    }
   ],
   "source": [
    "np.ma.masked_invalid(x.data).max()="
   ]
  },
  {
   "cell_type": "code",
   "execution_count": 213,
   "id": "a208db8d-8d10-472d-b62d-e94eaf6fce79",
   "metadata": {},
   "outputs": [
    {
     "data": {
      "text/html": [
       "<div>\n",
       "<style scoped>\n",
       "    .dataframe tbody tr th:only-of-type {\n",
       "        vertical-align: middle;\n",
       "    }\n",
       "\n",
       "    .dataframe tbody tr th {\n",
       "        vertical-align: top;\n",
       "    }\n",
       "\n",
       "    .dataframe thead th {\n",
       "        text-align: right;\n",
       "    }\n",
       "</style>\n",
       "<table border=\"1\" class=\"dataframe\">\n",
       "  <thead>\n",
       "    <tr style=\"text-align: right;\">\n",
       "      <th></th>\n",
       "      <th>_feature_id</th>\n",
       "    </tr>\n",
       "  </thead>\n",
       "  <tbody>\n",
       "    <tr>\n",
       "      <th>1CMET2-PWY: folate transformations III (E. coli)</th>\n",
       "      <td>1CMET2-PWY: folate transformations III (E. coli)</td>\n",
       "    </tr>\n",
       "    <tr>\n",
       "      <th>3-HYDROXYPHENYLACETATE-DEGRADATION-PWY: 4-hydroxyphenylacetate degradation</th>\n",
       "      <td>3-HYDROXYPHENYLACETATE-DEGRADATION-PWY: 4-hydr...</td>\n",
       "    </tr>\n",
       "    <tr>\n",
       "      <th>7ALPHADEHYDROX-PWY</th>\n",
       "      <td>7ALPHADEHYDROX-PWY</td>\n",
       "    </tr>\n",
       "    <tr>\n",
       "      <th>AEROBACTINSYN-PWY: aerobactin biosynthesis</th>\n",
       "      <td>AEROBACTINSYN-PWY: aerobactin biosynthesis</td>\n",
       "    </tr>\n",
       "    <tr>\n",
       "      <th>ALLANTOINDEG-PWY: superpathway of allantoin degradation in yeast</th>\n",
       "      <td>ALLANTOINDEG-PWY: superpathway of allantoin de...</td>\n",
       "    </tr>\n",
       "    <tr>\n",
       "      <th>...</th>\n",
       "      <td>...</td>\n",
       "    </tr>\n",
       "    <tr>\n",
       "      <th>UBISYN-PWY: superpathway of ubiquinol-8 biosynthesis (early decarboxylation)</th>\n",
       "      <td>UBISYN-PWY: superpathway of ubiquinol-8 biosyn...</td>\n",
       "    </tr>\n",
       "    <tr>\n",
       "      <th>UDPNAGSYN-PWY: UDP-N-acetyl-D-glucosamine biosynthesis I</th>\n",
       "      <td>UDPNAGSYN-PWY: UDP-N-acetyl-D-glucosamine bios...</td>\n",
       "    </tr>\n",
       "    <tr>\n",
       "      <th>URDEGR-PWY: superpathway of allantoin degradation in plants</th>\n",
       "      <td>URDEGR-PWY: superpathway of allantoin degradat...</td>\n",
       "    </tr>\n",
       "    <tr>\n",
       "      <th>URSIN-PWY: ureide biosynthesis</th>\n",
       "      <td>URSIN-PWY: ureide biosynthesis</td>\n",
       "    </tr>\n",
       "    <tr>\n",
       "      <th>VALSYN-PWY: L-valine biosynthesis</th>\n",
       "      <td>VALSYN-PWY: L-valine biosynthesis</td>\n",
       "    </tr>\n",
       "  </tbody>\n",
       "</table>\n",
       "<p>402 rows × 1 columns</p>\n",
       "</div>"
      ],
      "text/plain": [
       "                                                                                          _feature_id\n",
       "1CMET2-PWY: folate transformations III (E. coli)     1CMET2-PWY: folate transformations III (E. coli)\n",
       "3-HYDROXYPHENYLACETATE-DEGRADATION-PWY: 4-hydro...  3-HYDROXYPHENYLACETATE-DEGRADATION-PWY: 4-hydr...\n",
       "7ALPHADEHYDROX-PWY                                                                 7ALPHADEHYDROX-PWY\n",
       "AEROBACTINSYN-PWY: aerobactin biosynthesis                 AEROBACTINSYN-PWY: aerobactin biosynthesis\n",
       "ALLANTOINDEG-PWY: superpathway of allantoin deg...  ALLANTOINDEG-PWY: superpathway of allantoin de...\n",
       "...                                                                                               ...\n",
       "UBISYN-PWY: superpathway of ubiquinol-8 biosynt...  UBISYN-PWY: superpathway of ubiquinol-8 biosyn...\n",
       "UDPNAGSYN-PWY: UDP-N-acetyl-D-glucosamine biosy...  UDPNAGSYN-PWY: UDP-N-acetyl-D-glucosamine bios...\n",
       "URDEGR-PWY: superpathway of allantoin degradati...  URDEGR-PWY: superpathway of allantoin degradat...\n",
       "URSIN-PWY: ureide biosynthesis                                         URSIN-PWY: ureide biosynthesis\n",
       "VALSYN-PWY: L-valine biosynthesis                                   VALSYN-PWY: L-valine biosynthesis\n",
       "\n",
       "[402 rows x 1 columns]"
      ]
     },
     "execution_count": 213,
     "metadata": {},
     "output_type": "execute_result"
    }
   ],
   "source": [
    "x.feature_metadata"
   ]
  },
  {
   "cell_type": "code",
   "execution_count": 298,
   "id": "130f695d-93cd-49e5-929d-3fc54bef0e90",
   "metadata": {},
   "outputs": [
    {
     "data": {
      "text/plain": [
       "402"
      ]
     },
     "execution_count": 298,
     "metadata": {},
     "output_type": "execute_result"
    }
   ],
   "source": [
    "x.data.shape[1]"
   ]
  },
  {
   "cell_type": "code",
   "execution_count": 232,
   "id": "2da23d09-0430-4a72-956f-1c2c58e174c4",
   "metadata": {},
   "outputs": [
    {
     "name": "stderr",
     "output_type": "stream",
     "text": [
      "/pita/users/hila/miniconda3/envs/calour/lib/python3.6/site-packages/ipykernel_launcher.py:1: RuntimeWarning: divide by zero encountered in log2\n",
      "  \"\"\"Entry point for launching an IPython kernel.\n"
     ]
    },
    {
     "data": {
      "text/plain": [
       "-inf"
      ]
     },
     "execution_count": 232,
     "metadata": {},
     "output_type": "execute_result"
    }
   ],
   "source": [
    "np.log2(0)"
   ]
  },
  {
   "cell_type": "code",
   "execution_count": 272,
   "id": "2fc36dd5-c51b-406f-b6c6-e21fdc64355f",
   "metadata": {},
   "outputs": [
    {
     "data": {
      "text/plain": [
       "array([0.])"
      ]
     },
     "execution_count": 272,
     "metadata": {},
     "output_type": "execute_result"
    }
   ],
   "source": [
    "np.linspace(0,0,1)"
   ]
  },
  {
   "cell_type": "code",
   "execution_count": 295,
   "id": "b37f1963-fb4c-48a7-9460-ee7a47750ff4",
   "metadata": {},
   "outputs": [
    {
     "data": {
      "text/plain": [
       "numpy.ndarray"
      ]
     },
     "execution_count": 295,
     "metadata": {},
     "output_type": "execute_result"
    }
   ],
   "source": [
    "type(x.data)"
   ]
  },
  {
   "cell_type": "code",
   "execution_count": null,
   "id": "8492bdc1-6467-460b-be50-f6993341f1d6",
   "metadata": {},
   "outputs": [],
   "source": []
  },
  {
   "attachments": {},
   "cell_type": "markdown",
   "id": "0e477743",
   "metadata": {},
   "source": [
    "# Intersection with significant features from mgx"
   ]
  },
  {
   "cell_type": "code",
   "execution_count": 81,
   "id": "e45ba4d1-5879-4e12-8d0f-d6176647db1e",
   "metadata": {},
   "outputs": [],
   "source": [
    "# hmp2 mgx paths fdr 0.2\n",
    "significant_paths_mgx = ['PWY-3001: superpathway of L-isoleucine biosynthesis I',\n",
    "       'PWY66-399: gluconeogenesis III',\n",
    "       'PWY-7383: anaerobic energy metabolism (invertebrates, cytosol)',\n",
    "       'PWY-5304: superpathway of sulfur oxidation (Acidianus ambivalens)',\n",
    "       'BRANCHED-CHAIN-AA-SYN-PWY: superpathway of branched chain amino acid biosynthesis',\n",
    "       'PWY-5103: L-isoleucine biosynthesis III',\n",
    "       \"PWY-7234: inosine-5'-phosphate biosynthesis III\",\n",
    "       'PWY0-162: superpathway of pyrimidine ribonucleotides de novo biosynthesis',\n",
    "       'GLUCARGALACTSUPER-PWY: superpathway of D-glucarate and D-galactarate degradation',\n",
    "       'GALACTARDEG-PWY: D-galactarate degradation I',\n",
    "       'PWY-7228: superpathway of guanosine nucleotides de novo biosynthesis I',\n",
    "       'PWY-6125: superpathway of guanosine nucleotides de novo biosynthesis II',\n",
    "       'P164-PWY: purine nucleobases degradation I (anaerobic)',\n",
    "       'PWY-7222: guanosine deoxyribonucleotides de novo biosynthesis II',\n",
    "       'PWY-7220: adenosine deoxyribonucleotides de novo biosynthesis II',\n",
    "       'PWY-5497: purine nucleobases degradation II (anaerobic)']"
   ]
  },
  {
   "cell_type": "code",
   "execution_count": 320,
   "id": "f3b1a909-049a-4fa0-b991-86394c70db28",
   "metadata": {},
   "outputs": [],
   "source": [
    "# hmp2 mgx ecs fdr 0.1, filtered 20% above 0.000001, binary transformed.\n",
    "['3.2.1.45', '3.1.3.41', '1.8.98.1', '3.4.21.26', '3.4.13.3',\n",
    "       '6.5.1.1', '3.5.1.59', '1.3.7.8', '1.1.1.79', '2.7.1.121',\n",
    "       '1.1.3.15', '3.4.14.11', '3.5.99.3', '2.3.1.174', '3.5.99.10',\n",
    "       '2.7.1.89']"
   ]
  },
  {
   "cell_type": "code",
   "execution_count": 64,
   "id": "a9291ac4-02a3-4d29-8e76-eb80b8b50032",
   "metadata": {},
   "outputs": [],
   "source": [
    "# hmp2 mgx ecs fdr 0.1, filtered 20% above 0.000001\n",
    "significant_ecs_mgx = ['3.4.13.3', '3.1.3.41', '4.1.99.2', '1.3.1.12', '1.8.98.1',\n",
    "       '3.5.4.31', '2.4.2.17', '3.2.1.39', '3.2.1.45', '2.4.1.246',\n",
    "       '4.2.1.151', '5.4.99.2', '6.1.1.13', '3.5.1.88', '3.5.1.53',\n",
    "       '6.3.2.1', '3.6.5.3', '3.1.26.4', '4.2.1.19', '4.1.1.23',\n",
    "       '4.1.1.11', '1.1.1.23', '4.1.1.32', '1.1.1.272', '4.2.3.5',\n",
    "       '6.5.1.1', '3.4.21.26', '3.5.1.59', '3.5.4.32', '3.6.3.19',\n",
    "       '2.3.1.174', '4.3.1.15', '2.7.4.6', '1.1.3.15', '1.1.1.60',\n",
    "       '2.4.2.52', '3.6.1.11', '4.1.3.6', '3.5.99.3', '2.8.3.10',\n",
    "       '6.2.1.22', '2.3.1.16', '2.7.1.89', '2.7.1.100', '6.3.1.20',\n",
    "       '3.5.99.10']"
   ]
  },
  {
   "cell_type": "code",
   "execution_count": 224,
   "id": "cf1f2cd5",
   "metadata": {},
   "outputs": [],
   "source": [
    "interesting_paths_from_core_var_heatmap = ['ANAEROFRUCAT-PWY: homolactic fermentation', #a\n",
    "                                           'P185-PWY: formaldehyde assimilation III (dihydroxyacetone cycle)', #d\n",
    "                                           'DAPLYSINESYN-PWY: L-lysine biosynthesis I', #c\n",
    "                                           'CITRULBIO-PWY: L-citrulline biosynthesis', #b\n",
    "                                           'GLCMANNANAUT-PWY: superpathway of N-acetylglucosamine, N-acetylmannosamine and N-acetylneuraminate degradation', #c\n",
    "                                           'PWY-4981: L-proline biosynthesis II (from arginine)', #e\n",
    "                                           'PWY66-399: gluconeogenesis III' #e\n",
    "                                           ]"
   ]
  },
  {
   "cell_type": "code",
   "execution_count": 225,
   "id": "4930c6f5-aaee-4b73-af8c-69701693783f",
   "metadata": {},
   "outputs": [
    {
     "data": {
      "text/plain": [
       "AmpliconExperiment with 46 samples, 402 features"
      ]
     },
     "execution_count": 225,
     "metadata": {},
     "output_type": "execute_result"
    }
   ],
   "source": [
    "xx"
   ]
  },
  {
   "cell_type": "code",
   "execution_count": 226,
   "id": "45e4526e",
   "metadata": {},
   "outputs": [],
   "source": [
    "yy = xx.filter_ids(interesting_paths_from_core_var_heatmap, axis='f', negate=False)\n",
    "#yy = y.filter_ids(significant_paths_mgx, axis='f', negate=False)"
   ]
  },
  {
   "cell_type": "code",
   "execution_count": 227,
   "id": "55573438",
   "metadata": {},
   "outputs": [
    {
     "data": {
      "text/plain": [
       "AmpliconExperiment with 46 samples, 7 features"
      ]
     },
     "execution_count": 227,
     "metadata": {},
     "output_type": "execute_result"
    }
   ],
   "source": [
    "yy"
   ]
  },
  {
   "cell_type": "code",
   "execution_count": 231,
   "id": "1fbcb36b",
   "metadata": {},
   "outputs": [],
   "source": [
    "# we get log2 data, except original 0s are not -np.inf but 0. \n",
    "# we change data for differntial abundance \n",
    "yy.data[yy.data==0] = np.log2(10**-10)\n",
    "yy.data[yy.data==np.nan] = 0\n",
    "yy.data[yy.data==np.inf] = 0"
   ]
  },
  {
   "cell_type": "code",
   "execution_count": 233,
   "id": "99277698",
   "metadata": {},
   "outputs": [
    {
     "name": "stdout",
     "output_type": "stream",
     "text": [
      "2023-06-15 17:44:45 INFO 27 samples with both values\n",
      "2023-06-15 17:44:45 WARNING Do you forget to normalize your data? It is required before running this function\n",
      "2023-06-15 17:44:45 INFO After filtering, 0 remain.\n",
      "2023-06-15 17:44:45 INFO 11 samples with value 1 (['UC'])\n",
      "2023-06-15 17:44:45 INFO number of higher in UC: 0. number of higher in nonIBD : 0. total 0\n",
      "2023-06-15 17:44:45 WARNING no significant features found\n"
     ]
    }
   ],
   "source": [
    "yy_diff = yy.diff_abundance('diagnosis', ['UC'], ['nonIBD'], alpha = 0.2, transform = None) # method = nanmeandiff) "
   ]
  },
  {
   "cell_type": "code",
   "execution_count": 119,
   "id": "4916069a",
   "metadata": {},
   "outputs": [
    {
     "name": "stdout",
     "output_type": "stream",
     "text": [
      "2023-05-10 17:33:28 INFO 74 samples with both values\n",
      "2023-05-10 17:33:28 WARNING Do you forget to normalize your data? It is required before running this function\n",
      "2023-05-10 17:33:28 INFO After filtering, 0 remain.\n",
      "2023-05-10 17:33:28 INFO 55 samples with value 1 (['UC', 'CD'])\n",
      "2023-05-10 17:33:28 INFO number of higher in UC,CD: 0. number of higher in nonIBD : 0. total 0\n",
      "2023-05-10 17:33:28 WARNING no significant features found\n"
     ]
    }
   ],
   "source": [
    "ca.set_log_level('INFO')\n",
    "#yy_diff = yy.diff_abundance('diagnosis', ['UC', 'CD'], ['nonIBD'], alpha = 0.5, transform = None)\n",
    "yy_diff = yy.diff_abundance('diagnosis', ['UC', 'CD'], ['nonIBD'], alpha = 0.5, transform = None)"
   ]
  },
  {
   "cell_type": "code",
   "execution_count": 124,
   "id": "bf1109a8",
   "metadata": {},
   "outputs": [
    {
     "data": {
      "text/plain": [
       "<calour.heatmap.plotgui_qt5.PlotGUI_QT5 at 0x7fd10f9277f0>"
      ]
     },
     "execution_count": 124,
     "metadata": {},
     "output_type": "execute_result"
    }
   ],
   "source": [
    "yy.plot(gui='qt5', sample_field = 'diagnosis', barx_fields=['Participant ID'],barx_label=False,\n",
    "       cmap = mymap, norm = None,clim=[-6,6], \n",
    "       yticklabel_kwargs = {\"size\": 7}, yticklabel_len = 40, feature_field = '_feature_id', databases = [])"
   ]
  },
  {
   "cell_type": "code",
   "execution_count": 69,
   "id": "01f75d7a",
   "metadata": {},
   "outputs": [
    {
     "data": {
      "text/plain": [
       "<calour.heatmap.plotgui_qt5.PlotGUI_QT5 at 0x7fd1147080f0>"
      ]
     },
     "execution_count": 69,
     "metadata": {},
     "output_type": "execute_result"
    }
   ],
   "source": [
    "yy_diff.plot(gui='qt5', sample_field = 'diagnosis', barx_fields=['Participant ID'],barx_label=False,\n",
    "             yticklabel_kwargs = {\"size\": 7, \"rotation\": 0}, yticklabel_len = 40, feature_field = '_feautre_id',\n",
    "             cmap = mymap, norm = None,clim=[-6,6])"
   ]
  },
  {
   "cell_type": "code",
   "execution_count": null,
   "id": "e7e1438c",
   "metadata": {},
   "outputs": [],
   "source": []
  }
 ],
 "metadata": {
  "kernelspec": {
   "display_name": "Python 3.6.13 ('calour')",
   "language": "python",
   "name": "python3"
  },
  "language_info": {
   "codemirror_mode": {
    "name": "ipython",
    "version": 3
   },
   "file_extension": ".py",
   "mimetype": "text/x-python",
   "name": "python",
   "nbconvert_exporter": "python",
   "pygments_lexer": "ipython3",
   "version": "3.6.13"
  },
  "vscode": {
   "interpreter": {
    "hash": "912d22df99ffca3eb7e9f68cf51427bd21dc7441285b7f0460152d450e1d3e23"
   }
  }
 },
 "nbformat": 4,
 "nbformat_minor": 5
}
