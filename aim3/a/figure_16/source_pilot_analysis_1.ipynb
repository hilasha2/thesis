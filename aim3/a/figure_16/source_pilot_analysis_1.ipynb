{
 "cells": [
  {
   "cell_type": "code",
   "execution_count": 1,
   "id": "dbdd2366-0809-4de5-a714-07931af5b4c0",
   "metadata": {},
   "outputs": [],
   "source": [
    "import calour as ca\n",
    "import pandas as pd\n",
    "import numpy as np\n",
    "import os"
   ]
  },
  {
   "cell_type": "markdown",
   "id": "7616914b-b7b6-4201-b7cd-f5096f001e1a",
   "metadata": {},
   "source": [
    "# Reading the data"
   ]
  },
  {
   "cell_type": "code",
   "execution_count": 3,
   "id": "9ca81eca-9779-42a9-acf6-e25aeb6baef0",
   "metadata": {},
   "outputs": [],
   "source": [
    "def get_name(names):\n",
    "    nname = []\n",
    "    for cname in names:\n",
    "        nname.append('_'.join(cname.split('_')[:-2]))\n",
    "    return nname"
   ]
  },
  {
   "cell_type": "code",
   "execution_count": 4,
   "id": "fa7dfe16-4e9b-49be-a8d5-265be5e87e62",
   "metadata": {},
   "outputs": [],
   "source": [
    "base_path = '/pita/users/hila/biobakery_workflows/output_data/07_Dec_2021_shiri_metagenome/'"
   ]
  },
  {
   "cell_type": "code",
   "execution_count": 5,
   "id": "c386ca0e-4c9c-4b8a-beec-32944270be45",
   "metadata": {},
   "outputs": [
    {
     "name": "stdout",
     "output_type": "stream",
     "text": [
      "2022-07-12 19:58:51 WARNING Do you forget to normalize your data? It is required before running this function\n"
     ]
    }
   ],
   "source": [
    "# a reminder to myself - don't start a string with '/' in the latter arguments in os.path.join.\n",
    "dat = ca.read_amplicon(os.path.join(base_path, 'metaphlan/merged/metaphlan_species.tsv'),\n",
    "                       os.path.join(base_path, 'samples_after_demultiplexing_Jan_06_2021_filename_first_col.csv'),\n",
    "                                    min_reads = 0,normalize = None, sparse = False,\n",
    "                       sample_id_proc=get_name)  "
   ]
  },
  {
   "cell_type": "code",
   "execution_count": 6,
   "id": "e104cea7-ef78-44cb-90f9-57460c1ec468",
   "metadata": {},
   "outputs": [
    {
     "data": {
      "text/plain": [
       "AmpliconExperiment with 22 samples, 319 features"
      ]
     },
     "execution_count": 6,
     "metadata": {},
     "output_type": "execute_result"
    }
   ],
   "source": [
    "dat"
   ]
  },
  {
   "cell_type": "code",
   "execution_count": 7,
   "id": "3743d5d6-62a7-4fb0-ad95-030963716e4b",
   "metadata": {},
   "outputs": [],
   "source": [
    "dat = dat.filter_samples(\"Sample\",\"S2_C_41569860_P1\", negate = True)"
   ]
  },
  {
   "cell_type": "code",
   "execution_count": 8,
   "id": "2752bfab-b699-4b33-b7e3-6a597da0208c",
   "metadata": {},
   "outputs": [],
   "source": [
    "dat = dat.sort_samples('DX')"
   ]
  },
  {
   "cell_type": "code",
   "execution_count": 9,
   "id": "2c48660b-3548-4019-94c3-8f9a621e7d6d",
   "metadata": {},
   "outputs": [],
   "source": [
    "dat = dat.sort_samples('internal_order')"
   ]
  },
  {
   "cell_type": "code",
   "execution_count": 10,
   "id": "cbf86a2b-d190-483f-979b-e1f905f6a3bd",
   "metadata": {},
   "outputs": [],
   "source": [
    "dat = dat.sort_samples('isolate_consortium')"
   ]
  },
  {
   "cell_type": "code",
   "execution_count": 11,
   "id": "c48545a0-3eaa-4c9f-865a-712b3e09cbce",
   "metadata": {},
   "outputs": [
    {
     "name": "stdout",
     "output_type": "stream",
     "text": [
      "creating logger\n"
     ]
    },
    {
     "name": "stderr",
     "output_type": "stream",
     "text": [
      "/pita/users/hila/miniconda3/envs/calour/lib/python3.6/site-packages/calour/heatmap/heatmap.py:308: MatplotlibDeprecationWarning: You are modifying the state of a globally registered colormap. In future versions, you will not be able to modify a registered colormap in-place. To remove this warning, you can make a copy of the colormap first. cmap = copy.copy(mpl.cm.get_cmap(\"viridis\"))\n",
      "  cmap.set_bad(bad_color)\n"
     ]
    },
    {
     "data": {
      "text/plain": [
       "<calour.heatmap.plotgui_qt5.PlotGUI_QT5 at 0x7f7b011c3c18>"
      ]
     },
     "execution_count": 11,
     "metadata": {},
     "output_type": "execute_result"
    }
   ],
   "source": [
    "dat.plot(gui='qt5', sample_field = 'isolate_consortium', barx_fields = ['DX'])"
   ]
  },
  {
   "cell_type": "code",
   "execution_count": 21,
   "id": "824fb061-de82-4a84-b191-707eeee0a42c",
   "metadata": {},
   "outputs": [],
   "source": [
    "dat.feature_metadata['taxonomy'] = dat.feature_metadata._feature_id\n",
    "dat_filtered = dat.filter_by_taxonomy(\"diff\")"
   ]
  },
  {
   "cell_type": "code",
   "execution_count": null,
   "id": "c82b64e2-a4ca-4b59-9517-a1c09c4319b2",
   "metadata": {},
   "outputs": [],
   "source": []
  },
  {
   "cell_type": "code",
   "execution_count": 22,
   "id": "baf71344-09dd-4ac9-ad65-0250df522201",
   "metadata": {},
   "outputs": [
    {
     "data": {
      "text/plain": [
       "AmpliconExperiment with 21 samples, 1 features"
      ]
     },
     "execution_count": 22,
     "metadata": {},
     "output_type": "execute_result"
    }
   ],
   "source": [
    "dat_filtered"
   ]
  },
  {
   "cell_type": "code",
   "execution_count": 23,
   "id": "a2611903-5971-44d8-8ae3-b2f2a66b0617",
   "metadata": {},
   "outputs": [
    {
     "name": "stderr",
     "output_type": "stream",
     "text": [
      "/pita/users/hila/miniconda3/envs/calour/lib/python3.6/site-packages/calour/heatmap/heatmap.py:308: MatplotlibDeprecationWarning: You are modifying the state of a globally registered colormap. In future versions, you will not be able to modify a registered colormap in-place. To remove this warning, you can make a copy of the colormap first. cmap = copy.copy(mpl.cm.get_cmap(\"viridis\"))\n",
      "  cmap.set_bad(bad_color)\n"
     ]
    },
    {
     "data": {
      "text/plain": [
       "<calour.heatmap.plotgui_qt5.PlotGUI_QT5 at 0x7f34683b3710>"
      ]
     },
     "execution_count": 23,
     "metadata": {},
     "output_type": "execute_result"
    }
   ],
   "source": [
    "dat_filtered.plot(gui='qt5', sample_field = 'isolate_consortium', barx_fields = ['DX'])"
   ]
  },
  {
   "cell_type": "code",
   "execution_count": 24,
   "id": "350e576d-0279-4519-ad8d-956d19cba377",
   "metadata": {},
   "outputs": [
    {
     "data": {
      "text/plain": [
       "array([[0.     ],\n",
       "       [0.     ],\n",
       "       [0.     ],\n",
       "       [0.     ],\n",
       "       [0.00249],\n",
       "       [0.     ],\n",
       "       [0.     ],\n",
       "       [0.     ],\n",
       "       [0.     ],\n",
       "       [0.     ],\n",
       "       [0.     ],\n",
       "       [0.     ],\n",
       "       [0.     ],\n",
       "       [0.02132],\n",
       "       [0.01572],\n",
       "       [0.01267],\n",
       "       [0.02676],\n",
       "       [0.     ],\n",
       "       [0.     ],\n",
       "       [0.     ],\n",
       "       [0.     ],\n",
       "       [0.     ]])"
      ]
     },
     "execution_count": 24,
     "metadata": {},
     "output_type": "execute_result"
    }
   ],
   "source": [
    "dat_filtered.data"
   ]
  },
  {
   "cell_type": "code",
   "execution_count": null,
   "id": "e6683a82-ae19-4a42-b74c-df956cfc99f8",
   "metadata": {},
   "outputs": [],
   "source": []
  },
  {
   "cell_type": "code",
   "execution_count": null,
   "id": "9aa0b117-0b58-49ab-903f-d049713b86e7",
   "metadata": {},
   "outputs": [],
   "source": []
  },
  {
   "cell_type": "code",
   "execution_count": 29,
   "id": "41da97ed-1c1e-44d6-8225-f48ece3fd080",
   "metadata": {},
   "outputs": [
    {
     "name": "stdout",
     "output_type": "stream",
     "text": [
      "2022-03-10 14:06:30 WARNING Do you forget to normalize your data? It is required before running this function\n"
     ]
    }
   ],
   "source": [
    "x = dat.diff_abundance('DX', ['infant', 'infant_dup'], ['Ctl', 'CD'], alpha = 0.1)"
   ]
  },
  {
   "cell_type": "code",
   "execution_count": 30,
   "id": "e90cbbab-bb00-48e3-8b59-8bb3124ada96",
   "metadata": {},
   "outputs": [
    {
     "data": {
      "text/plain": [
       "AmpliconExperiment with 21 samples, 63 features"
      ]
     },
     "execution_count": 30,
     "metadata": {},
     "output_type": "execute_result"
    }
   ],
   "source": [
    "x"
   ]
  },
  {
   "cell_type": "code",
   "execution_count": 31,
   "id": "a8f94722-94e0-4906-ab38-7d393d819896",
   "metadata": {},
   "outputs": [
    {
     "name": "stderr",
     "output_type": "stream",
     "text": [
      "/pita/users/hila/miniconda3/envs/calour/lib/python3.6/site-packages/calour/heatmap/heatmap.py:308: MatplotlibDeprecationWarning: You are modifying the state of a globally registered colormap. In future versions, you will not be able to modify a registered colormap in-place. To remove this warning, you can make a copy of the colormap first. cmap = copy.copy(mpl.cm.get_cmap(\"viridis\"))\n",
      "  cmap.set_bad(bad_color)\n"
     ]
    },
    {
     "data": {
      "text/plain": [
       "<calour.heatmap.plotgui_qt5.PlotGUI_QT5 at 0x7f3467df5710>"
      ]
     },
     "execution_count": 31,
     "metadata": {},
     "output_type": "execute_result"
    }
   ],
   "source": [
    "x.plot(gui='qt5', sample_field = 'isolate_consortium', barx_fields = ['DX'])"
   ]
  },
  {
   "cell_type": "code",
   "execution_count": 32,
   "id": "9d67669e-6917-480a-a608-76836775aabc",
   "metadata": {},
   "outputs": [
    {
     "name": "stdout",
     "output_type": "stream",
     "text": [
      "2022-03-10 14:11:28 WARNING Do you forget to normalize your data? It is required before running this function\n"
     ]
    }
   ],
   "source": [
    "y = dat.diff_abundance('DX', ['Ctl'], ['CD'], alpha = 0.1)"
   ]
  },
  {
   "cell_type": "code",
   "execution_count": 33,
   "id": "50e93ee4-27c6-4b6b-97c2-6a2ae6cf4f24",
   "metadata": {},
   "outputs": [
    {
     "data": {
      "text/plain": [
       "AmpliconExperiment with 21 samples, 20 features"
      ]
     },
     "execution_count": 33,
     "metadata": {},
     "output_type": "execute_result"
    }
   ],
   "source": [
    "y"
   ]
  },
  {
   "cell_type": "code",
   "execution_count": 36,
   "id": "54acf59d-f9d8-45ca-af13-877ed80c3a27",
   "metadata": {},
   "outputs": [
    {
     "name": "stderr",
     "output_type": "stream",
     "text": [
      "/pita/users/hila/miniconda3/envs/calour/lib/python3.6/site-packages/calour/heatmap/heatmap.py:308: MatplotlibDeprecationWarning: You are modifying the state of a globally registered colormap. In future versions, you will not be able to modify a registered colormap in-place. To remove this warning, you can make a copy of the colormap first. cmap = copy.copy(mpl.cm.get_cmap(\"viridis\"))\n",
      "  cmap.set_bad(bad_color)\n"
     ]
    },
    {
     "data": {
      "text/plain": [
       "<calour.heatmap.plotgui_qt5.PlotGUI_QT5 at 0x7f3466e09438>"
      ]
     },
     "execution_count": 36,
     "metadata": {},
     "output_type": "execute_result"
    }
   ],
   "source": [
    "y.plot(gui='qt5', sample_field = 'isolate_consortium', barx_fields = ['DX'], bary_fields = ['_calour_direction'])"
   ]
  },
  {
   "cell_type": "code",
   "execution_count": 37,
   "id": "f2c980a1-6d8e-411f-bdb0-0784ebe3ce92",
   "metadata": {},
   "outputs": [
    {
     "data": {
      "text/plain": [
       "array(['k__Bacteria|p__Firmicutes|c__Bacilli|o__Lactobacillales|f__Enterococcaceae|g__Enterococcus|s__Enterococcus_faecium',\n",
       "       'k__Bacteria|p__Firmicutes|c__Clostridia|o__Clostridiales|f__Clostridiaceae|g__Clostridium|s__Clostridium_perfringens',\n",
       "       'k__Bacteria|p__Proteobacteria|c__Gammaproteobacteria|o__Enterobacterales|f__Enterobacteriaceae|g__Escherichia|s__Escherichia_coli',\n",
       "       'k__Bacteria|p__Firmicutes|c__Clostridia|o__Clostridiales|f__Lachnospiraceae|g__Lachnoclostridium|s__Clostridium_bolteae',\n",
       "       'k__Bacteria|p__Firmicutes|c__Clostridia|o__Clostridiales|f__Lachnospiraceae|g__Blautia|s__Ruminococcus_gnavus',\n",
       "       'k__Bacteria|p__Firmicutes|c__Clostridia|o__Clostridiales|f__Lachnospiraceae|g__Coprococcus|s__Coprococcus_comes',\n",
       "       'k__Bacteria|p__Actinobacteria|c__Actinobacteria|o__Bifidobacteriales|f__Bifidobacteriaceae|g__Bifidobacterium|s__Bifidobacterium_adolescentis',\n",
       "       'k__Bacteria|p__Bacteroidetes|c__Bacteroidia|o__Bacteroidales|f__Rikenellaceae|g__Alistipes|s__Alistipes_indistinctus',\n",
       "       'k__Bacteria|p__Firmicutes|c__Clostridia|o__Clostridiales|f__Ruminococcaceae|g__Ruminococcus|s__Ruminococcus_bicirculans',\n",
       "       'k__Bacteria|p__Firmicutes|c__Bacilli|o__Lactobacillales|f__Streptococcaceae|g__Streptococcus|s__Streptococcus_thermophilus',\n",
       "       'k__Bacteria|p__Firmicutes|c__Clostridia|o__Clostridiales|f__Lachnospiraceae|g__Roseburia|s__Roseburia_hominis',\n",
       "       'k__Bacteria|p__Firmicutes|c__Bacilli|o__Lactobacillales|f__Lactobacillaceae|g__Lactobacillus|s__Lactobacillus_rogosae',\n",
       "       'k__Bacteria|p__Bacteroidetes|c__Bacteroidia|o__Bacteroidales|f__Prevotellaceae|g__Prevotella|s__Prevotella_copri',\n",
       "       'k__Bacteria|p__Firmicutes|c__Clostridia|o__Clostridiales|f__Oscillospiraceae|g__Oscillibacter|s__Oscillibacter_sp_57_20',\n",
       "       'k__Bacteria|p__Firmicutes|c__Clostridia|o__Clostridiales|f__Lachnospiraceae|g__Coprococcus|s__Coprococcus_eutactus',\n",
       "       'k__Bacteria|p__Firmicutes|c__Clostridia|o__Clostridiales|f__Ruminococcaceae|g__Ruminococcus|s__Ruminococcus_bromii',\n",
       "       'k__Bacteria|p__Firmicutes|c__Clostridia|o__Clostridiales|f__Oscillospiraceae|g__Oscillibacter|s__Oscillibacter_sp_CAG_241',\n",
       "       'k__Bacteria|p__Firmicutes|c__Clostridia|o__Clostridiales|f__Ruminococcaceae|g__Ruminococcaceae_unclassified|s__Eubacterium_siraeum',\n",
       "       'k__Bacteria|p__Firmicutes|c__Clostridia|o__Clostridiales|f__Ruminococcaceae|g__Faecalibacterium|s__Faecalibacterium_prausnitzii',\n",
       "       'k__Bacteria|p__Firmicutes|c__Firmicutes_unclassified|o__Firmicutes_unclassified|f__Firmicutes_unclassified|g__Firmicutes_unclassified|s__Firmicutes_bacterium_CAG_83'],\n",
       "      dtype=object)"
      ]
     },
     "execution_count": 37,
     "metadata": {},
     "output_type": "execute_result"
    }
   ],
   "source": [
    "y.feature_metadata.index.values"
   ]
  },
  {
   "cell_type": "code",
   "execution_count": 39,
   "id": "3e398da8-3229-4550-87cc-eace2573665c",
   "metadata": {},
   "outputs": [],
   "source": [
    "y.save('/pita/users/hila/analysis/bioms/lab_metagenomics_metaphlan_default_diffabund_on_dx_between_ctrl_cd_alpha_01')"
   ]
  },
  {
   "cell_type": "code",
   "execution_count": null,
   "id": "5fc03078-28d8-471d-b0c5-8929b07cd841",
   "metadata": {},
   "outputs": [],
   "source": []
  }
 ],
 "metadata": {
  "kernelspec": {
   "display_name": "Python 3.6.13 ('calour')",
   "language": "python",
   "name": "python3"
  },
  "language_info": {
   "codemirror_mode": {
    "name": "ipython",
    "version": 3
   },
   "file_extension": ".py",
   "mimetype": "text/x-python",
   "name": "python",
   "nbconvert_exporter": "python",
   "pygments_lexer": "ipython3",
   "version": "3.6.13"
  },
  "vscode": {
   "interpreter": {
    "hash": "912d22df99ffca3eb7e9f68cf51427bd21dc7441285b7f0460152d450e1d3e23"
   }
  }
 },
 "nbformat": 4,
 "nbformat_minor": 5
}
