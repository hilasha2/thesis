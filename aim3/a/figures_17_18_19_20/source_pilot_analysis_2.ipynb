{
 "cells": [
  {
   "cell_type": "code",
   "execution_count": 38,
   "id": "39821435-5906-4976-8aef-e22bf9b501a7",
   "metadata": {},
   "outputs": [],
   "source": [
    "import calour as ca\n",
    "import pandas as pd\n",
    "import numpy as np\n",
    "import os\n",
    "import matplotlib.pyplot as plt\n",
    "import matplotlib"
   ]
  },
  {
   "cell_type": "code",
   "execution_count": 2,
   "id": "35bdf719-1619-4252-9f0e-44530c87f046",
   "metadata": {},
   "outputs": [],
   "source": [
    "def get_name(names):\n",
    "    nname = []\n",
    "    for cname in names:\n",
    "        nname.append('_'.join(cname.split('_')[:-1]))\n",
    "    return nname"
   ]
  },
  {
   "cell_type": "markdown",
   "id": "036ed906-926c-4806-a55d-6a187bb09b76",
   "metadata": {},
   "source": [
    "## Reading files"
   ]
  },
  {
   "cell_type": "code",
   "execution_count": 3,
   "id": "9f08c721-ef60-48cc-9af1-509f9ad38cf2",
   "metadata": {},
   "outputs": [],
   "source": [
    "base_path = '/pita/users/hila/biobakery_workflows/output_data/07_Dec_2021_shiri_metagenome/'"
   ]
  },
  {
   "cell_type": "code",
   "execution_count": 9,
   "id": "0cf499ac-42de-41ae-9ee9-3cd9f45e3cc7",
   "metadata": {},
   "outputs": [
    {
     "name": "stdout",
     "output_type": "stream",
     "text": [
      "2022-02-07 15:01:09 WARNING Do you forget to normalize your data? It is required before running this function\n"
     ]
    }
   ],
   "source": [
    "# lab - pathways stratified\n",
    "# too many details\n",
    "dat = ca.read_amplicon(os.path.join(base_path, '/pita/users/hila/biobakery_workflows/output_data/07_Dec_2021_shiri_metagenome/humann/merged/pathabundance_relab_stratified.tsv'),\n",
    "                       os.path.join(base_path, 'samples_after_demultiplexing_Jan_06_2021_filename_first_col.csv'),\n",
    "                                    min_reads = 0,normalize = None, sparse = False,\n",
    "                      sample_id_proc = get_name)  "
   ]
  },
  {
   "cell_type": "code",
   "execution_count": 5,
   "id": "1b8e48da-790a-40cc-b97d-7bae34650702",
   "metadata": {},
   "outputs": [
    {
     "name": "stdout",
     "output_type": "stream",
     "text": [
      "2022-06-28 15:40:22 WARNING Do you forget to normalize your data? It is required before running this function\n"
     ]
    }
   ],
   "source": [
    "# lab - pathways unstratified\n",
    "# got ok results with fdr 0.1\n",
    "dat = ca.read_amplicon(os.path.join(base_path, '/pita/users/hila/biobakery_workflows/output_data/07_Dec_2021_shiri_metagenome/humann/merged/pathabundance_relab_unstratified.tsv'),\n",
    "                       os.path.join(base_path, 'samples_after_demultiplexing_Jan_06_2021_filename_first_col.csv'),\n",
    "                                    min_reads = 0,normalize = None, sparse = False,\n",
    "                       sample_id_proc=get_name)  "
   ]
  },
  {
   "cell_type": "code",
   "execution_count": null,
   "id": "755e747f-2479-4595-840a-ff09f63bc7bd",
   "metadata": {},
   "outputs": [],
   "source": [
    "# lab - ecs stratified\n",
    "dat = ca.read_amplicon(os.path.join(base_path, '/pita/users/hila/biobakery_workflows/output_data/07_Dec_2021_shiri_metagenome/humann/merged/ecs_relab_stratified.tsv'),\n",
    "                       os.path.join(base_path, 'samples_after_demultiplexing_Jan_06_2021_filename_first_col.csv'),\n",
    "                                    min_reads = 0,normalize = None, sparse = False,\n",
    "                       sample_id_proc=get_name)  "
   ]
  },
  {
   "cell_type": "code",
   "execution_count": 22,
   "id": "4c81004d-3baf-40e5-be44-ad94b358413f",
   "metadata": {},
   "outputs": [],
   "source": [
    "# lab - ecs unstratified\n",
    "# got ok results with fdr 0.1\n",
    "ca.set_log_level('ERROR')\n",
    "dat = ca.read_amplicon(os.path.join(base_path, '/pita/users/hila/biobakery_workflows/output_data/07_Dec_2021_shiri_metagenome/humann/merged/ecs_relab_unstratified.tsv'),\n",
    "                       os.path.join(base_path, 'samples_after_demultiplexing_Jan_06_2021_filename_first_col.csv'),\n",
    "                                    min_reads = 0,normalize = None, sparse = False,\n",
    "                       sample_id_proc=get_name, \n",
    "                      feature_metadata_file = './ecs_to_name.txt')  \n",
    "ca.set_log_level('INFO')"
   ]
  },
  {
   "cell_type": "code",
   "execution_count": 38,
   "id": "9c8951e4-2e52-4a5b-a82b-6e6fb5be6894",
   "metadata": {},
   "outputs": [
    {
     "name": "stdout",
     "output_type": "stream",
     "text": [
      "2022-05-30 18:24:55 INFO loaded 22 samples, 382 features\n",
      "2022-05-30 18:24:55 WARNING Do you forget to normalize your data? It is required before running this function\n",
      "2022-05-30 18:24:55 INFO After filtering, 22 remain.\n"
     ]
    }
   ],
   "source": [
    "# lab - mgx pathways, count species per feature, normalized\n",
    "# found 108 sig feature with fdr 0.1. \n",
    "base_path = '/pita/users/hila/biobakery_workflows/output_data/07_Dec_2021_shiri_metagenome/'\n",
    "dat = ca.read_amplicon('/pita/users/hila/analysis/datasets/lab_mgx_path_count_species_normalized.tsv',\n",
    "                       os.path.join(base_path, 'samples_after_demultiplexing_Jan_06_2021_filename_first_col.csv'),\n",
    "                                    min_reads = 0,normalize = None, sparse = False)  "
   ]
  },
  {
   "cell_type": "code",
   "execution_count": 20,
   "id": "79b194da-597e-4d53-b613-f4c7d66d1f04",
   "metadata": {},
   "outputs": [],
   "source": [
    "# lab - mgx ecs, count species per feature, normalized\n",
    "# \n",
    "ca.set_log_level('ERROR')\n",
    "base_path = '/pita/users/hila/biobakery_workflows/output_data/07_Dec_2021_shiri_metagenome/'\n",
    "dat = ca.read_amplicon('/pita/users/hila/analysis/datasets/lab_mgx_ecs_count_species_normalized.tsv',\n",
    "                       os.path.join(base_path, 'samples_after_demultiplexing_Jan_06_2021_filename_first_col.csv'),\n",
    "                                    min_reads = 0,normalize = None, sparse = False,\n",
    "                      feature_metadata_file = './ecs_to_name.txt')  \n",
    "ca.set_log_level('INFO')"
   ]
  },
  {
   "cell_type": "markdown",
   "id": "e1987e9e-d159-461e-b450-5edc5d32892b",
   "metadata": {},
   "source": [
    "## Analysis"
   ]
  },
  {
   "cell_type": "code",
   "execution_count": 6,
   "id": "aa38210f-ca51-4505-b6d5-d4045d8a4656",
   "metadata": {},
   "outputs": [
    {
     "data": {
      "text/plain": [
       "AmpliconExperiment with 22 samples, 424 features"
      ]
     },
     "execution_count": 6,
     "metadata": {},
     "output_type": "execute_result"
    }
   ],
   "source": [
    "dat"
   ]
  },
  {
   "cell_type": "code",
   "execution_count": 7,
   "id": "9ffaaae0-62ee-460c-b3e9-30191da27af7",
   "metadata": {},
   "outputs": [],
   "source": [
    "dat = dat.filter_samples(\"Sample\",\"S2_C_41569860_P1\", negate = True)"
   ]
  },
  {
   "cell_type": "code",
   "execution_count": 8,
   "id": "6521ce78-13b0-4b68-835d-3358bbdb161a",
   "metadata": {},
   "outputs": [],
   "source": [
    "dat = dat.sort_samples('DX')"
   ]
  },
  {
   "cell_type": "code",
   "execution_count": 9,
   "id": "62fc67fd-7886-4b80-8a04-1f2b0db1645c",
   "metadata": {},
   "outputs": [],
   "source": [
    "dat = dat.sort_samples('internal_order')"
   ]
  },
  {
   "cell_type": "code",
   "execution_count": 10,
   "id": "777475ea-3b53-4b1b-97f4-ed12e8bec064",
   "metadata": {},
   "outputs": [],
   "source": [
    "dat = dat.sort_samples('isolate_consortium')"
   ]
  },
  {
   "cell_type": "code",
   "execution_count": 11,
   "id": "df291fca-3b12-4352-aa7c-0e98529afd29",
   "metadata": {},
   "outputs": [
    {
     "name": "stdout",
     "output_type": "stream",
     "text": [
      "creating logger\n"
     ]
    },
    {
     "name": "stderr",
     "output_type": "stream",
     "text": [
      "/pita/users/hila/miniconda3/envs/calour/lib/python3.6/site-packages/calour/heatmap/heatmap.py:308: MatplotlibDeprecationWarning: You are modifying the state of a globally registered colormap. In future versions, you will not be able to modify a registered colormap in-place. To remove this warning, you can make a copy of the colormap first. cmap = copy.copy(mpl.cm.get_cmap(\"viridis\"))\n",
      "  cmap.set_bad(bad_color)\n"
     ]
    },
    {
     "data": {
      "text/plain": [
       "<calour.heatmap.plotgui_qt5.PlotGUI_QT5 at 0x7fc283503940>"
      ]
     },
     "execution_count": 11,
     "metadata": {},
     "output_type": "execute_result"
    }
   ],
   "source": [
    "dat.plot(gui='qt5', sample_field = 'isolate_consortium', barx_fields = ['DX'])"
   ]
  },
  {
   "cell_type": "code",
   "execution_count": 12,
   "id": "1c4e36af-675b-4dc1-89a9-8ae2d4a43621",
   "metadata": {},
   "outputs": [
    {
     "name": "stdout",
     "output_type": "stream",
     "text": [
      "2022-06-28 15:41:54 WARNING Do you forget to normalize your data? It is required before running this function\n"
     ]
    }
   ],
   "source": [
    "diff_dat1 = dat.diff_abundance('DX', ['Ctl'], ['CD'], alpha = 0.1)"
   ]
  },
  {
   "cell_type": "code",
   "execution_count": 13,
   "id": "d007956b-314d-4212-b3ce-78c579506059",
   "metadata": {},
   "outputs": [
    {
     "data": {
      "text/plain": [
       "AmpliconExperiment with 21 samples, 208 features"
      ]
     },
     "execution_count": 13,
     "metadata": {},
     "output_type": "execute_result"
    }
   ],
   "source": [
    "diff_dat1"
   ]
  },
  {
   "cell_type": "code",
   "execution_count": null,
   "id": "f0f43e2a-48e8-44c4-8e93-58f3a2f30e1e",
   "metadata": {},
   "outputs": [
    {
     "name": "stderr",
     "output_type": "stream",
     "text": [
      "/pita/users/hila/miniconda3/envs/calour/lib/python3.6/site-packages/calour/heatmap/heatmap.py:308: MatplotlibDeprecationWarning: You are modifying the state of a globally registered colormap. In future versions, you will not be able to modify a registered colormap in-place. To remove this warning, you can make a copy of the colormap first. cmap = copy.copy(mpl.cm.get_cmap(\"viridis\"))\n",
      "  cmap.set_bad(bad_color)\n"
     ]
    }
   ],
   "source": [
    "diff_dat1.plot(gui='qt5', sample_field = 'isolate_consortium', barx_fields = ['DX'], bary_fields = ['_calour_direction'])"
   ]
  },
  {
   "cell_type": "code",
   "execution_count": 639,
   "id": "b7506aa6-756a-4dd2-9d62-862e7d8301ce",
   "metadata": {},
   "outputs": [
    {
     "data": {
      "text/plain": [
       "array(['1.1.1.103', '1.1.1.28', '1.1.1.291', '1.1.1.79', '1.1.1.95',\n",
       "       '1.1.5.12', '1.13.11.15', '1.18.1.3', '1.3.1.1', '2.1.1.64',\n",
       "       '2.10.1.1', '2.3.1.245', '2.5.1.48', '2.6.1.57', '2.6.1.66',\n",
       "       '2.7.1.176', '2.7.1.89', '3.1.1.1', '3.1.1.31', '3.1.2.12',\n",
       "       '3.1.3.6', '3.1.4.44', '3.2.1.67', '3.2.1.86', '3.4.11.9',\n",
       "       '3.5.2.14', '3.5.2.5', '3.6.1.25', '3.6.1.41', '3.6.3.19',\n",
       "       '3.6.3.2', '4.1.1.53', '4.1.1.86', '4.1.2.2', '4.1.2.29',\n",
       "       '4.1.2.40', '4.2.1.1', '4.2.1.7', '4.3.1.7', '5.3.4.1',\n",
       "       '1.1.1.125', '2.4.1.7', '3.2.1.122', '3.4.13.18', '4.1.99.19',\n",
       "       '6.2.1.26', '1.1.1.159', '2.4.2.6', '2.7.1.191', '3.1.2.6',\n",
       "       '3.6.1.22', '3.5.4.3', '6.3.4.14', '1.2.1.39', '1.2.1.77',\n",
       "       '1.1.1.251', '1.1.1.350', '1.11.1.21', '1.11.1.9', '1.14.12.17',\n",
       "       '1.19.1.1', '1.3.1.34', '1.5.1.30', '1.6.6.9', '1.8.5.3',\n",
       "       '2.1.1.222', '2.3.1.267', '2.3.3.9', '2.4.1.58', '2.6.1.107',\n",
       "       '2.6.1.85', '2.7.1.58', '2.7.7.76', '2.7.7.n1', '3.1.3.12',\n",
       "       '3.1.3.26', '3.1.3.74', '3.2.1.28', '3.4.21.107', '3.4.23.51',\n",
       "       '3.5.1.124', '3.6.1.9', '3.6.3.17', '3.7.1.14', '4.2.1.17',\n",
       "       '4.2.1.30', '4.4.1.13', '4.4.1.28', '6.5.1.4', '1.1.1.127',\n",
       "       '1.14.12.18', '1.6.5.2', '2.3.1.n4', '2.4.2.2', '2.4.2.4',\n",
       "       '2.7.1.165', '3.1.3.23', '3.6.1.8', '3.6.3.34', '4.1.2.20',\n",
       "       '6.3.2.12', '1.1.1.298', '1.14.12.19', '1.2.1.10', '2.3.1.16',\n",
       "       '2.3.1.174', '2.3.2.2', '2.5.1.145', '2.7.11.5', '3.1.1.45',\n",
       "       '3.1.3.10', '3.1.3.68', '3.1.3.89', '3.5.1.28', '3.5.4.1',\n",
       "       '3.5.99.10', '3.6.3.33', '4.1.1.25', '4.1.3.30', '4.2.1.40',\n",
       "       '5.3.3.6', '1.1.1.130', '1.2.1.22', '2.7.7.61', '5.1.3.22',\n",
       "       '5.3.1.22', '5.4.99.19', '6.3.1.11', '6.4.1.2', '1.1.1.282',\n",
       "       '1.14.11.47', '1.2.1.8', '2.7.1.53', '2.7.1.56', '3.1.3.70',\n",
       "       '5.1.3.41', '6.3.2.14', '1.1.5.2', '1.14.13.127', '1.14.14.9',\n",
       "       '1.2.1.16', '1.2.1.79', '1.4.3.19', '2.3.1.n5', '2.7.7.77',\n",
       "       '3.5.1.94', '3.5.3.23', '4.1.1.47', '6.3.1.20', '1.1.1.346',\n",
       "       '1.1.1.47', '1.1.1.60', '1.1.1.67', '1.16.1.3', '1.17.1.4',\n",
       "       '1.3.1.28', '2.5.1.10', '2.5.1.129', '2.7.1.194', '2.7.1.197',\n",
       "       '2.7.4.29', '2.8.3.16', '2.8.3.5', '3.2.2.8', '3.4.19.5',\n",
       "       '3.4.21.83', '3.5.1.1', '4.1.1.68', '4.1.1.98', '4.1.2.21',\n",
       "       '4.1.3.40', '4.4.1.15', '6.2.1.17', '7.1.1.7', '1.1.1.140',\n",
       "       '1.14.13.107', '1.18.1.1', '1.6.5.5', '2.7.1.19', '2.8.1.2',\n",
       "       '3.1.1.4', '3.5.4.4', '4.1.1.18', '4.1.2.17', '5.3.3.2', '5.4.2.1',\n",
       "       '1.1.1.17', '1.1.1.38', '1.3.1.6', '1.6.1.1', '1.7.5.1',\n",
       "       '2.1.1.178', '2.2.1.1', '2.3.1.61', '3.1.21.7', '3.5.2.9',\n",
       "       '3.6.4.13', '5.4.4.2', '7.5.2.1', '1.20.4.1', '1.7.2.3',\n",
       "       '2.3.1.191', '2.6.1.17', '4.2.1.130', '4.2.1.75', '1.1.1.154',\n",
       "       '1.5.1.34', '2.1.1.171', '2.7.1.121', '3.1.4.17', '3.5.1.18',\n",
       "       '4.1.1.31', '3.1.2.14', '4.2.1.90', '2.7.1.5', '3.1.3.27',\n",
       "       '2.7.1.107', '1.4.99.6', '1.1.1.132', '1.2.1.19', '1.5.1.41',\n",
       "       '1.6.1.2', '2.4.1.180', '2.7.7.59', '4.4.1.16', '5.4.99.27',\n",
       "       '1.1.99.1', '1.17.1.5', '1.7.99.4', '3.1.3.82', '3.4.16.4',\n",
       "       '3.5.1.78', '3.6.3.27', '5.1.3.4', '5.3.1.28', '5.4.99.21',\n",
       "       '1.1.1.274', '1.14.14.5', '1.15.1.1', '1.2.4.1', '1.4.1.4',\n",
       "       '2.1.1.181', '2.1.1.79', '2.3.1.41', '2.3.1.46', '3.6.1.26',\n",
       "       '4.1.1.8', '4.2.1.79', '4.3.1.15', '6.3.3.3', '1.1.1.83',\n",
       "       '1.2.1.5', '1.7.1.4', '1.8.1.7', '2.1.1.264', '2.4.2.52',\n",
       "       '2.7.1.59', '2.7.7.47', '2.7.7.65', '3.1.26.12', '3.1.3.2',\n",
       "       '3.4.11.1', '3.5.2.2', '3.6.3.24', '4.1.1.85', '5.1.3.15',\n",
       "       '5.4.99.62', '2.3.1.79', '2.7.8.20', '3.3.2.1', '3.4.17.13',\n",
       "       '3.4.24.55', '4.1.1.21', '4.2.1.12', '5.4.3.2', '6.3.2.3',\n",
       "       '2.7.7.13', '3.1.1.5', '3.1.4.16', '3.2.2.4', '4.1.3.1',\n",
       "       '5.1.3.24', '1.14.13.48', '2.6.1.81', '2.7.1.22', '2.8.3.8',\n",
       "       '3.1.31.1', '3.1.5.1', '2.1.1.187', '2.7.1.35', '3.6.1.40',\n",
       "       '4.2.1.119', '3.6.3.16', '2.4.99.12', '3.6.3.14', '1.1.1.121',\n",
       "       '1.1.1.411', '1.14.11.33', '1.3.1.10', '1.3.1.n3', '2.4.1.352',\n",
       "       '2.7.1.195', '2.7.1.198', '2.7.1.200', '2.7.1.217', '2.7.1.218',\n",
       "       '4.1.1.104', '5.1.3.26', '5.3.1.35', '5.3.3.18', '1.1.1.393',\n",
       "       '5.1.3.20', '2.4.2.15', '3.4.25.2', '4.1.1.37', '4.2.3.12',\n",
       "       '4.2.99.20', '1.8.1.8', '2.3.1.193', '2.5.1.18', '2.7.1.73',\n",
       "       '3.6.1.45', '4.2.1.6', '2.1.1.200', '2.1.1.80', '2.3.1.15',\n",
       "       '2.4.1.15', '2.7.1.51', '2.7.7.89', '3.1.11.5', '3.1.3.104',\n",
       "       '3.1.4.58', '3.5.1.19', '4.1.99.1', '4.2.2.n1', '2.5.1.31',\n",
       "       '2.7.1.15', '1.7.2.2', '2.3.1.47', '2.3.3.16', '3.1.1.32',\n",
       "       '3.1.3.45', '3.4.21.105', '3.5.1.25', '6.2.1.22', '2.4.2.43',\n",
       "       '2.7.4.6', '2.7.7.42', '3.1.1.47', '3.6.1.11', '1.3.5.3',\n",
       "       '2.1.1.242', '2.3.1.117', '2.4.1.12', '3.4.11.2', '1.1.1.49',\n",
       "       '2.7.11.32', '2.7.4.27', '3.6.3.41', '2.5.1.90', '2.7.1.83',\n",
       "       '2.7.7.1', '4.2.1.51', '6.2.1.27', '3.6.3.4', '5.1.1.20',\n",
       "       '3.2.2.21', '3.4.11.10', '1.1.5.3', '3.2.1.170', '1.1.1.381',\n",
       "       '1.1.1.414', '1.14.13.239', '1.3.1.25', '1.3.1.84', '1.3.1.87',\n",
       "       '1.5.5.1', '1.7.1.15', '1.8.4.13', '2.1.1.265', '2.1.1.n11',\n",
       "       '2.4.1.44', '2.4.99.13', '2.7.1.192', '2.7.1.201', '3.1.2.2',\n",
       "       '3.1.3.22', '3.1.3.50', '3.1.3.81', '3.1.4.55', '3.2.1.199',\n",
       "       '3.2.2.31', '3.5.1.n3', '3.5.3.9', '3.6.1.12', '3.6.1.65',\n",
       "       '4.2.1.149', '4.2.1.81', '7.2.2.8', '7.3.2.5', '7.4.2.1',\n",
       "       '7.6.2.2', '7.6.2.5', '2.5.1.64', '3.1.1.23', '6.2.1.20',\n",
       "       '1.1.1.305', '1.2.1.46', '2.1.2.13', '2.3.1.242', '2.4.1.325',\n",
       "       '2.7.1.184', '2.7.7.58', '2.8.3.19', '3.1.3.97', '3.2.1.196',\n",
       "       '3.2.2.10', '3.5.1.105', '3.5.1.110', '3.5.1.96', '4.1.1.112',\n",
       "       '4.1.1.77', '4.1.2.52', '4.1.2.57', '4.1.3.17', '4.2.1.99',\n",
       "       '4.2.2.n2', '5.1.2.3', '5.3.1.31', '5.3.2.2', '5.3.3.8',\n",
       "       '5.4.99.20', '7.1.1.3', '7.2.2.6', '7.3.2.3', '7.5.2.6',\n",
       "       '1.1.1.237', '1.8.1.2', '2.1.1.35', '2.3.1.109', '2.3.1.118',\n",
       "       '2.7.8.37', '2.7.8.42', '1.14.14.51', '1.3.98.3', '2.1.1.186',\n",
       "       '2.3.1.40', '2.8.1.12', '3.2.2.23', '3.6.1.67', '1.17.1.9',\n",
       "       '3.2.1.177', '3.6.3.36', '4.99.1.4', '1.1.2.3', '1.10.9.1',\n",
       "       '1.11.1.5', '1.12.99.6', '1.2.5.1', '2.4.1.129', '2.5.1.17',\n",
       "       '4.1.3.38', '1.1.1.284', '1.4.3.21', '4.99.1.1', '5.3.1.5',\n",
       "       '6.3.2.2', '3.1.3.1', '4.2.1.80', '5.4.2.6', '2.3.1.12',\n",
       "       '3.1.2.28', '4.1.3.6', '3.4.13.9', '1.3.5.4', '2.1.1.113',\n",
       "       '5.1.3.32', '3.1.4.46', '4.1.3.3', '4.2.1.28', '1.2.99.6',\n",
       "       '3.1.4.14', '1.1.98.6', '3.8.1.7', '1.2.1.72', '2.1.1.174',\n",
       "       '2.7.1.202', '3.2.2.28', '2.5.1.141', '5.4.99.29', '2.7.1.113',\n",
       "       '1.1.1.373', '1.2.1.71', '4.3.2.7', '5.3.3.10', '3.1.27.6',\n",
       "       '1.17.5.3', '2.1.1.298', '5.1.3.29', '5.3.1.32', '2.3.1.241',\n",
       "       '1.14.11.17', '2.3.1.210', '2.6.1.82', '1.16.1.9', '2.7.2.15',\n",
       "       '2.7.7.73', '4.1.3.34', '1.1.1.8', '3.1.4.52', '6.2.1.5',\n",
       "       '1.7.1.7', '2.1.1.144', '2.7.1.17', '4.4.1.8', '3.5.4.13',\n",
       "       '1.2.3.3', '2.1.1.77', '2.6.1.59', '4.1.2.48', '1.17.4.1',\n",
       "       '1.2.1.88', '1.13.11.24', '2.7.1.60', '2.7.2.2', '3.5.1.16',\n",
       "       '4.2.1.42', '2.1.1.185', '3.6.3.44', '1.5.1.38', '2.6.1.13',\n",
       "       '3.1.6.6', '3.2.2.20', '4.1.1.83', '4.1.99.3', '6.3.1.12',\n",
       "       '4.1.1.61', '3.5.4.42', '2.3.1.251', '2.1.1.172', '5.3.3.14',\n",
       "       '1.13.11.16', '1.1.1.93', '1.3.8.7', '1.3.8.8', '1.3.3.3',\n",
       "       '2.8.3.21', '1.2.1.91', '2.7.1.196', '2.7.1.208', '3.1.4.3',\n",
       "       '3.3.2.12', '4.1.1.22', '2.7.7.66', '1.14.14.18', '3.2.2.16',\n",
       "       '3.7.1.22', '7.2.2.7', '3.1.3.90', '3.4.11.19', '5.1.3.n2',\n",
       "       '1.1.1.65', '1.13.11.29', '3.4.21.72', '6.2.1.48', '1.14.13.149',\n",
       "       '1.3.8.13', '1.8.5.7', '2.6.1.22', '3.5.1.3', '3.5.3.26',\n",
       "       '1.14.13.24', '2.4.1.73', '4.1.2.53', '3.5.1.52', '4.1.2.43',\n",
       "       '1.21.4.1', '2.7.4.1', '2.4.1.1', '2.7.1.71', '2.8.1.7',\n",
       "       '3.2.1.91', '4.2.1.11', '1.8.99.3', '2.4.1.21', '3.5.4.33',\n",
       "       '6.3.1.1', '1.2.7.3', '2.1.1.182', '2.8.4.3', '3.4.19.11',\n",
       "       '3.1.1.96', '5.1.3.1', '5.4.2.9', '5.1.1.4', '6.3.2.1', '2.7.7.49',\n",
       "       '5.1.99.6', '6.3.4.6', '4.2.2.23', '2.6.1.77', '2.1.1.177',\n",
       "       '2.7.1.21', '3.5.2.3', '5.1.1.7', '6.3.3.1', '3.6.1.27',\n",
       "       '4.1.1.11', '3.2.2.27', '4.2.3.4', '2.3.1.35', '2.4.2.1',\n",
       "       '4.1.1.36', '4.3.2.10', '1.17.99.6', '2.4.2.45', '2.7.1.11',\n",
       "       '3.4.21.89', '3.4.24.78', '3.8.1.2', '4.2.1.46', '6.3.4.19',\n",
       "       '1.97.1.4', '2.7.4.8', '1.1.1.193', '2.2.1.10', '3.5.4.26',\n",
       "       '5.1.3.11', '3.2.1.41', '4.2.1.107', '2.6.1.16', '2.7.1.48',\n",
       "       '3.1.21.3', '6.1.1.21', '4.2.1.129', '1.2.99.5', '1.14.13.39',\n",
       "       '6.1.1.2', '3.5.3.8', '2.1.3.3', '1.5.1.5', '2.2.1.7', '2.7.8.13',\n",
       "       '3.1.26.11', '2.6.1.83', '2.7.7.7', '2.1.1.195', '2.4.1.25',\n",
       "       '2.7.1.90', '6.3.2.5', '1.1.1.205', '2.7.2.4', '4.2.1.151',\n",
       "       '7.1.2.2', '1.1.1.42', '2.1.3.2', '1.18.6.1', '2.4.1.20',\n",
       "       '4.2.1.136', '2.1.1.157', '2.1.1.37', '2.6.1.9', '6.3.5.2',\n",
       "       '4.6.1.12', '5.99.1.2', '3.6.5.3', '6.3.4.3', '1.4.7.1',\n",
       "       '2.3.1.n3', '2.6.1.11', '3.4.11.18', '2.7.7.24', '3.1.26.5',\n",
       "       '3.1.4.37', '4.2.1.33', '5.3.1.9', '2.7.1.33', '3.4.11.4',\n",
       "       '6.3.5.5', '6.1.1.6', '3.4.23.36', '4.1.1.32', '2.6.1.76',\n",
       "       '3.6.1.66', '6.1.1.5', '2.3.1.179', '2.4.2.8', '2.5.1.75',\n",
       "       '4.1.1.49', '6.3.3.2', '6.3.4.5', '1.1.1.85', '2.4.99.17',\n",
       "       '2.7.7.3', '2.5.1.19', '1.3.8.1', '2.3.1.234', '2.4.1.211',\n",
       "       '2.4.2.10', '2.7.1.50', '2.7.7.72', '4.4.1.21', '6.1.1.10',\n",
       "       '2.1.1.63', '3.5.4.25', '4.2.1.10', '7.3.2.1', '4.4.1.1',\n",
       "       '2.4.1.18', '3.6.1.3', '3.6.3.31', '6.3.5.8', '2.1.2.11',\n",
       "       '3.5.1.88', '6.3.4.4', '2.1.1.148', '2.4.1.227', '2.4.2.22',\n",
       "       '2.7.1.40', '3.1.13.1', '4.1.99.12', '5.5.1.1', '2.5.1.6',\n",
       "       '2.5.1.7', '2.7.7.85', '3.6.4.12', '5.1.3.13', '6.1.1.7',\n",
       "       '4.2.3.5', '5.4.99.18', '2.7.1.23', '2.7.2.1', '2.7.7.8',\n",
       "       '2.7.9.1', '6.1.1.1', '6.1.1.12', '6.1.1.16', '6.1.1.17',\n",
       "       '6.1.1.18', '6.1.1.3', '2.1.1.74', '2.3.1.31', '2.4.2.29',\n",
       "       '2.7.4.22', '2.8.4.4', '3.1.26.4', '3.2.1.94', '3.6.1.23',\n",
       "       '3.6.5.n1', '5.1.1.3', '5.3.1.1', '5.4.2.12', '6.1.1.19',\n",
       "       '6.1.1.20', '6.1.1.22', '6.1.1.4', '6.3.2.4', '1.1.1.23',\n",
       "       '1.1.1.94', '2.6.1.52', '2.7.1.26', '2.7.7.2', '3.1.11.6',\n",
       "       '3.1.26.3', '3.6.1.31', '4.2.1.55', '5.4.99.25', '6.3.2.10',\n",
       "       '1.1.1.267', '1.1.1.86', '1.17.7.4', '1.2.1.38', '1.2.1.41',\n",
       "       '1.3.1.98', '1.3.99.4', '1.4.1.14', '1.5.1.7', '2.1.1.193',\n",
       "       '2.1.1.228', '2.1.1.33', '2.1.2.1', '2.1.2.9', '2.4.2.14',\n",
       "       '2.4.2.17', '2.7.1.148', '2.7.1.24', '2.7.2.11', '2.7.2.3',\n",
       "       '2.7.2.8', '2.7.4.25', '2.7.4.3', '2.7.7.6', '2.7.7.60',\n",
       "       '3.1.1.29', '3.4.11.5', '3.4.21.53', '3.4.21.92', '3.5.4.19',\n",
       "       '4.1.1.23', '4.2.1.19', '4.3.2.1', '4.3.2.2', '5.1.1.1', '5.4.1.2',\n",
       "       '5.99.1.3', '6.1.1.15', '6.1.1.9', '6.3.2.6', '6.3.2.8', '6.3.2.9',\n",
       "       '6.3.4.2'], dtype=object)"
      ]
     },
     "execution_count": 639,
     "metadata": {},
     "output_type": "execute_result"
    }
   ],
   "source": [
    "diff_dat1.feature_metadata._feature_id.values"
   ]
  },
  {
   "cell_type": "markdown",
   "id": "4ca99d08-4925-46b2-a094-aee84b1519f6",
   "metadata": {},
   "source": [
    "## Intersection with HMP2"
   ]
  },
  {
   "cell_type": "code",
   "execution_count": 53,
   "id": "df02e2a9-4ad4-44bc-97c0-8fe5f75c3488",
   "metadata": {},
   "outputs": [],
   "source": [
    "#x = diff_dat1.filter_by_fasta('./pathways-_fdr_02')"
   ]
  },
  {
   "cell_type": "code",
   "execution_count": 54,
   "id": "1f72dca2-6e30-41a9-9272-f16688ae1f7c",
   "metadata": {},
   "outputs": [
    {
     "data": {
      "text/plain": [
       "AmpliconExperiment with 21 samples, 0 features"
      ]
     },
     "execution_count": 54,
     "metadata": {},
     "output_type": "execute_result"
    }
   ],
   "source": [
    "#x"
   ]
  },
  {
   "cell_type": "code",
   "execution_count": 56,
   "id": "521bb93f-505a-49c5-8078-050137be7e2c",
   "metadata": {},
   "outputs": [],
   "source": [
    "#x = dat.filter_by_fasta('./pathways-_fdr_02')"
   ]
  },
  {
   "cell_type": "code",
   "execution_count": 57,
   "id": "39930f06-1654-4014-9e12-1c27721a5a65",
   "metadata": {},
   "outputs": [
    {
     "data": {
      "text/plain": [
       "AmpliconExperiment with 21 samples, 0 features"
      ]
     },
     "execution_count": 57,
     "metadata": {},
     "output_type": "execute_result"
    }
   ],
   "source": [
    "#x"
   ]
  },
  {
   "cell_type": "code",
   "execution_count": 60,
   "id": "f4031690-9c0d-4056-b7fe-a03998df73c6",
   "metadata": {},
   "outputs": [
    {
     "data": {
      "text/plain": [
       "_feature_id    PWY-3001: superpathway of L-isoleucine biosynt...\n",
       "Name: PWY-3001: superpathway of L-isoleucine biosynthesis I, dtype: object"
      ]
     },
     "execution_count": 60,
     "metadata": {},
     "output_type": "execute_result"
    }
   ],
   "source": [
    "#dat.feature_metadata.loc['PWY-3001: superpathway of L-isoleucine biosynthesis I']"
   ]
  },
  {
   "cell_type": "code",
   "execution_count": 17,
   "id": "f7410c1d-e30b-452d-8e07-dfc8be37b48a",
   "metadata": {},
   "outputs": [],
   "source": [
    "# hmp2 - paths, fdr 0.2, lab - 0.1\n",
    "path_list = ['PWY-3001: superpathway of L-isoleucine biosynthesis I',\n",
    "       'PWY66-399: gluconeogenesis III',\n",
    "       'PWY-7383: anaerobic energy metabolism (invertebrates, cytosol)',\n",
    "       'PWY-5304: superpathway of sulfur oxidation (Acidianus ambivalens)',\n",
    "       'BRANCHED-CHAIN-AA-SYN-PWY: superpathway of branched chain amino acid biosynthesis',\n",
    "       'PWY-5103: L-isoleucine biosynthesis III',\n",
    "       \"PWY-7234: inosine-5'-phosphate biosynthesis III\",\n",
    "       'PWY0-162: superpathway of pyrimidine ribonucleotides de novo biosynthesis',\n",
    "       'GLUCARGALACTSUPER-PWY: superpathway of D-glucarate and D-galactarate degradation',\n",
    "       'GALACTARDEG-PWY: D-galactarate degradation I',\n",
    "       'PWY-7228: superpathway of guanosine nucleotides de novo biosynthesis I',\n",
    "       'PWY-6125: superpathway of guanosine nucleotides de novo biosynthesis II',\n",
    "       'P164-PWY: purine nucleobases degradation I (anaerobic)',\n",
    "       'PWY-7222: guanosine deoxyribonucleotides de novo biosynthesis II',\n",
    "       'PWY-7220: adenosine deoxyribonucleotides de novo biosynthesis II',\n",
    "       'PWY-5497: purine nucleobases degradation II (anaerobic)']"
   ]
  },
  {
   "cell_type": "code",
   "execution_count": 40,
   "id": "c5342264-5650-41c5-b7e8-9391fd796b38",
   "metadata": {},
   "outputs": [],
   "source": [
    "# hmp2 - ecs, fdr 0.1, lab - 0.1\n",
    "path_list = ['3.4.13.3', '3.5.1.53', '3.2.1.39', '1.8.98.1', '3.1.3.41', '3.2.1.45',\n",
    "       '2.3.1.128', '3.4.21.26', '4.3.3.6', '6.1.1.13', '3.5.1.59', '2.1.1.61',\n",
    "       '3.5.1.18', '5.4.99.26', '6.2.1.26', '4.3.1.15', '2.8.3.9', '3.4.13.19',\n",
    "       '2.7.1.60', '4.2.1.1', '6.3.1.20', '2.7.1.170', '4.2.1.40', '1.2.1.22',\n",
    "       '1.5.1.34', '2.3.1.174', '4.2.1.6', '1.6.5.5', '6.3.4.14', '1.3.7.8',\n",
    "       '1.14.13.48', '2.8.3.10', '3.1.4.58', '2.1.1.64', '2.7.1.89',\n",
    "       '3.1.1.31', '6.4.1.2', '1.1.1.18', '4.1.2.40', '1.8.1.14', '2.4.2.52',\n",
    "       '1.8.5.3', '3.6.3.19', '4.2.1.70', '1.1.1.6', '4.2.2.17', '2.5.1.90',\n",
    "       '2.3.1.16', '1.3.1.34', '1.3.1.1', '3.5.99.3', '4.3.1.18', '4.2.1.45',\n",
    "       '1.1.1.79', '3.5.99.10', '3.1.5.1', '2.7.1.100', '2.7.1.22', '1.17.1.4',\n",
    "       '1.1.1.60', '1.1.3.15', '6.2.1.22', '2.7.1.121', '4.2.1.42']"
   ]
  },
  {
   "cell_type": "code",
   "execution_count": 52,
   "id": "7543a5f5-b8e9-4059-a60c-3c19386d9915",
   "metadata": {},
   "outputs": [
    {
     "name": "stdout",
     "output_type": "stream",
     "text": [
      "2022-03-10 15:13:47 WARNING 29 ids were not in the experiment and were dropped.\n"
     ]
    }
   ],
   "source": [
    "x = diff_dat1.filter_ids(path_list)"
   ]
  },
  {
   "cell_type": "code",
   "execution_count": 53,
   "id": "b2155262-0bd6-47af-b03f-1c528cc01343",
   "metadata": {},
   "outputs": [
    {
     "data": {
      "text/plain": [
       "AmpliconExperiment with 21 samples, 35 features"
      ]
     },
     "execution_count": 53,
     "metadata": {},
     "output_type": "execute_result"
    }
   ],
   "source": [
    "x"
   ]
  },
  {
   "cell_type": "code",
   "execution_count": 56,
   "id": "7bd7faae-e32b-456b-8b1f-28387eb17a0f",
   "metadata": {},
   "outputs": [
    {
     "name": "stderr",
     "output_type": "stream",
     "text": [
      "/pita/users/hila/miniconda3/envs/calour/lib/python3.6/site-packages/calour/heatmap/heatmap.py:308: MatplotlibDeprecationWarning: You are modifying the state of a globally registered colormap. In future versions, you will not be able to modify a registered colormap in-place. To remove this warning, you can make a copy of the colormap first. cmap = copy.copy(mpl.cm.get_cmap(\"viridis\"))\n",
      "  cmap.set_bad(bad_color)\n"
     ]
    },
    {
     "data": {
      "text/plain": [
       "<calour.heatmap.plotgui_qt5.PlotGUI_QT5 at 0x7f377d61ad30>"
      ]
     },
     "execution_count": 56,
     "metadata": {},
     "output_type": "execute_result"
    }
   ],
   "source": [
    "x.plot(gui='qt5', sample_field = 'isolate_consortium', barx_fields = ['DX'], bary_fields = ['_calour_direction'])\n",
    "       #feature_field = \"Name\")\n",
    "       #feature_field = \"_feature_id\", yticklabel_len = 30, yticklabel_kwargs = {'rotation' : 0, \"size\" : 7})"
   ]
  },
  {
   "cell_type": "code",
   "execution_count": 57,
   "id": "086c972d-c407-4642-97a6-9596b83510cf",
   "metadata": {},
   "outputs": [
    {
     "data": {
      "text/plain": [
       "EC\n",
       "3.5.1.18                 Succinyl-diaminopimelate desuccinylase\n",
       "6.2.1.26                         o-succinylbenzoate--CoA ligase\n",
       "4.3.1.15                        Diaminopropionate ammonia-lyase\n",
       "4.2.1.1                                      Carbonic anhydrase\n",
       "6.3.1.20                                Lipoate--protein ligase\n",
       "4.2.1.40                                  Glucarate dehydratase\n",
       "1.2.1.22                             Lactaldehyde dehydrogenase\n",
       "1.5.1.34                         6,7-dihydropteridine reductase\n",
       "2.3.1.174                              3-oxoadipyl-CoA thiolase\n",
       "4.2.1.6                                 Galactonate dehydratase\n",
       "1.6.5.5                                 NADPH:quinone reductase\n",
       "6.3.4.14                                     Biotin carboxylase\n",
       "1.14.13.48                         Transferred entry 1.14.14.51\n",
       "3.1.4.58                  RNA 2',3'-cyclic 3'-phosphodiesterase\n",
       "2.1.1.64              3-demethylubiquinol 3-O-methyltransferase\n",
       "2.7.1.89                                        Thiamine kinase\n",
       "3.1.1.31                              6-phosphogluconolactonase\n",
       "6.4.1.2                                  Acetyl-CoA carboxylase\n",
       "4.1.2.40                         Tagatose-bisphosphate aldolase\n",
       "2.4.2.52               Triphosphoribosyl-dephospho-CoA synthase\n",
       "1.8.5.3                 Respiratory dimethylsulfoxide reductase\n",
       "3.6.3.19                              Transferred entry 7.5.2.1\n",
       "2.5.1.90              All-trans-octaprenyl-diphosphate synthase\n",
       "2.3.1.16                           Acetyl-CoA C-acyltransferase\n",
       "1.3.1.34                      2,4-dienoyl-CoA reductase (NADPH)\n",
       "1.3.1.1                    Dihydrouracil dehydrogenase (NAD(+))\n",
       "1.1.1.79                         Glyoxylate reductase (NADP(+))\n",
       "3.5.99.10          2-iminobutanoate/2-iminopropanoate deaminase\n",
       "3.1.5.1                                                 dGTPase\n",
       "2.7.1.22                             Ribosylnicotinamide kinase\n",
       "1.17.1.4                                 Xanthine dehydrogenase\n",
       "1.1.1.60                    2-hydroxy-3-oxopropionate reductase\n",
       "6.2.1.22                        [Citrate (pro-3S)-lyase] ligase\n",
       "2.7.1.121     Phosphoenolpyruvate--glycerone phosphotransferase\n",
       "4.2.1.42                                Galactarate dehydratase\n",
       "Name: Name, dtype: object"
      ]
     },
     "execution_count": 57,
     "metadata": {},
     "output_type": "execute_result"
    }
   ],
   "source": [
    "x.feature_metadata.Name"
   ]
  },
  {
   "cell_type": "markdown",
   "id": "c7029979-a1d1-4a12-8605-b65af339683d",
   "metadata": {},
   "source": [
    "## Metatransciptome"
   ]
  },
  {
   "cell_type": "code",
   "execution_count": 176,
   "id": "78a1d726-a9b7-4756-85d3-2fae939add44",
   "metadata": {},
   "outputs": [
    {
     "name": "stderr",
     "output_type": "stream",
     "text": [
      "/pita/users/hila/miniconda3/envs/calour/lib/python3.6/site-packages/ipykernel_launcher.py:1: RuntimeWarning: invalid value encountered in true_divide\n",
      "  \"\"\"Entry point for launching an IPython kernel.\n"
     ]
    },
    {
     "data": {
      "text/plain": [
       "nan"
      ]
     },
     "execution_count": 176,
     "metadata": {},
     "output_type": "execute_result"
    }
   ],
   "source": [
    "np.divide(0,0)"
   ]
  },
  {
   "cell_type": "code",
   "execution_count": 5,
   "id": "c5dbcc15-b89a-4591-96c7-e1ddfe417192",
   "metadata": {},
   "outputs": [],
   "source": [
    "base_mtx_folder_1 = '/pita/users/hila/biobakery_workflows/output_data/06_Jan_2022_lab_mgx_mtx/'\n",
    "base_mtx_folder_2 = '/pita/users/hila/biobakery_workflows/output_data/13_Feb_2022_lab_mgx_mtx_3_additional_files'\n",
    "ratio_folder = 'humann/rna_dna_norm'\n",
    "mtx_metadata = '14_Feb_2022_lab_mtx_metadata.csv'"
   ]
  },
  {
   "cell_type": "markdown",
   "id": "f078873c-313e-4f60-840d-73920d383e24",
   "metadata": {},
   "source": [
    "### Ecs ratio"
   ]
  },
  {
   "cell_type": "code",
   "execution_count": 4,
   "id": "313ede5b-0f9b-4709-bcf5-5fc632f1adbb",
   "metadata": {},
   "outputs": [],
   "source": [
    "file_path_1 = os.path.join(base_mtx_folder_1, ratio_folder, 'ecs', 'rna_dna_relative_expression_unstratified.tsv')\n",
    "rna_dna_ratio_1 = pd.read_csv(file_path_1, delimiter= '\\t', na_values = 'NaN')"
   ]
  },
  {
   "cell_type": "code",
   "execution_count": 34,
   "id": "d1cd08cc-2a37-45f9-ac98-078db430da33",
   "metadata": {},
   "outputs": [
    {
     "data": {
      "text/html": [
       "<div>\n",
       "<style scoped>\n",
       "    .dataframe tbody tr th:only-of-type {\n",
       "        vertical-align: middle;\n",
       "    }\n",
       "\n",
       "    .dataframe tbody tr th {\n",
       "        vertical-align: top;\n",
       "    }\n",
       "\n",
       "    .dataframe thead th {\n",
       "        text-align: right;\n",
       "    }\n",
       "</style>\n",
       "<table border=\"1\" class=\"dataframe\">\n",
       "  <thead>\n",
       "    <tr style=\"text-align: right;\">\n",
       "      <th></th>\n",
       "      <th># features</th>\n",
       "      <th>Bacteriodes_F_P1_TGGCTGCT</th>\n",
       "      <th>A011_0_h_CD_2_TCCATATT</th>\n",
       "      <th>S5_363_0h_ctl_CCCTCCGT</th>\n",
       "      <th>A011_0_h_CD_2_CCCTCCGT</th>\n",
       "      <th>S5_363_0h_ctl_GTACCGGT</th>\n",
       "      <th>A011_0_h_CD_2_TACCGAGT</th>\n",
       "      <th>S5_363_0h_ctl_CGAGTTGT</th>\n",
       "      <th>A011_0_h_CD_2_GTACCGGT</th>\n",
       "      <th>A011_0_h_CD_2_CGAGTTGT</th>\n",
       "      <th>A006_2XSw_0h_Ctl_TCTCCCAT</th>\n",
       "      <th>Bacteriodes_F_P1_GCCGGTAT</th>\n",
       "      <th>A006_2XSw_0h_Ctl_GTACCGGT</th>\n",
       "      <th>A011_0_h_CD_2_CCGAGGGT</th>\n",
       "      <th>Bacteriodes_F_P1_CCCTCCGT</th>\n",
       "      <th>A011_0_h_CD_2_GCCGGTAT</th>\n",
       "      <th>A006_2XSw_0h_Ctl_CCCTCCGT</th>\n",
       "      <th>A006_2XSw_0h_Ctl_TACCGAGT</th>\n",
       "      <th>Bacteriodes_F_P1_CCGAGGGT</th>\n",
       "      <th>Bacteriodes_F_P1_CGAGTTGT</th>\n",
       "    </tr>\n",
       "  </thead>\n",
       "  <tbody>\n",
       "    <tr>\n",
       "      <th>0</th>\n",
       "      <td>1.1.1.1</td>\n",
       "      <td>0.031067</td>\n",
       "      <td>0.512855</td>\n",
       "      <td>0.561239</td>\n",
       "      <td>3.545594</td>\n",
       "      <td>0.581839</td>\n",
       "      <td>2.339936</td>\n",
       "      <td>0.335752</td>\n",
       "      <td>1.722510</td>\n",
       "      <td>1.176419</td>\n",
       "      <td>3.260297</td>\n",
       "      <td>NaN</td>\n",
       "      <td>9.155278</td>\n",
       "      <td>1.709668</td>\n",
       "      <td>0.903585</td>\n",
       "      <td>1.648384</td>\n",
       "      <td>4.123863</td>\n",
       "      <td>0.0</td>\n",
       "      <td>0.952531</td>\n",
       "      <td>NaN</td>\n",
       "    </tr>\n",
       "    <tr>\n",
       "      <th>1</th>\n",
       "      <td>1.1.1.100</td>\n",
       "      <td>2.773550</td>\n",
       "      <td>0.132795</td>\n",
       "      <td>0.638288</td>\n",
       "      <td>1.024316</td>\n",
       "      <td>0.394107</td>\n",
       "      <td>0.000000</td>\n",
       "      <td>0.262336</td>\n",
       "      <td>0.597471</td>\n",
       "      <td>0.000000</td>\n",
       "      <td>0.902416</td>\n",
       "      <td>0.43043</td>\n",
       "      <td>1.529658</td>\n",
       "      <td>1.449103</td>\n",
       "      <td>1.042274</td>\n",
       "      <td>0.976823</td>\n",
       "      <td>0.254991</td>\n",
       "      <td>0.0</td>\n",
       "      <td>1.387915</td>\n",
       "      <td>0.186739</td>\n",
       "    </tr>\n",
       "    <tr>\n",
       "      <th>2</th>\n",
       "      <td>1.1.1.103</td>\n",
       "      <td>0.000000</td>\n",
       "      <td>0.259002</td>\n",
       "      <td>2.009620</td>\n",
       "      <td>0.130157</td>\n",
       "      <td>0.688638</td>\n",
       "      <td>4.202300</td>\n",
       "      <td>0.402746</td>\n",
       "      <td>0.086178</td>\n",
       "      <td>0.000000</td>\n",
       "      <td>0.000000</td>\n",
       "      <td>NaN</td>\n",
       "      <td>0.000000</td>\n",
       "      <td>0.555380</td>\n",
       "      <td>1.532304</td>\n",
       "      <td>0.563395</td>\n",
       "      <td>0.165582</td>\n",
       "      <td>0.0</td>\n",
       "      <td>1.240772</td>\n",
       "      <td>0.000000</td>\n",
       "    </tr>\n",
       "    <tr>\n",
       "      <th>3</th>\n",
       "      <td>1.1.1.105</td>\n",
       "      <td>NaN</td>\n",
       "      <td>NaN</td>\n",
       "      <td>NaN</td>\n",
       "      <td>NaN</td>\n",
       "      <td>NaN</td>\n",
       "      <td>NaN</td>\n",
       "      <td>NaN</td>\n",
       "      <td>NaN</td>\n",
       "      <td>0.000000</td>\n",
       "      <td>NaN</td>\n",
       "      <td>NaN</td>\n",
       "      <td>NaN</td>\n",
       "      <td>NaN</td>\n",
       "      <td>NaN</td>\n",
       "      <td>NaN</td>\n",
       "      <td>NaN</td>\n",
       "      <td>NaN</td>\n",
       "      <td>NaN</td>\n",
       "      <td>NaN</td>\n",
       "    </tr>\n",
       "    <tr>\n",
       "      <th>4</th>\n",
       "      <td>1.1.1.107</td>\n",
       "      <td>NaN</td>\n",
       "      <td>NaN</td>\n",
       "      <td>0.000000</td>\n",
       "      <td>0.000000</td>\n",
       "      <td>NaN</td>\n",
       "      <td>NaN</td>\n",
       "      <td>NaN</td>\n",
       "      <td>NaN</td>\n",
       "      <td>NaN</td>\n",
       "      <td>NaN</td>\n",
       "      <td>NaN</td>\n",
       "      <td>NaN</td>\n",
       "      <td>NaN</td>\n",
       "      <td>0.000000</td>\n",
       "      <td>NaN</td>\n",
       "      <td>NaN</td>\n",
       "      <td>NaN</td>\n",
       "      <td>NaN</td>\n",
       "      <td>NaN</td>\n",
       "    </tr>\n",
       "    <tr>\n",
       "      <th>...</th>\n",
       "      <td>...</td>\n",
       "      <td>...</td>\n",
       "      <td>...</td>\n",
       "      <td>...</td>\n",
       "      <td>...</td>\n",
       "      <td>...</td>\n",
       "      <td>...</td>\n",
       "      <td>...</td>\n",
       "      <td>...</td>\n",
       "      <td>...</td>\n",
       "      <td>...</td>\n",
       "      <td>...</td>\n",
       "      <td>...</td>\n",
       "      <td>...</td>\n",
       "      <td>...</td>\n",
       "      <td>...</td>\n",
       "      <td>...</td>\n",
       "      <td>...</td>\n",
       "      <td>...</td>\n",
       "      <td>...</td>\n",
       "    </tr>\n",
       "    <tr>\n",
       "      <th>2240</th>\n",
       "      <td>7.5.2.6</td>\n",
       "      <td>NaN</td>\n",
       "      <td>0.000000</td>\n",
       "      <td>0.000000</td>\n",
       "      <td>0.347581</td>\n",
       "      <td>NaN</td>\n",
       "      <td>NaN</td>\n",
       "      <td>0.000000</td>\n",
       "      <td>0.000000</td>\n",
       "      <td>NaN</td>\n",
       "      <td>0.000000</td>\n",
       "      <td>NaN</td>\n",
       "      <td>NaN</td>\n",
       "      <td>0.000000</td>\n",
       "      <td>2.994940</td>\n",
       "      <td>0.575793</td>\n",
       "      <td>NaN</td>\n",
       "      <td>NaN</td>\n",
       "      <td>0.844164</td>\n",
       "      <td>NaN</td>\n",
       "    </tr>\n",
       "    <tr>\n",
       "      <th>2241</th>\n",
       "      <td>7.6.2.1</td>\n",
       "      <td>NaN</td>\n",
       "      <td>NaN</td>\n",
       "      <td>NaN</td>\n",
       "      <td>NaN</td>\n",
       "      <td>2.033877</td>\n",
       "      <td>NaN</td>\n",
       "      <td>NaN</td>\n",
       "      <td>NaN</td>\n",
       "      <td>NaN</td>\n",
       "      <td>NaN</td>\n",
       "      <td>NaN</td>\n",
       "      <td>NaN</td>\n",
       "      <td>NaN</td>\n",
       "      <td>NaN</td>\n",
       "      <td>NaN</td>\n",
       "      <td>NaN</td>\n",
       "      <td>NaN</td>\n",
       "      <td>NaN</td>\n",
       "      <td>NaN</td>\n",
       "    </tr>\n",
       "    <tr>\n",
       "      <th>2242</th>\n",
       "      <td>7.6.2.2</td>\n",
       "      <td>NaN</td>\n",
       "      <td>0.000000</td>\n",
       "      <td>0.000000</td>\n",
       "      <td>0.181156</td>\n",
       "      <td>NaN</td>\n",
       "      <td>NaN</td>\n",
       "      <td>NaN</td>\n",
       "      <td>0.000000</td>\n",
       "      <td>NaN</td>\n",
       "      <td>0.000000</td>\n",
       "      <td>NaN</td>\n",
       "      <td>NaN</td>\n",
       "      <td>0.000000</td>\n",
       "      <td>0.750345</td>\n",
       "      <td>1.051633</td>\n",
       "      <td>NaN</td>\n",
       "      <td>NaN</td>\n",
       "      <td>0.409449</td>\n",
       "      <td>NaN</td>\n",
       "    </tr>\n",
       "    <tr>\n",
       "      <th>2243</th>\n",
       "      <td>7.6.2.5</td>\n",
       "      <td>NaN</td>\n",
       "      <td>0.000000</td>\n",
       "      <td>0.000000</td>\n",
       "      <td>0.000000</td>\n",
       "      <td>NaN</td>\n",
       "      <td>NaN</td>\n",
       "      <td>NaN</td>\n",
       "      <td>0.000000</td>\n",
       "      <td>NaN</td>\n",
       "      <td>0.000000</td>\n",
       "      <td>NaN</td>\n",
       "      <td>NaN</td>\n",
       "      <td>0.000000</td>\n",
       "      <td>NaN</td>\n",
       "      <td>0.308330</td>\n",
       "      <td>NaN</td>\n",
       "      <td>NaN</td>\n",
       "      <td>NaN</td>\n",
       "      <td>NaN</td>\n",
       "    </tr>\n",
       "    <tr>\n",
       "      <th>2244</th>\n",
       "      <td>7.6.2.7</td>\n",
       "      <td>NaN</td>\n",
       "      <td>0.000000</td>\n",
       "      <td>NaN</td>\n",
       "      <td>0.000000</td>\n",
       "      <td>NaN</td>\n",
       "      <td>NaN</td>\n",
       "      <td>NaN</td>\n",
       "      <td>0.000000</td>\n",
       "      <td>NaN</td>\n",
       "      <td>NaN</td>\n",
       "      <td>NaN</td>\n",
       "      <td>NaN</td>\n",
       "      <td>0.000000</td>\n",
       "      <td>0.000000</td>\n",
       "      <td>NaN</td>\n",
       "      <td>NaN</td>\n",
       "      <td>NaN</td>\n",
       "      <td>0.093445</td>\n",
       "      <td>NaN</td>\n",
       "    </tr>\n",
       "  </tbody>\n",
       "</table>\n",
       "<p>2245 rows × 20 columns</p>\n",
       "</div>"
      ],
      "text/plain": [
       "     # features  Bacteriodes_F_P1_TGGCTGCT  A011_0_h_CD_2_TCCATATT  \\\n",
       "0       1.1.1.1                   0.031067                0.512855   \n",
       "1     1.1.1.100                   2.773550                0.132795   \n",
       "2     1.1.1.103                   0.000000                0.259002   \n",
       "3     1.1.1.105                        NaN                     NaN   \n",
       "4     1.1.1.107                        NaN                     NaN   \n",
       "...         ...                        ...                     ...   \n",
       "2240    7.5.2.6                        NaN                0.000000   \n",
       "2241    7.6.2.1                        NaN                     NaN   \n",
       "2242    7.6.2.2                        NaN                0.000000   \n",
       "2243    7.6.2.5                        NaN                0.000000   \n",
       "2244    7.6.2.7                        NaN                0.000000   \n",
       "\n",
       "      S5_363_0h_ctl_CCCTCCGT  A011_0_h_CD_2_CCCTCCGT  S5_363_0h_ctl_GTACCGGT  \\\n",
       "0                   0.561239                3.545594                0.581839   \n",
       "1                   0.638288                1.024316                0.394107   \n",
       "2                   2.009620                0.130157                0.688638   \n",
       "3                        NaN                     NaN                     NaN   \n",
       "4                   0.000000                0.000000                     NaN   \n",
       "...                      ...                     ...                     ...   \n",
       "2240                0.000000                0.347581                     NaN   \n",
       "2241                     NaN                     NaN                2.033877   \n",
       "2242                0.000000                0.181156                     NaN   \n",
       "2243                0.000000                0.000000                     NaN   \n",
       "2244                     NaN                0.000000                     NaN   \n",
       "\n",
       "      A011_0_h_CD_2_TACCGAGT  S5_363_0h_ctl_CGAGTTGT  A011_0_h_CD_2_GTACCGGT  \\\n",
       "0                   2.339936                0.335752                1.722510   \n",
       "1                   0.000000                0.262336                0.597471   \n",
       "2                   4.202300                0.402746                0.086178   \n",
       "3                        NaN                     NaN                     NaN   \n",
       "4                        NaN                     NaN                     NaN   \n",
       "...                      ...                     ...                     ...   \n",
       "2240                     NaN                0.000000                0.000000   \n",
       "2241                     NaN                     NaN                     NaN   \n",
       "2242                     NaN                     NaN                0.000000   \n",
       "2243                     NaN                     NaN                0.000000   \n",
       "2244                     NaN                     NaN                0.000000   \n",
       "\n",
       "      A011_0_h_CD_2_CGAGTTGT  A006_2XSw_0h_Ctl_TCTCCCAT  \\\n",
       "0                   1.176419                   3.260297   \n",
       "1                   0.000000                   0.902416   \n",
       "2                   0.000000                   0.000000   \n",
       "3                   0.000000                        NaN   \n",
       "4                        NaN                        NaN   \n",
       "...                      ...                        ...   \n",
       "2240                     NaN                   0.000000   \n",
       "2241                     NaN                        NaN   \n",
       "2242                     NaN                   0.000000   \n",
       "2243                     NaN                   0.000000   \n",
       "2244                     NaN                        NaN   \n",
       "\n",
       "      Bacteriodes_F_P1_GCCGGTAT  A006_2XSw_0h_Ctl_GTACCGGT  \\\n",
       "0                           NaN                   9.155278   \n",
       "1                       0.43043                   1.529658   \n",
       "2                           NaN                   0.000000   \n",
       "3                           NaN                        NaN   \n",
       "4                           NaN                        NaN   \n",
       "...                         ...                        ...   \n",
       "2240                        NaN                        NaN   \n",
       "2241                        NaN                        NaN   \n",
       "2242                        NaN                        NaN   \n",
       "2243                        NaN                        NaN   \n",
       "2244                        NaN                        NaN   \n",
       "\n",
       "      A011_0_h_CD_2_CCGAGGGT  Bacteriodes_F_P1_CCCTCCGT  \\\n",
       "0                   1.709668                   0.903585   \n",
       "1                   1.449103                   1.042274   \n",
       "2                   0.555380                   1.532304   \n",
       "3                        NaN                        NaN   \n",
       "4                        NaN                   0.000000   \n",
       "...                      ...                        ...   \n",
       "2240                0.000000                   2.994940   \n",
       "2241                     NaN                        NaN   \n",
       "2242                0.000000                   0.750345   \n",
       "2243                0.000000                        NaN   \n",
       "2244                0.000000                   0.000000   \n",
       "\n",
       "      A011_0_h_CD_2_GCCGGTAT  A006_2XSw_0h_Ctl_CCCTCCGT  \\\n",
       "0                   1.648384                   4.123863   \n",
       "1                   0.976823                   0.254991   \n",
       "2                   0.563395                   0.165582   \n",
       "3                        NaN                        NaN   \n",
       "4                        NaN                        NaN   \n",
       "...                      ...                        ...   \n",
       "2240                0.575793                        NaN   \n",
       "2241                     NaN                        NaN   \n",
       "2242                1.051633                        NaN   \n",
       "2243                0.308330                        NaN   \n",
       "2244                     NaN                        NaN   \n",
       "\n",
       "      A006_2XSw_0h_Ctl_TACCGAGT  Bacteriodes_F_P1_CCGAGGGT  \\\n",
       "0                           0.0                   0.952531   \n",
       "1                           0.0                   1.387915   \n",
       "2                           0.0                   1.240772   \n",
       "3                           NaN                        NaN   \n",
       "4                           NaN                        NaN   \n",
       "...                         ...                        ...   \n",
       "2240                        NaN                   0.844164   \n",
       "2241                        NaN                        NaN   \n",
       "2242                        NaN                   0.409449   \n",
       "2243                        NaN                        NaN   \n",
       "2244                        NaN                   0.093445   \n",
       "\n",
       "      Bacteriodes_F_P1_CGAGTTGT  \n",
       "0                           NaN  \n",
       "1                      0.186739  \n",
       "2                      0.000000  \n",
       "3                           NaN  \n",
       "4                           NaN  \n",
       "...                         ...  \n",
       "2240                        NaN  \n",
       "2241                        NaN  \n",
       "2242                        NaN  \n",
       "2243                        NaN  \n",
       "2244                        NaN  \n",
       "\n",
       "[2245 rows x 20 columns]"
      ]
     },
     "execution_count": 34,
     "metadata": {},
     "output_type": "execute_result"
    }
   ],
   "source": [
    "rna_dna_ratio_1"
   ]
  },
  {
   "cell_type": "code",
   "execution_count": 138,
   "id": "2249c156-664c-48ec-a84a-49d3fb171173",
   "metadata": {},
   "outputs": [
    {
     "data": {
      "text/plain": [
       "Bacteriodes_F_P1_TGGCTGCT    0.000750\n",
       "A011_0_h_CD_2_TCCATATT       0.020714\n",
       "S5_363_0h_ctl_CCCTCCGT       0.013143\n",
       "A011_0_h_CD_2_CCCTCCGT       0.005961\n",
       "S5_363_0h_ctl_GTACCGGT       0.005079\n",
       "A011_0_h_CD_2_TACCGAGT       0.023220\n",
       "S5_363_0h_ctl_CGAGTTGT       0.007430\n",
       "A011_0_h_CD_2_GTACCGGT       0.015893\n",
       "A011_0_h_CD_2_CGAGTTGT       0.088041\n",
       "A006_2XSw_0h_Ctl_TCTCCCAT    0.045147\n",
       "Bacteriodes_F_P1_GCCGGTAT    0.015692\n",
       "A006_2XSw_0h_Ctl_GTACCGGT    0.066207\n",
       "A011_0_h_CD_2_CCGAGGGT       0.066818\n",
       "Bacteriodes_F_P1_CCCTCCGT    0.031418\n",
       "A011_0_h_CD_2_GCCGGTAT       0.002865\n",
       "A006_2XSw_0h_Ctl_CCCTCCGT    0.027196\n",
       "A006_2XSw_0h_Ctl_TACCGAGT    3.830323\n",
       "Bacteriodes_F_P1_CCGAGGGT    0.008416\n",
       "Bacteriodes_F_P1_CGAGTTGT    0.006049\n",
       "dtype: float64"
      ]
     },
     "execution_count": 138,
     "metadata": {},
     "output_type": "execute_result"
    }
   ],
   "source": [
    "# getting the minimum value (that is above zero)\n",
    "foo = rna_dna_ratio_1.iloc[:,1:]\n",
    "foo[foo>0].min()"
   ]
  },
  {
   "cell_type": "code",
   "execution_count": 139,
   "id": "10460b6b-0b14-4319-bcf8-dfa19a2ba738",
   "metadata": {},
   "outputs": [
    {
     "data": {
      "text/plain": [
       "Bacteriodes_F_P1_TGGCTGCT    2.111300e+01\n",
       "A011_0_h_CD_2_TCCATATT       9.916357e+01\n",
       "S5_363_0h_ctl_CCCTCCGT       1.486371e+02\n",
       "A011_0_h_CD_2_CCCTCCGT       1.552073e+02\n",
       "S5_363_0h_ctl_GTACCGGT       4.019052e+05\n",
       "A011_0_h_CD_2_TACCGAGT       5.153472e+02\n",
       "S5_363_0h_ctl_CGAGTTGT       1.435621e+06\n",
       "A011_0_h_CD_2_GTACCGGT       1.109110e+04\n",
       "A011_0_h_CD_2_CGAGTTGT       2.018156e+03\n",
       "A006_2XSw_0h_Ctl_TCTCCCAT    1.072627e+02\n",
       "Bacteriodes_F_P1_GCCGGTAT    7.042117e+01\n",
       "A006_2XSw_0h_Ctl_GTACCGGT    4.863690e+02\n",
       "A011_0_h_CD_2_CCGAGGGT       1.107839e+02\n",
       "Bacteriodes_F_P1_CCCTCCGT    6.399623e+01\n",
       "A011_0_h_CD_2_GCCGGTAT       2.141244e+02\n",
       "A006_2XSw_0h_Ctl_CCCTCCGT    1.256182e+03\n",
       "A006_2XSw_0h_Ctl_TACCGAGT    4.995176e+02\n",
       "Bacteriodes_F_P1_CCGAGGGT    3.324146e+01\n",
       "Bacteriodes_F_P1_CGAGTTGT    4.007038e+03\n",
       "dtype: float64"
      ]
     },
     "execution_count": 139,
     "metadata": {},
     "output_type": "execute_result"
    }
   ],
   "source": [
    "foo[foo<np.inf].max()"
   ]
  },
  {
   "cell_type": "code",
   "execution_count": 207,
   "id": "b4819270-da6a-426a-8e91-d4113e0e940d",
   "metadata": {},
   "outputs": [
    {
     "data": {
      "text/html": [
       "<div>\n",
       "<style scoped>\n",
       "    .dataframe tbody tr th:only-of-type {\n",
       "        vertical-align: middle;\n",
       "    }\n",
       "\n",
       "    .dataframe tbody tr th {\n",
       "        vertical-align: top;\n",
       "    }\n",
       "\n",
       "    .dataframe thead th {\n",
       "        text-align: right;\n",
       "    }\n",
       "</style>\n",
       "<table border=\"1\" class=\"dataframe\">\n",
       "  <thead>\n",
       "    <tr style=\"text-align: right;\">\n",
       "      <th></th>\n",
       "      <th># features</th>\n",
       "      <th>Bacteriodes_F_P1_TGGCTGCT</th>\n",
       "      <th>A011_0_h_CD_2_TCCATATT</th>\n",
       "      <th>S5_363_0h_ctl_CCCTCCGT</th>\n",
       "      <th>A011_0_h_CD_2_CCCTCCGT</th>\n",
       "      <th>S5_363_0h_ctl_GTACCGGT</th>\n",
       "      <th>A011_0_h_CD_2_TACCGAGT</th>\n",
       "      <th>S5_363_0h_ctl_CGAGTTGT</th>\n",
       "      <th>A011_0_h_CD_2_GTACCGGT</th>\n",
       "      <th>A011_0_h_CD_2_CGAGTTGT</th>\n",
       "      <th>A006_2XSw_0h_Ctl_TCTCCCAT</th>\n",
       "      <th>Bacteriodes_F_P1_GCCGGTAT</th>\n",
       "      <th>A006_2XSw_0h_Ctl_GTACCGGT</th>\n",
       "      <th>A011_0_h_CD_2_CCGAGGGT</th>\n",
       "      <th>Bacteriodes_F_P1_CCCTCCGT</th>\n",
       "      <th>A011_0_h_CD_2_GCCGGTAT</th>\n",
       "      <th>A006_2XSw_0h_Ctl_CCCTCCGT</th>\n",
       "      <th>A006_2XSw_0h_Ctl_TACCGAGT</th>\n",
       "      <th>Bacteriodes_F_P1_CCGAGGGT</th>\n",
       "      <th>Bacteriodes_F_P1_CGAGTTGT</th>\n",
       "    </tr>\n",
       "  </thead>\n",
       "  <tbody>\n",
       "    <tr>\n",
       "      <th>0</th>\n",
       "      <td>1.1.1.1</td>\n",
       "      <td>3.106728e-02</td>\n",
       "      <td>5.128550e-01</td>\n",
       "      <td>5.612389e-01</td>\n",
       "      <td>3.545594e+00</td>\n",
       "      <td>0.581839</td>\n",
       "      <td>2.339936e+00</td>\n",
       "      <td>3.357524e-01</td>\n",
       "      <td>1.722510e+00</td>\n",
       "      <td>1.176419e+00</td>\n",
       "      <td>3.260297e+00</td>\n",
       "      <td>-1.00000</td>\n",
       "      <td>9.155278e+00</td>\n",
       "      <td>1.709668e+00</td>\n",
       "      <td>9.035846e-01</td>\n",
       "      <td>1.648384</td>\n",
       "      <td>4.123863</td>\n",
       "      <td>1.000000e-10</td>\n",
       "      <td>0.952531</td>\n",
       "      <td>-1.000000e+00</td>\n",
       "    </tr>\n",
       "    <tr>\n",
       "      <th>1</th>\n",
       "      <td>1.1.1.100</td>\n",
       "      <td>2.773550e+00</td>\n",
       "      <td>1.327953e-01</td>\n",
       "      <td>6.382878e-01</td>\n",
       "      <td>1.024316e+00</td>\n",
       "      <td>0.394107</td>\n",
       "      <td>1.000000e-10</td>\n",
       "      <td>2.623356e-01</td>\n",
       "      <td>5.974713e-01</td>\n",
       "      <td>1.000000e-10</td>\n",
       "      <td>9.024163e-01</td>\n",
       "      <td>0.43043</td>\n",
       "      <td>1.529658e+00</td>\n",
       "      <td>1.449103e+00</td>\n",
       "      <td>1.042274e+00</td>\n",
       "      <td>0.976823</td>\n",
       "      <td>0.254991</td>\n",
       "      <td>1.000000e-10</td>\n",
       "      <td>1.387915</td>\n",
       "      <td>1.867395e-01</td>\n",
       "    </tr>\n",
       "    <tr>\n",
       "      <th>2</th>\n",
       "      <td>1.1.1.103</td>\n",
       "      <td>1.000000e-10</td>\n",
       "      <td>2.590025e-01</td>\n",
       "      <td>2.009620e+00</td>\n",
       "      <td>1.301573e-01</td>\n",
       "      <td>0.688638</td>\n",
       "      <td>4.202300e+00</td>\n",
       "      <td>4.027455e-01</td>\n",
       "      <td>8.617842e-02</td>\n",
       "      <td>1.000000e-10</td>\n",
       "      <td>1.000000e-10</td>\n",
       "      <td>-1.00000</td>\n",
       "      <td>1.000000e-10</td>\n",
       "      <td>5.553803e-01</td>\n",
       "      <td>1.532304e+00</td>\n",
       "      <td>0.563395</td>\n",
       "      <td>0.165582</td>\n",
       "      <td>1.000000e-10</td>\n",
       "      <td>1.240772</td>\n",
       "      <td>1.000000e-10</td>\n",
       "    </tr>\n",
       "    <tr>\n",
       "      <th>3</th>\n",
       "      <td>1.1.1.105</td>\n",
       "      <td>-1.000000e+00</td>\n",
       "      <td>-1.000000e+00</td>\n",
       "      <td>-1.000000e+00</td>\n",
       "      <td>-1.000000e+00</td>\n",
       "      <td>-1.000000</td>\n",
       "      <td>-1.000000e+00</td>\n",
       "      <td>-1.000000e+00</td>\n",
       "      <td>-1.000000e+00</td>\n",
       "      <td>1.000000e-10</td>\n",
       "      <td>-1.000000e+00</td>\n",
       "      <td>-1.00000</td>\n",
       "      <td>-1.000000e+00</td>\n",
       "      <td>-1.000000e+00</td>\n",
       "      <td>-1.000000e+00</td>\n",
       "      <td>-1.000000</td>\n",
       "      <td>-1.000000</td>\n",
       "      <td>-1.000000e+00</td>\n",
       "      <td>-1.000000</td>\n",
       "      <td>-1.000000e+00</td>\n",
       "    </tr>\n",
       "    <tr>\n",
       "      <th>4</th>\n",
       "      <td>1.1.1.107</td>\n",
       "      <td>-1.000000e+00</td>\n",
       "      <td>-1.000000e+00</td>\n",
       "      <td>1.000000e-10</td>\n",
       "      <td>1.000000e-10</td>\n",
       "      <td>-1.000000</td>\n",
       "      <td>-1.000000e+00</td>\n",
       "      <td>-1.000000e+00</td>\n",
       "      <td>-1.000000e+00</td>\n",
       "      <td>-1.000000e+00</td>\n",
       "      <td>-1.000000e+00</td>\n",
       "      <td>-1.00000</td>\n",
       "      <td>-1.000000e+00</td>\n",
       "      <td>-1.000000e+00</td>\n",
       "      <td>1.000000e-10</td>\n",
       "      <td>-1.000000</td>\n",
       "      <td>-1.000000</td>\n",
       "      <td>-1.000000e+00</td>\n",
       "      <td>-1.000000</td>\n",
       "      <td>-1.000000e+00</td>\n",
       "    </tr>\n",
       "    <tr>\n",
       "      <th>...</th>\n",
       "      <td>...</td>\n",
       "      <td>...</td>\n",
       "      <td>...</td>\n",
       "      <td>...</td>\n",
       "      <td>...</td>\n",
       "      <td>...</td>\n",
       "      <td>...</td>\n",
       "      <td>...</td>\n",
       "      <td>...</td>\n",
       "      <td>...</td>\n",
       "      <td>...</td>\n",
       "      <td>...</td>\n",
       "      <td>...</td>\n",
       "      <td>...</td>\n",
       "      <td>...</td>\n",
       "      <td>...</td>\n",
       "      <td>...</td>\n",
       "      <td>...</td>\n",
       "      <td>...</td>\n",
       "      <td>...</td>\n",
       "    </tr>\n",
       "    <tr>\n",
       "      <th>2240</th>\n",
       "      <td>7.5.2.6</td>\n",
       "      <td>-1.000000e+00</td>\n",
       "      <td>1.000000e-10</td>\n",
       "      <td>1.000000e-10</td>\n",
       "      <td>3.475811e-01</td>\n",
       "      <td>-1.000000</td>\n",
       "      <td>-1.000000e+00</td>\n",
       "      <td>1.000000e-10</td>\n",
       "      <td>1.000000e-10</td>\n",
       "      <td>-1.000000e+00</td>\n",
       "      <td>1.000000e-10</td>\n",
       "      <td>-1.00000</td>\n",
       "      <td>-1.000000e+00</td>\n",
       "      <td>1.000000e-10</td>\n",
       "      <td>2.994940e+00</td>\n",
       "      <td>0.575793</td>\n",
       "      <td>-1.000000</td>\n",
       "      <td>-1.000000e+00</td>\n",
       "      <td>0.844164</td>\n",
       "      <td>-1.000000e+00</td>\n",
       "    </tr>\n",
       "    <tr>\n",
       "      <th>2241</th>\n",
       "      <td>7.6.2.1</td>\n",
       "      <td>-1.000000e+00</td>\n",
       "      <td>-1.000000e+00</td>\n",
       "      <td>-1.000000e+00</td>\n",
       "      <td>-1.000000e+00</td>\n",
       "      <td>2.033877</td>\n",
       "      <td>-1.000000e+00</td>\n",
       "      <td>-1.000000e+00</td>\n",
       "      <td>-1.000000e+00</td>\n",
       "      <td>-1.000000e+00</td>\n",
       "      <td>-1.000000e+00</td>\n",
       "      <td>-1.00000</td>\n",
       "      <td>-1.000000e+00</td>\n",
       "      <td>-1.000000e+00</td>\n",
       "      <td>-1.000000e+00</td>\n",
       "      <td>-1.000000</td>\n",
       "      <td>-1.000000</td>\n",
       "      <td>-1.000000e+00</td>\n",
       "      <td>-1.000000</td>\n",
       "      <td>-1.000000e+00</td>\n",
       "    </tr>\n",
       "    <tr>\n",
       "      <th>2242</th>\n",
       "      <td>7.6.2.2</td>\n",
       "      <td>-1.000000e+00</td>\n",
       "      <td>1.000000e-10</td>\n",
       "      <td>1.000000e-10</td>\n",
       "      <td>1.811560e-01</td>\n",
       "      <td>-1.000000</td>\n",
       "      <td>-1.000000e+00</td>\n",
       "      <td>-1.000000e+00</td>\n",
       "      <td>1.000000e-10</td>\n",
       "      <td>-1.000000e+00</td>\n",
       "      <td>1.000000e-10</td>\n",
       "      <td>-1.00000</td>\n",
       "      <td>-1.000000e+00</td>\n",
       "      <td>1.000000e-10</td>\n",
       "      <td>7.503449e-01</td>\n",
       "      <td>1.051633</td>\n",
       "      <td>-1.000000</td>\n",
       "      <td>-1.000000e+00</td>\n",
       "      <td>0.409449</td>\n",
       "      <td>-1.000000e+00</td>\n",
       "    </tr>\n",
       "    <tr>\n",
       "      <th>2243</th>\n",
       "      <td>7.6.2.5</td>\n",
       "      <td>-1.000000e+00</td>\n",
       "      <td>1.000000e-10</td>\n",
       "      <td>1.000000e-10</td>\n",
       "      <td>1.000000e-10</td>\n",
       "      <td>-1.000000</td>\n",
       "      <td>-1.000000e+00</td>\n",
       "      <td>-1.000000e+00</td>\n",
       "      <td>1.000000e-10</td>\n",
       "      <td>-1.000000e+00</td>\n",
       "      <td>1.000000e-10</td>\n",
       "      <td>-1.00000</td>\n",
       "      <td>-1.000000e+00</td>\n",
       "      <td>1.000000e-10</td>\n",
       "      <td>-1.000000e+00</td>\n",
       "      <td>0.308330</td>\n",
       "      <td>-1.000000</td>\n",
       "      <td>-1.000000e+00</td>\n",
       "      <td>-1.000000</td>\n",
       "      <td>-1.000000e+00</td>\n",
       "    </tr>\n",
       "    <tr>\n",
       "      <th>2244</th>\n",
       "      <td>7.6.2.7</td>\n",
       "      <td>-1.000000e+00</td>\n",
       "      <td>1.000000e-10</td>\n",
       "      <td>-1.000000e+00</td>\n",
       "      <td>1.000000e-10</td>\n",
       "      <td>-1.000000</td>\n",
       "      <td>-1.000000e+00</td>\n",
       "      <td>-1.000000e+00</td>\n",
       "      <td>1.000000e-10</td>\n",
       "      <td>-1.000000e+00</td>\n",
       "      <td>-1.000000e+00</td>\n",
       "      <td>-1.00000</td>\n",
       "      <td>-1.000000e+00</td>\n",
       "      <td>1.000000e-10</td>\n",
       "      <td>1.000000e-10</td>\n",
       "      <td>-1.000000</td>\n",
       "      <td>-1.000000</td>\n",
       "      <td>-1.000000e+00</td>\n",
       "      <td>0.093445</td>\n",
       "      <td>-1.000000e+00</td>\n",
       "    </tr>\n",
       "  </tbody>\n",
       "</table>\n",
       "<p>2245 rows × 20 columns</p>\n",
       "</div>"
      ],
      "text/plain": [
       "     # features  Bacteriodes_F_P1_TGGCTGCT  A011_0_h_CD_2_TCCATATT  \\\n",
       "0       1.1.1.1               3.106728e-02            5.128550e-01   \n",
       "1     1.1.1.100               2.773550e+00            1.327953e-01   \n",
       "2     1.1.1.103               1.000000e-10            2.590025e-01   \n",
       "3     1.1.1.105              -1.000000e+00           -1.000000e+00   \n",
       "4     1.1.1.107              -1.000000e+00           -1.000000e+00   \n",
       "...         ...                        ...                     ...   \n",
       "2240    7.5.2.6              -1.000000e+00            1.000000e-10   \n",
       "2241    7.6.2.1              -1.000000e+00           -1.000000e+00   \n",
       "2242    7.6.2.2              -1.000000e+00            1.000000e-10   \n",
       "2243    7.6.2.5              -1.000000e+00            1.000000e-10   \n",
       "2244    7.6.2.7              -1.000000e+00            1.000000e-10   \n",
       "\n",
       "      S5_363_0h_ctl_CCCTCCGT  A011_0_h_CD_2_CCCTCCGT  S5_363_0h_ctl_GTACCGGT  \\\n",
       "0               5.612389e-01            3.545594e+00                0.581839   \n",
       "1               6.382878e-01            1.024316e+00                0.394107   \n",
       "2               2.009620e+00            1.301573e-01                0.688638   \n",
       "3              -1.000000e+00           -1.000000e+00               -1.000000   \n",
       "4               1.000000e-10            1.000000e-10               -1.000000   \n",
       "...                      ...                     ...                     ...   \n",
       "2240            1.000000e-10            3.475811e-01               -1.000000   \n",
       "2241           -1.000000e+00           -1.000000e+00                2.033877   \n",
       "2242            1.000000e-10            1.811560e-01               -1.000000   \n",
       "2243            1.000000e-10            1.000000e-10               -1.000000   \n",
       "2244           -1.000000e+00            1.000000e-10               -1.000000   \n",
       "\n",
       "      A011_0_h_CD_2_TACCGAGT  S5_363_0h_ctl_CGAGTTGT  A011_0_h_CD_2_GTACCGGT  \\\n",
       "0               2.339936e+00            3.357524e-01            1.722510e+00   \n",
       "1               1.000000e-10            2.623356e-01            5.974713e-01   \n",
       "2               4.202300e+00            4.027455e-01            8.617842e-02   \n",
       "3              -1.000000e+00           -1.000000e+00           -1.000000e+00   \n",
       "4              -1.000000e+00           -1.000000e+00           -1.000000e+00   \n",
       "...                      ...                     ...                     ...   \n",
       "2240           -1.000000e+00            1.000000e-10            1.000000e-10   \n",
       "2241           -1.000000e+00           -1.000000e+00           -1.000000e+00   \n",
       "2242           -1.000000e+00           -1.000000e+00            1.000000e-10   \n",
       "2243           -1.000000e+00           -1.000000e+00            1.000000e-10   \n",
       "2244           -1.000000e+00           -1.000000e+00            1.000000e-10   \n",
       "\n",
       "      A011_0_h_CD_2_CGAGTTGT  A006_2XSw_0h_Ctl_TCTCCCAT  \\\n",
       "0               1.176419e+00               3.260297e+00   \n",
       "1               1.000000e-10               9.024163e-01   \n",
       "2               1.000000e-10               1.000000e-10   \n",
       "3               1.000000e-10              -1.000000e+00   \n",
       "4              -1.000000e+00              -1.000000e+00   \n",
       "...                      ...                        ...   \n",
       "2240           -1.000000e+00               1.000000e-10   \n",
       "2241           -1.000000e+00              -1.000000e+00   \n",
       "2242           -1.000000e+00               1.000000e-10   \n",
       "2243           -1.000000e+00               1.000000e-10   \n",
       "2244           -1.000000e+00              -1.000000e+00   \n",
       "\n",
       "      Bacteriodes_F_P1_GCCGGTAT  A006_2XSw_0h_Ctl_GTACCGGT  \\\n",
       "0                      -1.00000               9.155278e+00   \n",
       "1                       0.43043               1.529658e+00   \n",
       "2                      -1.00000               1.000000e-10   \n",
       "3                      -1.00000              -1.000000e+00   \n",
       "4                      -1.00000              -1.000000e+00   \n",
       "...                         ...                        ...   \n",
       "2240                   -1.00000              -1.000000e+00   \n",
       "2241                   -1.00000              -1.000000e+00   \n",
       "2242                   -1.00000              -1.000000e+00   \n",
       "2243                   -1.00000              -1.000000e+00   \n",
       "2244                   -1.00000              -1.000000e+00   \n",
       "\n",
       "      A011_0_h_CD_2_CCGAGGGT  Bacteriodes_F_P1_CCCTCCGT  \\\n",
       "0               1.709668e+00               9.035846e-01   \n",
       "1               1.449103e+00               1.042274e+00   \n",
       "2               5.553803e-01               1.532304e+00   \n",
       "3              -1.000000e+00              -1.000000e+00   \n",
       "4              -1.000000e+00               1.000000e-10   \n",
       "...                      ...                        ...   \n",
       "2240            1.000000e-10               2.994940e+00   \n",
       "2241           -1.000000e+00              -1.000000e+00   \n",
       "2242            1.000000e-10               7.503449e-01   \n",
       "2243            1.000000e-10              -1.000000e+00   \n",
       "2244            1.000000e-10               1.000000e-10   \n",
       "\n",
       "      A011_0_h_CD_2_GCCGGTAT  A006_2XSw_0h_Ctl_CCCTCCGT  \\\n",
       "0                   1.648384                   4.123863   \n",
       "1                   0.976823                   0.254991   \n",
       "2                   0.563395                   0.165582   \n",
       "3                  -1.000000                  -1.000000   \n",
       "4                  -1.000000                  -1.000000   \n",
       "...                      ...                        ...   \n",
       "2240                0.575793                  -1.000000   \n",
       "2241               -1.000000                  -1.000000   \n",
       "2242                1.051633                  -1.000000   \n",
       "2243                0.308330                  -1.000000   \n",
       "2244               -1.000000                  -1.000000   \n",
       "\n",
       "      A006_2XSw_0h_Ctl_TACCGAGT  Bacteriodes_F_P1_CCGAGGGT  \\\n",
       "0                  1.000000e-10                   0.952531   \n",
       "1                  1.000000e-10                   1.387915   \n",
       "2                  1.000000e-10                   1.240772   \n",
       "3                 -1.000000e+00                  -1.000000   \n",
       "4                 -1.000000e+00                  -1.000000   \n",
       "...                         ...                        ...   \n",
       "2240              -1.000000e+00                   0.844164   \n",
       "2241              -1.000000e+00                  -1.000000   \n",
       "2242              -1.000000e+00                   0.409449   \n",
       "2243              -1.000000e+00                  -1.000000   \n",
       "2244              -1.000000e+00                   0.093445   \n",
       "\n",
       "      Bacteriodes_F_P1_CGAGTTGT  \n",
       "0                 -1.000000e+00  \n",
       "1                  1.867395e-01  \n",
       "2                  1.000000e-10  \n",
       "3                 -1.000000e+00  \n",
       "4                 -1.000000e+00  \n",
       "...                         ...  \n",
       "2240              -1.000000e+00  \n",
       "2241              -1.000000e+00  \n",
       "2242              -1.000000e+00  \n",
       "2243              -1.000000e+00  \n",
       "2244              -1.000000e+00  \n",
       "\n",
       "[2245 rows x 20 columns]"
      ]
     },
     "execution_count": 207,
     "metadata": {},
     "output_type": "execute_result"
    }
   ],
   "source": [
    "rna_dna_ratio_1_fixed = rna_dna_ratio_1.fillna(-1)\n",
    "rna_dna_ratio_1_fixed.replace([np.inf], -1, inplace=True)\n",
    "rna_dna_ratio_1_fixed.replace(0, 10**(-10), inplace=True)\n",
    "rna_dna_ratio_1_fixed"
   ]
  },
  {
   "cell_type": "code",
   "execution_count": 53,
   "id": "b8f5b60c-6dee-475b-8b34-a04f6ff72f76",
   "metadata": {},
   "outputs": [
    {
     "data": {
      "text/plain": [
       "(2245, 20)"
      ]
     },
     "execution_count": 53,
     "metadata": {},
     "output_type": "execute_result"
    }
   ],
   "source": [
    "rna_dna_ratio_1_fixed.shape"
   ]
  },
  {
   "cell_type": "code",
   "execution_count": 42,
   "id": "61bcd920-5d7a-4931-bd78-66797d5b2ff2",
   "metadata": {},
   "outputs": [],
   "source": [
    "rna_dna_ratio_1_fixed.to_csv('/pita/users/hila/biobakery_workflows/output_data/06_Jan_2022_lab_mgx_mtx/ecs_ratio_fixed.tsv', \n",
    "                             sep = '\\t', index = False)"
   ]
  },
  {
   "cell_type": "markdown",
   "id": "d3458a10-2956-48b8-83e3-7775fd11200c",
   "metadata": {},
   "source": [
    "## Pathways ratio"
   ]
  },
  {
   "cell_type": "code",
   "execution_count": 201,
   "id": "a4e6fff9-0595-4f3c-a47d-45ffae405b72",
   "metadata": {},
   "outputs": [],
   "source": [
    "file_path_2 = os.path.join(base_mtx_folder_1, ratio_folder, 'paths', 'rna_dna_relative_expression_unstratified.tsv')\n",
    "rna_dna_ratio_2 = pd.read_csv(file_path_2, delimiter= '\\t', na_values = 'NaN')"
   ]
  },
  {
   "cell_type": "code",
   "execution_count": null,
   "id": "b07cd91e-5d63-415f-994d-39092a9a168b",
   "metadata": {},
   "outputs": [],
   "source": []
  },
  {
   "cell_type": "code",
   "execution_count": 203,
   "id": "c24f7a3b-18a2-4d38-bbf2-a0cb52c0dda0",
   "metadata": {},
   "outputs": [
    {
     "data": {
      "text/plain": [
       "A006_2XSw_0h_Ctl_TACCGAGT         NaN\n",
       "Bacteriodes_F_P1_CGAGTTGT    0.219247\n",
       "A011_0_h_CD_2_GTACCGGT       0.045209\n",
       "A011_0_h_CD_2_TCCATATT       1.630861\n",
       "A006_2XSw_0h_Ctl_GTACCGGT    3.316886\n",
       "Bacteriodes_F_P1_CCCTCCGT    0.155375\n",
       "S5_363_0h_ctl_CCCTCCGT       0.287976\n",
       "Bacteriodes_F_P1_GCCGGTAT    0.113002\n",
       "S5_363_0h_ctl_GTACCGGT       0.116882\n",
       "A011_0_h_CD_2_TACCGAGT       0.879885\n",
       "Bacteriodes_F_P1_CCGAGGGT    0.029537\n",
       "A011_0_h_CD_2_CCCTCCGT       0.035429\n",
       "A006_2XSw_0h_Ctl_TCTCCCAT    1.816141\n",
       "A011_0_h_CD_2_GCCGGTAT       0.028606\n",
       "A006_2XSw_0h_Ctl_CCCTCCGT    0.390540\n",
       "A011_0_h_CD_2_CCGAGGGT       0.539135\n",
       "S5_363_0h_ctl_CGAGTTGT       0.065868\n",
       "A011_0_h_CD_2_CGAGTTGT       5.845164\n",
       "Bacteriodes_F_P1_TGGCTGCT    0.003544\n",
       "dtype: float64"
      ]
     },
     "execution_count": 203,
     "metadata": {},
     "output_type": "execute_result"
    }
   ],
   "source": [
    "foo = rna_dna_ratio_2.iloc[:,1:]\n",
    "foo[foo>0].min()"
   ]
  },
  {
   "cell_type": "code",
   "execution_count": 204,
   "id": "83870af9-f9ad-4ef4-8039-d0c5093ee95d",
   "metadata": {},
   "outputs": [
    {
     "data": {
      "text/plain": [
       "A006_2XSw_0h_Ctl_TACCGAGT       0.000000\n",
       "Bacteriodes_F_P1_CGAGTTGT     461.330135\n",
       "A011_0_h_CD_2_GTACCGGT       1068.378136\n",
       "A011_0_h_CD_2_TCCATATT         72.559243\n",
       "A006_2XSw_0h_Ctl_GTACCGGT      99.148768\n",
       "Bacteriodes_F_P1_CCCTCCGT      14.438638\n",
       "S5_363_0h_ctl_CCCTCCGT         30.952047\n",
       "Bacteriodes_F_P1_GCCGGTAT      66.618697\n",
       "S5_363_0h_ctl_GTACCGGT         10.834124\n",
       "A011_0_h_CD_2_TACCGAGT        107.247604\n",
       "Bacteriodes_F_P1_CCGAGGGT       3.962515\n",
       "A011_0_h_CD_2_CCCTCCGT         24.111578\n",
       "A006_2XSw_0h_Ctl_TCTCCCAT     418.831445\n",
       "A011_0_h_CD_2_GCCGGTAT         96.566131\n",
       "A006_2XSw_0h_Ctl_CCCTCCGT     667.688845\n",
       "A011_0_h_CD_2_CCGAGGGT         47.597234\n",
       "S5_363_0h_ctl_CGAGTTGT         40.567887\n",
       "A011_0_h_CD_2_CGAGTTGT        980.802421\n",
       "Bacteriodes_F_P1_TGGCTGCT       5.320928\n",
       "dtype: float64"
      ]
     },
     "execution_count": 204,
     "metadata": {},
     "output_type": "execute_result"
    }
   ],
   "source": [
    "foo[foo<np.inf].max()"
   ]
  },
  {
   "cell_type": "code",
   "execution_count": 234,
   "id": "17d5a58c-bb32-4613-8e61-ea44c1813661",
   "metadata": {},
   "outputs": [],
   "source": [
    "rna_dna_ratio_2_fixed = rna_dna_ratio_2.fillna(-1)\n",
    "rna_dna_ratio_2_fixed.replace([np.inf], -1, inplace=True)\n",
    "rna_dna_ratio_2_fixed.replace(0, 10**(-10), inplace=True)"
   ]
  },
  {
   "cell_type": "code",
   "execution_count": 235,
   "id": "04290b62-c47c-4a84-a8ea-f1ebeac80ffa",
   "metadata": {},
   "outputs": [],
   "source": [
    "rna_dna_ratio_2_fixed.to_csv('/pita/users/hila/biobakery_workflows/output_data/06_Jan_2022_lab_mgx_mtx/paths_ratio_fixed.tsv', \n",
    "                             sep = '\\t', index = False)"
   ]
  },
  {
   "cell_type": "markdown",
   "id": "8e0eafb1-ff4f-4d3c-b88f-5ce78b5eb528",
   "metadata": {},
   "source": [
    "##  ratio analysis"
   ]
  },
  {
   "cell_type": "code",
   "execution_count": 591,
   "id": "b4ea1a27-cbd1-453b-8d5f-8f2f715d08ed",
   "metadata": {},
   "outputs": [],
   "source": [
    "# no sig de found\n",
    "# sig between Bact T, Bact F and Citro and Veill. FDR - 0.5\n",
    "ca.set_log_level('ERROR')\n",
    "\n",
    "dat = ca.read_amplicon('/pita/users/hila/biobakery_workflows/output_data/06_Jan_2022_lab_mgx_mtx/ecs_ratio_fixed.tsv',\n",
    "                       os.path.join(base_mtx_folder_1, mtx_metadata),\n",
    "                       min_reads = None,normalize = None, sparse = False,\n",
    "                      feature_metadata_file = './ecs_to_name.txt')\n",
    "ca.set_log_level('INFO')"
   ]
  },
  {
   "cell_type": "code",
   "execution_count": 55,
   "id": "d9c1de3d-42ed-45f7-9ea4-2c1d554b6765",
   "metadata": {},
   "outputs": [],
   "source": [
    "# no sig de found\n",
    "# sig between Bact T, Bact F and Citro and Veill. FDR - 0.35\n",
    "ca.set_log_level('ERROR')\n",
    "dat = ca.read_amplicon('/pita/users/hila/biobakery_workflows/output_data/06_Jan_2022_lab_mgx_mtx/paths_ratio_fixed.tsv',\n",
    "                       os.path.join(base_mtx_folder_1, mtx_metadata),\n",
    "                       feature_metadata_file = '../bioms/hmp2_mtx_ratio_feat_metadata_feature.txt',\n",
    "                       min_reads = None,normalize = None, sparse = False)\n",
    "ca.set_log_level('INFO')"
   ]
  },
  {
   "cell_type": "code",
   "execution_count": 56,
   "id": "db687d78-ea14-46cf-89ad-adbc0559ba18",
   "metadata": {},
   "outputs": [
    {
     "data": {
      "text/plain": [
       "AmpliconExperiment with 19 samples, 424 features"
      ]
     },
     "execution_count": 56,
     "metadata": {},
     "output_type": "execute_result"
    }
   ],
   "source": [
    "dat"
   ]
  },
  {
   "cell_type": "code",
   "execution_count": 61,
   "id": "62da6687-cffc-445e-9ec5-9104a5b77c87",
   "metadata": {},
   "outputs": [],
   "source": [
    "dat = dat.sort_samples('DX')\n",
    "dat = dat.sort_samples('internal_order')\n",
    "dat = dat.sort_samples('isolate_consortium')\n",
    "dat = dat.filter_samples(\"sample_mtx\",\"S2_C_41569860_P1\", negate = True)\n",
    "dat = dat.sort_by_metadata('_cat', axis = 'f')"
   ]
  },
  {
   "cell_type": "code",
   "execution_count": 62,
   "id": "13d01905-99f3-4633-a809-ed88092b1662",
   "metadata": {},
   "outputs": [
    {
     "name": "stderr",
     "output_type": "stream",
     "text": [
      "/pita/users/hila/miniconda3/envs/calour/lib/python3.6/site-packages/calour/heatmap/heatmap.py:308: MatplotlibDeprecationWarning: You are modifying the state of a globally registered colormap. In future versions, you will not be able to modify a registered colormap in-place. To remove this warning, you can make a copy of the colormap first. cmap = copy.copy(mpl.cm.get_cmap(\"viridis\"))\n",
      "  cmap.set_bad(bad_color)\n",
      "/pita/users/hila/miniconda3/envs/calour/lib/python3.6/site-packages/calour/heatmap/heatmap.py:317: MatplotlibDeprecationWarning: Passing parameters norm and vmin/vmax simultaneously is deprecated since 3.3 and will become an error two minor releases later. Please pass vmin/vmax directly to the norm when creating it.\n",
      "  norm=norm, vmin=vmin, vmax=vmax, cmap=cmap)\n"
     ]
    },
    {
     "data": {
      "text/plain": [
       "<calour.heatmap.plotgui_qt5.PlotGUI_QT5 at 0x7fc32e9ce160>"
      ]
     },
     "execution_count": 62,
     "metadata": {},
     "output_type": "execute_result"
    }
   ],
   "source": [
    "dat.plot(gui='qt5', sample_field = 'isolate_consortium', barx_fields = ['DX'], clim = [0.001, 1000], bary_fields = ['_cat'])\n",
    "        # feature_field = 'Name', yticklabel_kwargs = {'rotation': 0, 'size' : 7}, yticklabel_len = None)"
   ]
  },
  {
   "cell_type": "code",
   "execution_count": null,
   "id": "bf81cdde-9651-4563-8b0c-1a65ee72186b",
   "metadata": {},
   "outputs": [],
   "source": [
    "#'A004_2XSw_0_h_C_DKDL210010878-1a-N703-N504_HNWKKDSX2_L3', 'A006_2XSw_0_h_C_DKDL210010878', "
   ]
  },
  {
   "cell_type": "code",
   "execution_count": 59,
   "id": "5531f79c-f796-41e6-84e5-29f5294c1dc3",
   "metadata": {},
   "outputs": [],
   "source": [
    "dat_filtered = dat.filter_samples('final_pair1_above_50k', True)"
   ]
  },
  {
   "cell_type": "code",
   "execution_count": 60,
   "id": "8e81ad1d-ad1b-4d80-8d38-e841e2d44e43",
   "metadata": {},
   "outputs": [
    {
     "data": {
      "text/plain": [
       "AmpliconExperiment with 15 samples, 424 features"
      ]
     },
     "execution_count": 60,
     "metadata": {},
     "output_type": "execute_result"
    }
   ],
   "source": [
    "dat_filtered"
   ]
  },
  {
   "cell_type": "code",
   "execution_count": 597,
   "id": "b56c821c-a190-49fd-8b6b-8fbfa36bbe63",
   "metadata": {},
   "outputs": [],
   "source": [
    "x = dat_filtered.sort_abundance({'isolate_consortium': ['isolate']})"
   ]
  },
  {
   "cell_type": "code",
   "execution_count": 598,
   "id": "0926af1d-a577-4a3e-ab7b-d15cc1f32c1c",
   "metadata": {},
   "outputs": [
    {
     "data": {
      "text/plain": [
       "(array([   1,    3,   12,   16,   17,   27,   39,   76,   79,   82,   87,\n",
       "          88,   90,   93,  116,  143,  149,  153,  157,  159,  168,  175,\n",
       "         178,  181,  182,  185,  189,  190,  212,  215,  227,  234,  239,\n",
       "         253,  258,  318,  320,  336,  338,  340,  350,  353,  354,  355,\n",
       "         356,  373,  375,  376,  377,  379,  381,  382,  390,  403,  411,\n",
       "         445,  502,  515,  529,  532,  550,  564,  575,  578,  587,  591,\n",
       "         593,  596,  609,  631,  647,  661,  689,  700,  723,  733,  752,\n",
       "         756,  769,  906,  913,  914,  916,  917,  953,  966, 1024, 1057,\n",
       "        1148, 1193, 1205, 1220, 1258, 1264, 1291, 1326, 1363, 1400, 1405,\n",
       "        1407, 1412, 1415, 1425, 1475, 1480, 1507, 1531, 1555, 1576, 1591,\n",
       "        1592, 1600, 1607, 1609, 1618, 1619, 1623, 1645, 1649, 1722, 1758,\n",
       "        1768]),)"
      ]
     },
     "execution_count": 598,
     "metadata": {},
     "output_type": "execute_result"
    }
   ],
   "source": [
    "zeros_mat = np.zeros(x.data.shape) # creates zeros matrix with the dimensions of our feature table: (#samples, #features)\n",
    "smaller_than_zero = np.less_equal(x.data,zeros_mat) #checking whether our feature table has NaN/Inf or zero\n",
    "# checking which columns all NaN/Inf/zero\n",
    "bad_cols = smaller_than_zero.all(axis = 0)\n",
    "np.where(bad_cols)\n",
    "#x.filter_ids(ids = bad_cols, axis = 'f', negate = True)"
   ]
  },
  {
   "cell_type": "code",
   "execution_count": 599,
   "id": "19cb5210-f40c-45f5-b21f-81dc30856b7d",
   "metadata": {},
   "outputs": [
    {
     "data": {
      "text/plain": [
       "'1.1.1.105'"
      ]
     },
     "execution_count": 599,
     "metadata": {},
     "output_type": "execute_result"
    }
   ],
   "source": [
    "x.feature_metadata.index[np.where(bad_cols)][0]"
   ]
  },
  {
   "cell_type": "code",
   "execution_count": 600,
   "id": "a8d43635-b91d-4972-83ae-3b6e3ebcf0cc",
   "metadata": {},
   "outputs": [
    {
     "data": {
      "text/plain": [
       "Index(['1.1.1.105', '1.1.1.108', '1.1.1.135', '1.1.1.144', '1.1.1.156',\n",
       "       '1.1.1.200', '1.1.1.243', '1.1.1.325', '1.1.1.339', '1.1.1.343',\n",
       "       ...\n",
       "       '5.1.3.30', '5.1.3.37', '5.1.99.4', '5.1.99.5', '5.2.1.1', '5.3.1.7',\n",
       "       '5.3.2.6', '6.3.2.19', '6.4.1.4', '7.1.2.1'],\n",
       "      dtype='object', name='EC', length=122)"
      ]
     },
     "execution_count": 600,
     "metadata": {},
     "output_type": "execute_result"
    }
   ],
   "source": [
    "bad_features = x.feature_metadata[bad_cols].index\n",
    "bad_features"
   ]
  },
  {
   "cell_type": "code",
   "execution_count": 601,
   "id": "c821e7b9-62aa-471b-a423-bc9e3ce6a601",
   "metadata": {},
   "outputs": [],
   "source": [
    "x = x.filter_ids(bad_features, axis = 'f', negate = True)"
   ]
  },
  {
   "cell_type": "code",
   "execution_count": 602,
   "id": "ab61d133-0994-4d6f-94d9-611ff0ff3387",
   "metadata": {},
   "outputs": [],
   "source": [
    "x.data[x.data==-1]=1"
   ]
  },
  {
   "cell_type": "code",
   "execution_count": 603,
   "id": "28159562-63fa-4863-b7b9-94255ca75670",
   "metadata": {},
   "outputs": [],
   "source": [
    "#x.data=np.log10(x.data)\n",
    "x.data=np.log2(x.data)"
   ]
  },
  {
   "cell_type": "code",
   "execution_count": 373,
   "id": "1d6e8ceb-4c2f-4b73-a08e-1730d066b089",
   "metadata": {},
   "outputs": [],
   "source": [
    "import matplotlib as mpl\n",
    "from copy import copy\n",
    "\"\"\"\n",
    "cmp = mpl.colors.ListedColormap(['#22577A', '#38A3A5','#000000','#57CC99', '#80ED99'])\n",
    "\n",
    "cmp = mpl.colors.ListedColormap(['#845ec2','#a178df','#be93fd', '#dcb0ff','#faccff','#000000',\n",
    "                                '#17c0ca', '#2ad0c0', '#5adfaf', '#8ceb98', '#c1f481'])\n",
    "\n",
    "cmp = mpl.colors.ListedColormap(['#583573', '#7c5798','#a27abe','#c99fe6','#f2c6ff','#000000',\n",
    "                                 '#005c74', '#357c95','#5a9db7','#7ec0db','#a2e4ff'])\n",
    "\n",
    "blue_colors = ['#005c74', '#357c95','#5a9db7','#7ec0db','#a2e4ff']\n",
    "blue_cmap = mpl.colors.LinearSegmentedColormap.from_list(\"mycmap_blue\", blue_colors)\n",
    "purple_colors = ['#583573', '#7c5798','#a27abe','#c99fe6','#f2c6ff']\n",
    "purple_cmap = mpl.colors.LinearSegmentedColormap.from_list(\"mycmap_purple\", purple_colors)\n",
    "cmp = mpl.colors.ListedColormap([purple_cmap,\"#000000\",blue_cmap])\n",
    "\n",
    "cmp = mpl.colors.LinearSegmentedColormap.from_list(\"bla\",['#583573', '#7c5798','#a27abe','#c99fe6','#f2c6ff','#000000',\n",
    "                                 '#005c74', '#357c95','#5a9db7','#7ec0db','#a2e4ff'])\n",
    "\n",
    "\n",
    "cmp = mpl.colors.ListedColormap(['#583573', '#7c5798','#a27abe','#c99fe6','#f2c6ff','#000000',\n",
    "                                 '#005c74', '#357c95','#5a9db7','#7ec0db','#a2e4ff'])\n",
    "\n",
    "col_list = ['#f49b1b','#ff8828','#ff7338','#ff5e49','#ff465b','#ff2d6f','#ff1083','#f00098','#db0ead','#bf26c1',\n",
    "            '#000000',\n",
    "            '#2a4858', '#215d6e', '#08737f','#00898a','#089f8f','#39b48e','#64c987','#92dc7e','#c4ec74','#fafa6e']\n",
    "\n",
    "\n",
    "\n",
    "my_cmp = copy(mpl.cm.bwr)\n",
    "col_list = ['#700d89','#7e1f94','#8c2da0','#9a3aac','#a847b8','#b754c4','#c560d0','#d46ddc','#e27ae9','#f187f5',\n",
    "            '#000000',\n",
    "            '#87f5f4','#67e0eb','#48cae2', '#29b4d7', '#009ecc', '#0088be','#0072af','#125d9d','#234789','#2c3173']\n",
    "cmp = mpl.colors.ListedColormap(col_list)\n",
    "\"\"\"\n",
    "\n",
    "#my_cmp = copy(mpl.cm.get_cmap(\"bwr\"))\n",
    "#y_cmp = mpl.colors.Colormap(\"bwr\")\n",
    "#my_cmp.set_bad(color = 'black')\n",
    "#colors = np.vstack((colors1, colors2))\n",
    "#plt.cm.binary(np.linspace(0., 1, 128))\n",
    "#mpl.cm.Greys(np.linspace(1,1,1))\n",
    "cmp = np.vstack((mpl.cm.Blues(np.linspace(1,0.25,128)),[0,0,0,1],mpl.cm.Reds(np.linspace(0.25,1,128))))\n",
    "mymap = mpl.colors.LinearSegmentedColormap.from_list('my_cmp', cmp)"
   ]
  },
  {
   "cell_type": "code",
   "execution_count": 560,
   "id": "e69367b8-6ea9-4ad8-abf1-ac4e07dafbb0",
   "metadata": {},
   "outputs": [
    {
     "data": {
      "text/plain": [
       "<calour.heatmap.plotgui_qt5.PlotGUI_QT5 at 0x7f50328668d0>"
      ]
     },
     "execution_count": 560,
     "metadata": {},
     "output_type": "execute_result"
    }
   ],
   "source": [
    "x.plot(gui='qt5', sample_field = 'isolate_consortium', barx_fields = ['DX'], #, 'final pair1', 'ID'\n",
    "      cmap = mymap, norm = None, clim=[-6,6], \n",
    "       yticklabel_kwargs = {\"size\": 7}, yticklabel_len = 40, feature_field = '_feature_id') # feature_field = 'Name',"
   ]
  },
  {
   "cell_type": "code",
   "execution_count": 604,
   "id": "0a196a3c-3262-44b7-9021-bbb2384cbd27",
   "metadata": {},
   "outputs": [
    {
     "data": {
      "text/plain": [
       "Index(['2.4.1.1', '2.2.1.1', '1.8.1.4', '3.5.1.1', '3.4.21.107', '3.6.3.3',\n",
       "       '2.7.4.6', '1.4.1.2', '3.4.11.2', '2.6.1.52', '1.13.11.24', '2.1.2.1',\n",
       "       '1.8.4.12', '3.4.24.70', '4.2.1.11', '3.6.3.4', '2.7.7.49', '1.8.4.11',\n",
       "       '1.11.1.15', '5.4.2.11', '2.2.1.2', '1.16.3.2', '2.5.1.9', '4.1.2.13',\n",
       "       '1.15.1.1'],\n",
       "      dtype='object', name='EC')"
      ]
     },
     "execution_count": 604,
     "metadata": {},
     "output_type": "execute_result"
    }
   ],
   "source": [
    "x.feature_metadata.index[-25:]"
   ]
  },
  {
   "cell_type": "code",
   "execution_count": 569,
   "id": "6406f00a-d739-4e9c-995f-17300bbd271b",
   "metadata": {},
   "outputs": [],
   "source": [
    "# de - ecs cd vs ctl. didn't get anything significant\n",
    "# de - paths - no signficance found.\n",
    "#x_diff = x.diff_abundance('DX', ['Bact F', 'Bact T'], ['Citro', 'Veill'], alpha = 0.6)\n",
    "x_diff = x.diff_abundance('DX', ['CD'], ['Ctl'], alpha = 0.9)"
   ]
  },
  {
   "cell_type": "code",
   "execution_count": 570,
   "id": "2798a256-7ffe-493c-b996-8c7b4b1bb307",
   "metadata": {},
   "outputs": [
    {
     "data": {
      "text/plain": [
       "AmpliconExperiment with 15 samples, 0 features"
      ]
     },
     "execution_count": 570,
     "metadata": {},
     "output_type": "execute_result"
    }
   ],
   "source": [
    "x_diff"
   ]
  },
  {
   "cell_type": "code",
   "execution_count": 34,
   "id": "9f0aaa00-2f7f-442e-a418-5b5e590c6e2d",
   "metadata": {},
   "outputs": [
    {
     "data": {
      "text/plain": [
       "'\\nx_diff.plot(gui=\\'qt5\\', sample_field = \\'isolate_consortium\\', barx_fields = [\\'DX\\'],  \\n            bary_fields = [\\'_calour_direction\\'],\\n            feature_field = \\'Name\\', yticklabel_len = 40, yticklabel_kwargs = {\\'rotation\\' : 10, \"size\" : 7}, yticks_max = None)\\n            '"
      ]
     },
     "execution_count": 34,
     "metadata": {},
     "output_type": "execute_result"
    }
   ],
   "source": []
  },
  {
   "cell_type": "code",
   "execution_count": null,
   "id": "d0180209-efe1-4859-be91-56f6b9b9ac22",
   "metadata": {},
   "outputs": [],
   "source": []
  },
  {
   "cell_type": "code",
   "execution_count": 536,
   "id": "abdcb4f1-dec5-4fc6-b56f-16fb9cd585a0",
   "metadata": {},
   "outputs": [
    {
     "name": "stderr",
     "output_type": "stream",
     "text": [
      "/pita/users/hila/miniconda3/envs/calour/lib/python3.6/site-packages/calour/heatmap/heatmap.py:308: MatplotlibDeprecationWarning: You are modifying the state of a globally registered colormap. In future versions, you will not be able to modify a registered colormap in-place. To remove this warning, you can make a copy of the colormap first. cmap = copy.copy(mpl.cm.get_cmap(\"PiYG\"))\n",
      "  cmap.set_bad(bad_color)\n"
     ]
    },
    {
     "data": {
      "text/plain": [
       "<calour.heatmap.plotgui_qt5.PlotGUI_QT5 at 0x7f5032ce5198>"
      ]
     },
     "execution_count": 536,
     "metadata": {},
     "output_type": "execute_result"
    }
   ],
   "source": [
    "x_diff.plot(gui='qt5', sample_field = 'isolate_consortium', barx_fields = ['DX'],  \n",
    "            bary_fields = ['_calour_direction'],  cmap = \"PiYG\", norm = None, clim=[-10,10],\n",
    "           yticklabel_len = 40, yticklabel_kwargs = {'rotation' : 10, \"size\" : 7}, yticks_max = None) # feature_field = 'Name'"
   ]
  },
  {
   "cell_type": "code",
   "execution_count": 541,
   "id": "c9097dd4-a76e-4e9c-a221-1bb4f2f72392",
   "metadata": {},
   "outputs": [
    {
     "data": {
      "text/html": [
       "<div>\n",
       "<style scoped>\n",
       "    .dataframe tbody tr th:only-of-type {\n",
       "        vertical-align: middle;\n",
       "    }\n",
       "\n",
       "    .dataframe tbody tr th {\n",
       "        vertical-align: top;\n",
       "    }\n",
       "\n",
       "    .dataframe thead th {\n",
       "        text-align: right;\n",
       "    }\n",
       "</style>\n",
       "<table border=\"1\" class=\"dataframe\">\n",
       "  <thead>\n",
       "    <tr style=\"text-align: right;\">\n",
       "      <th></th>\n",
       "      <th>Name</th>\n",
       "      <th>_feature_id</th>\n",
       "      <th>_calour_stat</th>\n",
       "      <th>_calour_pval</th>\n",
       "      <th>_calour_qval</th>\n",
       "      <th>_calour_direction</th>\n",
       "    </tr>\n",
       "    <tr>\n",
       "      <th>EC</th>\n",
       "      <th></th>\n",
       "      <th></th>\n",
       "      <th></th>\n",
       "      <th></th>\n",
       "      <th></th>\n",
       "      <th></th>\n",
       "    </tr>\n",
       "  </thead>\n",
       "  <tbody>\n",
       "    <tr>\n",
       "      <th>1.1.1.42</th>\n",
       "      <td>Isocitrate dehydrogenase (NADP(+))</td>\n",
       "      <td>1.1.1.42</td>\n",
       "      <td>4.5</td>\n",
       "      <td>0.021978</td>\n",
       "      <td>0.434565</td>\n",
       "      <td>CD</td>\n",
       "    </tr>\n",
       "  </tbody>\n",
       "</table>\n",
       "</div>"
      ],
      "text/plain": [
       "                                        Name _feature_id  _calour_stat  \\\n",
       "EC                                                                       \n",
       "1.1.1.42  Isocitrate dehydrogenase (NADP(+))    1.1.1.42           4.5   \n",
       "\n",
       "          _calour_pval  _calour_qval _calour_direction  \n",
       "EC                                                      \n",
       "1.1.1.42      0.021978      0.434565                CD  "
      ]
     },
     "execution_count": 541,
     "metadata": {},
     "output_type": "execute_result"
    }
   ],
   "source": [
    "x_diff.feature_metadata"
   ]
  },
  {
   "cell_type": "markdown",
   "id": "174c05dc-5e72-4118-8a4c-be267f89b07c",
   "metadata": {},
   "source": [
    "### ['_cat'] analysis"
   ]
  },
  {
   "cell_type": "code",
   "execution_count": 67,
   "id": "b048c50f-62e6-4330-afef-223b64226338",
   "metadata": {},
   "outputs": [],
   "source": [
    "dat = dat.sort_samples('DX')\n",
    "dat = dat.sort_samples('internal_order')\n",
    "dat = dat.sort_samples('isolate_consortium')\n",
    "dat = dat.filter_samples(\"sample_mtx\",\"S2_C_41569860_P1\", negate = True)\n",
    "dat = dat.filter_samples('final_pair1_above_50k', True)"
   ]
  },
  {
   "cell_type": "code",
   "execution_count": 68,
   "id": "56e35063-b3fb-42bb-b769-ee30bd2b6c21",
   "metadata": {},
   "outputs": [],
   "source": [
    "dat = dat.sort_by_metadata('_cat', axis = 'f')"
   ]
  },
  {
   "cell_type": "code",
   "execution_count": 69,
   "id": "b0603553-50fb-4323-a6fd-e0930a6dc6df",
   "metadata": {},
   "outputs": [
    {
     "name": "stderr",
     "output_type": "stream",
     "text": [
      "/pita/users/hila/miniconda3/envs/calour/lib/python3.6/site-packages/ipykernel_launcher.py:2: RuntimeWarning: invalid value encountered in log2\n",
      "  \n"
     ]
    }
   ],
   "source": [
    "x = dat.copy()\n",
    "x.data = np.log2(x.data)"
   ]
  },
  {
   "cell_type": "code",
   "execution_count": 70,
   "id": "234900f0-e857-44f6-8127-4e504a84a7ac",
   "metadata": {},
   "outputs": [],
   "source": [
    "x.data[x.data==-np.inf] = 0 # RNA = 0, DNA = val"
   ]
  },
  {
   "cell_type": "code",
   "execution_count": 65,
   "id": "f3a380a0-85e6-4444-acf0-5468a97f56ea",
   "metadata": {},
   "outputs": [],
   "source": [
    "import copy\n",
    "\n",
    "# works but the mid section color spreads to both sides\n",
    "red_blue = plt.cm.get_cmap('coolwarm', 256)\n",
    "newcolors = red_blue(np.linspace(0, 1, 256))\n",
    "grey = np.array([0.5, 0.5,0.5, 1])\n",
    "newcolors[128, :] = grey\n",
    "newcmp = matplotlib.colors.ListedColormap(newcolors)\n"
   ]
  },
  {
   "cell_type": "code",
   "execution_count": 71,
   "id": "bb87ae8c-9536-44c4-aef0-0a347f062063",
   "metadata": {},
   "outputs": [
    {
     "data": {
      "text/plain": [
       "<calour.heatmap.plotgui_qt5.PlotGUI_QT5 at 0x7fc32e53feb8>"
      ]
     },
     "execution_count": 71,
     "metadata": {},
     "output_type": "execute_result"
    }
   ],
   "source": [
    "x.plot(gui='qt5', sample_field = 'isolate_consortium', barx_fields = ['DX'], #, 'final pair1', 'ID'\n",
    "      cmap = newcmp, norm = None, clim=[-6,6], \n",
    "       yticklabel_kwargs = {\"size\": 7}, yticklabel_len = 40, feature_field = '_feature_id',\n",
    "      bary_fields = ['_cat']) "
   ]
  },
  {
   "cell_type": "code",
   "execution_count": 42,
   "id": "ad6f9d52-d218-4f5f-8e70-c9853b9eddc6",
   "metadata": {},
   "outputs": [],
   "source": [
    "x.data[x.data == np.nan] = 0"
   ]
  },
  {
   "cell_type": "code",
   "execution_count": 52,
   "id": "fcd901b0-5551-41bd-976f-062582c9d3c2",
   "metadata": {},
   "outputs": [],
   "source": [
    "xx = x.filter_by_metadata('_cat', ['c'], 'f')"
   ]
  },
  {
   "cell_type": "code",
   "execution_count": 53,
   "id": "83e1ecc6-18fb-4083-bf3a-320ec7b96f1f",
   "metadata": {},
   "outputs": [
    {
     "name": "stdout",
     "output_type": "stream",
     "text": [
      "2022-09-19 16:36:16 INFO 12 samples with both values\n",
      "2022-09-19 16:36:16 WARNING Do you forget to normalize your data? It is required before running this function\n",
      "2022-09-19 16:36:16 INFO After filtering, 75 remain.\n",
      "2022-09-19 16:36:16 INFO 7 samples with value 1 (['Ctl'])\n",
      "2022-09-19 16:36:16 INFO number of higher in Ctl: 0. number of higher in CD : 1. total 1\n"
     ]
    }
   ],
   "source": [
    "diff_dat1 = xx.diff_abundance('DX', ['Ctl'], ['CD'], alpha = 0.4)"
   ]
  },
  {
   "cell_type": "markdown",
   "id": "35691e28-b726-49f8-804a-9b5548634d3c",
   "metadata": {},
   "source": [
    "## MTX analysis"
   ]
  },
  {
   "cell_type": "code",
   "execution_count": 652,
   "id": "89c6371d-5145-4573-baf5-76b3483503c9",
   "metadata": {},
   "outputs": [],
   "source": [
    "# de - fdr 0.1\n",
    "ca.set_log_level('ERROR')\n",
    "\n",
    "dat = ca.read_amplicon('/pita/users/hila/biobakery_workflows/output_data/06_Jan_2022_lab_mgx_mtx/whole_metatranscriptome_shotgun/humann/merged/ecs_relab_unstratified.tsv',\n",
    "                       os.path.join(base_mtx_folder_1, mtx_metadata),\n",
    "                       min_reads = 0,normalize = None, sparse = False,\n",
    "                      feature_metadata_file = './ecs_to_name.txt',\n",
    "                      sample_id_proc=get_name)"
   ]
  },
  {
   "cell_type": "code",
   "execution_count": 7,
   "id": "358da5da-b849-4511-9f16-578ab812423b",
   "metadata": {},
   "outputs": [],
   "source": [
    "# when split by 'a', 'b', 'c', etc. from hmp2 we didn't get much (c+e give more sig. DA than a+b).\n",
    "\n",
    "ca.set_log_level('ERROR')\n",
    "dat = ca.read_amplicon('/pita/users/hila/biobakery_workflows/output_data/06_Jan_2022_lab_mgx_mtx/whole_metatranscriptome_shotgun/humann/merged/pathabundance_relab_unstratified.tsv',\n",
    "                       os.path.join(base_mtx_folder_1, mtx_metadata),\n",
    "                       feature_metadata_file = '../bioms/hmp2_mtx_ratio_feat_metadata_feature.txt',\n",
    "                       min_reads = 0,normalize = None, sparse = False,\n",
    "                      sample_id_proc=get_name)\n",
    "ca.set_log_level('INFO')"
   ]
  },
  {
   "cell_type": "code",
   "execution_count": 8,
   "id": "06dcc9bc-92ab-44a2-8963-f26625620608",
   "metadata": {},
   "outputs": [
    {
     "data": {
      "text/plain": [
       "AmpliconExperiment with 22 samples, 317 features"
      ]
     },
     "execution_count": 8,
     "metadata": {},
     "output_type": "execute_result"
    }
   ],
   "source": [
    "dat"
   ]
  },
  {
   "cell_type": "code",
   "execution_count": 113,
   "id": "4ad244d0-28b2-4a5c-beb0-aabf81e03789",
   "metadata": {},
   "outputs": [],
   "source": [
    "#dat.sample_metadata"
   ]
  },
  {
   "cell_type": "code",
   "execution_count": 9,
   "id": "e01ea5f1-e093-46b0-b2be-578f62604171",
   "metadata": {},
   "outputs": [],
   "source": [
    "dat = dat.filter_samples(\"sample_mtx\",\"S2_C_41569860_P1\", negate = True)"
   ]
  },
  {
   "cell_type": "code",
   "execution_count": 10,
   "id": "5a98ff7a-a4dd-4b68-a293-b3e3de825354",
   "metadata": {},
   "outputs": [],
   "source": [
    "dat = dat.sort_samples('DX')"
   ]
  },
  {
   "cell_type": "code",
   "execution_count": 11,
   "id": "8a7ef19f-0977-42a1-8b3a-bb5d318f9318",
   "metadata": {},
   "outputs": [],
   "source": [
    "dat = dat.sort_samples('internal_order')"
   ]
  },
  {
   "cell_type": "code",
   "execution_count": 12,
   "id": "20a3fe24-469c-4821-9dd6-9db4d878498a",
   "metadata": {},
   "outputs": [],
   "source": [
    "dat = dat.sort_samples('isolate_consortium')"
   ]
  },
  {
   "cell_type": "code",
   "execution_count": 13,
   "id": "e805fe1a-e8b1-4589-9d86-343c19bd4bd9",
   "metadata": {},
   "outputs": [],
   "source": [
    "dat = dat.filter_samples('final_pair1_above_50k', True)"
   ]
  },
  {
   "cell_type": "code",
   "execution_count": 15,
   "id": "3e167a57-532a-4d04-a266-8336b7f184d7",
   "metadata": {},
   "outputs": [],
   "source": [
    "dat = dat.sort_by_metadata('_cat', axis = 'f')"
   ]
  },
  {
   "cell_type": "code",
   "execution_count": 54,
   "id": "4ee42422-21f4-4d3f-b80d-f7d7d3e52b43",
   "metadata": {},
   "outputs": [
    {
     "name": "stderr",
     "output_type": "stream",
     "text": [
      "/pita/users/hila/miniconda3/envs/calour/lib/python3.6/site-packages/calour/heatmap/heatmap.py:308: MatplotlibDeprecationWarning: You are modifying the state of a globally registered colormap. In future versions, you will not be able to modify a registered colormap in-place. To remove this warning, you can make a copy of the colormap first. cmap = copy.copy(mpl.cm.get_cmap(\"viridis\"))\n",
      "  cmap.set_bad(bad_color)\n"
     ]
    },
    {
     "data": {
      "text/plain": [
       "<calour.heatmap.plotgui_qt5.PlotGUI_QT5 at 0x7fc32f347a20>"
      ]
     },
     "execution_count": 54,
     "metadata": {},
     "output_type": "execute_result"
    }
   ],
   "source": [
    "dat.plot(gui='qt5', sample_field = 'isolate_consortium', barx_fields = ['DX'], bary_fields = ['_cat'])"
   ]
  },
  {
   "cell_type": "code",
   "execution_count": 659,
   "id": "315a653d-d482-483e-9aef-a88d9f0f81ec",
   "metadata": {},
   "outputs": [],
   "source": [
    "diff_dat1 = dat.diff_abundance('DX', ['Ctl'], ['CD'], alpha = 0.1)"
   ]
  },
  {
   "cell_type": "code",
   "execution_count": 660,
   "id": "9581e870-e396-429d-9332-84604082d4ca",
   "metadata": {},
   "outputs": [
    {
     "data": {
      "text/plain": [
       "AmpliconExperiment with 18 samples, 69 features"
      ]
     },
     "execution_count": 660,
     "metadata": {},
     "output_type": "execute_result"
    }
   ],
   "source": [
    "diff_dat1"
   ]
  },
  {
   "cell_type": "code",
   "execution_count": 22,
   "id": "98b74f0a-4011-46d1-ade6-9768217a9092",
   "metadata": {},
   "outputs": [
    {
     "name": "stdout",
     "output_type": "stream",
     "text": [
      "2022-09-19 14:04:22 INFO 11 samples with both values\n",
      "2022-09-19 14:04:22 WARNING Do you forget to normalize your data? It is required before running this function\n",
      "2022-09-19 14:04:22 INFO After filtering, 131 remain.\n",
      "2022-09-19 14:04:22 INFO 8 samples with value 1 (['Ctl'])\n",
      "2022-09-19 14:04:22 INFO number of higher in Ctl: 0. number of higher in CD : 6. total 6\n"
     ]
    }
   ],
   "source": [
    "x = dat.filter_by_metadata('_cat', ['c', 'e'], 'f')\n",
    "diff_dat1 = x.diff_abundance('DX', ['Ctl'], ['CD'], alpha = 0.1)"
   ]
  },
  {
   "cell_type": "code",
   "execution_count": 23,
   "id": "23b54b44-5b09-43e0-aec6-6a1964853a2b",
   "metadata": {},
   "outputs": [
    {
     "name": "stderr",
     "output_type": "stream",
     "text": [
      "/pita/users/hila/miniconda3/envs/calour/lib/python3.6/site-packages/calour/heatmap/heatmap.py:308: MatplotlibDeprecationWarning: You are modifying the state of a globally registered colormap. In future versions, you will not be able to modify a registered colormap in-place. To remove this warning, you can make a copy of the colormap first. cmap = copy.copy(mpl.cm.get_cmap(\"viridis\"))\n",
      "  cmap.set_bad(bad_color)\n"
     ]
    },
    {
     "data": {
      "text/plain": [
       "<calour.heatmap.plotgui_qt5.PlotGUI_QT5 at 0x7fc32fcb47b8>"
      ]
     },
     "execution_count": 23,
     "metadata": {},
     "output_type": "execute_result"
    }
   ],
   "source": [
    "diff_dat1.plot(gui='qt5', sample_field = 'isolate_consortium', barx_fields = ['DX'], \n",
    "               bary_fields = ['_calour_direction'], yticks_max = None, # feature_field = 'Name'\n",
    "               yticklabel_len = 50, yticklabel_kwargs = {'rotation' : 0, 'size' : 6})"
   ]
  },
  {
   "cell_type": "code",
   "execution_count": 663,
   "id": "2752384c-b76f-4e54-b630-bbaedd55dc39",
   "metadata": {},
   "outputs": [
    {
     "name": "stderr",
     "output_type": "stream",
     "text": [
      "/pita/users/hila/miniconda3/envs/calour/lib/python3.6/site-packages/calour/heatmap/heatmap.py:308: MatplotlibDeprecationWarning: You are modifying the state of a globally registered colormap. In future versions, you will not be able to modify a registered colormap in-place. To remove this warning, you can make a copy of the colormap first. cmap = copy.copy(mpl.cm.get_cmap(\"viridis\"))\n",
      "  cmap.set_bad(bad_color)\n"
     ]
    },
    {
     "data": {
      "text/plain": [
       "<calour.heatmap.plotgui_qt5.PlotGUI_QT5 at 0x7f5030d66c18>"
      ]
     },
     "execution_count": 663,
     "metadata": {},
     "output_type": "execute_result"
    }
   ],
   "source": [
    "diff_dat1.plot(gui='qt5', sample_field = 'isolate_consortium', barx_fields = ['DX'], \n",
    "               bary_fields = ['_calour_direction'], feature_field = 'Name')"
   ]
  },
  {
   "cell_type": "code",
   "execution_count": 668,
   "id": "73cd837c-b171-431e-a445-725383cbcd26",
   "metadata": {},
   "outputs": [
    {
     "data": {
      "text/plain": [
       "array(['Mannitol-1-phosphate 5-dehydrogenase',\n",
       "       'Malate dehydrogenase (oxaloacetate-decarboxylating)',\n",
       "       'Choline dehydrogenase', 'Hydrogenase (acceptor)',\n",
       "       'Formate dehydrogenase',\n",
       "       '(E)-4-hydroxy-3-methylbut-2-enyl-diphosphate synthase (ferredoxin)',\n",
       "       'Formate dehydrogenase (acceptor)',\n",
       "       'Ferredoxin--NADP(+) reductase',\n",
       "       'Oxoglutarate dehydrogenase (succinyl-transferring)',\n",
       "       'Coproporphyrinogen oxidase', 'Flavin reductase (NADPH)',\n",
       "       'NAD(P)(+) transhydrogenase (Si-specific)',\n",
       "       'Nitrite reductase (NAD(P)H)', 'Azobenzene reductase',\n",
       "       'Nitrate reductase', 'Glutathione-disulfide reductase',\n",
       "       \"23S rRNA (uridine(2552)-2'-O)-methyltransferase\",\n",
       "       'tRNA (uracil(54)-C(5))-methyltransferase',\n",
       "       'tRNA (5-methylaminomethyl-2-thiouridylate)-methyltransferase',\n",
       "       '3-demethylubiquinol 3-O-methyltransferase',\n",
       "       'Dihydrolipoyllysine-residue acetyltransferase',\n",
       "       'UDP-3-O-(3-hydroxymyristoyl)glucosamine N-acyltransferase',\n",
       "       'Beta-ketoacyl-[acyl-carrier-protein] synthase I',\n",
       "       'Dihydrolipoyllysine-residue succinyltransferase',\n",
       "       'Citrate synthase (unknown stereospecificity)',\n",
       "       'Guanosine phosphorylase', 'Homoserine kinase',\n",
       "       'N-acetylglucosamine kinase', 'Diguanylate cyclase',\n",
       "       'Exodeoxyribonuclease V', '6-phospho-beta-glucosidase',\n",
       "       'Leucyl aminopeptidase', 'Membrane alanyl aminopeptidase',\n",
       "       'PepB aminopeptidase', 'HycI peptidase', 'Oligopeptidase A',\n",
       "       'HslU--HslV peptidase', 'Nicotinamidase',\n",
       "       'Glutathionylspermidine amidase', 'Transferred entry 7.3.2.1',\n",
       "       'Transferred entry 7.6.2.2', 'Phosphoenolpyruvate carboxylase',\n",
       "       '4-hydroxy-3-polyprenylbenzoate decarboxylase',\n",
       "       'Low-specificity L-threonine aldolase', 'L-threonine aldolase',\n",
       "       'Carbonic anhydrase', 'D-lactate dehydratase',\n",
       "       'Prephenate dehydratase', '23S rRNA pseudouridine(2604) synthase',\n",
       "       '23S rRNA pseudouridine(2605) synthase',\n",
       "       'tRNA pseudouridine(13) synthase', 'Dethiobiotin synthase',\n",
       "       'Ubiquinol oxidase (electrogenic, proton-motive force generating)',\n",
       "       'ABC-type phosphate transporter', 'ABC-type maltose transporter',\n",
       "       'Ribonucleoside-triphosphate reductase (thioredoxin)',\n",
       "       'Ornithine carbamoyltransferase', 'Thymidine phosphorylase',\n",
       "       'ADP-glyceromanno-heptose 6-epimerase', 'Phosphopentomutase',\n",
       "       'Asparagine--tRNA ligase', 'Aspartate--ammonia ligase',\n",
       "       'Pyruvate dehydrogenase (quinone)',\n",
       "       '2,5-didehydrogluconate reductase (2-dehydro-D-gluconate-forming)',\n",
       "       'Malate dehydrogenase (quinone)',\n",
       "       'Pyrimidine-nucleoside phosphorylase',\n",
       "       'Thiosulfate sulfurtransferase',\n",
       "       \"23S rRNA (cytidine(2498)-2'-O)-methyltransferase\",\n",
       "       'Cyclomaltodextrinase'], dtype=object)"
      ]
     },
     "execution_count": 668,
     "metadata": {},
     "output_type": "execute_result"
    }
   ],
   "source": [
    "diff_dat1.feature_metadata.Name.values"
   ]
  },
  {
   "cell_type": "markdown",
   "id": "f80130a8-6ed7-4e5a-b298-7173c30e1752",
   "metadata": {},
   "source": [
    "## Intersection of ratio with significant features from mgx"
   ]
  },
  {
   "cell_type": "code",
   "execution_count": 608,
   "id": "92c2a7cc-f9e9-4efe-b789-64e81967ab9d",
   "metadata": {},
   "outputs": [],
   "source": [
    "sig_mgx_ecs_010 = {'2.3.1.245', '2.4.1.7', '2.4.2.6', '2.6.1.66', '2.7.1.176',\n",
    "       '3.1.1.1', '3.1.4.44', '3.2.1.122', '3.2.1.67', '3.5.2.14',\n",
    "       '3.5.2.5', '3.5.4.3', '3.6.1.25', '4.1.1.53', '4.1.1.86',\n",
    "       '4.1.2.29', '4.1.99.19', '5.3.4.1', '6.3.4.14', '1.1.1.103',\n",
    "       '1.1.1.125', '1.1.1.159', '1.1.1.28', '1.1.1.79', '1.1.1.95',\n",
    "       '1.1.5.12', '1.13.11.15', '1.18.1.3', '1.3.1.1', '2.1.1.64',\n",
    "       '2.10.1.1', '2.5.1.48', '2.6.1.57', '2.7.1.191', '2.7.1.89',\n",
    "       '3.1.1.31', '3.1.2.12', '3.1.2.6', '3.1.3.6', '3.2.1.86',\n",
    "       '3.4.11.9', '3.4.13.18', '3.6.1.41', '3.6.3.19', '3.6.3.2',\n",
    "       '4.1.2.2', '4.1.2.40', '4.2.1.1', '4.2.1.7', '4.3.1.7', '6.2.1.26',\n",
    "       '1.1.1.291', '3.6.1.22', '3.6.3.34', '1.1.1.130', '1.1.1.251',\n",
    "       '1.1.1.350', '1.11.1.21', '1.11.1.9', '1.14.12.18', '1.19.1.1',\n",
    "       '1.2.1.39', '1.2.1.77', '1.5.1.30', '1.6.6.9', '2.1.1.222',\n",
    "       '2.3.1.n4', '2.4.1.58', '2.6.1.107', '2.7.7.76', '3.1.3.12',\n",
    "       '3.1.3.23', '3.1.3.26', '3.1.3.74', '3.5.1.124', '3.6.1.9',\n",
    "       '4.2.1.30', '4.4.1.13', '4.4.1.28', '5.1.3.22', '5.4.99.19',\n",
    "       '6.5.1.4', '1.1.1.127', '1.1.1.298', '1.14.12.17', '1.14.12.19',\n",
    "       '1.2.1.22', '1.3.1.34', '2.3.1.174', '2.3.1.267', '2.3.3.9',\n",
    "       '2.4.2.2', '2.4.2.4', '2.6.1.85', '2.7.1.165', '2.7.7.61',\n",
    "       '2.7.7.n1', '3.1.1.45', '3.1.3.68', '3.4.21.107', '3.5.1.28',\n",
    "       '3.5.99.10', '3.6.3.17', '3.6.3.33', '4.1.1.25', '4.1.2.20',\n",
    "       '4.2.1.40', '5.3.1.22', '5.3.3.6', '6.3.1.11', '6.3.2.12',\n",
    "       '1.2.1.10', '1.6.5.2', '2.3.1.16', '2.5.1.145', '2.7.1.58',\n",
    "       '2.7.11.5', '3.1.3.10', '3.1.3.89', '3.2.1.28', '3.4.23.51',\n",
    "       '3.5.4.1', '3.6.1.8', '3.7.1.14', '4.2.1.17', '1.8.5.3', '2.3.2.2',\n",
    "       '4.1.3.30', '6.4.1.2', '2.3.1.n5', '2.7.1.5', '1.4.3.19',\n",
    "       '1.14.11.47', '2.1.1.178', '2.6.1.17', '2.7.1.107', '2.7.1.53',\n",
    "       '3.1.3.70', '3.4.19.5', '3.5.3.23', '4.1.1.68', '5.1.3.41',\n",
    "       '6.2.1.17', '6.3.2.14', '1.1.1.282', '1.1.1.47', '1.14.13.107',\n",
    "       '1.18.1.1', '1.2.1.8', '2.5.1.129', '2.7.1.121', '2.7.1.56',\n",
    "       '2.8.1.2', '2.8.3.16', '3.5.1.1', '3.5.1.18', '1.1.1.140',\n",
    "       '1.1.1.154', '1.1.1.346', '1.1.5.2', '1.14.14.9', '1.16.1.3',\n",
    "       '1.17.1.4', '1.2.1.16', '1.2.1.79', '1.20.4.1', '1.3.1.28',\n",
    "       '1.5.1.34', '1.6.1.1', '2.2.1.1', '2.7.1.19', '2.7.1.194',\n",
    "       '2.7.1.197', '2.7.4.29', '2.8.3.5', '3.1.1.4', '3.4.21.83',\n",
    "       '3.5.1.94', '4.1.1.31', '4.1.1.98', '4.1.2.17', '4.1.3.40',\n",
    "       '4.2.1.90', '7.1.1.7', '1.1.1.17', '1.1.1.60', '1.1.1.67',\n",
    "       '1.3.1.6', '1.6.5.5', '1.7.5.1', '2.7.7.77', '3.1.2.14',\n",
    "       '3.1.21.7', '3.1.3.27', '3.5.2.9', '4.1.1.18', '4.1.2.21',\n",
    "       '5.3.3.2', '5.4.4.2', '6.3.1.20', '7.5.2.1', '1.1.1.38', '1.7.2.3',\n",
    "       '2.1.1.171', '2.3.1.61', '2.5.1.10', '4.2.1.75', '5.4.2.1',\n",
    "       '1.14.13.127', '2.3.1.191', '3.1.4.17', '3.2.2.8', '3.5.4.4',\n",
    "       '3.6.4.13', '4.1.1.47', '4.2.1.130', '4.4.1.15', '2.7.1.59',\n",
    "       '2.3.1.46', '4.2.1.79', '1.1.1.274', '2.3.1.79', '2.6.1.81',\n",
    "       '3.1.26.12', '3.1.31.1', '4.1.1.21', '5.4.3.2', '2.4.1.180',\n",
    "       '3.1.5.1', '3.4.24.55', '4.1.1.8', '4.1.3.1', '4.2.1.119',\n",
    "       '5.1.3.24', '1.1.1.132', '1.5.1.41', '1.8.1.7', '2.7.1.22',\n",
    "       '2.7.7.13', '3.1.3.2', '3.1.4.16', '3.3.2.1', '3.4.17.13',\n",
    "       '3.6.1.26', '3.6.3.14', '3.6.3.27', '4.1.1.85', '6.3.3.3',\n",
    "       '1.14.14.5', '1.15.1.1', '1.17.1.5', '1.2.1.5', '2.3.1.41',\n",
    "       '2.4.2.52', '2.7.7.59', '2.7.7.65', '2.7.8.20', '2.8.3.8',\n",
    "       '3.1.1.5', '3.1.3.82', '3.2.2.4', '3.4.16.4', '3.5.1.78',\n",
    "       '5.4.99.62', '1.1.99.1', '1.4.1.4', '1.6.1.2', '1.7.1.4',\n",
    "       '1.7.99.4', '2.1.1.187', '2.1.1.264', '2.4.99.12', '2.7.1.35',\n",
    "       '2.7.7.47', '3.6.1.40', '3.6.3.16', '3.6.3.24', '4.2.1.12',\n",
    "       '4.4.1.16', '5.1.3.15', '5.4.99.21', '5.4.99.27', '1.1.1.83',\n",
    "       '1.14.13.48', '1.4.99.6', '2.1.1.181', '2.1.1.79', '3.5.2.2',\n",
    "       '4.3.1.15', '5.1.3.4', '6.3.2.3', '1.2.1.19', '1.2.4.1',\n",
    "       '3.4.11.1', '5.3.1.28', '1.1.1.121', '1.3.1.10', '1.1.1.393',\n",
    "       '1.1.1.411', '1.14.11.33', '1.3.1.n3', '2.4.1.352', '2.7.1.195',\n",
    "       '2.7.1.198', '2.7.1.200', '2.7.1.217', '2.7.1.218', '4.1.1.104',\n",
    "       '5.1.3.26', '5.3.1.35', '5.3.3.18', '1.1.5.3', '3.5.1.25',\n",
    "       '3.6.3.4', '4.2.3.12', '1.8.1.8', '4.1.99.1', '2.4.1.12',\n",
    "       '4.2.2.n1', '1.1.1.49', '2.3.1.47', '2.7.1.15', '2.7.7.89',\n",
    "       '3.1.1.32', '3.1.3.104', '3.2.1.170', '3.4.11.2', '4.1.1.37',\n",
    "       '1.3.5.3', '2.1.1.242', '2.3.3.16', '2.4.1.15', '2.4.2.43',\n",
    "       '2.7.7.42', '3.1.1.47', '3.1.3.45', '3.5.1.19', '4.2.1.6',\n",
    "       '4.2.99.20', '2.3.1.193', '2.5.1.18', '2.5.1.90', '2.7.1.73',\n",
    "       '2.7.1.83', '2.7.11.32', '2.7.4.27', '3.1.11.5', '3.1.4.58',\n",
    "       '3.2.2.21', '3.4.25.2', '3.6.1.45', '5.1.1.20', '2.1.1.200',\n",
    "       '2.5.1.31', '3.6.3.41', '2.3.1.117', '2.7.1.51', '2.7.7.1',\n",
    "       '4.2.1.51', '6.2.1.27', '1.7.2.2', '2.7.4.6', '3.4.11.10',\n",
    "       '3.6.1.11', '6.2.1.22', '2.3.1.15', '2.1.1.80', '5.1.3.20',\n",
    "       '2.4.2.15', '3.4.21.105', '1.1.1.381', '1.1.1.414', '1.14.13.239',\n",
    "       '1.3.1.25', '1.3.1.84', '1.3.1.87', '1.5.5.1', '1.7.1.15',\n",
    "       '1.8.4.13', '2.1.1.265', '2.1.1.n11', '2.4.1.44', '2.4.99.13',\n",
    "       '2.7.1.192', '2.7.1.201', '3.1.2.2', '3.1.3.22', '3.1.3.50',\n",
    "       '3.1.3.81', '3.1.4.55', '3.2.1.199', '3.2.2.31', '3.5.1.n3',\n",
    "       '3.5.3.9', '3.6.1.12', '3.6.1.65', '4.2.1.149', '4.2.1.81',\n",
    "       '7.2.2.8', '7.3.2.5', '7.4.2.1', '7.6.2.2', '7.6.2.5', '1.4.3.21',\n",
    "       '1.1.1.305', '1.10.9.1', '1.2.1.46', '2.1.2.13', '2.3.1.242',\n",
    "       '2.4.1.325', '2.7.1.184', '2.7.7.58', '2.8.3.19', '3.1.3.97',\n",
    "       '3.2.1.196', '3.2.2.10', '3.5.1.105', '3.5.1.110', '3.5.1.96',\n",
    "       '4.1.1.112', '4.1.1.77', '4.1.2.52', '4.1.2.57', '4.1.3.17',\n",
    "       '4.2.1.99', '4.2.2.n2', '5.1.2.3', '5.3.1.31', '5.3.2.2',\n",
    "       '5.3.3.8', '5.4.99.20', '7.1.1.3', '7.2.2.6', '7.3.2.3', '7.5.2.6',\n",
    "       '2.5.1.17', '3.1.4.46', '4.99.1.4', '5.1.3.32', '1.1.1.237',\n",
    "       '1.3.5.4', '2.3.1.109', '2.3.1.12', '2.7.8.37', '2.7.8.42',\n",
    "       '3.1.3.1', '1.12.99.6', '1.14.14.51', '3.6.1.67', '5.4.2.6',\n",
    "       '1.1.1.284', '1.3.98.3', '4.2.1.28', '1.11.1.5', '1.2.5.1',\n",
    "       '2.4.1.129', '2.5.1.64', '3.1.1.23', '4.99.1.1', '6.2.1.20',\n",
    "       '1.1.2.3', '3.4.13.9', '4.1.3.38', '2.1.1.113', '6.3.2.2',\n",
    "       '4.1.3.6', '1.17.1.9', '2.3.1.40', '3.6.3.36', '4.1.3.3',\n",
    "       '4.2.1.80', '2.8.1.12', '5.3.1.5', '2.1.1.35', '3.1.2.28',\n",
    "       '3.2.2.23', '2.1.1.186', '2.3.1.118', '1.8.1.2', '3.2.1.177',\n",
    "       '2.7.1.113', '1.2.99.6', '2.5.1.141', '5.4.99.29', '1.1.98.6',\n",
    "       '3.1.4.14', '3.2.2.28', '2.7.1.202', '1.2.1.72', '2.1.1.174',\n",
    "       '3.8.1.7', '1.1.1.373', '1.2.1.71', '4.3.2.7', '5.3.1.32',\n",
    "       '5.3.3.10', '1.14.11.17', '2.1.1.298', '3.1.27.6', '3.1.4.52',\n",
    "       '3.1.6.6', '4.1.3.34', '5.1.3.29', '1.16.1.9', '1.17.5.3',\n",
    "       '2.3.1.210', '2.3.1.241', '2.7.2.15', '1.2.1.88', '2.1.1.185',\n",
    "       '1.17.4.1', '1.1.1.8', '4.1.1.61', '6.3.1.12', '3.5.4.42',\n",
    "       '2.7.1.76', '2.7.7.66', '2.8.3.21', '1.2.1.91', '2.7.1.196',\n",
    "       '2.7.1.208', '3.1.3.90', '3.1.4.3', '3.3.2.12', '3.4.11.19',\n",
    "       '4.1.1.22', '5.1.3.n2', '1.1.1.65', '1.13.11.29', '3.4.21.72',\n",
    "       '6.2.1.48', '1.14.13.149', '1.3.8.13', '1.8.5.7', '2.6.1.22',\n",
    "       '3.5.1.3', '3.5.1.52', '3.5.3.26', '3.4.19.11', '5.4.2.9',\n",
    "       '5.1.1.4', '1.21.4.1', '3.5.4.33', '1.8.99.3', '3.2.1.91',\n",
    "       '6.3.4.6', '2.6.1.77', '5.1.3.11', '3.2.1.41', '2.6.1.16',\n",
    "       '1.97.1.4', '3.2.2.27', '6.3.4.19', '3.6.1.27', '5.1.1.7',\n",
    "       '2.1.1.177', '2.4.2.1', '6.3.3.1', '3.5.2.3', '3.8.1.2',\n",
    "       '2.7.1.48', '4.2.1.46', '4.1.1.36', '2.3.1.35', '3.1.21.3',\n",
    "       '3.4.21.89', '3.4.24.78', '6.1.1.21', '1.14.13.39', '1.1.1.193',\n",
    "       '1.17.99.6', '2.4.2.45', '2.7.1.21', '3.5.4.26', '4.2.3.4',\n",
    "       '4.3.2.10', '4.1.1.11', '2.2.1.10', '2.7.1.11', '4.2.1.129',\n",
    "       '1.2.99.5', '4.2.1.107', '6.1.1.2', '2.7.4.8', '3.5.3.8',\n",
    "       '3.1.26.11', '6.3.2.5', '1.1.1.205', '1.1.1.42', '2.1.1.195',\n",
    "       '2.2.1.7', '2.4.1.20', '2.7.1.90', '2.6.1.83', '4.2.1.136',\n",
    "       '7.1.2.2', '2.7.7.7', '2.7.8.13', '4.2.1.151', '2.1.3.2',\n",
    "       '2.1.3.3', '1.5.1.5', '2.7.2.4', '1.18.6.1', '2.4.1.25',\n",
    "       '2.1.1.157', '3.1.4.37', '2.6.1.11', '2.6.1.9', '3.4.11.4',\n",
    "       '3.6.5.3', '1.4.7.1', '2.7.7.24', '5.3.1.9', '6.3.5.2', '4.2.1.33',\n",
    "       '4.6.1.12', '5.99.1.2', '6.3.5.5', '3.4.11.18', '6.3.4.3',\n",
    "       '2.3.1.n3', '2.1.1.37', '2.7.1.33', '3.1.26.5', '1.3.8.1',\n",
    "       '2.4.99.17', '6.1.1.10', '2.5.1.19', '2.5.1.75', '2.7.7.72',\n",
    "       '3.6.1.66', '2.3.1.179', '2.4.2.10', '2.4.2.8', '4.1.1.32',\n",
    "       '4.2.1.10', '6.3.3.2', '6.3.4.5', '1.1.1.85', '2.6.1.76',\n",
    "       '3.5.4.25', '6.1.1.5', '6.1.1.6', '2.7.7.3', '3.4.23.36',\n",
    "       '4.4.1.21', '7.3.2.1', '2.1.1.63', '2.7.1.50', '4.1.1.49',\n",
    "       '2.3.1.234', '2.4.1.211', '6.3.5.8', '2.4.1.227', '2.4.2.22',\n",
    "       '3.6.4.12', '5.1.3.13', '6.3.4.4', '2.5.1.6', '2.5.1.7',\n",
    "       '2.7.7.85', '4.1.99.12', '4.4.1.1', '5.5.1.1', '6.1.1.7',\n",
    "       '2.1.1.148', '2.1.2.11', '2.4.1.18', '2.7.1.40', '3.5.1.88',\n",
    "       '3.6.1.3', '3.6.3.31', '4.2.3.5', '5.4.99.18', '3.1.13.1',\n",
    "       '1.1.1.94', '2.4.2.14', '2.4.2.17', '2.4.2.29', '2.7.4.22',\n",
    "       '2.8.4.4', '3.1.26.4', '3.6.5.n1', '5.1.1.3', '5.3.1.1', '5.4.1.2',\n",
    "       '5.4.2.12', '6.1.1.19', '6.1.1.20', '6.1.1.22', '6.1.1.4',\n",
    "       '6.3.2.4', '1.1.1.267', '1.1.1.86', '1.2.1.41', '1.3.99.4',\n",
    "       '1.4.1.14', '1.5.1.7', '2.1.1.193', '2.1.1.228', '2.1.2.1',\n",
    "       '2.1.2.9', '2.6.1.52', '2.7.1.148', '2.7.1.24', '2.7.1.26',\n",
    "       '2.7.2.11', '2.7.2.8', '2.7.4.25', '2.7.4.3', '2.7.7.2', '2.7.7.6',\n",
    "       '3.1.1.29', '3.2.1.94', '3.4.11.5', '3.4.21.53', '3.5.4.19',\n",
    "       '3.6.1.23', '4.1.1.23', '4.2.1.19', '5.1.1.1', '5.99.1.3',\n",
    "       '6.1.1.15', '6.1.1.9', '6.3.2.8', '6.3.2.9', '6.3.4.2', '1.1.1.23',\n",
    "       '1.17.7.4', '1.2.1.38', '1.3.1.98', '2.1.1.33', '2.1.1.74',\n",
    "       '2.3.1.31', '2.7.1.23', '2.7.2.1', '2.7.2.3', '2.7.7.60',\n",
    "       '2.7.7.8', '2.7.9.1', '3.1.11.6', '3.1.26.3', '3.4.21.92',\n",
    "       '3.6.1.31', '4.2.1.55', '4.3.2.1', '4.3.2.2', '5.4.99.25',\n",
    "       '6.1.1.1', '6.1.1.12', '6.1.1.16', '6.1.1.17', '6.1.1.18',\n",
    "       '6.1.1.3', '6.3.2.10', '6.3.2.6'}\n",
    "sig_mgx_paths_010 = {'MET-SAM-PWY: superpathway of S-adenosyl-L-methionine biosynthesis',\n",
    "       'POLYISOPRENSYN-PWY: polyisoprenoid biosynthesis (E. coli)',\n",
    "       'PWY-6353: purine nucleotides degradation II (aerobic)',\n",
    "       'PWY-6606: guanosine nucleotides degradation II',\n",
    "       'PWY-6859: all-trans-farnesol biosynthesis',\n",
    "       'PWY0-1061: superpathway of L-alanine biosynthesis',\n",
    "       'HOMOSER-METSYN-PWY: L-methionine biosynthesis I',\n",
    "       'METSYN-PWY: superpathway of L-homoserine and L-methionine biosynthesis',\n",
    "       'PWY-5347: superpathway of L-methionine biosynthesis (transsulfuration)',\n",
    "       'PWY-5384: sucrose degradation IV (sucrose phosphorylase)',\n",
    "       'PWY0-1298: superpathway of pyrimidine deoxyribonucleosides degradation',\n",
    "       'ARGDEG-PWY: superpathway of L-arginine, putrescine, and 4-aminobutanoate degradation',\n",
    "       'GLUCARDEG-PWY: D-glucarate degradation I',\n",
    "       'ORNARGDEG-PWY: superpathway of L-arginine and L-ornithine degradation',\n",
    "       'P4-PWY: superpathway of L-lysine, L-threonine and L-methionine biosynthesis I',\n",
    "       'PWY-4702: phytate degradation I',\n",
    "       'PWY-5747: 2-methylcitrate cycle II',\n",
    "       'PWY-6608: guanosine nucleotides degradation III',\n",
    "       'PWY-6630: superpathway of L-tyrosine biosynthesis',\n",
    "       \"PWY-7204: pyridoxal 5'-phosphate salvage II (plants)\",\n",
    "       'PWY0-42: 2-methylcitrate cycle I',\n",
    "       'PWY0-781: aspartate superpathway',\n",
    "       'GALACTARDEG-PWY: D-galactarate degradation I',\n",
    "       'GLUCARGALACTSUPER-PWY: superpathway of D-glucarate and D-galactarate degradation',\n",
    "       'METHGLYUT-PWY: superpathway of methylglyoxal degradation',\n",
    "       'P161-PWY: acetylene degradation (anaerobic)',\n",
    "       'PWY-5497: purine nucleobases degradation II (anaerobic)',\n",
    "       'PWY-5675: nitrate reduction V (assimilatory)',\n",
    "       'PWY-6284: superpathway of unsaturated fatty acids biosynthesis (E. coli)',\n",
    "       'PWY-7115: C4 photosynthetic carbon assimilation cycle, NAD-ME type',\n",
    "       'PWY0-1297: superpathway of purine deoxyribonucleosides degradation',\n",
    "       'PWY4LZ-257: superpathway of fermentation (Chlamydomonas reinhardtii)',\n",
    "       'PWY-6531: mannitol cycle',\n",
    "       'HEME-BIOSYNTHESIS-II: heme b biosynthesis I (aerobic)',\n",
    "       'FERMENTATION-PWY: mixed acid fermentation',\n",
    "       'PENTOSE-P-PWY: pentose phosphate pathway',\n",
    "       'PWY-5656: mannosylglycerate biosynthesis I',\n",
    "       'PWY-5855: ubiquinol-7 biosynthesis (early decarboxylation)',\n",
    "       'PWY-5856: ubiquinol-9 biosynthesis (early decarboxylation)',\n",
    "       'PWY-5857: ubiquinol-10 biosynthesis (early decarboxylation)',\n",
    "       'PWY-5913: partial TCA cycle (obligate autotrophs)',\n",
    "       'PWY-6708: ubiquinol-8 biosynthesis (early decarboxylation)',\n",
    "       'PWY-7117: C4 photosynthetic carbon assimilation cycle, PEPCK type',\n",
    "       'PWY66-409: superpathway of purine nucleotide salvage',\n",
    "       'UBISYN-PWY: superpathway of ubiquinol-8 biosynthesis (early decarboxylation)',\n",
    "       'FOLSYN-PWY: superpathway of tetrahydrofolate biosynthesis and salvage',\n",
    "       'GLYOXYLATE-BYPASS: glyoxylate cycle',\n",
    "       'P461-PWY: hexitol fermentation to lactate, formate, ethanol and acetate',\n",
    "       'PWY-241: C4 photosynthetic carbon assimilation cycle, NADP-ME type',\n",
    "       'PWY-5971: palmitate biosynthesis (type II fatty acid synthase)',\n",
    "       'PWY-6612: superpathway of tetrahydrofolate biosynthesis',\n",
    "       'SALVADEHYPOX-PWY: adenosine nucleotides degradation II',\n",
    "       'NAD-BIOSYNTHESIS-II: NAD salvage pathway III (to nicotinamide riboside)',\n",
    "       'PWY4FS-7: phosphatidylglycerol biosynthesis I (plastidic)',\n",
    "       'PWY4FS-8: phosphatidylglycerol biosynthesis II (non-plastidic)',\n",
    "       'PWY-5918: superpathway of heme b biosynthesis from glutamate',\n",
    "       'PWY-5189: tetrapyrrole biosynthesis II (from glycine)',\n",
    "       'P105-PWY: TCA cycle IV (2-oxoglutarate decarboxylase)',\n",
    "       'PWY-5861: superpathway of demethylmenaquinol-8 biosynthesis I',\n",
    "       'PWY0-1479: tRNA processing',\n",
    "       'GLUCOSE1PMETAB-PWY: glucose and glucose-1-phosphate degradation',\n",
    "       'KETOGLUCONMET-PWY: ketogluconate metabolism',\n",
    "       'PWY-5838: superpathway of menaquinol-8 biosynthesis I',\n",
    "       'GLYCOCAT-PWY: glycogen degradation I',\n",
    "       'HEMESYN2-PWY: heme b biosynthesis II (oxygen-independent)',\n",
    "       'PWY-2723: trehalose degradation V',\n",
    "       'PWY-5367: petroselinate biosynthesis',\n",
    "       'HEXITOLDEGSUPER-PWY: superpathway of hexitol degradation (bacteria)',\n",
    "       'PWY-5723: Rubisco shunt',\n",
    "       'ORNDEG-PWY: superpathway of ornithine degradation', 'PWY-5791',\n",
    "       'PWY-5840: superpathway of menaquinol-7 biosynthesis',\n",
    "       'PWY-5860: superpathway of demethylmenaquinol-6 biosynthesis I',\n",
    "       'PWY-5850: superpathway of menaquinol-6 biosynthesis',\n",
    "       'PWY-5896: superpathway of menaquinol-10 biosynthesis',\n",
    "       'PWY0-1586: peptidoglycan maturation (meso-diaminopimelate containing)',\n",
    "       'PWY-5994: palmitate biosynthesis (type I fatty acid synthase)',\n",
    "       'PWY0-1533: methylphosphonate degradation I',\n",
    "       'PWY-4041: &gamma;-glutamyl cycle',\n",
    "       'PWY-6731: starch degradation III',\n",
    "       'PWY-5897: superpathway of menaquinol-11 biosynthesis',\n",
    "       'PWY-5898: superpathway of menaquinol-12 biosynthesis',\n",
    "       'PWY-5899: superpathway of menaquinol-13 biosynthesis',\n",
    "       'BIOTIN-BIOSYNTHESIS-PWY: biotin biosynthesis I',\n",
    "       'PWY-5837: 2-carboxy-1,4-naphthoquinol biosynthesis',\n",
    "       'PWY-6282: palmitoleate biosynthesis I (from (5Z)-dodec-5-enoate)',\n",
    "       'PWY-6519: 8-amino-7-oxononanoate biosynthesis I',\n",
    "       'PWY-6803: phosphatidylcholine acyl editing',\n",
    "       'PWY-6892: thiazole component of thiamine diphosphate biosynthesis I',\n",
    "       'PWY-6901: superpathway of glucose and xylose degradation',\n",
    "       'PWY0-166: superpathway of pyrimidine deoxyribonucleotides de novo biosynthesis (E. coli)',\n",
    "       'PWY0-862: (5Z)-dodecenoate biosynthesis I',\n",
    "       'FUC-RHAMCAT-PWY: superpathway of fucose and rhamnose degradation',\n",
    "       'P122-PWY: heterolactic fermentation', 'PWY-5173',\n",
    "       'PWY-7184: pyrimidine deoxyribonucleotides de novo biosynthesis I',\n",
    "       'SO4ASSIM-PWY: assimilatory sulfate reduction I',\n",
    "       'GLYCOLYSIS-TCA-GLYOX-BYPASS: superpathway of glycolysis, pyruvate dehydrogenase, TCA, and glyoxylate bypass',\n",
    "       'TCA-GLYOX-BYPASS: superpathway of glyoxylate bypass and TCA',\n",
    "       'AST-PWY: L-arginine degradation II (AST pathway)',\n",
    "       'LPSSYN-PWY: superpathway of lipopolysaccharide biosynthesis',\n",
    "       'PWY-5705: allantoin degradation to glyoxylate III',\n",
    "       'PWY-6823: molybdopterin biosynthesis',\n",
    "       'PWY0-41: allantoin degradation IV (anaerobic)',\n",
    "       'THREOCAT-PWY: superpathway of L-threonine metabolism',\n",
    "       'FUCCAT-PWY: fucose degradation',\n",
    "       'SULFATE-CYS-PWY: superpathway of sulfate assimilation and cysteine biosynthesis',\n",
    "       'ECASYN-PWY: enterobacterial common antigen biosynthesis',\n",
    "       'FAO-PWY: fatty acid &beta;-oxidation I (generic)',\n",
    "       'KDO-NAGLIPASYN-PWY: superpathway of (Kdo)2-lipid A biosynthesis',\n",
    "       'P221-PWY: octane oxidation',\n",
    "       'PWY-7013: (S)-propane-1,2-diol degradation',\n",
    "       'PWY-7269: mitochondrial NADPH production (yeast)',\n",
    "       'PWY-7446: sulfoquinovose degradation I',\n",
    "       'PWY0-1277: 3-phenylpropanoate and 3-(3-hydroxyphenyl)propanoate degradation',\n",
    "       'PWY0-1338: polymyxin resistance',\n",
    "       'DAPLYSINESYN-PWY: L-lysine biosynthesis I',\n",
    "       'PWY-5862: superpathway of demethylmenaquinol-9 biosynthesis',\n",
    "       'FASYN-ELONG-PWY: fatty acid elongation -- saturated',\n",
    "       'PWY-5845: superpathway of menaquinol-9 biosynthesis',\n",
    "       'PWY-5989: stearate biosynthesis II (bacteria and plants)',\n",
    "       'PWY-7220: adenosine deoxyribonucleotides de novo biosynthesis II',\n",
    "       'PWY-7222: guanosine deoxyribonucleotides de novo biosynthesis II',\n",
    "       'PWY-7388: octanoyl-[acyl-carrier protein] biosynthesis (mitochondria, yeast)',\n",
    "       'PWY-7664: oleate biosynthesis IV (anaerobic)',\n",
    "       'COLANSYN-PWY: colanic acid building blocks biosynthesis',\n",
    "       'PWY-7187: pyrimidine deoxyribonucleotides de novo biosynthesis II',\n",
    "       'HCAMHPDEG-PWY: 3-phenylpropanoate and 3-(3-hydroxyphenyl)propanoate degradation to 2-hydroxypentadienoate',\n",
    "       'PWY-6690: cinnamate and 3-hydroxycinnamate degradation to 2-hydroxypentadienoate',\n",
    "       'PWY-6285: superpathway of fatty acids biosynthesis (E. coli)',\n",
    "       'PWY-7385: 1,3-propanediol biosynthesis (engineered)',\n",
    "       'PHOSLIPSYN-PWY: superpathway of phospholipid biosynthesis I (bacteria)',\n",
    "       'PWY0-1415: superpathway of heme b biosynthesis from uroporphyrinogen-III',\n",
    "       'PWY-5863: superpathway of phylloquinol biosynthesis',\n",
    "       'PWY0-1261: anhydromuropeptides recycling I',\n",
    "       'NAGLIPASYN-PWY: lipid IVA biosynthesis (E. coli)',\n",
    "       'PWY-6545: pyrimidine deoxyribonucleotides de novo biosynthesis III',\n",
    "       'ARG+POLYAMINE-SYN: superpathway of arginine and polyamine biosynthesis',\n",
    "       'P441-PWY: superpathway of N-acetylneuraminate degradation',\n",
    "       'PWY-7315: dTDP-N-acetylthomosamine biosynthesis',\n",
    "       'PWY-7094: fatty acid salvage',\n",
    "       'PWY-7254: TCA cycle VII (acetate-producers)',\n",
    "       'LACTOSECAT-PWY: lactose and galactose degradation I',\n",
    "       'PWY-5920: superpathway of heme b biosynthesis from glycine',\n",
    "       'PRPP-PWY: superpathway of histidine, purine, and pyrimidine biosynthesis',\n",
    "       'DENOVOPURINE2-PWY: superpathway of purine nucleotides de novo biosynthesis II',\n",
    "       'PWY-5083: NAD(P)/NADPH interconversion',\n",
    "       'PWY-4321: L-glutamate degradation IV',\n",
    "       'PWY-7409: phospholipid remodeling (phosphatidylethanolamine, yeast)',\n",
    "       'P562-PWY: myo-inositol degradation I',\n",
    "       'PWY-5692: allantoin degradation to glyoxylate II',\n",
    "       'URDEGR-PWY: superpathway of allantoin degradation in plants',\n",
    "       'OANTIGEN-PWY: O-antigen building blocks biosynthesis (E. coli)',\n",
    "       'HSERMETANA-PWY: L-methionine biosynthesis III',\n",
    "       'RUMP-PWY: formaldehyde oxidation I',\n",
    "       'PWY-5103: L-isoleucine biosynthesis III',\n",
    "       'PWY-3001: superpathway of L-isoleucine biosynthesis I',\n",
    "       'PWY-724: superpathway of L-lysine, L-threonine and L-methionine biosynthesis II',\n",
    "       'CALVIN-PWY: Calvin-Benson-Bassham cycle',\n",
    "       \"PWY-6124: inosine-5'-phosphate biosynthesis II\",\n",
    "       'PWY66-399: gluconeogenesis III',\n",
    "       'ARGSYNBSUB-PWY: L-arginine biosynthesis II (acetyl cycle)',\n",
    "       'BRANCHED-CHAIN-AA-SYN-PWY: superpathway of branched chain amino acid biosynthesis',\n",
    "       'GLUTORN-PWY: L-ornithine biosynthesis I',\n",
    "       'PWY-1042: glycolysis IV',\n",
    "       'PWY-7357: thiamine phosphate formation from pyrithiamine and oxythiamine (yeast)',\n",
    "       'PWY-6737: starch degradation V',\n",
    "       \"PWY-6123: inosine-5'-phosphate biosynthesis I\",\n",
    "       'DTDPRHAMSYN-PWY: dTDP-&beta;-L-rhamnose biosynthesis',\n",
    "       'PWY-5097: L-lysine biosynthesis VI',\n",
    "       'PWY-6121: 5-aminoimidazole ribonucleotide biosynthesis I',\n",
    "       'COMPLETE-ARO-PWY: superpathway of aromatic amino acid biosynthesis',\n",
    "       'ARGSYN-PWY: L-arginine biosynthesis I (via L-ornithine)',\n",
    "       'PWY-5667: CDP-diacylglycerol biosynthesis I',\n",
    "       'PWY-7221: guanosine ribonucleotides de novo biosynthesis',\n",
    "       'PWY-7400: L-arginine biosynthesis IV (archaebacteria)',\n",
    "       'PWY0-1319: CDP-diacylglycerol biosynthesis II',\n",
    "       'PWY-7383: anaerobic energy metabolism (invertebrates, cytosol)',\n",
    "       'PWY-6122: 5-aminoimidazole ribonucleotide biosynthesis II',\n",
    "       'PWY-6277: superpathway of 5-aminoimidazole ribonucleotide biosynthesis',\n",
    "       '1CMET2-PWY: folate transformations III (E. coli)',\n",
    "       'PWY-6609: adenine and adenosine salvage III',\n",
    "       'ARO-PWY: chorismate biosynthesis I',\n",
    "       'PWY-6168: flavin biosynthesis III (fungi)',\n",
    "       'PWY-6897: thiamine diphosphate salvage II',\n",
    "       'RIBOSYN2-PWY: flavin biosynthesis I (bacteria and plants)',\n",
    "       'COA-PWY: coenzyme A biosynthesis I (prokaryotic)',\n",
    "       'PANTO-PWY: phosphopantothenate biosynthesis I', 'PWY-4242',\n",
    "       'PWY-6151: S-adenosyl-L-methionine salvage I',\n",
    "       'PWY-7199: pyrimidine deoxyribonucleosides salvage',\n",
    "       'NONMEVIPP-PWY: methylerythritol phosphate pathway I',\n",
    "       'PANTOSYN-PWY: superpathway of coenzyme A biosynthesis I (bacteria)',\n",
    "       'PEPTIDOGLYCANSYN-PWY: peptidoglycan biosynthesis I (meso-diaminopimelate containing)',\n",
    "       'PWY-2942: L-lysine biosynthesis III',\n",
    "       'PWY-3841: folate transformations II (plants)',\n",
    "       'PWY-5686: UMP biosynthesis I',\n",
    "       'PWY-6163: chorismate biosynthesis from 3-dehydroquinate',\n",
    "       'PWY-6385: peptidoglycan biosynthesis III (mycobacteria)',\n",
    "       'PWY-6386: UDP-N-acetylmuramoyl-pentapeptide biosynthesis II (lysine-containing)',\n",
    "       'PWY-6387: UDP-N-acetylmuramoyl-pentapeptide biosynthesis I (meso-diaminopimelate containing)',\n",
    "       'PWY-7219: adenosine ribonucleotides de novo biosynthesis',\n",
    "       'PWY-6700: queuosine biosynthesis I (de novo)',\n",
    "       'COA-PWY-1: superpathway of coenzyme A biosynthesis III (mammals)',\n",
    "       'HISTSYN-PWY: L-histidine biosynthesis',\n",
    "       'ILEUSYN-PWY: L-isoleucine biosynthesis I (from threonine)',\n",
    "       'PWY-7111: pyruvate fermentation to isobutanol (engineered)',\n",
    "       'TRNA-CHARGING-PWY: tRNA charging',\n",
    "       'VALSYN-PWY: L-valine biosynthesis'}\n",
    "top_25_ratio_paths = {'PWY-6126: superpathway of adenosine nucleotides de novo biosynthesis II',\n",
    "       'NAGLIPASYN-PWY: lipid IVA biosynthesis (E. coli)',\n",
    "       'PWY-7228: superpathway of guanosine nucleotides de novo biosynthesis I',\n",
    "       'PWY-7219: adenosine ribonucleotides de novo biosynthesis',\n",
    "       'PWY-5347: superpathway of L-methionine biosynthesis (transsulfuration)',\n",
    "       'MET-SAM-PWY: superpathway of S-adenosyl-L-methionine biosynthesis',\n",
    "       'METSYN-PWY: superpathway of L-homoserine and L-methionine biosynthesis',\n",
    "       'HOMOSER-METSYN-PWY: L-methionine biosynthesis I',\n",
    "       'PWY-5989: stearate biosynthesis II (bacteria and plants)',\n",
    "       'PWY-5659: GDP-mannose biosynthesis',\n",
    "       'CALVIN-PWY: Calvin-Benson-Bassham cycle',\n",
    "       'ASPASN-PWY: superpathway of L-aspartate and L-asparagine biosynthesis',\n",
    "       'FASYN-ELONG-PWY: fatty acid elongation -- saturated',\n",
    "       'PWY-6282: palmitoleate biosynthesis I (from (5Z)-dodec-5-enoate)',\n",
    "       'PWY-7664: oleate biosynthesis IV (anaerobic)',\n",
    "       'PWY-5484: glycolysis II (from fructose 6-phosphate)',\n",
    "       'PWY-7220: adenosine deoxyribonucleotides de novo biosynthesis II',\n",
    "       'PWY-7222: guanosine deoxyribonucleotides de novo biosynthesis II',\n",
    "       'GLYCOLYSIS: glycolysis I (from glucose 6-phosphate)',\n",
    "       'SER-GLYSYN-PWY: superpathway of L-serine and glycine biosynthesis I',\n",
    "       'PWY0-862: (5Z)-dodecenoate biosynthesis I',\n",
    "       'PENTOSE-P-PWY: pentose phosphate pathway',\n",
    "       'NONOXIPENT-PWY: pentose phosphate pathway (non-oxidative branch) I',\n",
    "       'ANAGLYCOLYSIS-PWY: glycolysis III (from glucose)',\n",
    "       'PWY-1042: glycolysis IV'}\n",
    "top_25_ratio_ecs = {'2.4.1.1', '2.2.1.1', '1.8.1.4', '3.5.1.1', '3.4.21.107', '3.6.3.3',\n",
    "       '2.7.4.6', '1.4.1.2', '3.4.11.2', '2.6.1.52', '1.13.11.24', '2.1.2.1',\n",
    "       '1.8.4.12', '3.4.24.70', '4.2.1.11', '3.6.3.4', '2.7.7.49', '1.8.4.11',\n",
    "       '1.11.1.15', '5.4.2.11', '2.2.1.2', '1.16.3.2', '2.5.1.9', '4.1.2.13',\n",
    "       '1.15.1.1'}"
   ]
  },
  {
   "cell_type": "code",
   "execution_count": 610,
   "id": "4cccb2ee-bd3f-4445-9426-3b8e7dcbf0ac",
   "metadata": {},
   "outputs": [
    {
     "data": {
      "text/plain": [
       "{'1.15.1.1',\n",
       " '2.1.2.1',\n",
       " '2.2.1.1',\n",
       " '2.6.1.52',\n",
       " '2.7.4.6',\n",
       " '3.4.11.2',\n",
       " '3.4.21.107',\n",
       " '3.5.1.1',\n",
       " '3.6.3.4'}"
      ]
     },
     "execution_count": 610,
     "metadata": {},
     "output_type": "execute_result"
    }
   ],
   "source": [
    "joint_mgx_ratio_ecs = top_25_ratio_ecs.intersection(sig_mgx_ecs_010)\n",
    "joint_mgx_ratio_ecs"
   ]
  },
  {
   "cell_type": "code",
   "execution_count": 611,
   "id": "e7663e13-b6ef-45a7-bedb-597a76526c6f",
   "metadata": {},
   "outputs": [
    {
     "data": {
      "text/plain": [
       "{'CALVIN-PWY: Calvin-Benson-Bassham cycle',\n",
       " 'FASYN-ELONG-PWY: fatty acid elongation -- saturated',\n",
       " 'HOMOSER-METSYN-PWY: L-methionine biosynthesis I',\n",
       " 'MET-SAM-PWY: superpathway of S-adenosyl-L-methionine biosynthesis',\n",
       " 'METSYN-PWY: superpathway of L-homoserine and L-methionine biosynthesis',\n",
       " 'NAGLIPASYN-PWY: lipid IVA biosynthesis (E. coli)',\n",
       " 'PENTOSE-P-PWY: pentose phosphate pathway',\n",
       " 'PWY-1042: glycolysis IV',\n",
       " 'PWY-5347: superpathway of L-methionine biosynthesis (transsulfuration)',\n",
       " 'PWY-5989: stearate biosynthesis II (bacteria and plants)',\n",
       " 'PWY-6282: palmitoleate biosynthesis I (from (5Z)-dodec-5-enoate)',\n",
       " 'PWY-7219: adenosine ribonucleotides de novo biosynthesis',\n",
       " 'PWY-7220: adenosine deoxyribonucleotides de novo biosynthesis II',\n",
       " 'PWY-7222: guanosine deoxyribonucleotides de novo biosynthesis II',\n",
       " 'PWY-7664: oleate biosynthesis IV (anaerobic)',\n",
       " 'PWY0-862: (5Z)-dodecenoate biosynthesis I'}"
      ]
     },
     "execution_count": 611,
     "metadata": {},
     "output_type": "execute_result"
    }
   ],
   "source": [
    "joint_mgx_ratio_paths = top_25_ratio_paths.intersection(sig_mgx_paths_010)\n",
    "joint_mgx_ratio_paths"
   ]
  },
  {
   "cell_type": "code",
   "execution_count": 640,
   "id": "06da63b8-a3eb-4010-a9e8-a5c3057dd825",
   "metadata": {},
   "outputs": [
    {
     "data": {
      "text/html": [
       "<div>\n",
       "<style scoped>\n",
       "    .dataframe tbody tr th:only-of-type {\n",
       "        vertical-align: middle;\n",
       "    }\n",
       "\n",
       "    .dataframe tbody tr th {\n",
       "        vertical-align: top;\n",
       "    }\n",
       "\n",
       "    .dataframe thead th {\n",
       "        text-align: right;\n",
       "    }\n",
       "</style>\n",
       "<table border=\"1\" class=\"dataframe\">\n",
       "  <thead>\n",
       "    <tr style=\"text-align: right;\">\n",
       "      <th></th>\n",
       "      <th>Name</th>\n",
       "      <th>_feature_id</th>\n",
       "      <th>_calour_stat</th>\n",
       "      <th>_calour_pval</th>\n",
       "      <th>_calour_qval</th>\n",
       "      <th>_calour_direction</th>\n",
       "    </tr>\n",
       "    <tr>\n",
       "      <th>EC</th>\n",
       "      <th></th>\n",
       "      <th></th>\n",
       "      <th></th>\n",
       "      <th></th>\n",
       "      <th></th>\n",
       "      <th></th>\n",
       "    </tr>\n",
       "  </thead>\n",
       "  <tbody>\n",
       "    <tr>\n",
       "      <th>1.15.1.1</th>\n",
       "      <td>Superoxide dismutase</td>\n",
       "      <td>1.15.1.1</td>\n",
       "      <td>-5.525</td>\n",
       "      <td>0.008991</td>\n",
       "      <td>0.029157</td>\n",
       "      <td>CD</td>\n",
       "    </tr>\n",
       "    <tr>\n",
       "      <th>2.6.1.52</th>\n",
       "      <td>Phosphoserine transaminase</td>\n",
       "      <td>2.6.1.52</td>\n",
       "      <td>6.500</td>\n",
       "      <td>0.001998</td>\n",
       "      <td>0.016062</td>\n",
       "      <td>Ctl</td>\n",
       "    </tr>\n",
       "    <tr>\n",
       "      <th>3.4.21.107</th>\n",
       "      <td>Peptidase Do</td>\n",
       "      <td>3.4.21.107</td>\n",
       "      <td>-6.175</td>\n",
       "      <td>0.001998</td>\n",
       "      <td>0.016062</td>\n",
       "      <td>CD</td>\n",
       "    </tr>\n",
       "    <tr>\n",
       "      <th>2.7.4.6</th>\n",
       "      <td>Nucleoside-diphosphate kinase</td>\n",
       "      <td>2.7.4.6</td>\n",
       "      <td>-5.200</td>\n",
       "      <td>0.018981</td>\n",
       "      <td>0.049703</td>\n",
       "      <td>CD</td>\n",
       "    </tr>\n",
       "    <tr>\n",
       "      <th>2.2.1.1</th>\n",
       "      <td>Transketolase</td>\n",
       "      <td>2.2.1.1</td>\n",
       "      <td>-5.850</td>\n",
       "      <td>0.005994</td>\n",
       "      <td>0.022385</td>\n",
       "      <td>CD</td>\n",
       "    </tr>\n",
       "    <tr>\n",
       "      <th>3.4.11.2</th>\n",
       "      <td>Membrane alanyl aminopeptidase</td>\n",
       "      <td>3.4.11.2</td>\n",
       "      <td>-5.200</td>\n",
       "      <td>0.019980</td>\n",
       "      <td>0.051298</td>\n",
       "      <td>CD</td>\n",
       "    </tr>\n",
       "    <tr>\n",
       "      <th>3.5.1.1</th>\n",
       "      <td>Asparaginase</td>\n",
       "      <td>3.5.1.1</td>\n",
       "      <td>-5.850</td>\n",
       "      <td>0.003996</td>\n",
       "      <td>0.019248</td>\n",
       "      <td>CD</td>\n",
       "    </tr>\n",
       "    <tr>\n",
       "      <th>2.1.2.1</th>\n",
       "      <td>Glycine hydroxymethyltransferase</td>\n",
       "      <td>2.1.2.1</td>\n",
       "      <td>6.500</td>\n",
       "      <td>0.000999</td>\n",
       "      <td>0.012815</td>\n",
       "      <td>Ctl</td>\n",
       "    </tr>\n",
       "    <tr>\n",
       "      <th>3.6.3.4</th>\n",
       "      <td>Transferred entry 7.2.2.9</td>\n",
       "      <td>3.6.3.4</td>\n",
       "      <td>-5.200</td>\n",
       "      <td>0.022977</td>\n",
       "      <td>0.054568</td>\n",
       "      <td>CD</td>\n",
       "    </tr>\n",
       "  </tbody>\n",
       "</table>\n",
       "</div>"
      ],
      "text/plain": [
       "                                        Name _feature_id  _calour_stat  \\\n",
       "EC                                                                       \n",
       "1.15.1.1                Superoxide dismutase    1.15.1.1        -5.525   \n",
       "2.6.1.52          Phosphoserine transaminase    2.6.1.52         6.500   \n",
       "3.4.21.107                      Peptidase Do  3.4.21.107        -6.175   \n",
       "2.7.4.6        Nucleoside-diphosphate kinase     2.7.4.6        -5.200   \n",
       "2.2.1.1                        Transketolase     2.2.1.1        -5.850   \n",
       "3.4.11.2      Membrane alanyl aminopeptidase    3.4.11.2        -5.200   \n",
       "3.5.1.1                         Asparaginase     3.5.1.1        -5.850   \n",
       "2.1.2.1     Glycine hydroxymethyltransferase     2.1.2.1         6.500   \n",
       "3.6.3.4            Transferred entry 7.2.2.9     3.6.3.4        -5.200   \n",
       "\n",
       "            _calour_pval  _calour_qval _calour_direction  \n",
       "EC                                                        \n",
       "1.15.1.1        0.008991      0.029157                CD  \n",
       "2.6.1.52        0.001998      0.016062               Ctl  \n",
       "3.4.21.107      0.001998      0.016062                CD  \n",
       "2.7.4.6         0.018981      0.049703                CD  \n",
       "2.2.1.1         0.005994      0.022385                CD  \n",
       "3.4.11.2        0.019980      0.051298                CD  \n",
       "3.5.1.1         0.003996      0.019248                CD  \n",
       "2.1.2.1         0.000999      0.012815               Ctl  \n",
       "3.6.3.4         0.022977      0.054568                CD  "
      ]
     },
     "execution_count": 640,
     "metadata": {},
     "output_type": "execute_result"
    }
   ],
   "source": [
    "diff_dat1.feature_metadata.loc[list(joint_mgx_ratio_ecs)]"
   ]
  },
  {
   "cell_type": "code",
   "execution_count": null,
   "id": "97bb5e45-5636-43cd-af60-5d44001a8103",
   "metadata": {},
   "outputs": [],
   "source": []
  }
 ],
 "metadata": {
  "kernelspec": {
   "display_name": "Python 3",
   "language": "python",
   "name": "python3"
  },
  "language_info": {
   "codemirror_mode": {
    "name": "ipython",
    "version": 3
   },
   "file_extension": ".py",
   "mimetype": "text/x-python",
   "name": "python",
   "nbconvert_exporter": "python",
   "pygments_lexer": "ipython3",
   "version": "3.6.13"
  }
 },
 "nbformat": 4,
 "nbformat_minor": 5
}
